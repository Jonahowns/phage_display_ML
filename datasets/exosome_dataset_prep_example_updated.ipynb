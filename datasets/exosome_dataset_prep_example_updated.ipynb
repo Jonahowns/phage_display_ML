{
 "cells": [
  {
   "cell_type": "code",
   "execution_count": 1,
   "metadata": {
    "collapsed": true
   },
   "outputs": [
    {
     "name": "stderr",
     "output_type": "stream",
     "text": [
      "/home/jonah/anaconda3/envs/aptamer/lib/python3.10/site-packages/tqdm/auto.py:22: TqdmWarning: IProgress not found. Please update jupyter and ipywidgets. See https://ipywidgets.readthedocs.io/en/stable/user_install.html\n",
      "  from .autonotebook import tqdm as notebook_tqdm\n"
     ]
    }
   ],
   "source": [
    "import pandas as pd\n",
    "from rbm_torch.utils import data_prep as dp\n",
    "from rbm_torch.utils.utils import fasta_read\n",
    "import rbm_torch.analysis.analysis_methods as am\n",
    "from rbm_torch.utils.seq_utils import prune_similar_sequences"
   ]
  },
  {
   "cell_type": "code",
   "execution_count": null,
   "outputs": [],
   "source": [
    "exo_df = am.fetch_data([\"r2\", \"r3\", \"r4\", \"r5\"], dir=\"./exo/\", threads=6, molecule=\"dna\")\n",
    "exo_ct = dp.copynum_topology_faster(exo_df, [\"r2\", \"r3\", \"r4\", \"r5\"])\n",
    "exo_ct.to_csv(\"./exo/exo_ct.csv\", index=False)"
   ],
   "metadata": {
    "collapsed": false,
    "pycharm": {
     "name": "#%%\n"
    }
   }
  },
  {
   "cell_type": "code",
   "execution_count": 2,
   "outputs": [
    {
     "name": "stdout",
     "output_type": "stream",
     "text": [
      "Process Time 0.5721981525421143\n",
      "Process Time 0.295612096786499\n",
      "Process Time 0.1601245403289795\n",
      "Process Time 0.09906506538391113\n"
     ]
    }
   ],
   "source": [
    "exo_df = am.fetch_data([\"r2\", \"r3\", \"r4\", \"r5\"], dir=\"./exo/raw_rounds/\", threads=6, molecule=\"dna\")"
   ],
   "metadata": {
    "collapsed": false,
    "pycharm": {
     "name": "#%%\n"
    }
   }
  },
  {
   "cell_type": "code",
   "execution_count": 3,
   "outputs": [],
   "source": [
    "rpm_dict = {}  # normalize counts to reads per million (added option in fasta_read to do this automatically)\n",
    "for r in [\"r2\", \"r3\", \"r4\", \"r5\"]:\n",
    "    round_data = exo_df[exo_df[\"round\"] == r]\n",
    "    rpm_dict[r] = round_data[\"copy_num\"].sum()/1000000"
   ],
   "metadata": {
    "collapsed": false,
    "pycharm": {
     "name": "#%%\n"
    }
   }
  },
  {
   "cell_type": "code",
   "execution_count": 7,
   "outputs": [
    {
     "data": {
      "text/plain": "{'r2': 9.232675, 'r3': 10.478473, 'r4': 10.173198, 'r5': 8.49302}"
     },
     "execution_count": 7,
     "metadata": {},
     "output_type": "execute_result"
    }
   ],
   "source": [
    "rpm_dict"
   ],
   "metadata": {
    "collapsed": false,
    "pycharm": {
     "name": "#%%\n"
    }
   }
  },
  {
   "cell_type": "code",
   "execution_count": 5,
   "outputs": [],
   "source": [
    "import pandas as pd\n",
    "import numpy as np\n",
    "exo_pd = pd.read_csv(\"./exo/exo_ct.csv\")\n",
    "\n",
    "# normalize counts\n",
    "for r in [\"r2\", \"r3\", \"r4\", \"r5\"]:\n",
    "    exo_pd[r] = exo_pd[r].div(rpm_dict[r])\n",
    "\n",
    "# exo_pd[\"mean\"] = exo_pd.apply(lambda row : np.nanmean(np.asarray([row[x] for x in [\"r2\", \"r3\", \"r4\", \"r5\"]])), axis=1)\n",
    "exo_pd[\"max\"] = exo_pd.apply(lambda row : np.nanmax(np.asarray([row[x] for x in [\"r2\", \"r3\", \"r4\", \"r5\"]])), axis=1)\n",
    "\n",
    "\n",
    "# def fold(dataframe, cols):\n",
    "#     \"\"\" create fold column as col2/col1 for all columns\"\"\"\n",
    "#     for cid, col in enumerate(cols):\n",
    "#         for did, dol in enumerate(cols):\n",
    "#             if cid >= did:\n",
    "#                 continue\n",
    "#             else:\n",
    "#                 dataframe[f\"{dol}/{col}_fold\"] = dataframe.apply(lambda row: row[dol]/row[col] if row[col] != np.nan and row[dol] != np.nan else np.nan, axis=1)\n",
    "#\n",
    "#     return dataframe\n",
    "\n",
    "# exo_pd = fold(exo_pd, [\"r2\", \"r3\", \"r4\", \"r5\"])\n",
    "\n",
    "def enrichment_averge(df, round_names, min_diff=1, max_diff=None, diff_weights=None, round_weights=None):\n",
    "    round_number = len(round_names)\n",
    "\n",
    "    if max_diff is None:\n",
    "        max_diff = round_number-1\n",
    "\n",
    "    if diff_weights is None:\n",
    "        diff_weights = [1. for x in range(min_diff, max_diff+1)]\n",
    "\n",
    "    if round_weights is None:\n",
    "        round_weights = [1. for x in range(len(round_names))]\n",
    "\n",
    "    # first let's remove all the nan values in the dataframe, set nan values as the minimum normalized count for each round\n",
    "    for r in round_names:\n",
    "        df[r] = df[r].fillna(df[r].min())\n",
    "\n",
    "    # Get fold value for round differences\n",
    "    fold_keys = {diff: [] for diff in range(min_diff, max_diff+1)}\n",
    "    for i in range(round_number):\n",
    "        for j in range(round_number):\n",
    "            if i >= j or j - i < min_diff or j - i > max_diff:\n",
    "                continue\n",
    "            fold_column_name = f\"fold_{round_names[j]}v{round_names[i]}\"\n",
    "            fold_keys[j-i].append(fold_column_name)\n",
    "            # fold_diffs.append(j-i)\n",
    "            df[fold_column_name] = df[round_names[j]]/df[round_names[i]] * (round_weights[j] + round_weights[i])\n",
    "\n",
    "    diff_keys = []\n",
    "    for i in range(min_diff, max_diff+1):\n",
    "        diff_avg_key = f\"fold_diff{i}_avg\"\n",
    "        df[diff_avg_key] = df[fold_keys[i]].sum(axis=1).div(len(fold_keys[i])).mul(diff_weights[i-1])\n",
    "        diff_keys.append(diff_avg_key)\n",
    "\n",
    "    df[\"Final_Fold_Avg\"] = df[diff_keys].sum(axis=1).div(len(diff_keys))\n",
    "\n",
    "    return df\n",
    "\n",
    "exo_pd = enrichment_averge(exo_pd, [\"r2\", \"r3\", \"r4\", \"r5\"], min_diff=1, max_diff=None, diff_weights=[1, 1.2, 1.3], round_weights=[1, 1.1,  1.15, 1.2])\n"
   ],
   "metadata": {
    "collapsed": false,
    "pycharm": {
     "name": "#%%\n"
    }
   }
  },
  {
   "cell_type": "code",
   "execution_count": 9,
   "outputs": [],
   "source": [
    "exo_pd[\"Fitness_Value\"] = dp.scale_values_np(dp.log_scale(exo_pd[\"Final_Fold_Avg\"].tolist(), base=1.0), min=0.01, max=1.0)\n",
    "\n",
    "exo_pd.sort_values(\"Fitness_Value\", ascending=False, inplace=True)\n",
    "dp.dataframe_to_fasta(exo_pd, \"./exo/fold_avg_all.fasta\", count_key=\"Fitness_Value\")"
   ],
   "metadata": {
    "collapsed": false,
    "pycharm": {
     "name": "#%%\n"
    }
   }
  },
  {
   "cell_type": "code",
   "execution_count": 7,
   "outputs": [
    {
     "data": {
      "text/plain": "242496"
     },
     "execution_count": 7,
     "metadata": {},
     "output_type": "execute_result"
    }
   ],
   "source": [
    "exo_pd.index.__len__()"
   ],
   "metadata": {
    "collapsed": false,
    "pycharm": {
     "name": "#%%\n"
    }
   }
  },
  {
   "cell_type": "code",
   "execution_count": 6,
   "outputs": [
    {
     "data": {
      "text/plain": "                                 sequence        r2        r3        r4  \\\n0  TGCGGGGCAATTTGAACACACCCGCAATCCCAGTTTGA  3.465951  2.958446  0.098298   \n1  ATGGATCACAAGGTGTTTCTGTTTTTTTTGGGGTAA--  0.108311  0.095434  0.098298   \n2  TTTGAACGTCCGCAGCTGCAATCGGGCGCTTAGCCA--  2.057908  1.240639  0.098298   \n3  TGACGTAGTGACTGGATCTACACATTTTTCTTACT---  1.191421  0.477169  0.098298   \n4  ATTAAGTTGGTAGCCGCCACCATGTTTGTCAGATC---  0.974799  0.381735  4.718280   \n\n         r5       max  fold_r3vr2  fold_r4vr2  fold_r5vr2  fold_r4vr3  \\\n0  0.117744  3.465951    1.792506    0.060976    0.074737    0.074759   \n1  0.235487  0.235487    1.850329    1.951230    4.783195    2.317517   \n2  0.117744  2.057908    1.266014    0.102696    0.125874    0.178271   \n3  0.117744  1.191421    0.841058    0.177385    0.217418    0.463503   \n4  0.117744  4.718280    0.822368   10.406561    0.265733   27.810210   \n\n   fold_r5vr3  fold_r5vr4  fold_diff1_avg  fold_diff2_avg  fold_diff3_avg  \\\n0    0.091538    2.814902        1.560722        0.091508        0.097159   \n1    5.675364    5.629803        3.265883        4.575956        6.218153   \n2    0.218283    2.814902        1.419729        0.192588        0.163636   \n3    0.567536    2.814902        1.373154        0.446953        0.282643   \n4    0.709420    0.058644        9.563741        6.669589        0.345453   \n\n   Final_Fold_Avg  \n0        0.583130  \n1        4.686664  \n2        0.591984  \n3        0.700917  \n4        5.526261  ",
      "text/html": "<div>\n<style scoped>\n    .dataframe tbody tr th:only-of-type {\n        vertical-align: middle;\n    }\n\n    .dataframe tbody tr th {\n        vertical-align: top;\n    }\n\n    .dataframe thead th {\n        text-align: right;\n    }\n</style>\n<table border=\"1\" class=\"dataframe\">\n  <thead>\n    <tr style=\"text-align: right;\">\n      <th></th>\n      <th>sequence</th>\n      <th>r2</th>\n      <th>r3</th>\n      <th>r4</th>\n      <th>r5</th>\n      <th>max</th>\n      <th>fold_r3vr2</th>\n      <th>fold_r4vr2</th>\n      <th>fold_r5vr2</th>\n      <th>fold_r4vr3</th>\n      <th>fold_r5vr3</th>\n      <th>fold_r5vr4</th>\n      <th>fold_diff1_avg</th>\n      <th>fold_diff2_avg</th>\n      <th>fold_diff3_avg</th>\n      <th>Final_Fold_Avg</th>\n    </tr>\n  </thead>\n  <tbody>\n    <tr>\n      <th>0</th>\n      <td>TGCGGGGCAATTTGAACACACCCGCAATCCCAGTTTGA</td>\n      <td>3.465951</td>\n      <td>2.958446</td>\n      <td>0.098298</td>\n      <td>0.117744</td>\n      <td>3.465951</td>\n      <td>1.792506</td>\n      <td>0.060976</td>\n      <td>0.074737</td>\n      <td>0.074759</td>\n      <td>0.091538</td>\n      <td>2.814902</td>\n      <td>1.560722</td>\n      <td>0.091508</td>\n      <td>0.097159</td>\n      <td>0.583130</td>\n    </tr>\n    <tr>\n      <th>1</th>\n      <td>ATGGATCACAAGGTGTTTCTGTTTTTTTTGGGGTAA--</td>\n      <td>0.108311</td>\n      <td>0.095434</td>\n      <td>0.098298</td>\n      <td>0.235487</td>\n      <td>0.235487</td>\n      <td>1.850329</td>\n      <td>1.951230</td>\n      <td>4.783195</td>\n      <td>2.317517</td>\n      <td>5.675364</td>\n      <td>5.629803</td>\n      <td>3.265883</td>\n      <td>4.575956</td>\n      <td>6.218153</td>\n      <td>4.686664</td>\n    </tr>\n    <tr>\n      <th>2</th>\n      <td>TTTGAACGTCCGCAGCTGCAATCGGGCGCTTAGCCA--</td>\n      <td>2.057908</td>\n      <td>1.240639</td>\n      <td>0.098298</td>\n      <td>0.117744</td>\n      <td>2.057908</td>\n      <td>1.266014</td>\n      <td>0.102696</td>\n      <td>0.125874</td>\n      <td>0.178271</td>\n      <td>0.218283</td>\n      <td>2.814902</td>\n      <td>1.419729</td>\n      <td>0.192588</td>\n      <td>0.163636</td>\n      <td>0.591984</td>\n    </tr>\n    <tr>\n      <th>3</th>\n      <td>TGACGTAGTGACTGGATCTACACATTTTTCTTACT---</td>\n      <td>1.191421</td>\n      <td>0.477169</td>\n      <td>0.098298</td>\n      <td>0.117744</td>\n      <td>1.191421</td>\n      <td>0.841058</td>\n      <td>0.177385</td>\n      <td>0.217418</td>\n      <td>0.463503</td>\n      <td>0.567536</td>\n      <td>2.814902</td>\n      <td>1.373154</td>\n      <td>0.446953</td>\n      <td>0.282643</td>\n      <td>0.700917</td>\n    </tr>\n    <tr>\n      <th>4</th>\n      <td>ATTAAGTTGGTAGCCGCCACCATGTTTGTCAGATC---</td>\n      <td>0.974799</td>\n      <td>0.381735</td>\n      <td>4.718280</td>\n      <td>0.117744</td>\n      <td>4.718280</td>\n      <td>0.822368</td>\n      <td>10.406561</td>\n      <td>0.265733</td>\n      <td>27.810210</td>\n      <td>0.709420</td>\n      <td>0.058644</td>\n      <td>9.563741</td>\n      <td>6.669589</td>\n      <td>0.345453</td>\n      <td>5.526261</td>\n    </tr>\n  </tbody>\n</table>\n</div>"
     },
     "execution_count": 6,
     "metadata": {},
     "output_type": "execute_result"
    }
   ],
   "source": [
    "exo_pd.head()"
   ],
   "metadata": {
    "collapsed": false,
    "pycharm": {
     "name": "#%%\n"
    }
   }
  },
  {
   "cell_type": "code",
   "execution_count": 22,
   "outputs": [
    {
     "name": "stdout",
     "output_type": "stream",
     "text": [
      "23382\n"
     ]
    }
   ],
   "source": [
    "from copy import copy\n",
    "enriched = copy(exo_pd[(exo_pd[\"r5/r4_fold\"] > 2) | (exo_pd[\"r5/r3_fold\"] > 3)])\n",
    "enriched[\"fold\"] = enriched.apply(lambda row: np.nanmax(np.asarray([row[\"r5/r4_fold\"], row[\"r5/r3_fold\"]])), axis=1)\n",
    "print(enriched.index.__len__())"
   ],
   "metadata": {
    "collapsed": false,
    "pycharm": {
     "name": "#%%\n"
    }
   }
  },
  {
   "cell_type": "code",
   "execution_count": 23,
   "outputs": [
    {
     "name": "stdout",
     "output_type": "stream",
     "text": [
      "Kept 20919 of 23382\n"
     ]
    }
   ],
   "source": [
    "enriched.sort_values(\"fold\", ascending=False, inplace=True)\n",
    "enriched_trimmed = prune_similar_sequences(enriched, hamming_threshold=4, molecule=\"dna\")"
   ],
   "metadata": {
    "collapsed": false,
    "pycharm": {
     "name": "#%%\n"
    }
   }
  },
  {
   "cell_type": "code",
   "execution_count": 24,
   "outputs": [],
   "source": [
    "dp.dataframe_to_fasta(enriched_trimmed, \"./exo/enriched.fasta\", count_key=\"fold\")"
   ],
   "metadata": {
    "collapsed": false,
    "pycharm": {
     "name": "#%%\n"
    }
   }
  },
  {
   "cell_type": "code",
   "execution_count": 25,
   "outputs": [
    {
     "name": "stdout",
     "output_type": "stream",
     "text": [
      "Process Time 0.024022579193115234\n"
     ]
    }
   ],
   "source": [
    "seqs, folds, chars, q = fasta_read(\"./exo/enriched.fasta\", \"dna\", threads=6)"
   ],
   "metadata": {
    "collapsed": false,
    "pycharm": {
     "name": "#%%\n"
    }
   }
  },
  {
   "cell_type": "code",
   "execution_count": 36,
   "outputs": [],
   "source": [
    "std_folds = dp.standardize_affinities(folds, out_plots=\"./exo/enriched\", scale=\"log\", dividers=[10], target_scaling=[2.49], divider_type=\"percentile\")"
   ],
   "metadata": {
    "collapsed": false,
    "pycharm": {
     "name": "#%%\n"
    }
   }
  },
  {
   "cell_type": "code",
   "execution_count": 38,
   "outputs": [],
   "source": [
    "dp.make_weight_file(\"./exo/en_fold_st\", std_folds)"
   ],
   "metadata": {
    "collapsed": false,
    "pycharm": {
     "name": "#%%\n"
    }
   }
  },
  {
   "cell_type": "code",
   "execution_count": null,
   "outputs": [],
   "source": [],
   "metadata": {
    "collapsed": false,
    "pycharm": {
     "name": "#%%\n"
    }
   }
  }
 ],
 "metadata": {
  "kernelspec": {
   "display_name": "Python 3",
   "language": "python",
   "name": "python3"
  },
  "language_info": {
   "codemirror_mode": {
    "name": "ipython",
    "version": 2
   },
   "file_extension": ".py",
   "mimetype": "text/x-python",
   "name": "python",
   "nbconvert_exporter": "python",
   "pygments_lexer": "ipython2",
   "version": "2.7.6"
  }
 },
 "nbformat": 4,
 "nbformat_minor": 0
}