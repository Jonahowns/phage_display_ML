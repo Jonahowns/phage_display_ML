{
 "cells": [
  {
   "cell_type": "code",
   "execution_count": 1,
   "metadata": {
    "collapsed": true
   },
   "outputs": [],
   "source": [
    "import os\n",
    "import sys\n"
   ]
  },
  {
   "cell_type": "code",
   "execution_count": 2,
   "outputs": [],
   "source": [
    "dataset_focus = \"pig\"\n",
    "dataset_id = \"ge2\"\n",
    "datatype_str = f\"{dataset_focus}_{dataset_id}\"\n",
    "if dataset_id is not None:\n",
    "    dataset_dir = f\"./{dataset_focus}/{dataset_id}/\"\n",
    "else:\n",
    "    dataset_dir = f\"./{dataset_focus}/\"\n",
    "\n",
    "if not os.path.isdir(dataset_dir):\n",
    "    os.mkdir(dataset_dir)"
   ],
   "metadata": {
    "collapsed": false,
    "pycharm": {
     "name": "#%%\n"
    }
   }
  },
  {
   "cell_type": "code",
   "execution_count": 3,
   "outputs": [
    {
     "name": "stdout",
     "output_type": "stream",
     "text": [
      "Observed Characters: ['G', 'Q', 'W', 'D', '*', 'P', 'T', 'V', 'C', 'M', 'N', 'I', 'A', 'Y', 'H', 'F', 'E', 'K', 'S', 'L', 'R', 'X']\n"
     ]
    }
   ],
   "source": [
    "import data_prep as dp\n",
    "\n",
    "pig_df = dp.process_raw_fasta_files(\"b3_cdr3.fasta\", \"n1_cdr3.fasta\", \"np1_cdr3.fasta\", \"np2_cdr3.fasta\", \"np3_cdr3.fasta\", in_dir=\"/mnt/D1/phage_display_analysis/pig_tissue/fasta files/\", out_dir=dataset_dir, violin_out=\"pid_cdr3_lengths\", input_format=\"fasta\")"
   ],
   "metadata": {
    "collapsed": false,
    "pycharm": {
     "name": "#%%\n"
    }
   }
  },
  {
   "cell_type": "code",
   "execution_count": 4,
   "outputs": [],
   "source": [
    "# Renaming for convenience\n",
    "round_dict = {\"b3_cdr3\": \"b3\", \"n1_cdr3\": \"n1\", \"np1_cdr3\": \"np1\", \"np2_cdr3\": \"np2\", \"np3_cdr3\": \"np3\"}\n",
    "pig_df.replace({\"round\": round_dict}, inplace=True)"
   ],
   "metadata": {
    "collapsed": false,
    "pycharm": {
     "name": "#%%\n"
    }
   }
  },
  {
   "cell_type": "code",
   "execution_count": null,
   "outputs": [],
   "source": [
    "# So now we can define our datatype\n",
    "\n",
    "# Datatype defines the basics of our data, Each datatype is specified for a group of related fasta files\n",
    "# Focus - > short string specifier that gives the overall dataset we are using\n",
    "# Molecule -> What kind of sequence data? currently protein, dna, and rna are supported\n",
    "# id -> short string specifier ONLY for datasets which have different clustering methods (CLUSTERS ONLY)\n",
    "# process -> How were the gaps added to each dataset, used to name directory (CLUSTERS ONLY)\n",
    "# clusters -> How many clusters are in each data file (1 if no clusters)\n",
    "# cluster_indices -> Define the lengths of data put in each cluster, It is inclusive so [12, 16] includes length 12 and length 16. There must be cluster_indices for each cluster\n",
    "# gap_position_indices -> Index where gaps should be added to each sequence that is short of the maximum length. (-1 means add gaps to the end of the clusters)\n",
    "\n",
    "\n",
    "pig_ge2_datatype = {\"focus\": \"pig\", \"molecule\": \"protein\", \"id\": \"ge2\", \"process\": \"gaps_end\", \"clusters\": 2, \"gap_position_indices\": [-1, -1], \"cluster_indices\": [[12, 22], [35, 45]]}"
   ],
   "metadata": {
    "collapsed": false,
    "pycharm": {
     "name": "#%%\n"
    }
   }
  },
  {
   "cell_type": "code",
   "execution_count": 5,
   "outputs": [],
   "source": [
    "chars_replace = {\"*\": \"-\", \"X\": \"-\"}\n",
    "dp.prepare_data_files(datatype_str, pig_df, target_dir=dataset_dir, character_conversion=chars_replace, remove_chars=None) # Creates datafiles in target directory"
   ],
   "metadata": {
    "collapsed": false,
    "pycharm": {
     "name": "#%%\n"
    }
   }
  },
  {
   "cell_type": "code",
   "execution_count": 12,
   "outputs": [
    {
     "name": "stdout",
     "output_type": "stream",
     "text": [
      "Process Time 0.6348481178283691\n",
      "Process Time 1.2309179306030273\n",
      "Process Time 1.8820669651031494\n",
      "Process Time 0.5857419967651367\n",
      "Process Time 1.336568832397461\n",
      "Process Time 0.5483031272888184\n",
      "Process Time 0.923987865447998\n",
      "Process Time 0.8785216808319092\n",
      "Process Time 0.2807133197784424\n",
      "Process Time 0.5355024337768555\n"
     ]
    }
   ],
   "source": [
    "sys.path.append(\"../\")\n",
    "import rbm_torch.utils as utils\n",
    "\n",
    "fasta_files = [f\"{x}_c1.fasta\" for x in [\"b3\", \"n1\", \"np1\", \"np2\", \"np3\"]]\n",
    "fasta_files += [f\"{x}_c2.fasta\" for x in [\"b3\", \"n1\", \"np1\", \"np2\", \"np3\"]]\n",
    "for fasta_file in fasta_files:\n",
    "    seqs, affs, chars, q = utils.fasta_read(dataset_dir+fasta_file, \"protein\")\n",
    "    naffs = dp.standardize_affinities(affs, out_plot=dataset_dir+f\"{fasta_file.split('.')[0]}\")\n",
    "    dp.make_weight_file(f\"{dataset_dir}{fasta_file.split('.')[0]}_st\", naffs, \"st\")"
   ],
   "metadata": {
    "collapsed": false,
    "pycharm": {
     "name": "#%%\n"
    }
   }
  },
  {
   "cell_type": "code",
   "execution_count": 14,
   "outputs": [
    {
     "name": "stdout",
     "output_type": "stream",
     "text": [
      "usage: submit.py [-h] -d DATATYPE -r ROUND -p PARTITION -q QUEUE -m MODEL -e\r\n",
      "                 EPOCHS -g GPUS [--wdir [WDIR]] [--precision PRECISION]\r\n",
      "                 [-c [C]] [-w [W]] [--walltime [WALLTIME]] [-a [ACCOUNT]]\r\n",
      "                 [--email [EMAIL]] [--error [ERROR]]\r\n",
      "\r\n",
      "Generate Slurm Files for pytorch RBM and CRBM\r\n",
      "\r\n",
      "optional arguments:\r\n",
      "  -h, --help            show this help message and exit\r\n",
      "  --wdir [WDIR]         Manually Set working directory, Usually handled\r\n",
      "                        internally.\r\n",
      "  --precision PRECISION\r\n",
      "                        Set precision of the model, single or double\r\n",
      "  -c [C]                Number of CPU cores to use. Default is 6.\r\n",
      "  -w [W]                Weight File name to use to weight model training. Must\r\n",
      "                        be in same directory as the sequence files.\r\n",
      "                        Alternatively can be 'fasta' or None\r\n",
      "  --walltime [WALLTIME]\r\n",
      "                        Set wall time for training\r\n",
      "  -a [ACCOUNT], --account [ACCOUNT]\r\n",
      "                        Account name for server submission\r\n",
      "  --email [EMAIL]       Email for Job notifications\r\n",
      "  --error [ERROR]       Set slurm error file prefix\r\n",
      "\r\n",
      "required named arguments:\r\n",
      "  -d DATATYPE, --datatype DATATYPE\r\n",
      "                        Datatype Specifier String. See global_info\r\n",
      "  -r ROUND, --round ROUND\r\n",
      "                        Which Round should we run the scripts on?\r\n",
      "  -p PARTITION, --partition PARTITION\r\n",
      "                        Which Partition should the job be submitted on?\r\n",
      "  -q QUEUE, --queue QUEUE\r\n",
      "                        Which Queue should the job be submitted on?\r\n",
      "  -m MODEL, --model MODEL\r\n",
      "                        Which Model are we training, i.e. rbm or crbm?\r\n",
      "  -e EPOCHS, --epochs EPOCHS\r\n",
      "                        Number of Training Iterations\r\n",
      "  -g GPUS, --gpus GPUS  Number of gpus available\r\n"
     ]
    }
   ],
   "source": [
    "# Now let's make our input files\n",
    "!python ../rbm_torch/submit.py -h"
   ],
   "metadata": {
    "collapsed": false,
    "pycharm": {
     "name": "#%%\n"
    }
   }
  },
  {
   "cell_type": "code",
   "execution_count": 17,
   "outputs": [],
   "source": [
    "import subprocess as sp\n",
    "os.chdir(\"../rbm_torch/\")\n",
    "\n",
    "prefixes = [\"b3\", \"n1\", \"np1\", \"np2\", \"np3\"]\n",
    "cluster_prefixes = [x+\"_c1\" for x in prefixes]\n",
    "cluster_prefixes += [x+\"_c2\" for x in prefixes]\n",
    "weights = [x + \"_st.json\" for x in cluster_prefixes]\n",
    "\n",
    "for i in range(len(cluster_prefixes)):\n",
    "    sp.call(f\"python submit.py -d pig_ge2 -r {cluster_prefixes[i]} -p wzhengpu1 -q wildfire -m crbm -e 200 -g 2 -w {weights[i]}\", shell=True)"
   ],
   "metadata": {
    "collapsed": false,
    "pycharm": {
     "name": "#%%\n"
    }
   }
  }
 ],
 "metadata": {
  "kernelspec": {
   "name": "python3",
   "language": "python",
   "display_name": "Python 3"
  },
  "language_info": {
   "codemirror_mode": {
    "name": "ipython",
    "version": 2
   },
   "file_extension": ".py",
   "mimetype": "text/x-python",
   "name": "python",
   "nbconvert_exporter": "python",
   "pygments_lexer": "ipython2",
   "version": "2.7.6"
  }
 },
 "nbformat": 4,
 "nbformat_minor": 0
}