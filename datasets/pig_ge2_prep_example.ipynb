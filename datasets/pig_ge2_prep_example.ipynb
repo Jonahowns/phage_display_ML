{
 "cells": [
  {
   "cell_type": "code",
   "execution_count": 1,
   "metadata": {
    "collapsed": true
   },
   "outputs": [],
   "source": [
    "import os\n",
    "import sys\n",
    "import data_prep as dp\n",
    "\n",
    "import rbm_torch.utils.utils"
   ]
  },
  {
   "cell_type": "code",
   "execution_count": 2,
   "outputs": [],
   "source": [
    "dataset_focus = \"pig\"\n",
    "dataset_id = \"ge2\"\n",
    "datatype_str = f\"{dataset_focus}_{dataset_id}\"\n",
    "if dataset_id is not None:\n",
    "    dataset_dir = f\"./{dataset_focus}/{dataset_id}/\"\n",
    "else:\n",
    "    dataset_dir = f\"./{dataset_focus}/\"\n",
    "\n",
    "if not os.path.isdir(dataset_dir):\n",
    "    os.mkdir(dataset_dir)"
   ],
   "metadata": {
    "collapsed": false,
    "pycharm": {
     "name": "#%%\n"
    }
   }
  },
  {
   "cell_type": "code",
   "execution_count": 3,
   "outputs": [
    {
     "name": "stdout",
     "output_type": "stream",
     "text": [
      "Observed Characters: ['T', 'M', 'N', 'Y', 'V', 'I', 'H', 'A', 'R', 'C', 'Q', 'F', 'G', 'L', 'D', 'P', 'S', '*', 'K', 'X', 'E', 'W']\n"
     ]
    }
   ],
   "source": [
    "import data_prep as dp\n",
    "\n",
    "pig_df = dp.process_raw_fasta_files(\"b3_cdr3.fasta\", \"n1_cdr3.fasta\", \"np1_cdr3.fasta\", \"np2_cdr3.fasta\", \"np3_cdr3.fasta\", in_dir=\"/mnt/D1/phage_display_analysis/pig_tissue/fasta files/\", out_dir=dataset_dir, violin_out=\"pid_cdr3_lengths\", input_format=\"fasta\")"
   ],
   "metadata": {
    "collapsed": false,
    "pycharm": {
     "name": "#%%\n"
    }
   }
  },
  {
   "cell_type": "code",
   "execution_count": 5,
   "outputs": [
    {
     "data": {
      "text/plain": "'/home/jonah/PycharmProjects/phage_display_ML/datasets'"
     },
     "execution_count": 5,
     "metadata": {},
     "output_type": "execute_result"
    }
   ],
   "source": [
    "os.getcwd()"
   ],
   "metadata": {
    "collapsed": false,
    "pycharm": {
     "name": "#%%\n"
    }
   }
  },
  {
   "cell_type": "code",
   "execution_count": 1,
   "outputs": [
    {
     "name": "stdout",
     "output_type": "stream",
     "text": [
      "Process Time 0.2646138668060303\n",
      "Process Time 0.10947895050048828\n",
      "Process Time 0.2322840690612793\n",
      "Process Time 227.3993489742279\n"
     ]
    }
   ],
   "source": [
    "import data_prep as dp\n",
    "import rbm_torch.analysis.analysis_methods as am\n",
    "\n",
    "c1_df = am.fetch_data([\"np1_c1\", \"np2_c1\", \"np3_c1\"], dir=\"./pig/ge2/\", threads=6, molecule=\"protein\")\n",
    "\n",
    "# pig_df = dp.process_raw_fasta_files(\"np1_cdr3.fasta\", \"np2_cdr3.fasta\", \"np3_cdr3.fasta\", in_dir=\"/mnt/D1/phage_display_analysis/pig_tissue/fasta files/\", out_dir=dataset_dir, input_format=\"fasta\")\n",
    "#\n",
    "# round_dict = {\"np1_cdr3\": \"np1\", \"np2_cdr3\": \"np2\", \"np3_cdr3\": \"np3\"}\n",
    "# pig_df.replace({\"round\": round_dict}, inplace=True)\n",
    "\n",
    "pig_ct = dp.copynum_topology_faster(c1_df, [\"np1_c1\", \"np2_c1\", \"np3_c1\"], threads_per_task=3)\n",
    "pig_ct.to_csv(\"./pig/ge2/pig_c1_ct.csv\", index=False)"
   ],
   "metadata": {
    "collapsed": false,
    "pycharm": {
     "name": "#%%\n"
    }
   }
  },
  {
   "cell_type": "code",
   "execution_count": 5,
   "outputs": [
    {
     "name": "stdout",
     "output_type": "stream",
     "text": [
      "millions of reads np1_c1 1.75492\n",
      "millions of reads np2_c1 0.89682\n",
      "millions of reads np3_c1 3.86058\n"
     ]
    }
   ],
   "source": [
    "import pandas as pd\n",
    "import numpy as np\n",
    "# reads per hundred thousand\n",
    "pig_pd = pd.read_csv(\"./pig/pig_c1_ct.csv\")\n",
    "for r in [\"np1_c1\", \"np2_c1\", \"np3_c1\"]:\n",
    "    print(f\"millions of reads {r}\", pig_pd[r].sum()/100000)\n",
    "    pig_pd[r] = pig_pd[r].div(pig_pd[r].sum()/100000)\n",
    "pig_pd[\"mean\"] = pig_pd.apply(lambda row : np.nanmean(np.asarray([row[x] for x in [\"np1_c1\", \"np2_c1\", \"np3_c1\"]])), axis=1)\n",
    "pig_pd[\"max\"] = pig_pd.apply(lambda row : np.nanmax(np.asarray([row[x] for x in [\"np1_c1\", \"np2_c1\", \"np3_c1\"]])), axis=1)"
   ],
   "metadata": {
    "collapsed": false,
    "pycharm": {
     "name": "#%%\n"
    }
   }
  },
  {
   "cell_type": "code",
   "execution_count": 8,
   "outputs": [
    {
     "data": {
      "text/plain": "                 sequence    np1_c1    np2_c1    np3_c1      mean       max  \\\n0  AGLAGQKYNELNS---------  9.687051  1.115051  0.259028  3.687044  9.687051   \n1  ATPGSTPHT-MRF---------  0.569827  2.230102  3.885427  2.228452  3.885427   \n2  ASMMVAYVKT-WTTGATKEVSF  2.849133  2.230102       NaN  2.539617  2.849133   \n3  ARDDYLGTDQFEY---------  0.569827       NaN  1.036114  0.802970  1.036114   \n4  ARARWEQPAELNY---------  2.279306       NaN  0.777085  1.528196  2.279306   \n\n    32_fold   31_fold  \n0  0.232302  0.026740  \n1  1.742264  6.818613  \n2       NaN       NaN  \n3       NaN  1.818297  \n4       NaN  0.340931  ",
      "text/html": "<div>\n<style scoped>\n    .dataframe tbody tr th:only-of-type {\n        vertical-align: middle;\n    }\n\n    .dataframe tbody tr th {\n        vertical-align: top;\n    }\n\n    .dataframe thead th {\n        text-align: right;\n    }\n</style>\n<table border=\"1\" class=\"dataframe\">\n  <thead>\n    <tr style=\"text-align: right;\">\n      <th></th>\n      <th>sequence</th>\n      <th>np1_c1</th>\n      <th>np2_c1</th>\n      <th>np3_c1</th>\n      <th>mean</th>\n      <th>max</th>\n      <th>32_fold</th>\n      <th>31_fold</th>\n    </tr>\n  </thead>\n  <tbody>\n    <tr>\n      <th>0</th>\n      <td>AGLAGQKYNELNS---------</td>\n      <td>9.687051</td>\n      <td>1.115051</td>\n      <td>0.259028</td>\n      <td>3.687044</td>\n      <td>9.687051</td>\n      <td>0.232302</td>\n      <td>0.026740</td>\n    </tr>\n    <tr>\n      <th>1</th>\n      <td>ATPGSTPHT-MRF---------</td>\n      <td>0.569827</td>\n      <td>2.230102</td>\n      <td>3.885427</td>\n      <td>2.228452</td>\n      <td>3.885427</td>\n      <td>1.742264</td>\n      <td>6.818613</td>\n    </tr>\n    <tr>\n      <th>2</th>\n      <td>ASMMVAYVKT-WTTGATKEVSF</td>\n      <td>2.849133</td>\n      <td>2.230102</td>\n      <td>NaN</td>\n      <td>2.539617</td>\n      <td>2.849133</td>\n      <td>NaN</td>\n      <td>NaN</td>\n    </tr>\n    <tr>\n      <th>3</th>\n      <td>ARDDYLGTDQFEY---------</td>\n      <td>0.569827</td>\n      <td>NaN</td>\n      <td>1.036114</td>\n      <td>0.802970</td>\n      <td>1.036114</td>\n      <td>NaN</td>\n      <td>1.818297</td>\n    </tr>\n    <tr>\n      <th>4</th>\n      <td>ARARWEQPAELNY---------</td>\n      <td>2.279306</td>\n      <td>NaN</td>\n      <td>0.777085</td>\n      <td>1.528196</td>\n      <td>2.279306</td>\n      <td>NaN</td>\n      <td>0.340931</td>\n    </tr>\n  </tbody>\n</table>\n</div>"
     },
     "execution_count": 8,
     "metadata": {},
     "output_type": "execute_result"
    }
   ],
   "source": [
    "pig_pd.head()"
   ],
   "metadata": {
    "collapsed": false,
    "pycharm": {
     "name": "#%%\n"
    }
   }
  },
  {
   "cell_type": "code",
   "execution_count": 7,
   "outputs": [],
   "source": [
    "pig_pd[\"32_fold\"] = pig_pd.apply(lambda row: row[\"np3_c1\"]/row[\"np2_c1\"], axis=1)\n",
    "pig_pd[\"31_fold\"] = pig_pd.apply(lambda row: row[\"np3_c1\"]/row[\"np1_c1\"], axis=1)"
   ],
   "metadata": {
    "collapsed": false,
    "pycharm": {
     "name": "#%%\n"
    }
   }
  },
  {
   "cell_type": "code",
   "execution_count": 16,
   "outputs": [],
   "source": [
    "from copy import copy\n",
    "e1 = pig_pd[(pig_pd[\"32_fold\"]>1.) | (pig_pd[\"31_fold\"] > 1.)]\n",
    "e2 = e1[((e1[\"32_fold\"] > 1) | (np.isnan(e1[\"32_fold\"]))) & ((e1[\"31_fold\"] > 1) | (np.isnan(e1[\"31_fold\"])))]\n",
    "enriched = copy(e2)\n",
    "\n",
    "enriched[\"fold\"] = enriched.apply(lambda row: np.nanmax(np.asarray([row[\"31_fold\"], row[\"32_fold\"]])), axis=1)"
   ],
   "metadata": {
    "collapsed": false,
    "pycharm": {
     "name": "#%%\n"
    }
   }
  },
  {
   "cell_type": "code",
   "execution_count": 17,
   "outputs": [
    {
     "name": "stdout",
     "output_type": "stream",
     "text": [
      "13897\n"
     ]
    }
   ],
   "source": [
    "get_len(enriched)"
   ],
   "metadata": {
    "collapsed": false,
    "pycharm": {
     "name": "#%%\n"
    }
   }
  },
  {
   "cell_type": "code",
   "execution_count": 23,
   "outputs": [
    {
     "name": "stdout",
     "output_type": "stream",
     "text": [
      "Kept 13499 of 13897\n"
     ]
    }
   ],
   "source": [
    "from rbm_torch.utils.seq_utils import prune_similar_sequences\n",
    "enriched.sort_values(\"fold\", ascending=False, inplace=True)\n",
    "enriched_trimmed = prune_similar_sequences(enriched, hamming_threshold=4, molecule=\"protein\")"
   ],
   "metadata": {
    "collapsed": false,
    "pycharm": {
     "name": "#%%\n"
    }
   }
  },
  {
   "cell_type": "code",
   "execution_count": 24,
   "outputs": [],
   "source": [
    "from rbm_torch.utils import data_prep as dp\n",
    "dp.dataframe_to_fasta(enriched_trimmed, \"./pig/enriched_c1.fasta\", count_key=\"fold\")"
   ],
   "metadata": {
    "collapsed": false,
    "pycharm": {
     "name": "#%%\n"
    }
   }
  },
  {
   "cell_type": "code",
   "execution_count": 27,
   "outputs": [
    {
     "name": "stdout",
     "output_type": "stream",
     "text": [
      "Process Time 0.016733407974243164\n"
     ]
    }
   ],
   "source": [
    "from rbm_torch.utils.utils import fasta_read\n",
    "seqs, folds, chars, q = fasta_read(\"./pig/enriched_c1.fasta\", \"protein\", threads=5)"
   ],
   "metadata": {
    "collapsed": false,
    "pycharm": {
     "name": "#%%\n"
    }
   }
  },
  {
   "cell_type": "code",
   "execution_count": 33,
   "outputs": [],
   "source": [
    "std_folds = dp.standardize_affinities(folds, out_plots=\"./pig/enrich\", scale=\"log\", dividers=[25], target_scaling=[3.5])"
   ],
   "metadata": {
    "collapsed": false,
    "pycharm": {
     "name": "#%%\n"
    }
   }
  },
  {
   "cell_type": "code",
   "execution_count": 34,
   "outputs": [],
   "source": [
    "dp.make_weight_file(\"en_c1_fold\", std_folds, dir=\"./pig/\")"
   ],
   "metadata": {
    "collapsed": false,
    "pycharm": {
     "name": "#%%\n"
    }
   }
  },
  {
   "cell_type": "code",
   "execution_count": 12,
   "outputs": [
    {
     "name": "stdout",
     "output_type": "stream",
     "text": [
      "15105\n"
     ]
    }
   ],
   "source": [
    "def get_len(dataframe):\n",
    "    print(dataframe.index.__len__())\n",
    "\n",
    "get_len(e2)"
   ],
   "metadata": {
    "collapsed": false,
    "pycharm": {
     "name": "#%%\n"
    }
   }
  },
  {
   "cell_type": "code",
   "execution_count": 12,
   "outputs": [
    {
     "name": "stdout",
     "output_type": "stream",
     "text": [
      "76398\n"
     ]
    }
   ],
   "source": [
    "pig_pd.sort_values(\"mean\", ascending=True, inplace=True)\n",
    "pig_pd.head(50)\n",
    "print(pig_pd.index.__len__())"
   ],
   "metadata": {
    "collapsed": false,
    "pycharm": {
     "name": "#%%\n"
    }
   }
  },
  {
   "cell_type": "code",
   "execution_count": 25,
   "outputs": [
    {
     "name": "stdout",
     "output_type": "stream",
     "text": [
      "47160 18865 24459\n"
     ]
    }
   ],
   "source": [
    "ones = pig_pd[pig_pd[\"mean\"] >= 2.0]\n",
    "max = pig_pd[pig_pd[\"max\"] >= 5.0]\n",
    "ones_max = ones[ones[\"max\"] >= 6]\n",
    "print(ones.index.__len__(), ones_max.index.__len__(), max.index.__len__())"
   ],
   "metadata": {
    "collapsed": false,
    "pycharm": {
     "name": "#%%\n"
    }
   }
  },
  {
   "cell_type": "code",
   "execution_count": 26,
   "outputs": [],
   "source": [
    "# merged np1_c1, np2_c1, and np3_c1 sequences, with max count number\n",
    "dp.dataframe_to_fasta(max, \"./pig/ge2/m1.fasta\", count_key=\"max\")"
   ],
   "metadata": {
    "collapsed": false,
    "pycharm": {
     "name": "#%%\n"
    }
   }
  },
  {
   "cell_type": "code",
   "execution_count": 24,
   "outputs": [],
   "source": [
    "import data_prep as dp\n",
    "dp.quick_hist(pig_pd[\"max\"].tolist(), \"./pig/ge2/pig_c1_max.png\")"
   ],
   "metadata": {
    "collapsed": false,
    "pycharm": {
     "name": "#%%\n"
    }
   }
  },
  {
   "cell_type": "code",
   "execution_count": 20,
   "outputs": [
    {
     "name": "stdout",
     "output_type": "stream",
     "text": [
      "Process Time 0.10312104225158691\n"
     ]
    }
   ],
   "source": [
    "from rbm_torch.utils import utils\n",
    "import data_prep as dp\n",
    "\n",
    "fasta_file = \"h1_c1.fasta\"\n",
    "dataset_dir = \"./pig/ge2/\"\n",
    "\n",
    "seqs, affs, chars, q = utils.fasta_read(dataset_dir+fasta_file, \"protein\")\n",
    "naffs = dp.standardize_affinities(affs, out_plots=dataset_dir+f\"{fasta_file.split('.')[0]}_m\", scale=\"log\", dividers=[15, 50, 80], target_scaling=[1., 1.2, 1.2], divider_type=\"percentile\")\n",
    "naffs = dp.standardize_affinities(affs, out_plots=dataset_dir+f\"{fasta_file.split('.')[0]}_m2\", scale=\"log\", dividers=[50], target_scaling=[2.], divider_type=\"percentile\")\n",
    "dp.make_weight_file(f\"{dataset_dir}{fasta_file.split('.')[0]}_m\", naffs, \"m\")\n",
    "dp.make_weight_file(f\"{dataset_dir}{fasta_file.split('.')[0]}_m2\", naffs, \"m2\")"
   ],
   "metadata": {
    "collapsed": false,
    "pycharm": {
     "name": "#%%\n"
    }
   }
  },
  {
   "cell_type": "code",
   "execution_count": 22,
   "outputs": [],
   "source": [
    "import subprocess as sp\n",
    "import os\n",
    "# no weights\n",
    "os.chdir(\"../rbm_torch\")\n",
    "# sp.check_call(f\"python submit.py -d pig_ge2 -r m1_c1 -p wzhengpu1 -q wildfire -m crbm -e 200 -g 2\", shell=True)\n",
    "# sp.call(f\"python submit.py -d pig_ge2 -r m1_c1 -p wzhengpu1 -q wildfire -m rbm -e 200 -g 1\", shell=True)\n",
    "# weights\n",
    "sp.call(f\"python submit.py -d pig_ge2 -r h1_c1 -p sulcgpu3 -q sulcgpu1 -m crbm -e 4000 -g 2\", shell=True)\n",
    "for wfile in [\"h1_c1_m.json\", \"h1_c1_m2.json\"]:\n",
    "    sp.call(f\"python submit.py -d pig_ge2 -r h1_c1 -p sulcgpu3 -q sulcgpu1 -m crbm -e 4000 -g 2 -w {wfile}\", shell=True)"
   ],
   "metadata": {
    "collapsed": false,
    "pycharm": {
     "name": "#%%\n"
    }
   }
  },
  {
   "cell_type": "code",
   "execution_count": 14,
   "outputs": [
    {
     "data": {
      "text/plain": "                     sequence  np1_c1  np2_c1  np3_c1         mean     max\n75722  ASNSPGKKQFRF----------    26.0   103.0  8085.0  2738.000000  8085.0\n12373  AGRRRRTANFRY----------    78.0   127.0  6401.0  2202.000000  6401.0\n37135  ATHIAMKGTWKNWHPQSLHY--    59.0    83.0  2210.0   784.000000  2210.0\n36274  AAGIKGHHPTVRF---------     4.0    46.0  2207.0   752.333333  2207.0\n40455  ARRLRDAPEVDF----------    59.0    38.0  1614.0   570.333333  1614.0\n39307  AATKPKGRLGYSTMSY------    26.0    68.0  1572.0   555.333333  1572.0\n44315  ASGSGMRKEKLTY---------    42.0    28.0  1443.0   504.333333  1443.0\n71442  ARNIEWSSYLSY----------    29.0    46.0  1285.0   453.333333  1285.0\n40070  AAGWGRRGSSYLKF--------     1.0    25.0   908.0   311.333333   908.0\n42962  ATWGAIKKEAMKY---------    12.0    19.0   852.0   294.333333   852.0\n17874  AGESYNGVSDAFEF--------    24.0    37.0   716.0   259.000000   716.0\n37983  ARTRPFGASALRY---------     2.0    27.0   715.0   248.000000   715.0\n31239  ASVSRSRTNSLKS---------    17.0    20.0   695.0   244.000000   695.0\n3335   ATSRIADKNQVRF---------    17.0    14.0   671.0   234.000000   671.0\n61170  ATPQLWNDPIDY----------    33.0    29.0   589.0   217.000000   589.0\n55210  ATHSRGTADEDSLKS-------    81.0    72.0   567.0   240.000000   567.0\n35437  AGSNRLRHHMESAKVRY-----     6.0    25.0   562.0   197.666667   562.0\n21510  ASVRRHGVGLKAPMKY------     6.0    20.0   518.0   181.333333   518.0\n54228  ATPARIPGEIRGVTDTVEF---     3.0     8.0   497.0   169.333333   497.0\n62817  ASRVNGESNLQY----------    32.0    40.0   494.0   188.666667   494.0\n43820  AGARGGSAWTAKAELNF-----    16.0    31.0   486.0   177.666667   486.0\n2862   AGFRGVRHRVSDRESAASVTF-    21.0    22.0   485.0   176.000000   485.0\n67486  ARGSRSSDSLWY----------    19.0    29.0   482.0   176.666667   482.0\n21371  ARGGSRAHAIAY----------     4.0    10.0   470.0   161.333333   470.0\n22029  AGDLQLGGKSTMSY--------     9.0    13.0   469.0   163.666667   469.0\n18686  ATILRRGRSKYINS--------     6.0    14.0   465.0   161.666667   465.0\n73505  ATGLRNSTPAPVKS--------    10.0    17.0   460.0   162.333333   460.0\n71872  AAVRGSTAKVKS----------     8.0    41.0   449.0   166.000000   449.0\n16210  ASISFMLQPTVRLEPSVHS---    38.0    36.0   440.0   171.333333   440.0\n33902  AGRGNIGRRWRESYQVKF----     2.0     4.0   422.0   142.666667   422.0\n72255  AAMGRRVSRAPALEF-------    10.0    39.0   419.0   156.000000   419.0\n74262  AGRRRRPIQTHMRY--------     8.0     9.0   414.0   143.666667   414.0\n31117  ATGMRRLKHNVRF---------    11.0    35.0   406.0   150.666667   406.0\n11121  AADYDSTVEDNRLDNSEELEY-    11.0    24.0   404.0   146.333333   404.0\n13328  ARDYGSRVDQHLES--------   300.0   116.0   399.0   271.666667   399.0\n42485  ASRSRMHNHQVKF---------    18.0    16.0   398.0   144.000000   398.0\n40184  ATSGSDRTSNKSMRS-------     9.0     9.0   376.0   131.333333   376.0\n67357  AGRDSFPKDLKF----------    11.0    11.0   376.0   132.666667   376.0\n66986  AAAVASWLNPYQMRY-------    26.0    41.0   374.0   147.000000   374.0\n33498  ATISRPWRAEKLRF--------    12.0    17.0   369.0   132.666667   369.0\n39997  ARSDAWTFFPPSSKSVKF----    11.0     9.0   368.0   129.333333   368.0\n49284  ASMLRRSTHHIRF---------     8.0    23.0   354.0   128.333333   354.0\n44214  ASVQVPKDTLRF----------     9.0    10.0   349.0   122.666667   349.0\n67138  AGGHSGQHPFKY----------     6.0     7.0   329.0   114.000000   329.0\n29890  AGSNMPYQTMYQEDLSY-----    64.0    54.0   327.0   148.333333   327.0\n52001  AGVSFAEDEVEY----------     1.0     5.0   325.0   110.333333   325.0\n17492  ASVKNTWWGVAGHYPVKF----     NaN     9.0   323.0   166.000000   323.0\n35027  ASRLDTSTKLGY----------     5.0     5.0   323.0   111.000000   323.0\n73931  AASHNPSARPSPVGF-------    71.0    51.0   320.0   147.333333   320.0\n45279  ARHLKRKNQYMNF---------     6.0    11.0   319.0   112.000000   319.0",
      "text/html": "<div>\n<style scoped>\n    .dataframe tbody tr th:only-of-type {\n        vertical-align: middle;\n    }\n\n    .dataframe tbody tr th {\n        vertical-align: top;\n    }\n\n    .dataframe thead th {\n        text-align: right;\n    }\n</style>\n<table border=\"1\" class=\"dataframe\">\n  <thead>\n    <tr style=\"text-align: right;\">\n      <th></th>\n      <th>sequence</th>\n      <th>np1_c1</th>\n      <th>np2_c1</th>\n      <th>np3_c1</th>\n      <th>mean</th>\n      <th>max</th>\n    </tr>\n  </thead>\n  <tbody>\n    <tr>\n      <th>75722</th>\n      <td>ASNSPGKKQFRF----------</td>\n      <td>26.0</td>\n      <td>103.0</td>\n      <td>8085.0</td>\n      <td>2738.000000</td>\n      <td>8085.0</td>\n    </tr>\n    <tr>\n      <th>12373</th>\n      <td>AGRRRRTANFRY----------</td>\n      <td>78.0</td>\n      <td>127.0</td>\n      <td>6401.0</td>\n      <td>2202.000000</td>\n      <td>6401.0</td>\n    </tr>\n    <tr>\n      <th>37135</th>\n      <td>ATHIAMKGTWKNWHPQSLHY--</td>\n      <td>59.0</td>\n      <td>83.0</td>\n      <td>2210.0</td>\n      <td>784.000000</td>\n      <td>2210.0</td>\n    </tr>\n    <tr>\n      <th>36274</th>\n      <td>AAGIKGHHPTVRF---------</td>\n      <td>4.0</td>\n      <td>46.0</td>\n      <td>2207.0</td>\n      <td>752.333333</td>\n      <td>2207.0</td>\n    </tr>\n    <tr>\n      <th>40455</th>\n      <td>ARRLRDAPEVDF----------</td>\n      <td>59.0</td>\n      <td>38.0</td>\n      <td>1614.0</td>\n      <td>570.333333</td>\n      <td>1614.0</td>\n    </tr>\n    <tr>\n      <th>39307</th>\n      <td>AATKPKGRLGYSTMSY------</td>\n      <td>26.0</td>\n      <td>68.0</td>\n      <td>1572.0</td>\n      <td>555.333333</td>\n      <td>1572.0</td>\n    </tr>\n    <tr>\n      <th>44315</th>\n      <td>ASGSGMRKEKLTY---------</td>\n      <td>42.0</td>\n      <td>28.0</td>\n      <td>1443.0</td>\n      <td>504.333333</td>\n      <td>1443.0</td>\n    </tr>\n    <tr>\n      <th>71442</th>\n      <td>ARNIEWSSYLSY----------</td>\n      <td>29.0</td>\n      <td>46.0</td>\n      <td>1285.0</td>\n      <td>453.333333</td>\n      <td>1285.0</td>\n    </tr>\n    <tr>\n      <th>40070</th>\n      <td>AAGWGRRGSSYLKF--------</td>\n      <td>1.0</td>\n      <td>25.0</td>\n      <td>908.0</td>\n      <td>311.333333</td>\n      <td>908.0</td>\n    </tr>\n    <tr>\n      <th>42962</th>\n      <td>ATWGAIKKEAMKY---------</td>\n      <td>12.0</td>\n      <td>19.0</td>\n      <td>852.0</td>\n      <td>294.333333</td>\n      <td>852.0</td>\n    </tr>\n    <tr>\n      <th>17874</th>\n      <td>AGESYNGVSDAFEF--------</td>\n      <td>24.0</td>\n      <td>37.0</td>\n      <td>716.0</td>\n      <td>259.000000</td>\n      <td>716.0</td>\n    </tr>\n    <tr>\n      <th>37983</th>\n      <td>ARTRPFGASALRY---------</td>\n      <td>2.0</td>\n      <td>27.0</td>\n      <td>715.0</td>\n      <td>248.000000</td>\n      <td>715.0</td>\n    </tr>\n    <tr>\n      <th>31239</th>\n      <td>ASVSRSRTNSLKS---------</td>\n      <td>17.0</td>\n      <td>20.0</td>\n      <td>695.0</td>\n      <td>244.000000</td>\n      <td>695.0</td>\n    </tr>\n    <tr>\n      <th>3335</th>\n      <td>ATSRIADKNQVRF---------</td>\n      <td>17.0</td>\n      <td>14.0</td>\n      <td>671.0</td>\n      <td>234.000000</td>\n      <td>671.0</td>\n    </tr>\n    <tr>\n      <th>61170</th>\n      <td>ATPQLWNDPIDY----------</td>\n      <td>33.0</td>\n      <td>29.0</td>\n      <td>589.0</td>\n      <td>217.000000</td>\n      <td>589.0</td>\n    </tr>\n    <tr>\n      <th>55210</th>\n      <td>ATHSRGTADEDSLKS-------</td>\n      <td>81.0</td>\n      <td>72.0</td>\n      <td>567.0</td>\n      <td>240.000000</td>\n      <td>567.0</td>\n    </tr>\n    <tr>\n      <th>35437</th>\n      <td>AGSNRLRHHMESAKVRY-----</td>\n      <td>6.0</td>\n      <td>25.0</td>\n      <td>562.0</td>\n      <td>197.666667</td>\n      <td>562.0</td>\n    </tr>\n    <tr>\n      <th>21510</th>\n      <td>ASVRRHGVGLKAPMKY------</td>\n      <td>6.0</td>\n      <td>20.0</td>\n      <td>518.0</td>\n      <td>181.333333</td>\n      <td>518.0</td>\n    </tr>\n    <tr>\n      <th>54228</th>\n      <td>ATPARIPGEIRGVTDTVEF---</td>\n      <td>3.0</td>\n      <td>8.0</td>\n      <td>497.0</td>\n      <td>169.333333</td>\n      <td>497.0</td>\n    </tr>\n    <tr>\n      <th>62817</th>\n      <td>ASRVNGESNLQY----------</td>\n      <td>32.0</td>\n      <td>40.0</td>\n      <td>494.0</td>\n      <td>188.666667</td>\n      <td>494.0</td>\n    </tr>\n    <tr>\n      <th>43820</th>\n      <td>AGARGGSAWTAKAELNF-----</td>\n      <td>16.0</td>\n      <td>31.0</td>\n      <td>486.0</td>\n      <td>177.666667</td>\n      <td>486.0</td>\n    </tr>\n    <tr>\n      <th>2862</th>\n      <td>AGFRGVRHRVSDRESAASVTF-</td>\n      <td>21.0</td>\n      <td>22.0</td>\n      <td>485.0</td>\n      <td>176.000000</td>\n      <td>485.0</td>\n    </tr>\n    <tr>\n      <th>67486</th>\n      <td>ARGSRSSDSLWY----------</td>\n      <td>19.0</td>\n      <td>29.0</td>\n      <td>482.0</td>\n      <td>176.666667</td>\n      <td>482.0</td>\n    </tr>\n    <tr>\n      <th>21371</th>\n      <td>ARGGSRAHAIAY----------</td>\n      <td>4.0</td>\n      <td>10.0</td>\n      <td>470.0</td>\n      <td>161.333333</td>\n      <td>470.0</td>\n    </tr>\n    <tr>\n      <th>22029</th>\n      <td>AGDLQLGGKSTMSY--------</td>\n      <td>9.0</td>\n      <td>13.0</td>\n      <td>469.0</td>\n      <td>163.666667</td>\n      <td>469.0</td>\n    </tr>\n    <tr>\n      <th>18686</th>\n      <td>ATILRRGRSKYINS--------</td>\n      <td>6.0</td>\n      <td>14.0</td>\n      <td>465.0</td>\n      <td>161.666667</td>\n      <td>465.0</td>\n    </tr>\n    <tr>\n      <th>73505</th>\n      <td>ATGLRNSTPAPVKS--------</td>\n      <td>10.0</td>\n      <td>17.0</td>\n      <td>460.0</td>\n      <td>162.333333</td>\n      <td>460.0</td>\n    </tr>\n    <tr>\n      <th>71872</th>\n      <td>AAVRGSTAKVKS----------</td>\n      <td>8.0</td>\n      <td>41.0</td>\n      <td>449.0</td>\n      <td>166.000000</td>\n      <td>449.0</td>\n    </tr>\n    <tr>\n      <th>16210</th>\n      <td>ASISFMLQPTVRLEPSVHS---</td>\n      <td>38.0</td>\n      <td>36.0</td>\n      <td>440.0</td>\n      <td>171.333333</td>\n      <td>440.0</td>\n    </tr>\n    <tr>\n      <th>33902</th>\n      <td>AGRGNIGRRWRESYQVKF----</td>\n      <td>2.0</td>\n      <td>4.0</td>\n      <td>422.0</td>\n      <td>142.666667</td>\n      <td>422.0</td>\n    </tr>\n    <tr>\n      <th>72255</th>\n      <td>AAMGRRVSRAPALEF-------</td>\n      <td>10.0</td>\n      <td>39.0</td>\n      <td>419.0</td>\n      <td>156.000000</td>\n      <td>419.0</td>\n    </tr>\n    <tr>\n      <th>74262</th>\n      <td>AGRRRRPIQTHMRY--------</td>\n      <td>8.0</td>\n      <td>9.0</td>\n      <td>414.0</td>\n      <td>143.666667</td>\n      <td>414.0</td>\n    </tr>\n    <tr>\n      <th>31117</th>\n      <td>ATGMRRLKHNVRF---------</td>\n      <td>11.0</td>\n      <td>35.0</td>\n      <td>406.0</td>\n      <td>150.666667</td>\n      <td>406.0</td>\n    </tr>\n    <tr>\n      <th>11121</th>\n      <td>AADYDSTVEDNRLDNSEELEY-</td>\n      <td>11.0</td>\n      <td>24.0</td>\n      <td>404.0</td>\n      <td>146.333333</td>\n      <td>404.0</td>\n    </tr>\n    <tr>\n      <th>13328</th>\n      <td>ARDYGSRVDQHLES--------</td>\n      <td>300.0</td>\n      <td>116.0</td>\n      <td>399.0</td>\n      <td>271.666667</td>\n      <td>399.0</td>\n    </tr>\n    <tr>\n      <th>42485</th>\n      <td>ASRSRMHNHQVKF---------</td>\n      <td>18.0</td>\n      <td>16.0</td>\n      <td>398.0</td>\n      <td>144.000000</td>\n      <td>398.0</td>\n    </tr>\n    <tr>\n      <th>40184</th>\n      <td>ATSGSDRTSNKSMRS-------</td>\n      <td>9.0</td>\n      <td>9.0</td>\n      <td>376.0</td>\n      <td>131.333333</td>\n      <td>376.0</td>\n    </tr>\n    <tr>\n      <th>67357</th>\n      <td>AGRDSFPKDLKF----------</td>\n      <td>11.0</td>\n      <td>11.0</td>\n      <td>376.0</td>\n      <td>132.666667</td>\n      <td>376.0</td>\n    </tr>\n    <tr>\n      <th>66986</th>\n      <td>AAAVASWLNPYQMRY-------</td>\n      <td>26.0</td>\n      <td>41.0</td>\n      <td>374.0</td>\n      <td>147.000000</td>\n      <td>374.0</td>\n    </tr>\n    <tr>\n      <th>33498</th>\n      <td>ATISRPWRAEKLRF--------</td>\n      <td>12.0</td>\n      <td>17.0</td>\n      <td>369.0</td>\n      <td>132.666667</td>\n      <td>369.0</td>\n    </tr>\n    <tr>\n      <th>39997</th>\n      <td>ARSDAWTFFPPSSKSVKF----</td>\n      <td>11.0</td>\n      <td>9.0</td>\n      <td>368.0</td>\n      <td>129.333333</td>\n      <td>368.0</td>\n    </tr>\n    <tr>\n      <th>49284</th>\n      <td>ASMLRRSTHHIRF---------</td>\n      <td>8.0</td>\n      <td>23.0</td>\n      <td>354.0</td>\n      <td>128.333333</td>\n      <td>354.0</td>\n    </tr>\n    <tr>\n      <th>44214</th>\n      <td>ASVQVPKDTLRF----------</td>\n      <td>9.0</td>\n      <td>10.0</td>\n      <td>349.0</td>\n      <td>122.666667</td>\n      <td>349.0</td>\n    </tr>\n    <tr>\n      <th>67138</th>\n      <td>AGGHSGQHPFKY----------</td>\n      <td>6.0</td>\n      <td>7.0</td>\n      <td>329.0</td>\n      <td>114.000000</td>\n      <td>329.0</td>\n    </tr>\n    <tr>\n      <th>29890</th>\n      <td>AGSNMPYQTMYQEDLSY-----</td>\n      <td>64.0</td>\n      <td>54.0</td>\n      <td>327.0</td>\n      <td>148.333333</td>\n      <td>327.0</td>\n    </tr>\n    <tr>\n      <th>52001</th>\n      <td>AGVSFAEDEVEY----------</td>\n      <td>1.0</td>\n      <td>5.0</td>\n      <td>325.0</td>\n      <td>110.333333</td>\n      <td>325.0</td>\n    </tr>\n    <tr>\n      <th>17492</th>\n      <td>ASVKNTWWGVAGHYPVKF----</td>\n      <td>NaN</td>\n      <td>9.0</td>\n      <td>323.0</td>\n      <td>166.000000</td>\n      <td>323.0</td>\n    </tr>\n    <tr>\n      <th>35027</th>\n      <td>ASRLDTSTKLGY----------</td>\n      <td>5.0</td>\n      <td>5.0</td>\n      <td>323.0</td>\n      <td>111.000000</td>\n      <td>323.0</td>\n    </tr>\n    <tr>\n      <th>73931</th>\n      <td>AASHNPSARPSPVGF-------</td>\n      <td>71.0</td>\n      <td>51.0</td>\n      <td>320.0</td>\n      <td>147.333333</td>\n      <td>320.0</td>\n    </tr>\n    <tr>\n      <th>45279</th>\n      <td>ARHLKRKNQYMNF---------</td>\n      <td>6.0</td>\n      <td>11.0</td>\n      <td>319.0</td>\n      <td>112.000000</td>\n      <td>319.0</td>\n    </tr>\n  </tbody>\n</table>\n</div>"
     },
     "execution_count": 14,
     "metadata": {},
     "output_type": "execute_result"
    }
   ],
   "source": [
    "pig_pd.sort_values(\"np3_c1\", ascending=False, inplace=True)\n",
    "pig_pd.head(50)"
   ],
   "metadata": {
    "collapsed": false,
    "pycharm": {
     "name": "#%%\n"
    }
   }
  },
  {
   "cell_type": "code",
   "execution_count": 5,
   "outputs": [],
   "source": [
    "# Renaming for convenience\n",
    "round_dict = {\"b3_cdr3\": \"b3\", \"n1_cdr3\": \"n1\", \"np1_cdr3\": \"np1\", \"np2_cdr3\": \"np2\", \"np3_cdr3\": \"np3\"}\n",
    "pig_df.replace({\"round\": round_dict}, inplace=True)"
   ],
   "metadata": {
    "collapsed": false,
    "pycharm": {
     "name": "#%%\n"
    }
   }
  },
  {
   "cell_type": "code",
   "execution_count": null,
   "outputs": [],
   "source": [
    "# So now we can define our datatype\n",
    "\n",
    "# Datatype defines the basics of our data, Each datatype is specified for a group of related fasta files\n",
    "# Focus - > short string specifier that gives the overall dataset we are using\n",
    "# Molecule -> What kind of sequence data? currently protein, dna, and rna are supported\n",
    "# id -> short string specifier ONLY for datasets which have different clustering methods (CLUSTERS ONLY)\n",
    "# process -> How were the gaps added to each dataset, used to name directory (CLUSTERS ONLY)\n",
    "# clusters -> How many clusters are in each data file (1 if no clusters)\n",
    "# cluster_indices -> Define the lengths of data put in each cluster, It is inclusive so [12, 16] includes length 12 and length 16. There must be cluster_indices for each cluster\n",
    "# gap_position_indices -> Index where gaps should be added to each sequence that is short of the maximum length. (-1 means add gaps to the end of the clusters)\n",
    "\n",
    "\n",
    "pig_ge2_datatype = {\"focus\": \"pig\", \"molecule\": \"protein\", \"id\": \"ge2\", \"process\": \"gaps_end\", \"clusters\": 2, \"gap_position_indices\": [-1, -1], \"cluster_indices\": [[12, 22], [35, 45]]}"
   ],
   "metadata": {
    "collapsed": false,
    "pycharm": {
     "name": "#%%\n"
    }
   }
  },
  {
   "cell_type": "code",
   "execution_count": 4,
   "outputs": [
    {
     "ename": "NameError",
     "evalue": "name 'dp' is not defined",
     "output_type": "error",
     "traceback": [
      "\u001B[0;31m---------------------------------------------------------------------------\u001B[0m",
      "\u001B[0;31mNameError\u001B[0m                                 Traceback (most recent call last)",
      "\u001B[0;32m<ipython-input-4-4b3b304efac5>\u001B[0m in \u001B[0;36m<module>\u001B[0;34m\u001B[0m\n\u001B[1;32m      1\u001B[0m \u001B[0mchars_replace\u001B[0m \u001B[0;34m=\u001B[0m \u001B[0;34m{\u001B[0m\u001B[0;34m\"*\"\u001B[0m\u001B[0;34m:\u001B[0m \u001B[0;34m\"-\"\u001B[0m\u001B[0;34m,\u001B[0m \u001B[0;34m\"X\"\u001B[0m\u001B[0;34m:\u001B[0m \u001B[0;34m\"-\"\u001B[0m\u001B[0;34m}\u001B[0m\u001B[0;34m\u001B[0m\u001B[0;34m\u001B[0m\u001B[0m\n\u001B[0;32m----> 2\u001B[0;31m \u001B[0mdp\u001B[0m\u001B[0;34m.\u001B[0m\u001B[0mprepare_data_files\u001B[0m\u001B[0;34m(\u001B[0m\u001B[0mdatatype_str\u001B[0m\u001B[0;34m,\u001B[0m \u001B[0mpig_df\u001B[0m\u001B[0;34m,\u001B[0m \u001B[0mtarget_dir\u001B[0m\u001B[0;34m=\u001B[0m\u001B[0mdataset_dir\u001B[0m\u001B[0;34m,\u001B[0m \u001B[0mcharacter_conversion\u001B[0m\u001B[0;34m=\u001B[0m\u001B[0mchars_replace\u001B[0m\u001B[0;34m,\u001B[0m \u001B[0mremove_chars\u001B[0m\u001B[0;34m=\u001B[0m\u001B[0;32mNone\u001B[0m\u001B[0;34m)\u001B[0m \u001B[0;31m# Creates datafiles in target directory\u001B[0m\u001B[0;34m\u001B[0m\u001B[0;34m\u001B[0m\u001B[0m\n\u001B[0m",
      "\u001B[0;31mNameError\u001B[0m: name 'dp' is not defined"
     ]
    }
   ],
   "source": [
    "chars_replace = {\"*\": \"-\", \"X\": \"-\"}\n",
    "dp.prepare_data_files(datatype_str, pig_df, target_dir=dataset_dir, character_conversion=chars_replace, remove_chars=None) # Creates datafiles in target directory"
   ],
   "metadata": {
    "collapsed": false,
    "pycharm": {
     "name": "#%%\n"
    }
   }
  },
  {
   "cell_type": "code",
   "execution_count": 4,
   "outputs": [
    {
     "name": "stdout",
     "output_type": "stream",
     "text": [
      "Process Time 0.7732417583465576\n"
     ]
    },
    {
     "name": "stderr",
     "output_type": "stream",
     "text": [
      "/home/jonah/PycharmProjects/phage_display_ML/datasets/data_prep.py:253: RuntimeWarning: More than 20 figures have been opened. Figures created through the pyplot interface (`matplotlib.pyplot.figure`) are retained until explicitly closed and may consume too much memory. (To control this warning, see the rcParam `figure.max_open_warning`).\n",
      "  fig, axs = plt.subplots(1, 1)\n"
     ]
    },
    {
     "name": "stdout",
     "output_type": "stream",
     "text": [
      "Process Time 1.0405735969543457\n",
      "Process Time 1.297820806503296\n",
      "Process Time 0.6126525402069092\n",
      "Process Time 1.3889286518096924\n",
      "Process Time 0.5471639633178711\n",
      "Process Time 0.7353661060333252\n",
      "Process Time 1.0253167152404785\n",
      "Process Time 0.38990020751953125\n",
      "Process Time 0.48378729820251465\n"
     ]
    }
   ],
   "source": [
    "sys.path.append(\"../\")\n",
    "import rbm_torch.utils as utils\n",
    "\n",
    "fasta_files = [f\"{x}_c1.fasta\" for x in [\"b3\", \"n1\", \"np1\", \"np2\", \"np3\"]]\n",
    "fasta_files += [f\"{x}_c2.fasta\" for x in [\"b3\", \"n1\", \"np1\", \"np2\", \"np3\"]]\n",
    "for fasta_file in fasta_files:\n",
    "    seqs, affs, chars, q = utils.fasta_read(dataset_dir+fasta_file, \"protein\")\n",
    "    naffs = dp.standardize_affinities(affs, out_plots=dataset_dir+f\"{fasta_file.split('.')[0]}_sc\", scale=\"linear\", dividers=[15, 50, 80], target_scaling=[5., 10., 20.], divider_type=\"percentile\")\n",
    "    # print(sum([x for x in naffs if x < 0.1]), sum([x for x in naffs if x >= 0.1]))\n",
    "    dp.make_weight_file(f\"{dataset_dir}{fasta_file.split('.')[0]}_sc\", naffs, \"sc\")"
   ],
   "metadata": {
    "collapsed": false,
    "pycharm": {
     "name": "#%%\n"
    }
   }
  },
  {
   "cell_type": "code",
   "execution_count": 5,
   "outputs": [],
   "source": [
    "import matplotlib.pyplot as plt\n",
    "plt.close()"
   ],
   "metadata": {
    "collapsed": false,
    "pycharm": {
     "name": "#%%\n"
    }
   }
  },
  {
   "cell_type": "code",
   "execution_count": 18,
   "outputs": [
    {
     "data": {
      "text/plain": "'/home/jonah/PycharmProjects/phage_display_ML/datasets'"
     },
     "execution_count": 18,
     "metadata": {},
     "output_type": "execute_result"
    }
   ],
   "source": [
    "os.getcwd()"
   ],
   "metadata": {
    "collapsed": false,
    "pycharm": {
     "name": "#%%\n"
    }
   }
  },
  {
   "cell_type": "code",
   "execution_count": 14,
   "outputs": [
    {
     "name": "stdout",
     "output_type": "stream",
     "text": [
      "usage: submit.py [-h] -d DATATYPE -r ROUND -p PARTITION -q QUEUE -m MODEL -e\r\n",
      "                 EPOCHS -g GPUS [--wdir [WDIR]] [--precision PRECISION]\r\n",
      "                 [-c [C]] [-w [W]] [--walltime [WALLTIME]] [-a [ACCOUNT]]\r\n",
      "                 [--email [EMAIL]] [--error [ERROR]]\r\n",
      "\r\n",
      "Generate Slurm Files for pytorch RBM and CRBM\r\n",
      "\r\n",
      "optional arguments:\r\n",
      "  -h, --help            show this help message and exit\r\n",
      "  --wdir [WDIR]         Manually Set working directory, Usually handled\r\n",
      "                        internally.\r\n",
      "  --precision PRECISION\r\n",
      "                        Set precision of the model, single or double\r\n",
      "  -c [C]                Number of CPU cores to use. Default is 6.\r\n",
      "  -w [W]                Weight File name to use to weight model training. Must\r\n",
      "                        be in same directory as the sequence files.\r\n",
      "                        Alternatively can be 'fasta' or None\r\n",
      "  --walltime [WALLTIME]\r\n",
      "                        Set wall time for training\r\n",
      "  -a [ACCOUNT], --account [ACCOUNT]\r\n",
      "                        Account name for server submission\r\n",
      "  --email [EMAIL]       Email for Job notifications\r\n",
      "  --error [ERROR]       Set slurm error file prefix\r\n",
      "\r\n",
      "required named arguments:\r\n",
      "  -d DATATYPE, --datatype DATATYPE\r\n",
      "                        Datatype Specifier String. See global_info\r\n",
      "  -r ROUND, --round ROUND\r\n",
      "                        Which Round should we run the scripts on?\r\n",
      "  -p PARTITION, --partition PARTITION\r\n",
      "                        Which Partition should the job be submitted on?\r\n",
      "  -q QUEUE, --queue QUEUE\r\n",
      "                        Which Queue should the job be submitted on?\r\n",
      "  -m MODEL, --model MODEL\r\n",
      "                        Which Model are we training, i.e. rbm or crbm?\r\n",
      "  -e EPOCHS, --epochs EPOCHS\r\n",
      "                        Number of Training Iterations\r\n",
      "  -g GPUS, --gpus GPUS  Number of gpus available\r\n"
     ]
    }
   ],
   "source": [
    "# Now let's make our input files\n",
    "!python ../rbm_torch/submit.py -h"
   ],
   "metadata": {
    "collapsed": false,
    "pycharm": {
     "name": "#%%\n"
    }
   }
  },
  {
   "cell_type": "code",
   "execution_count": 2,
   "outputs": [],
   "source": [
    "import subprocess as sp\n",
    "import os\n",
    "os.chdir(\"../rbm_torch/\")\n",
    "\n",
    "prefixes = [\"b3\", \"n1\", \"np1\", \"np2\", \"np3\"]\n",
    "cluster_prefixes = [x+\"_c1\" for x in prefixes]\n",
    "cluster_prefixes += [x+\"_c2\" for x in prefixes]\n",
    "weights = [x + \"_sc.json\" for x in cluster_prefixes]\n",
    "\n",
    "for i in range(len(cluster_prefixes)):\n",
    "    sp.call(f\"python submit.py -d pig_ge2 -r {cluster_prefixes[i]} -p wzhengpu1 -q wildfire -m crbm -e 200 -g 2 -w {weights[i]}\", shell=True)"
   ],
   "metadata": {
    "collapsed": false,
    "pycharm": {
     "name": "#%%\n"
    }
   }
  },
  {
   "cell_type": "code",
   "execution_count": null,
   "outputs": [],
   "source": [],
   "metadata": {
    "collapsed": false,
    "pycharm": {
     "name": "#%%\n"
    }
   }
  },
  {
   "cell_type": "markdown",
   "source": [
    "## Lets Do DBScan"
   ],
   "metadata": {
    "collapsed": false
   }
  },
  {
   "cell_type": "code",
   "execution_count": 1,
   "outputs": [],
   "source": [
    "### Some crap I had to write to fix an import problem\n",
    "import os\n",
    "os.chdir(\"../rbm_torch/\")\n",
    "import rbm_torch.analysis.analysis_methods as am\n",
    "os.chdir(\"../datasets/\")"
   ],
   "metadata": {
    "collapsed": false,
    "pycharm": {
     "name": "#%%\n"
    }
   }
  },
  {
   "cell_type": "code",
   "execution_count": 3,
   "outputs": [
    {
     "name": "stdout",
     "output_type": "stream",
     "text": [
      "Process Time 0.02129673957824707\n"
     ]
    },
    {
     "data": {
      "text/plain": "<Figure size 640x480 with 1 Axes>",
      "image/png": "[encoded data removed]"
     },
     "metadata": {},
     "output_type": "display_data"
    }
   ],
   "source": [
    "from rbm_torch.utils import utils\n",
    "import data_prep as dp\n",
    "import rbm_torch.analysis.clustering_methods as cm\n",
    "\n",
    "fasta_id = \"m1_c1\"\n",
    "\n",
    "seqs, affs, chars, q = utils.fasta_read(f\"./pig/ge2/{fasta_id + '.fasta'}\", \"protein\", threads=12)\n",
    "cat = utils.seq_to_cat(seqs, molecule=\"protein\")\n",
    "\n",
    "cm.estimate_dbscan_eps(cat, nn=20, title=\"pig_ge2 m1 eps estimation\")"
   ],
   "metadata": {
    "collapsed": false,
    "pycharm": {
     "name": "#%%\n"
    }
   }
  },
  {
   "cell_type": "code",
   "execution_count": 11,
   "outputs": [
    {
     "name": "stdout",
     "output_type": "stream",
     "text": [
      "Clust 0 Length 3312\n",
      "Clust -1 Length 21147\n",
      "Estimated number of clusters: 1\n",
      "Estimated number of noise points: 21147\n"
     ]
    }
   ],
   "source": [
    "# Estimating off the above graph, we are going to run dbscan at an eps of 0.35 ish\n",
    "# We are going to choose a minimum samples parameter of 82 as that is double the dimension of our input vectors.\n",
    "# The above is based off this tutorial: https://medium.com/@tarammullin/dbscan-parameter-estimation-ff8330e3a3bd\n",
    "\n",
    "m1_labels = cm.cluster_seqs(cat, min_samples=82, eps=0.3)  # 0.2"
   ],
   "metadata": {
    "collapsed": false,
    "pycharm": {
     "name": "#%%\n"
    }
   }
  },
  {
   "cell_type": "code",
   "execution_count": 7,
   "outputs": [],
   "source": [
    "from sklearn.metrics import pairwise_distances\n",
    "from rbm_torch.utils import utils\n",
    "import numpy as np\n",
    "\n",
    "def hamming_sort(dataframe, hamming_threshold=5, molecule=\"protein\"):\n",
    "\n",
    "    dataframe.sort_values(\"copy_num\", ascending=False, inplace=True)\n",
    "\n",
    "    seqs = dataframe.sequence.tolist()\n",
    "    cns = dataframe.copy_num.tolist()\n",
    "\n",
    "    cat = utils.seq_to_cat(seqs, molecule=molecule)\n",
    "\n",
    "    X = cat.numpy().astype(np.int8)\n",
    "\n",
    "    # X should be a categorical vector of shape (seqs, bases)\n",
    "    seq_len = len(seqs[0])\n",
    "    selected_seqs, selected_cns, selected_cat = [], [], []\n",
    "    total_seqs = len(seqs)\n",
    "    for i in range(total_seqs):  # len(m1_seqs)\n",
    "        if i == 0:\n",
    "            selected_seqs.append(seqs[i])\n",
    "            selected_cns.append(cns[i])\n",
    "            selected_cat.append(X[i])\n",
    "        else:\n",
    "            dist_matrix = pairwise_distances([X[i]], selected_cat, metric=\"hamming\")*seq_len\n",
    "            # print(dist_matrix)\n",
    "            if min(dist_matrix[0]) > hamming_threshold:\n",
    "                selected_seqs.append(seqs[i])\n",
    "                selected_cns.append(cns[i])\n",
    "                selected_cat.append(X[i])\n",
    "\n",
    "    print(f\"Kept {len(selected_seqs)} of {total_seqs}\")\n",
    "\n",
    "    return selected_seqs, selected_cns"
   ],
   "metadata": {
    "collapsed": false,
    "pycharm": {
     "name": "#%%\n"
    }
   }
  },
  {
   "cell_type": "code",
   "execution_count": 3,
   "outputs": [
    {
     "name": "stdout",
     "output_type": "stream",
     "text": [
      "Process Time 0.029875755310058594\n"
     ]
    }
   ],
   "source": [
    "import pandas as pd\n",
    "seqs, affs, chars, q = utils.fasta_read(\"./pig/ge2/m1_c1.fasta\", \"protein\", threads=12)\n",
    "m1_pd = pd.DataFrame({\"sequence\": seqs, \"copy_num\":affs})\n"
   ],
   "metadata": {
    "collapsed": false,
    "pycharm": {
     "name": "#%%\n"
    }
   }
  },
  {
   "cell_type": "code",
   "execution_count": 18,
   "outputs": [
    {
     "name": "stdout",
     "output_type": "stream",
     "text": [
      "Kept 24323 of 24459\n"
     ]
    }
   ],
   "source": [
    "mseqs, maffs = hamming_sort(m1_pd, hamming_threshold=2)"
   ],
   "metadata": {
    "collapsed": false,
    "pycharm": {
     "name": "#%%\n"
    }
   }
  },
  {
   "cell_type": "code",
   "source": [
    "dp.write_fasta(mseqs, maffs, \"./pig/ge2/h1_c1.fasta\")"
   ],
   "metadata": {
    "collapsed": false,
    "pycharm": {
     "name": "#%%\n"
    }
   },
   "execution_count": 19,
   "outputs": []
  },
  {
   "cell_type": "code",
   "execution_count": null,
   "outputs": [],
   "source": [],
   "metadata": {
    "collapsed": false,
    "pycharm": {
     "name": "#%%\n"
    }
   }
  }
 ],
 "metadata": {
  "kernelspec": {
   "name": "utils",
   "language": "python",
   "display_name": "utils"
  },
  "language_info": {
   "codemirror_mode": {
    "name": "ipython",
    "version": 2
   },
   "file_extension": ".py",
   "mimetype": "text/x-python",
   "name": "python",
   "nbconvert_exporter": "python",
   "pygments_lexer": "ipython2",
   "version": "2.7.6"
  }
 },
 "nbformat": 4,
 "nbformat_minor": 0
}