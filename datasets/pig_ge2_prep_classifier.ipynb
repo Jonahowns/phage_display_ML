{
 "cells": [
  {
   "cell_type": "code",
   "execution_count": 3,
   "metadata": {
    "collapsed": true
   },
   "outputs": [],
   "source": [
    "import os\n",
    "import sys\n",
    "import rbm_torch.utils.data_prep as dp\n",
    "\n",
    "# import rbm_torch.utils.utils\n",
    "import rbm_torch.analysis.analysis_methods as am"
   ]
  },
  {
   "cell_type": "code",
   "execution_count": 2,
   "outputs": [],
   "source": [
    "dataset_focus = \"pig\"\n",
    "dataset_dir = f\"./{dataset_focus}/\"\n",
    "\n",
    "if not os.path.isdir(dataset_dir):\n",
    "    os.mkdir(dataset_dir)"
   ],
   "metadata": {
    "collapsed": false,
    "pycharm": {
     "name": "#%%\n"
    }
   }
  },
  {
   "cell_type": "code",
   "execution_count": 3,
   "outputs": [
    {
     "name": "stdout",
     "output_type": "stream",
     "text": [
      "Observed Characters: ['T', 'M', 'N', 'Y', 'V', 'I', 'H', 'A', 'R', 'C', 'Q', 'F', 'G', 'L', 'D', 'P', 'S', '*', 'K', 'X', 'E', 'W']\n"
     ]
    }
   ],
   "source": [
    "import data_prep as dp\n",
    "\n",
    "# Read in raw fasta files. All data is stored in the returned dataframe. Violin out generates a violin plot of sequence lengths for each fasta file.\n",
    "pig_df = dp.process_raw_fasta_files(\"b3_cdr3.fasta\", \"n1_cdr3.fasta\", \"np1_cdr3.fasta\", \"np2_cdr3.fasta\", \"np3_cdr3.fasta\", in_dir=\"/mnt/D1/phage_display_analysis/pig_tissue/fasta files/\", out_dir=dataset_dir, violin_out=\"pid_cdr3_lengths\", input_format=\"fasta\")\n",
    "\n",
    "# names in dataframe correspond to the files that will be generated in prepare_data_files, this just simplifies the names\n",
    "round_dict = {\"np1_cdr3\": \"np1\", \"np2_cdr3\": \"np2\", \"np3_cdr3\": \"np3\"}\n",
    "pig_df.replace({\"round\": round_dict}, inplace=True)"
   ],
   "metadata": {
    "collapsed": false,
    "pycharm": {
     "name": "#%%\n"
    }
   }
  },
  {
   "cell_type": "code",
   "execution_count": null,
   "outputs": [],
   "source": [
    "pig_datatype = {\"focus\": \"pig\", \"molecule\": \"protein\", \"id\": None, \"process\": \"gaps_end\", \"clusters\": 2, \"gap_position_indices\": [-1, -1], \"cluster_indices\": [[12, 22], [35, 45]]} # separate into two clusters seqs of len 12-22 and seqs of len 35-45\n",
    "chars_replace = {\"*\": \"-\", \"X\": \"-\"}\n",
    "dp.prepare_data_files(pig_datatype, pig_df, target_dir=dataset_dir, character_conversion=chars_replace, remove_chars=None)  # Creates datafiles in target directory\n",
    "\n",
    "# generates files b1_c1.fasta, n1_c1.fasta, np1_c1.fasta, np2_c1.fasta, np3_c1.fasta and b1_c2.fasta, n1_c2.fasta, np1_c2.fasta, np2_c2.fasta, np3_c2.fasta\n",
    "\n",
    "# c1 files are sequences of length 12-22\n",
    "# c2 files are sequences of lenght 35-45"
   ],
   "metadata": {
    "collapsed": false,
    "pycharm": {
     "name": "#%%\n"
    }
   }
  },
  {
   "cell_type": "code",
   "execution_count": 5,
   "outputs": [
    {
     "data": {
      "text/plain": "'/home/jonah/PycharmProjects/phage_display_ML/datasets'"
     },
     "execution_count": 5,
     "metadata": {},
     "output_type": "execute_result"
    }
   ],
   "source": [
    "os.getcwd()"
   ],
   "metadata": {
    "collapsed": false,
    "pycharm": {
     "name": "#%%\n"
    }
   }
  },
  {
   "cell_type": "code",
   "execution_count": 4,
   "outputs": [
    {
     "name": "stdout",
     "output_type": "stream",
     "text": [
      "Process Time 0.21592998504638672\n",
      "Process Time 0.14743638038635254\n",
      "Process Time 0.2642490863800049\n"
     ]
    }
   ],
   "source": [
    "# read in data to pandas dataframe and normalize counts within each round as \"reads per hundred thousand\" = (copy_num/(total reads in dataset/ 100000))\n",
    "c1_df = am.fetch_data([\"np1_c1\", \"np2_c1\", \"np3_c1\"], dir=\"./pig/raw_rounds/\", threads=6, molecule=\"protein\", normalize_counts=True, normalization_denominator=1e5)\n",
    "\n",
    "# find sequences carried b/t at least two rounds of negative then positive selection\n",
    "pig_ct = dp.copynum_topology_faster(c1_df, [\"np1_c1\", \"np2_c1\", \"np3_c1\"], threads_per_task=4)\n",
    "# write out dataframe in csv format, each sequence is normalized copy number across the 3 rounds\n",
    "pig_ct.to_csv(\"./pig/pig_c1_ct.csv\", index=False)"
   ],
   "metadata": {
    "collapsed": false,
    "pycharm": {
     "name": "#%%\n"
    }
   }
  },
  {
   "cell_type": "code",
   "execution_count": 1,
   "outputs": [],
   "source": [
    "import pandas as pd\n",
    "import numpy as np\n",
    "# reads per hundred thousand\n",
    "pig_pd = pd.read_csv(\"./pig/pig_c1_ct.csv\")\n",
    "\n",
    "# mean and max copy_number for each sequence\n",
    "# the np.nanmean and np.nanmax ignore nan values in their calculation\n",
    "pig_pd[\"mean\"] = pig_pd.apply(lambda row : np.nanmean(np.asarray([row[x] for x in [\"np1_c1\", \"np2_c1\", \"np3_c1\"]])), axis=1)\n",
    "pig_pd[\"max\"] = pig_pd.apply(lambda row : np.nanmax(np.asarray([row[x] for x in [\"np1_c1\", \"np2_c1\", \"np3_c1\"]])), axis=1)\n",
    "\n",
    "# Fold calculation between the 3rd and 1st round as well as the 3rd and second round\n",
    "pig_pd[\"32_fold\"] = pig_pd.apply(lambda row: row[\"np3_c1\"]/row[\"np2_c1\"], axis=1)\n",
    "pig_pd[\"31_fold\"] = pig_pd.apply(lambda row: row[\"np3_c1\"]/row[\"np1_c1\"], axis=1)"
   ],
   "metadata": {
    "collapsed": false,
    "pycharm": {
     "name": "#%%\n"
    }
   }
  },
  {
   "cell_type": "code",
   "execution_count": null,
   "outputs": [],
   "source": [
    "from copy import copy\n",
    "\n",
    "# selection of enriched seqs\n",
    "e1 = pig_pd[(pig_pd[\"32_fold\"] > 1.) | (pig_pd[\"31_fold\"] > 2.)]\n",
    "e2 = e1[((e1[\"32_fold\"] > 1.) | (np.isnan(e1[\"32_fold\"]))) & ((e1[\"31_fold\"] > 2.) | (np.isnan(e1[\"31_fold\"])))]\n",
    "\n",
    "# must copy dataframe before applying a new function to make a new column\n",
    "enriched = copy(e2)\n",
    "\n",
    "# Can only have one number in fasta file, in this case I am using fold. these numbers are further processed below to make weight files\n",
    "enriched[\"fold\"] = enriched.apply(lambda row: np.nanmax(np.asarray([row[\"31_fold\"]/2., row[\"32_fold\"]])), axis=1)"
   ],
   "metadata": {
    "collapsed": false,
    "pycharm": {
     "name": "#%%\n"
    }
   }
  },
  {
   "cell_type": "code",
   "execution_count": 14,
   "outputs": [
    {
     "name": "stdout",
     "output_type": "stream",
     "text": [
      "Warning, values in a higher bracket will be lowered past the boundary. Recommend raising target scaling or changing boundaries\n",
      "Totals in each bracket: [9341, 4270]\n",
      "Bracket multipliers: [0.7788925140218654]\n"
     ]
    },
    {
     "ename": "NameError",
     "evalue": "name 'exit' is not defined",
     "output_type": "error",
     "traceback": [
      "\u001B[0;31m---------------------------------------------------------------------------\u001B[0m",
      "\u001B[0;31mNameError\u001B[0m                                 Traceback (most recent call last)",
      "\u001B[0;32m<ipython-input-14-53fb4aadff53>\u001B[0m in \u001B[0;36m<module>\u001B[0;34m\u001B[0m\n\u001B[1;32m     13\u001B[0m \u001B[0;31m# A helpful error message will appear advising to change the target_scaling and/or the divider boundaries\u001B[0m\u001B[0;34m\u001B[0m\u001B[0;34m\u001B[0m\u001B[0;34m\u001B[0m\u001B[0m\n\u001B[1;32m     14\u001B[0m \u001B[0;34m\u001B[0m\u001B[0m\n\u001B[0;32m---> 15\u001B[0;31m \u001B[0mstd_folds\u001B[0m \u001B[0;34m=\u001B[0m \u001B[0mdp\u001B[0m\u001B[0;34m.\u001B[0m\u001B[0mstandardize_affinities\u001B[0m\u001B[0;34m(\u001B[0m\u001B[0mfolds\u001B[0m\u001B[0;34m,\u001B[0m \u001B[0mout_plots\u001B[0m\u001B[0;34m=\u001B[0m\u001B[0;34m\"./pig/enrich\"\u001B[0m\u001B[0;34m,\u001B[0m \u001B[0mscale\u001B[0m\u001B[0;34m=\u001B[0m\u001B[0;34m\"log\"\u001B[0m\u001B[0;34m,\u001B[0m \u001B[0mdividers\u001B[0m\u001B[0;34m=\u001B[0m\u001B[0;34m[\u001B[0m\u001B[0;36m25\u001B[0m\u001B[0;34m]\u001B[0m\u001B[0;34m,\u001B[0m \u001B[0mtarget_scaling\u001B[0m\u001B[0;34m=\u001B[0m\u001B[0;34m[\u001B[0m\u001B[0;36m3.5\u001B[0m\u001B[0;34m]\u001B[0m\u001B[0;34m)\u001B[0m\u001B[0;34m\u001B[0m\u001B[0;34m\u001B[0m\u001B[0m\n\u001B[0m",
      "\u001B[0;32m~/PycharmProjects/phage_display_ML/src/rbm_torch/utils/data_prep.py\u001B[0m in \u001B[0;36mstandardize_affinities\u001B[0;34m(affs, out_plots, scale, dividers, target_scaling, divider_type, negate_index, splitter, negative_affs, base)\u001B[0m\n\u001B[1;32m    333\u001B[0m             \u001B[0mprint\u001B[0m\u001B[0;34m(\u001B[0m\u001B[0;34m\"Totals in each bracket:\"\u001B[0m\u001B[0;34m,\u001B[0m \u001B[0mtotals\u001B[0m\u001B[0;34m)\u001B[0m\u001B[0;34m\u001B[0m\u001B[0;34m\u001B[0m\u001B[0m\n\u001B[1;32m    334\u001B[0m             \u001B[0mprint\u001B[0m\u001B[0;34m(\u001B[0m\u001B[0;34m\"Bracket multipliers:\"\u001B[0m\u001B[0;34m,\u001B[0m \u001B[0mmulti_factors\u001B[0m\u001B[0;34m)\u001B[0m\u001B[0;34m\u001B[0m\u001B[0;34m\u001B[0m\u001B[0m\n\u001B[0;32m--> 335\u001B[0;31m             \u001B[0mexit\u001B[0m\u001B[0;34m(\u001B[0m\u001B[0;36m1\u001B[0m\u001B[0;34m)\u001B[0m\u001B[0;34m\u001B[0m\u001B[0;34m\u001B[0m\u001B[0m\n\u001B[0m\u001B[1;32m    336\u001B[0m \u001B[0;34m\u001B[0m\u001B[0m\n\u001B[1;32m    337\u001B[0m     \u001B[0;32mdef\u001B[0m \u001B[0massign_factor\u001B[0m\u001B[0;34m(\u001B[0m\u001B[0mx\u001B[0m\u001B[0;34m)\u001B[0m\u001B[0;34m:\u001B[0m\u001B[0;34m\u001B[0m\u001B[0;34m\u001B[0m\u001B[0m\n",
      "\u001B[0;31mNameError\u001B[0m: name 'exit' is not defined"
     ]
    }
   ],
   "source": [
    "# This is a complicated function, which is my fault, below is a description of how it works\n",
    "# It takes in as an input the fold, or copy number, (really any set of positive values >= 1 is fine)\n",
    "# the input is divided into groups by the percentile defined in dividers, you can separate into multiple groups, # of groups = # of dividers + 1\n",
    "# percentile is calculated from the list of unique values in the input\n",
    "# target_scaling defines how the sum of each group relates to one another, so a target scaling of [2] for dividers [25] means that values in the input above the divider should add up to 2x the sum of the values below the divider\n",
    "# there should be an equivalent number of dividers as target_scaling values\n",
    "# the scale defines how the input values are scaled, the options are log which takes the log of each values and linear which maintains the relative spacing between all values\n",
    "\n",
    "# Option out_plots is where plots showing the pre and post transfomation of the values are located. File affinity mapping is also generated giving an explicit mapping of input to output values\n",
    "# The ouptut is the resulting scaled values\n",
    "\n",
    "# A common error is that the sum of the higher values divided by the sum of the lower values is much higher than the target_scaling value\n",
    "# A helpful error message will appear advising to change the target_scaling and/or the divider boundaries, example below\n",
    "\n",
    "std_folds = dp.standardize_affinities(folds, out_plots=\"./pig/enrich\", scale=\"log\", dividers=[25], target_scaling=[3.5])"
   ],
   "metadata": {
    "collapsed": false,
    "pycharm": {
     "name": "#%%\n"
    }
   }
  },
  {
   "cell_type": "code",
   "execution_count": 21,
   "outputs": [],
   "source": [
    "# after some experimentation, I arrived at this\n",
    "std_folds = dp.standardize_affinities(folds, out_plots=\"./pig/efold\", scale=\"log\", dividers=[15], target_scaling=[5.3])"
   ],
   "metadata": {
    "collapsed": false,
    "pycharm": {
     "name": "#%%\n"
    }
   }
  },
  {
   "cell_type": "code",
   "execution_count": 22,
   "outputs": [],
   "source": [
    "dp.make_weight_file(\"efold_std\", std_folds, dir=\"./pig/\")"
   ],
   "metadata": {
    "collapsed": false,
    "pycharm": {
     "name": "#%%\n"
    }
   }
  },
  {
   "cell_type": "code",
   "execution_count": 6,
   "outputs": [],
   "source": [
    "from copy import copy\n",
    "def exclusive_rows(key_pd, query_pd, col_val):\n",
    "    \"\"\"returns rows in key pd that are not in query pd\"\"\"\n",
    "    df_all = key_pd.merge(query_pd.drop_duplicates(), on=col_val, how='left', indicator=True)\n",
    "    df_subset = copy(df_all[df_all['_merge'] == 'left_only'])\n",
    "    return df_subset.drop(\"_merge\", axis=1)\n",
    "\n",
    "r1_data = c1_df[c1_df[\"round\"] == \"np1_c1\"]\n",
    "r1_only = exclusive_rows(r1_data, pig_pd, \"sequence\")"
   ],
   "metadata": {
    "collapsed": false,
    "pycharm": {
     "name": "#%%\n"
    }
   }
  },
  {
   "cell_type": "code",
   "execution_count": 7,
   "outputs": [
    {
     "data": {
      "text/plain": "                 sequence  copy_num   round assignment  np1_c1  np2_c1  \\\n0  AGGLPPGSKGDASVRY------  0.483451  np1_c1        N/A     NaN     NaN   \n1  ACITIRQPALHS----------  0.241726  np1_c1        N/A     NaN     NaN   \n2  ARGALGGPQAVTF---------  0.483451  np1_c1        N/A     NaN     NaN   \n4  ATGFSAADDLHF----------  0.241726  np1_c1        N/A     NaN     NaN   \n5  AGSYRIS-KRP--QLQF-----  0.241726  np1_c1        N/A     NaN     NaN   \n\n   np3_c1  mean  max  32_fold  31_fold  \n0     NaN   NaN  NaN      NaN      NaN  \n1     NaN   NaN  NaN      NaN      NaN  \n2     NaN   NaN  NaN      NaN      NaN  \n4     NaN   NaN  NaN      NaN      NaN  \n5     NaN   NaN  NaN      NaN      NaN  ",
      "text/html": "<div>\n<style scoped>\n    .dataframe tbody tr th:only-of-type {\n        vertical-align: middle;\n    }\n\n    .dataframe tbody tr th {\n        vertical-align: top;\n    }\n\n    .dataframe thead th {\n        text-align: right;\n    }\n</style>\n<table border=\"1\" class=\"dataframe\">\n  <thead>\n    <tr style=\"text-align: right;\">\n      <th></th>\n      <th>sequence</th>\n      <th>copy_num</th>\n      <th>round</th>\n      <th>assignment</th>\n      <th>np1_c1</th>\n      <th>np2_c1</th>\n      <th>np3_c1</th>\n      <th>mean</th>\n      <th>max</th>\n      <th>32_fold</th>\n      <th>31_fold</th>\n    </tr>\n  </thead>\n  <tbody>\n    <tr>\n      <th>0</th>\n      <td>AGGLPPGSKGDASVRY------</td>\n      <td>0.483451</td>\n      <td>np1_c1</td>\n      <td>N/A</td>\n      <td>NaN</td>\n      <td>NaN</td>\n      <td>NaN</td>\n      <td>NaN</td>\n      <td>NaN</td>\n      <td>NaN</td>\n      <td>NaN</td>\n    </tr>\n    <tr>\n      <th>1</th>\n      <td>ACITIRQPALHS----------</td>\n      <td>0.241726</td>\n      <td>np1_c1</td>\n      <td>N/A</td>\n      <td>NaN</td>\n      <td>NaN</td>\n      <td>NaN</td>\n      <td>NaN</td>\n      <td>NaN</td>\n      <td>NaN</td>\n      <td>NaN</td>\n    </tr>\n    <tr>\n      <th>2</th>\n      <td>ARGALGGPQAVTF---------</td>\n      <td>0.483451</td>\n      <td>np1_c1</td>\n      <td>N/A</td>\n      <td>NaN</td>\n      <td>NaN</td>\n      <td>NaN</td>\n      <td>NaN</td>\n      <td>NaN</td>\n      <td>NaN</td>\n      <td>NaN</td>\n    </tr>\n    <tr>\n      <th>4</th>\n      <td>ATGFSAADDLHF----------</td>\n      <td>0.241726</td>\n      <td>np1_c1</td>\n      <td>N/A</td>\n      <td>NaN</td>\n      <td>NaN</td>\n      <td>NaN</td>\n      <td>NaN</td>\n      <td>NaN</td>\n      <td>NaN</td>\n      <td>NaN</td>\n    </tr>\n    <tr>\n      <th>5</th>\n      <td>AGSYRIS-KRP--QLQF-----</td>\n      <td>0.241726</td>\n      <td>np1_c1</td>\n      <td>N/A</td>\n      <td>NaN</td>\n      <td>NaN</td>\n      <td>NaN</td>\n      <td>NaN</td>\n      <td>NaN</td>\n      <td>NaN</td>\n      <td>NaN</td>\n    </tr>\n  </tbody>\n</table>\n</div>"
     },
     "execution_count": 7,
     "metadata": {},
     "output_type": "execute_result"
    }
   ],
   "source": [
    "r1_only.head()"
   ],
   "metadata": {
    "collapsed": false,
    "pycharm": {
     "name": "#%%\n"
    }
   }
  },
  {
   "cell_type": "code",
   "execution_count": 12,
   "outputs": [],
   "source": [
    "r1_copy_nums = r1_only.copy_num.to_list()\n",
    "min_copy_number = min(r1_copy_nums)\n",
    "max_copy_number = max(r1_copy_nums)"
   ],
   "metadata": {
    "collapsed": false,
    "pycharm": {
     "name": "#%%\n"
    }
   }
  },
  {
   "cell_type": "code",
   "execution_count": 11,
   "outputs": [
    {
     "data": {
      "text/plain": "0.24172572831961944"
     },
     "execution_count": 11,
     "metadata": {},
     "output_type": "execute_result"
    }
   ],
   "source": [
    "min_copy_number"
   ],
   "metadata": {
    "collapsed": false,
    "pycharm": {
     "name": "#%%\n"
    }
   }
  },
  {
   "cell_type": "code",
   "execution_count": 13,
   "outputs": [
    {
     "data": {
      "text/plain": "57.047271883430184"
     },
     "execution_count": 13,
     "metadata": {},
     "output_type": "execute_result"
    }
   ],
   "source": [
    "max_copy_number"
   ],
   "metadata": {
    "collapsed": false,
    "pycharm": {
     "name": "#%%\n"
    }
   }
  },
  {
   "cell_type": "code",
   "execution_count": 20,
   "outputs": [
    {
     "name": "stdout",
     "output_type": "stream",
     "text": [
      "40709\n"
     ]
    }
   ],
   "source": [
    "print(len([x for x in r1_copy_nums if x >= min_copy_number*2]))"
   ],
   "metadata": {
    "collapsed": false,
    "pycharm": {
     "name": "#%%\n"
    }
   }
  },
  {
   "cell_type": "code",
   "execution_count": 23,
   "outputs": [],
   "source": [
    "r1_good_dists = prune_similar_sequences_df(r1_only, pig_pd, hamming_threshold=2, return_min_distances=True)"
   ],
   "metadata": {
    "collapsed": false,
    "pycharm": {
     "name": "#%%\n"
    }
   }
  },
  {
   "cell_type": "code",
   "execution_count": 24,
   "outputs": [
    {
     "data": {
      "text/plain": "<Figure size 640x480 with 1 Axes>",
      "image/png": "[encoded data removed]"
     },
     "metadata": {},
     "output_type": "display_data"
    }
   ],
   "source": [
    "import matplotlib.pyplot as plt\n",
    "fig, axs = plt.subplots(1, 1)\n",
    "hamming_dists = np.arange(0, 11, 1).tolist()\n",
    "number_of_seqs =[sum(i > d for i in r1_good_dists) for d in hamming_dists]\n",
    "axs.plot(hamming_dists, number_of_seqs)\n",
    "axs.set_xlabel(\"Hamming Distance\")\n",
    "axs.set_ylabel(\"Number of Sequences\")\n",
    "axs.set_title(\"Pruned Sample Dataset Number\")\n",
    "plt.show()"
   ],
   "metadata": {
    "collapsed": false,
    "pycharm": {
     "name": "#%%\n"
    }
   }
  },
  {
   "cell_type": "code",
   "execution_count": 33,
   "outputs": [],
   "source": [
    "r1_keep = (np.asarray(r1_good_dists) > 1) & (np.asarray(r1_copy_nums) >= min_copy_number*2)\n",
    "r1_only[\"fitness_value\"] = 0.0001\n",
    "r1_select = r1_only.iloc[r1_keep, :]\n",
    "r1_select.reset_index(drop=True, inplace=True)"
   ],
   "metadata": {
    "collapsed": false,
    "pycharm": {
     "name": "#%%\n"
    }
   }
  },
  {
   "cell_type": "code",
   "execution_count": 31,
   "outputs": [
    {
     "data": {
      "text/plain": "40144"
     },
     "execution_count": 31,
     "metadata": {},
     "output_type": "execute_result"
    }
   ],
   "source": [
    "r1_select.index.__len__()"
   ],
   "metadata": {
    "collapsed": false,
    "pycharm": {
     "name": "#%%\n"
    }
   }
  },
  {
   "cell_type": "code",
   "execution_count": 35,
   "outputs": [],
   "source": [
    "dp.dataframe_to_fasta(r1_select, \"./pig/bad_sample_c1.fasta\", count_key=\"fitness_value\")\n",
    "\n",
    "keep_r1 = r1_select.iloc[:15000, :]\n",
    "dp.dataframe_to_fasta(keep_r1, \"./pig/bad_sample_c1_15k.fasta\", count_key=\"fitness_value\")"
   ],
   "metadata": {
    "collapsed": false,
    "pycharm": {
     "name": "#%%\n"
    }
   }
  },
  {
   "cell_type": "code",
   "execution_count": 21,
   "outputs": [],
   "source": [
    "from rbm_torch.utils.seq_utils import seq_to_cat\n",
    "from sklearn.metrics.pairwise import pairwise_distances\n",
    "from sklearn.metrics.pairwise import pairwise_distances_chunked\n",
    "import numpy as np\n",
    "\n",
    "\n",
    "def prune_similar_sequences_df(df1, df2, hamming_threshold=0, molecule=\"protein\", return_min_distances=False):\n",
    "    \"\"\"generate subset of sequences in df1 that are at least x mutations away from all sequences in df2\"\"\"\n",
    "    df1.reset_index(drop=True, inplace=True)\n",
    "    df1_seqs = df1[\"sequence\"].tolist()\n",
    "    df1_index = df1.index.tolist()\n",
    "\n",
    "    df1_cat = seq_to_cat(df1_seqs, molecule=molecule)\n",
    "    X = df1_cat.numpy().astype(np.int8)\n",
    "\n",
    "    df2.reset_index(drop=True, inplace=True)\n",
    "    df2_seqs = df2[\"sequence\"].tolist()\n",
    "    df2_index = df2.index.tolist()\n",
    "\n",
    "    df2_cat = seq_to_cat(df2_seqs, molecule=molecule)\n",
    "    Y = df2_cat.numpy().astype(np.int8)\n",
    "\n",
    "    seq_len = len(df1_seqs[0])\n",
    "\n",
    "    def reduce_func(D_chunk, start):\n",
    "        # print(D_chunk)\n",
    "        return np.asarray(D_chunk).min(1).tolist()\n",
    "\n",
    "    min_distances_chunked = pairwise_distances_chunked(X, Y, reduce_func=reduce_func, metric=\"hamming\")\n",
    "\n",
    "    mdists = []\n",
    "    for n1 in min_distances_chunked:\n",
    "        mdists += n1\n",
    "\n",
    "    if return_min_distances:\n",
    "        return [x * seq_len for x in mdists]\n",
    "    else:\n",
    "        keep = np.asarray(mdists) * seq_len > hamming_threshold\n",
    "\n",
    "        dataframe = df1.iloc[keep, :]\n",
    "\n",
    "        print(f\"Kept {dataframe.index.__len__()} of {df1.index.__len__()} in df1\")\n",
    "\n",
    "        dataframe.reset_index(drop=True, inplace=True)\n",
    "        return dataframe\n",
    "\n",
    "\n",
    "def enrichment_averge(df, round_names, min_diff=1, max_diff=None, diff_weights=None, round_weights=None):\n",
    "    round_number = len(round_names)\n",
    "\n",
    "    if max_diff is None:\n",
    "        max_diff = round_number - 1\n",
    "\n",
    "    if diff_weights is None:\n",
    "        diff_weights = [1. for x in range(min_diff, max_diff + 1)]\n",
    "\n",
    "    if round_weights is None:\n",
    "        round_weights = [1. for x in range(len(round_names))]\n",
    "\n",
    "    # first let's remove all the nan values in the dataframe, set nan values as the minimum normalized count for each round\n",
    "    for r in round_names:\n",
    "        df[r] = df[r].fillna(df[r].min())\n",
    "\n",
    "    # Get fold value for round differences\n",
    "    fold_keys = {diff: [] for diff in range(min_diff, max_diff + 1)}\n",
    "    for i in range(round_number):\n",
    "        for j in range(round_number):\n",
    "            if i >= j or j - i < min_diff or j - i > max_diff:\n",
    "                continue\n",
    "            fold_column_name = f\"fold_{round_names[j]}v{round_names[i]}\"\n",
    "            fold_keys[j - i].append(fold_column_name)\n",
    "            # fold_diffs.append(j-i)\n",
    "            df[fold_column_name] = df[round_names[j]] / df[round_names[i]] * (round_weights[j] + round_weights[i])\n",
    "\n",
    "    diff_keys = []\n",
    "    for i in range(min_diff, max_diff + 1):\n",
    "        diff_avg_key = f\"fold_diff{i}_avg\"\n",
    "        df[diff_avg_key] = df[fold_keys[i]].sum(axis=1).div(len(fold_keys[i])).mul(diff_weights[i - 1])\n",
    "        diff_keys.append(diff_avg_key)\n",
    "\n",
    "    df[\"Final_Fold_Avg\"] = df[diff_keys].sum(axis=1).div(len(diff_keys))\n",
    "\n",
    "    return df"
   ],
   "metadata": {
    "collapsed": false,
    "pycharm": {
     "name": "#%%\n"
    }
   }
  },
  {
   "cell_type": "code",
   "execution_count": null,
   "outputs": [],
   "source": [],
   "metadata": {
    "collapsed": false,
    "pycharm": {
     "name": "#%%\n"
    }
   }
  }
 ],
 "metadata": {
  "kernelspec": {
   "name": "utils",
   "language": "python",
   "display_name": "utils"
  },
  "language_info": {
   "codemirror_mode": {
    "name": "ipython",
    "version": 2
   },
   "file_extension": ".py",
   "mimetype": "text/x-python",
   "name": "python",
   "nbconvert_exporter": "python",
   "pygments_lexer": "ipython2",
   "version": "2.7.6"
  }
 },
 "nbformat": 4,
 "nbformat_minor": 0
}