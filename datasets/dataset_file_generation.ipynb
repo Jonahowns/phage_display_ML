{
 "cells": [
  {
   "cell_type": "markdown",
   "metadata": {
    "collapsed": true,
    "pycharm": {
     "name": "#%% md\n"
    }
   },
   "source": [
    "## Below are the commands used to generate the dataset files. All of these commands were run from the base directory phage_display_ML."
   ]
  },
  {
   "cell_type": "code",
   "execution_count": null,
   "outputs": [],
   "source": [
    "# First we do the imports\n",
    "import rbm_torch.analysis.global_info as gi"
   ],
   "metadata": {
    "collapsed": false,
    "pycharm": {
     "name": "#%%\n"
    }
   }
  },
  {
   "cell_type": "code",
   "execution_count": null,
   "outputs": [],
   "source": [
    "# For all Cov datasets\n",
    "gi.generate_dataset_file([f\"r{i}.fasta\" for i in range(1, 13)], gi.supported_datatypes[\"cov\"], destination=\"./datasets/dataset_files/\")\n",
    "gi.generate_dataset_file([f\"r{i}.fasta\" for i in range(1, 13)], gi.supported_datatypes[\"cov_sw\"], destination=\"./datasets/dataset_files/\")\n",
    "gi.generate_dataset_file([f\"r{i}.fasta\" for i in range(1, 13)], gi.supported_datatypes[\"cov_nw\"], destination=\"./datasets/dataset_files/\")"
   ],
   "metadata": {
    "collapsed": false,
    "pycharm": {
     "name": "#%%\n"
    }
   }
  },
  {
   "cell_type": "code",
   "execution_count": null,
   "outputs": [],
   "source": [
    "# For the pig dataset\n",
    "gi.generate_dataset_file([f\"{i}.fasta\" for i in [\"b3\", \"n1\", \"np1\", \"np2\", \"np3\"]], gi.supported_datatypes[\"pig_ge2\"], destination=\"./datasets/dataset_files/\")\n",
    "gi.generate_dataset_file([f\"{i}.fasta\" for i in [\"b3\", \"n1\", \"np1\", \"np2\", \"np3\"]], gi.supported_datatypes[\"pig_gm2\"], destination=\"./datasets/dataset_files/\")\n",
    "gi.generate_dataset_file([f\"{i}.fasta\" for i in [\"b3\", \"n1\", \"np1\", \"np2\", \"np3\"]], gi.supported_datatypes[\"pig_ge4\"], destination=\"./datasets/dataset_files/\")\n",
    "gi.generate_dataset_file([f\"{i}.fasta\" for i in [\"b3\", \"n1\", \"np1\", \"np2\", \"np3\"]], gi.supported_datatypes[\"pig_gm4\"], destination=\"./datasets/dataset_files/\")"
   ],
   "metadata": {
    "collapsed": false,
    "pycharm": {
     "name": "#%%\n"
    }
   }
  },
  {
   "cell_type": "code",
   "execution_count": null,
   "outputs": [],
   "source": [
    "# For the exo dataset\n",
    "gi.generate_dataset_file([\"exosome.fasta\", \"exo_top40k.fasta\", \"exo_top40k_scaled.fasta\"], gi.supported_datatypes[\"exo\"], destination=\"./datasets/dataset_files/\")\n",
    "gi.generate_dataset_file([\"exo.fasta\", \"exo_short.fasta\"], gi.supported_datatypes[\"exo_sw\"], destination=\"./datasets/dataset_files/\")"
   ],
   "metadata": {
    "collapsed": false,
    "pycharm": {
     "name": "#%%\n"
    }
   }
  },
  {
   "cell_type": "code",
   "execution_count": null,
   "outputs": [],
   "source": [
    "# For the pal dataset\n",
    "gi.generate_dataset_file([f\"{i}.fasta\" for i in [3, 5, 7, 8, 9, 10, 11, 12, 13, 14, 15]], gi.supported_datatypes[\"pal\"], destination=\"./datasets/dataset_files/\")"
   ],
   "metadata": {
    "collapsed": false,
    "pycharm": {
     "name": "#%%\n"
    }
   }
  },
  {
   "cell_type": "code",
   "execution_count": null,
   "outputs": [],
   "source": [
    "# For the ribo dataset\n",
    "gi.generate_dataset_file([\"rfam.fasta\"], gi.supported_datatypes[\"ribo\"], destination=\"./datasets/dataset_files/\")"
   ],
   "metadata": {
    "collapsed": false,
    "pycharm": {
     "name": "#%%\n"
    }
   }
  },
  {
   "cell_type": "code",
   "execution_count": null,
   "outputs": [],
   "source": [],
   "metadata": {
    "collapsed": false,
    "pycharm": {
     "name": "#%%\n"
    }
   }
  }
 ],
 "metadata": {
  "kernelspec": {
   "display_name": "Python 3",
   "language": "python",
   "name": "python3"
  },
  "language_info": {
   "codemirror_mode": {
    "name": "ipython",
    "version": 2
   },
   "file_extension": ".py",
   "mimetype": "text/x-python",
   "name": "python",
   "nbconvert_exporter": "python",
   "pygments_lexer": "ipython2",
   "version": "2.7.6"
  }
 },
 "nbformat": 4,
 "nbformat_minor": 0
}