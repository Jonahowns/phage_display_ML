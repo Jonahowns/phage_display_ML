{
 "cells": [
  {
   "cell_type": "code",
   "execution_count": 1,
   "metadata": {
    "collapsed": true
   },
   "outputs": [
    {
     "name": "stderr",
     "output_type": "stream",
     "text": [
      "/home/jonah/anaconda3/envs/aptamer/lib/python3.10/site-packages/tqdm/auto.py:22: TqdmWarning: IProgress not found. Please update jupyter and ipywidgets. See https://ipywidgets.readthedocs.io/en/stable/user_install.html\n",
      "  from .autonotebook import tqdm as notebook_tqdm\n"
     ]
    }
   ],
   "source": [
    "import os\n",
    "import sys\n",
    "\n",
    "import pandas as pd\n",
    "\n",
    "import rbm_torch.utils.data_prep as dp\n",
    "import rbm_torch.analysis.analysis_methods as am\n",
    "from copy import copy"
   ]
  },
  {
   "cell_type": "code",
   "execution_count": 2,
   "outputs": [],
   "source": [
    "mid_pd = pd.read_csv(\"./cov/cov_7_to_9_ct.csv\")\n",
    "low_pd = pd.read_csv(\"./cov/cov_4_to_6_ct.csv\")\n",
    "high_pd = pd.read_csv(\"./cov/cov_10_to_12_ct.csv\")\n",
    "\n",
    "\n",
    "cov_mid = mid_pd\n",
    "cov_low = low_pd\n",
    "cov_high = high_pd\n",
    "\n",
    "all_seqs_pd = pd.merge(pd.merge(high_pd, mid_pd, how='outer', left_on='sequence', right_on='sequence'), low_pd, how='outer', left_on='sequence', right_on='sequence')"
   ],
   "metadata": {
    "collapsed": false,
    "pycharm": {
     "name": "#%%\n"
    }
   }
  },
  {
   "cell_type": "code",
   "execution_count": 3,
   "outputs": [
    {
     "name": "stdout",
     "output_type": "stream",
     "text": [
      "Process Time 6.69028377532959\n",
      "Process Time 0.4420316219329834\n",
      "Process Time 0.3324129581451416\n",
      "Process Time 1.4992260932922363\n",
      "Process Time 1.008871078491211\n",
      "Process Time 1.7214107513427734\n",
      "Process Time 0.5854949951171875\n",
      "Process Time 0.16218996047973633\n",
      "Process Time 0.43220973014831543\n",
      "Process Time 0.20170950889587402\n",
      "Process Time 0.4499368667602539\n"
     ]
    }
   ],
   "source": [
    "full_data = am.fetch_data([f\"r{i}\" for i in range(2, 13)], dir=\"./cov/raw_rounds/\", threads=12)\n",
    "count_millions = {}\n",
    "for r in [f\"r{i}\" for i in range(2, 13)]:\n",
    "    data = full_data[full_data[\"round\"] == r]\n",
    "    count_millions[r] = data[\"copy_num\"].sum()/1000000\n",
    "\n",
    "for r in [f\"r{i}\" for i in range(4, 13)]:\n",
    "    all_seqs_pd[r] = all_seqs_pd[r].div(count_millions[r])\n"
   ],
   "metadata": {
    "collapsed": false,
    "pycharm": {
     "name": "#%%\n"
    }
   }
  },
  {
   "cell_type": "code",
   "execution_count": 4,
   "outputs": [],
   "source": [
    "def exclusive_rows(key_pd, query_pd, col_val):\n",
    "    \"\"\"returns rows in key pd that are not in query pd\"\"\"\n",
    "    df_all = key_pd.merge(query_pd.drop_duplicates(), on=col_val, how='left', indicator=True)\n",
    "    df_subset = copy(df_all[df_all['_merge'] == 'left_only'])\n",
    "    return df_subset.drop(\"_merge\", axis=1)"
   ],
   "metadata": {
    "collapsed": false,
    "pycharm": {
     "name": "#%%\n"
    }
   }
  },
  {
   "cell_type": "code",
   "execution_count": 8,
   "outputs": [],
   "source": [
    "round_names = [\"r9\", \"r10\", \"r11\", \"r12\"]\n",
    "max_diff = None\n",
    "min_diff = 1\n",
    "diff_weights = [0.95, 1.0, 1.02]\n",
    "round_weights = [0.95, 0.98, 1.01, 1.03]\n",
    "\n",
    "late_round = (all_seqs_pd[\"r9\"].notnull()) | (all_seqs_pd[\"r10\"].notnull()) | (all_seqs_pd[\"r11\"].notnull()) | (all_seqs_pd[\"r12\"].notnull())\n",
    "gstring = all_seqs_pd.apply(lambda row: \"GGGGGG\" in row[\"sequence\"], axis=1)\n",
    "cstring = all_seqs_pd.apply(lambda row: \"CCCCCC\" in row[\"sequence\"], axis=1)\n",
    "\n",
    "ndf = enrichment_averge(copy(all_seqs_pd[late_round & ~gstring & ~cstring]), round_names, min_diff=1, diff_weights=diff_weights, round_weights=round_weights)\n",
    "# ndf[\"fitness_value\"] = dp.scale_values_np(dp.log_scale(ndf[\"Final_Fold_Avg\"].to_list(), eps=1, base=10), min=0.1, max=1.0).squeeze(1).tolist()\n",
    "\n",
    "dp.dataframe_to_fasta(ndf, \"./cov/late_5gcmax_raw.fasta\", count_key=\"Final_Fold_Avg\")"
   ],
   "metadata": {
    "collapsed": false,
    "pycharm": {
     "name": "#%%\n"
    }
   }
  },
  {
   "cell_type": "code",
   "execution_count": 7,
   "outputs": [
    {
     "data": {
      "text/plain": "                                    sequence       r10       r11       r12  \\\n12  GTGGGTACGGGACACTTGCTTCTGGGGGTGGAGGTTGGGC  0.582342  0.345661  0.125674   \n18  TCTGGGGGTGGGTTCGGGTATGGGGTCTGCACTATGGCTC  0.145586  0.345661  0.125674   \n19  GGCGCGGCCGCCCCCGGGCCACACCAAAACACGCTCAACT  0.145586  0.345661  0.125674   \n28  GGGGGCGGGGCCCCCGGGCCACACCATAACACGTTCAACT  0.291171  0.345661  0.125674   \n33  TGCCACGTAAAACGCAACACCAAACACGTACCGCACCAAC  0.145586  0.345661  0.251347   \n\n          r7        r8        r9  r4  r5  r6  fold_r10vr9  fold_r11vr9  \\\n12  0.239656  0.814923  0.502573 NaN NaN NaN     2.236334     1.348055   \n18  0.047931  0.232835  0.502573 NaN NaN NaN     0.559083     1.348055   \n19       NaN       NaN  0.502573 NaN NaN NaN     0.559083     1.348055   \n28       NaN       NaN  0.502573 NaN NaN NaN     1.118167     1.348055   \n33  0.191725  0.232835  0.502573 NaN NaN NaN     0.559083     1.348055   \n\n    fold_r12vr9  fold_r11vr10  fold_r12vr10  fold_r12vr11  fold_diff1_avg  \\\n12     0.495119      1.181205      0.433772      0.741692        1.317090   \n18     0.495119      4.724819      1.735088      0.741692        1.908105   \n19     0.495119      4.724819      1.735088      0.741692        1.908105   \n28     0.495119      2.362409      0.867544      0.741692        1.337052   \n33     0.990239      4.724819      3.470175      1.483384        2.142974   \n\n    fold_diff2_avg  fold_diff3_avg  Final_Fold_Avg  \n12        0.890913        0.505022        0.904342  \n18        1.541571        0.505022        1.318233  \n19        1.541571        0.505022        1.318233  \n28        1.107799        0.505022        0.983291  \n33        2.409115        1.010044        1.854044  ",
      "text/html": "<div>\n<style scoped>\n    .dataframe tbody tr th:only-of-type {\n        vertical-align: middle;\n    }\n\n    .dataframe tbody tr th {\n        vertical-align: top;\n    }\n\n    .dataframe thead th {\n        text-align: right;\n    }\n</style>\n<table border=\"1\" class=\"dataframe\">\n  <thead>\n    <tr style=\"text-align: right;\">\n      <th></th>\n      <th>sequence</th>\n      <th>r10</th>\n      <th>r11</th>\n      <th>r12</th>\n      <th>r7</th>\n      <th>r8</th>\n      <th>r9</th>\n      <th>r4</th>\n      <th>r5</th>\n      <th>r6</th>\n      <th>fold_r10vr9</th>\n      <th>fold_r11vr9</th>\n      <th>fold_r12vr9</th>\n      <th>fold_r11vr10</th>\n      <th>fold_r12vr10</th>\n      <th>fold_r12vr11</th>\n      <th>fold_diff1_avg</th>\n      <th>fold_diff2_avg</th>\n      <th>fold_diff3_avg</th>\n      <th>Final_Fold_Avg</th>\n    </tr>\n  </thead>\n  <tbody>\n    <tr>\n      <th>12</th>\n      <td>GTGGGTACGGGACACTTGCTTCTGGGGGTGGAGGTTGGGC</td>\n      <td>0.582342</td>\n      <td>0.345661</td>\n      <td>0.125674</td>\n      <td>0.239656</td>\n      <td>0.814923</td>\n      <td>0.502573</td>\n      <td>NaN</td>\n      <td>NaN</td>\n      <td>NaN</td>\n      <td>2.236334</td>\n      <td>1.348055</td>\n      <td>0.495119</td>\n      <td>1.181205</td>\n      <td>0.433772</td>\n      <td>0.741692</td>\n      <td>1.317090</td>\n      <td>0.890913</td>\n      <td>0.505022</td>\n      <td>0.904342</td>\n    </tr>\n    <tr>\n      <th>18</th>\n      <td>TCTGGGGGTGGGTTCGGGTATGGGGTCTGCACTATGGCTC</td>\n      <td>0.145586</td>\n      <td>0.345661</td>\n      <td>0.125674</td>\n      <td>0.047931</td>\n      <td>0.232835</td>\n      <td>0.502573</td>\n      <td>NaN</td>\n      <td>NaN</td>\n      <td>NaN</td>\n      <td>0.559083</td>\n      <td>1.348055</td>\n      <td>0.495119</td>\n      <td>4.724819</td>\n      <td>1.735088</td>\n      <td>0.741692</td>\n      <td>1.908105</td>\n      <td>1.541571</td>\n      <td>0.505022</td>\n      <td>1.318233</td>\n    </tr>\n    <tr>\n      <th>19</th>\n      <td>GGCGCGGCCGCCCCCGGGCCACACCAAAACACGCTCAACT</td>\n      <td>0.145586</td>\n      <td>0.345661</td>\n      <td>0.125674</td>\n      <td>NaN</td>\n      <td>NaN</td>\n      <td>0.502573</td>\n      <td>NaN</td>\n      <td>NaN</td>\n      <td>NaN</td>\n      <td>0.559083</td>\n      <td>1.348055</td>\n      <td>0.495119</td>\n      <td>4.724819</td>\n      <td>1.735088</td>\n      <td>0.741692</td>\n      <td>1.908105</td>\n      <td>1.541571</td>\n      <td>0.505022</td>\n      <td>1.318233</td>\n    </tr>\n    <tr>\n      <th>28</th>\n      <td>GGGGGCGGGGCCCCCGGGCCACACCATAACACGTTCAACT</td>\n      <td>0.291171</td>\n      <td>0.345661</td>\n      <td>0.125674</td>\n      <td>NaN</td>\n      <td>NaN</td>\n      <td>0.502573</td>\n      <td>NaN</td>\n      <td>NaN</td>\n      <td>NaN</td>\n      <td>1.118167</td>\n      <td>1.348055</td>\n      <td>0.495119</td>\n      <td>2.362409</td>\n      <td>0.867544</td>\n      <td>0.741692</td>\n      <td>1.337052</td>\n      <td>1.107799</td>\n      <td>0.505022</td>\n      <td>0.983291</td>\n    </tr>\n    <tr>\n      <th>33</th>\n      <td>TGCCACGTAAAACGCAACACCAAACACGTACCGCACCAAC</td>\n      <td>0.145586</td>\n      <td>0.345661</td>\n      <td>0.251347</td>\n      <td>0.191725</td>\n      <td>0.232835</td>\n      <td>0.502573</td>\n      <td>NaN</td>\n      <td>NaN</td>\n      <td>NaN</td>\n      <td>0.559083</td>\n      <td>1.348055</td>\n      <td>0.990239</td>\n      <td>4.724819</td>\n      <td>3.470175</td>\n      <td>1.483384</td>\n      <td>2.142974</td>\n      <td>2.409115</td>\n      <td>1.010044</td>\n      <td>1.854044</td>\n    </tr>\n  </tbody>\n</table>\n</div>"
     },
     "execution_count": 7,
     "metadata": {},
     "output_type": "execute_result"
    }
   ],
   "source": [
    "ndf.head()"
   ],
   "metadata": {
    "collapsed": false,
    "pycharm": {
     "name": "#%%\n"
    }
   }
  },
  {
   "cell_type": "code",
   "execution_count": 12,
   "outputs": [],
   "source": [
    "import math\n",
    "import numpy as np\n",
    "ndf_seqs = ndf[\"sequence\"].to_list()\n",
    "ndf_ea = ndf[\"Final_Fold_Avg\"].to_list()\n",
    "adj_seqs = []\n",
    "for sid, seq in enumerate(ndf_seqs):\n",
    "    adj_seqs += [seq] * math.floor(ndf_ea[sid])\n",
    "\n",
    "affs = list(np.full(len(adj_seqs), 1.))\n",
    "\n",
    "# dp.write_fasta(adj_seqs, affs, \"./cov/enriched_dataset_full.fasta\")\n",
    "dp.write_fasta(adj_seqs, affs, \"./cov/enriched_dataset_full_nog_noc.fasta\")"
   ],
   "metadata": {
    "collapsed": false,
    "pycharm": {
     "name": "#%%\n"
    }
   }
  },
  {
   "cell_type": "code",
   "execution_count": 20,
   "outputs": [],
   "source": [
    "mid_round = (all_seqs_pd[\"r8\"].notnull()) | (all_seqs_pd[\"r5\"].notnull()) | (all_seqs_pd[\"r6\"].notnull()) | (all_seqs_pd[\"r7\"].notnull())\n",
    "all_seqs_pd[(mid_round) & (~late_round) & ~gstring].index.__len__()\n",
    "\n",
    "afternoon_df = enrichment_averge(copy(all_seqs_pd[(mid_round) & (~late_round) & ~gstring]), round_names, min_diff=1, diff_weights=diff_weights, round_weights=round_weights)\n",
    "\n",
    "afternoon_df[\"fitness_value\"] = dp.scale_values_np(dp.log_scale(afternoon_df[\"Final_Fold_Avg\"].to_list(), eps=1, base=10), min=0.001, max=0.09).squeeze(1).tolist()"
   ],
   "metadata": {
    "collapsed": false,
    "pycharm": {
     "name": "#%%\n"
    }
   }
  },
  {
   "cell_type": "code",
   "execution_count": 21,
   "outputs": [
    {
     "data": {
      "text/plain": "251141"
     },
     "execution_count": 21,
     "metadata": {},
     "output_type": "execute_result"
    }
   ],
   "source": [
    "afternoon_df.index.__len__()"
   ],
   "metadata": {
    "collapsed": false,
    "pycharm": {
     "name": "#%%\n"
    }
   }
  },
  {
   "cell_type": "code",
   "execution_count": 22,
   "outputs": [],
   "source": [
    "dp.dataframe_to_fasta(ndf, \"./cov/late_5gmax.fasta\", count_key=\"fitness_value\")\n",
    "dp.dataframe_to_fasta(afternoon_df, \"./cov/mid_5gmax.fasta\", count_key=\"fitness_value\")"
   ],
   "metadata": {
    "collapsed": false,
    "pycharm": {
     "name": "#%%\n"
    }
   }
  },
  {
   "cell_type": "code",
   "execution_count": 16,
   "outputs": [
    {
     "data": {
      "text/plain": "337821"
     },
     "execution_count": 16,
     "metadata": {},
     "output_type": "execute_result"
    }
   ],
   "source": [
    "all_seqs_pd[gstring].index.__len__()"
   ],
   "metadata": {
    "collapsed": false,
    "pycharm": {
     "name": "#%%\n"
    }
   }
  },
  {
   "cell_type": "code",
   "execution_count": 17,
   "outputs": [
    {
     "data": {
      "text/plain": "82594"
     },
     "execution_count": 17,
     "metadata": {},
     "output_type": "execute_result"
    }
   ],
   "source": [
    "ndf.index.__len__()"
   ],
   "metadata": {
    "collapsed": false,
    "pycharm": {
     "name": "#%%\n"
    }
   }
  },
  {
   "cell_type": "code",
   "execution_count": 42,
   "outputs": [],
   "source": [
    "from copy import copy\n",
    "late_round = (all_seqs_pd[\"r9\"].notnull()) | (all_seqs_pd[\"r10\"].notnull()) | (all_seqs_pd[\"r11\"].notnull()) | (all_seqs_pd[\"r12\"].notnull())\n",
    "all_seqs_pd[late_round].index.__len__()\n",
    "\n",
    "evening_df = enrichment_averge(copy(all_seqs_pd[late_round]), round_names, min_diff=1, diff_weights=diff_weights, round_weights=round_weights)\n",
    "\n",
    "evening_df[\"fitness_value\"] = dp.scale_values_np(dp.log_scale(evening_df[\"Final_Fold_Avg\"].to_list(), eps=1, base=10), min=0.1, max=1.0).squeeze(1).tolist()"
   ],
   "metadata": {
    "collapsed": false,
    "pycharm": {
     "name": "#%%\n"
    }
   }
  },
  {
   "cell_type": "code",
   "execution_count": 43,
   "outputs": [],
   "source": [
    "mid_round = (all_seqs_pd[\"r8\"].notnull()) | (all_seqs_pd[\"r5\"].notnull()) | (all_seqs_pd[\"r6\"].notnull()) | (all_seqs_pd[\"r7\"].notnull())\n",
    "all_seqs_pd[(mid_round) & (~late_round)].index.__len__()\n",
    "\n",
    "afternoon_df = enrichment_averge(copy(all_seqs_pd[(mid_round) & (~late_round)]), round_names, min_diff=1, diff_weights=diff_weights, round_weights=round_weights)\n",
    "\n",
    "afternoon_df[\"fitness_value\"] = dp.scale_values_np(dp.log_scale(afternoon_df[\"Final_Fold_Avg\"].to_list(), eps=1, base=10), min=0.001, max=0.09).squeeze(1).tolist()"
   ],
   "metadata": {
    "collapsed": false,
    "pycharm": {
     "name": "#%%\n"
    }
   }
  },
  {
   "cell_type": "code",
   "execution_count": 45,
   "outputs": [],
   "source": [
    "dp.dataframe_to_fasta(evening_df, \"./cov/late.fasta\", count_key=\"fitness_value\")\n",
    "dp.dataframe_to_fasta(afternoon_df, \"./cov/mid.fasta\", count_key=\"fitness_value\")"
   ],
   "metadata": {
    "collapsed": false,
    "pycharm": {
     "name": "#%%\n"
    }
   }
  },
  {
   "cell_type": "code",
   "execution_count": 41,
   "outputs": [
    {
     "data": {
      "text/plain": "0"
     },
     "execution_count": 41,
     "metadata": {},
     "output_type": "execute_result"
    }
   ],
   "source": [
    "r4_df = copy(all_seqs_pd[(~mid_round) & (~late_round)])\n",
    "r4_df.index.__len__()"
   ],
   "metadata": {
    "collapsed": false,
    "pycharm": {
     "name": "#%%\n"
    }
   }
  },
  {
   "cell_type": "code",
   "execution_count": 29,
   "outputs": [
    {
     "data": {
      "text/plain": "                                        sequence       r10       r11  \\\n260392  GGCAGGTTGTTGGCAATAGGTTAGTCGGTAGGAAAGTGGA  0.145586  0.345661   \n494496  GGTATGTGTCAGAGGGATGGCCTTTAGGGAGTTGGTACCT  0.145586  0.345661   \n494490  GTGTGCCTCACCAGAGGCCGCGCTGGGCTGGAGTTCGGGA  0.145586  0.345661   \n494491  GTGGGCGGGTGGGGGGGGGGCGTTTAAAAAACATTGGGAT  0.145586  0.345661   \n494492  TTGAGGGTGGCCAGGTAAGTTAGGGGGTTATTTGATAGGG  0.145586  0.345661   \n\n             r12        r7        r8        r9        r4        r5       r6  \\\n260392  0.125674  0.047931  0.116418  0.502573  1.382973  0.206989      NaN   \n494496  0.125674       NaN       NaN  0.502573       NaN  0.206989  0.15182   \n494490  0.125674       NaN       NaN  0.502573       NaN  0.206989  0.15182   \n494491  0.125674       NaN       NaN  0.502573       NaN  0.206989  0.15182   \n494492  0.125674       NaN       NaN  0.502573       NaN  0.206989  0.30364   \n\n        ...  fold_r11vr9  fold_r12vr9  fold_r11vr10  fold_r12vr10  \\\n260392  ...     1.348055     0.495119      4.724819      1.735088   \n494496  ...     1.348055     0.495119      4.724819      1.735088   \n494490  ...     1.348055     0.495119      4.724819      1.735088   \n494491  ...     1.348055     0.495119      4.724819      1.735088   \n494492  ...     1.348055     0.495119      4.724819      1.735088   \n\n        fold_r12vr11  fold_diff1_avg  fold_diff2_avg  fold_diff3_avg  \\\n260392      0.741692        1.908105        1.541571        0.505022   \n494496      0.741692        1.908105        1.541571        0.505022   \n494490      0.741692        1.908105        1.541571        0.505022   \n494491      0.741692        1.908105        1.541571        0.505022   \n494492      0.741692        1.908105        1.541571        0.505022   \n\n        Final_Fold_Avg  fitness_value  \n260392        1.318233       0.155793  \n494496        1.318233       0.155793  \n494490        1.318233       0.155793  \n494491        1.318233       0.155793  \n494492        1.318233       0.155793  \n\n[5 rows x 21 columns]",
      "text/html": "<div>\n<style scoped>\n    .dataframe tbody tr th:only-of-type {\n        vertical-align: middle;\n    }\n\n    .dataframe tbody tr th {\n        vertical-align: top;\n    }\n\n    .dataframe thead th {\n        text-align: right;\n    }\n</style>\n<table border=\"1\" class=\"dataframe\">\n  <thead>\n    <tr style=\"text-align: right;\">\n      <th></th>\n      <th>sequence</th>\n      <th>r10</th>\n      <th>r11</th>\n      <th>r12</th>\n      <th>r7</th>\n      <th>r8</th>\n      <th>r9</th>\n      <th>r4</th>\n      <th>r5</th>\n      <th>r6</th>\n      <th>...</th>\n      <th>fold_r11vr9</th>\n      <th>fold_r12vr9</th>\n      <th>fold_r11vr10</th>\n      <th>fold_r12vr10</th>\n      <th>fold_r12vr11</th>\n      <th>fold_diff1_avg</th>\n      <th>fold_diff2_avg</th>\n      <th>fold_diff3_avg</th>\n      <th>Final_Fold_Avg</th>\n      <th>fitness_value</th>\n    </tr>\n  </thead>\n  <tbody>\n    <tr>\n      <th>260392</th>\n      <td>GGCAGGTTGTTGGCAATAGGTTAGTCGGTAGGAAAGTGGA</td>\n      <td>0.145586</td>\n      <td>0.345661</td>\n      <td>0.125674</td>\n      <td>0.047931</td>\n      <td>0.116418</td>\n      <td>0.502573</td>\n      <td>1.382973</td>\n      <td>0.206989</td>\n      <td>NaN</td>\n      <td>...</td>\n      <td>1.348055</td>\n      <td>0.495119</td>\n      <td>4.724819</td>\n      <td>1.735088</td>\n      <td>0.741692</td>\n      <td>1.908105</td>\n      <td>1.541571</td>\n      <td>0.505022</td>\n      <td>1.318233</td>\n      <td>0.155793</td>\n    </tr>\n    <tr>\n      <th>494496</th>\n      <td>GGTATGTGTCAGAGGGATGGCCTTTAGGGAGTTGGTACCT</td>\n      <td>0.145586</td>\n      <td>0.345661</td>\n      <td>0.125674</td>\n      <td>NaN</td>\n      <td>NaN</td>\n      <td>0.502573</td>\n      <td>NaN</td>\n      <td>0.206989</td>\n      <td>0.15182</td>\n      <td>...</td>\n      <td>1.348055</td>\n      <td>0.495119</td>\n      <td>4.724819</td>\n      <td>1.735088</td>\n      <td>0.741692</td>\n      <td>1.908105</td>\n      <td>1.541571</td>\n      <td>0.505022</td>\n      <td>1.318233</td>\n      <td>0.155793</td>\n    </tr>\n    <tr>\n      <th>494490</th>\n      <td>GTGTGCCTCACCAGAGGCCGCGCTGGGCTGGAGTTCGGGA</td>\n      <td>0.145586</td>\n      <td>0.345661</td>\n      <td>0.125674</td>\n      <td>NaN</td>\n      <td>NaN</td>\n      <td>0.502573</td>\n      <td>NaN</td>\n      <td>0.206989</td>\n      <td>0.15182</td>\n      <td>...</td>\n      <td>1.348055</td>\n      <td>0.495119</td>\n      <td>4.724819</td>\n      <td>1.735088</td>\n      <td>0.741692</td>\n      <td>1.908105</td>\n      <td>1.541571</td>\n      <td>0.505022</td>\n      <td>1.318233</td>\n      <td>0.155793</td>\n    </tr>\n    <tr>\n      <th>494491</th>\n      <td>GTGGGCGGGTGGGGGGGGGGCGTTTAAAAAACATTGGGAT</td>\n      <td>0.145586</td>\n      <td>0.345661</td>\n      <td>0.125674</td>\n      <td>NaN</td>\n      <td>NaN</td>\n      <td>0.502573</td>\n      <td>NaN</td>\n      <td>0.206989</td>\n      <td>0.15182</td>\n      <td>...</td>\n      <td>1.348055</td>\n      <td>0.495119</td>\n      <td>4.724819</td>\n      <td>1.735088</td>\n      <td>0.741692</td>\n      <td>1.908105</td>\n      <td>1.541571</td>\n      <td>0.505022</td>\n      <td>1.318233</td>\n      <td>0.155793</td>\n    </tr>\n    <tr>\n      <th>494492</th>\n      <td>TTGAGGGTGGCCAGGTAAGTTAGGGGGTTATTTGATAGGG</td>\n      <td>0.145586</td>\n      <td>0.345661</td>\n      <td>0.125674</td>\n      <td>NaN</td>\n      <td>NaN</td>\n      <td>0.502573</td>\n      <td>NaN</td>\n      <td>0.206989</td>\n      <td>0.30364</td>\n      <td>...</td>\n      <td>1.348055</td>\n      <td>0.495119</td>\n      <td>4.724819</td>\n      <td>1.735088</td>\n      <td>0.741692</td>\n      <td>1.908105</td>\n      <td>1.541571</td>\n      <td>0.505022</td>\n      <td>1.318233</td>\n      <td>0.155793</td>\n    </tr>\n  </tbody>\n</table>\n<p>5 rows × 21 columns</p>\n</div>"
     },
     "execution_count": 29,
     "metadata": {},
     "output_type": "execute_result"
    }
   ],
   "source": [
    "all_seqs_pd.sort_values(\"r5\", inplace=True)\n",
    "all_seqs_pd.head()"
   ],
   "metadata": {
    "collapsed": false,
    "pycharm": {
     "name": "#%%\n"
    }
   }
  },
  {
   "cell_type": "code",
   "execution_count": 19,
   "outputs": [
    {
     "data": {
      "text/plain": "671556"
     },
     "execution_count": 19,
     "metadata": {},
     "output_type": "execute_result"
    }
   ],
   "source": [
    "ndf.index.__len__()"
   ],
   "metadata": {
    "collapsed": false,
    "pycharm": {
     "name": "#%%\n"
    }
   }
  },
  {
   "cell_type": "code",
   "execution_count": 18,
   "outputs": [
    {
     "data": {
      "text/plain": "<Figure size 640x480 with 1 Axes>",
      "image/png": "[encoded data removed]"
     },
     "metadata": {},
     "output_type": "display_data"
    }
   ],
   "source": [
    "from rbm_torch.utils import data_prep as dp\n",
    "dp.quick_hist(dp.log_scale(ndf[\"Final_Fold_Avg\"].to_list(), eps=1, base=10))"
   ],
   "metadata": {
    "collapsed": false,
    "pycharm": {
     "name": "#%%\n"
    }
   }
  },
  {
   "cell_type": "code",
   "execution_count": 14,
   "outputs": [],
   "source": [
    "ndf[\"fitness_value\"] = dp.scale_values_np(dp.log_scale(ndf[\"Final_Fold_Avg\"].to_list(), eps=1, base=10), min=0.05, max=1.0).squeeze(1).tolist()"
   ],
   "metadata": {
    "collapsed": false,
    "pycharm": {
     "name": "#%%\n"
    }
   }
  },
  {
   "cell_type": "code",
   "execution_count": null,
   "outputs": [],
   "source": [
    "dp.dataframe_to_fasta(ndf, \"./cov/carried_full\")"
   ],
   "metadata": {
    "collapsed": false,
    "pycharm": {
     "name": "#%%\n"
    }
   }
  },
  {
   "cell_type": "code",
   "execution_count": 15,
   "outputs": [],
   "source": [
    "r1_data = full_data[full_data[\"round\"] == \"r1\"]\n",
    "r2_data = full_data[full_data[\"round\"] == \"r2\"]\n",
    "\n",
    "r2_only = exclusive_rows(r2_data, all_seqs_pd, \"sequence\")\n",
    "\n",
    "r2_sub = exclusive_rows(r2_only, r1_data, \"sequence\")"
   ],
   "metadata": {
    "collapsed": false,
    "pycharm": {
     "name": "#%%\n"
    }
   }
  },
  {
   "cell_type": "code",
   "execution_count": 16,
   "outputs": [
    {
     "data": {
      "text/plain": "7621592"
     },
     "execution_count": 16,
     "metadata": {},
     "output_type": "execute_result"
    }
   ],
   "source": [
    "background = r2_sub.sample()"
   ],
   "metadata": {
    "collapsed": false,
    "pycharm": {
     "name": "#%%\n"
    }
   }
  },
  {
   "cell_type": "code",
   "execution_count": 13,
   "outputs": [
    {
     "data": {
      "text/plain": "                                   sequence  copy_num round assignment  r10  \\\n0  CCTTCGTGGCGCAATAGAGCCTAACTAATCGCCCCAACGT       1.0    r1        N/A  NaN   \n1  TGGGTGAAACGTAGGGCTGATTAGGGTCCTGGCAATAACC       1.0    r1        N/A  NaN   \n2  CGTTGGGTGGTATGTGCCGGTGTAATAAGATCAAATCATT       1.0    r1        N/A  NaN   \n3  TGTTAGACGACCACGTATATGGTTCTTGGTCTCGCCCTCG       1.0    r1        N/A  NaN   \n4  CCGGGACAGAGTTCTCGATAACGGCGCCTAAGGGAAACCC       1.0    r1        N/A  NaN   \n\n   r11  r12  r7  r8  r9  r4  r5  r6     _merge  \n0  NaN  NaN NaN NaN NaN NaN NaN NaN  left_only  \n1  NaN  NaN NaN NaN NaN NaN NaN NaN  left_only  \n2  NaN  NaN NaN NaN NaN NaN NaN NaN  left_only  \n3  NaN  NaN NaN NaN NaN NaN NaN NaN  left_only  \n4  NaN  NaN NaN NaN NaN NaN NaN NaN  left_only  ",
      "text/html": "<div>\n<style scoped>\n    .dataframe tbody tr th:only-of-type {\n        vertical-align: middle;\n    }\n\n    .dataframe tbody tr th {\n        vertical-align: top;\n    }\n\n    .dataframe thead th {\n        text-align: right;\n    }\n</style>\n<table border=\"1\" class=\"dataframe\">\n  <thead>\n    <tr style=\"text-align: right;\">\n      <th></th>\n      <th>sequence</th>\n      <th>copy_num</th>\n      <th>round</th>\n      <th>assignment</th>\n      <th>r10</th>\n      <th>r11</th>\n      <th>r12</th>\n      <th>r7</th>\n      <th>r8</th>\n      <th>r9</th>\n      <th>r4</th>\n      <th>r5</th>\n      <th>r6</th>\n      <th>_merge</th>\n    </tr>\n  </thead>\n  <tbody>\n    <tr>\n      <th>0</th>\n      <td>CCTTCGTGGCGCAATAGAGCCTAACTAATCGCCCCAACGT</td>\n      <td>1.0</td>\n      <td>r1</td>\n      <td>N/A</td>\n      <td>NaN</td>\n      <td>NaN</td>\n      <td>NaN</td>\n      <td>NaN</td>\n      <td>NaN</td>\n      <td>NaN</td>\n      <td>NaN</td>\n      <td>NaN</td>\n      <td>NaN</td>\n      <td>left_only</td>\n    </tr>\n    <tr>\n      <th>1</th>\n      <td>TGGGTGAAACGTAGGGCTGATTAGGGTCCTGGCAATAACC</td>\n      <td>1.0</td>\n      <td>r1</td>\n      <td>N/A</td>\n      <td>NaN</td>\n      <td>NaN</td>\n      <td>NaN</td>\n      <td>NaN</td>\n      <td>NaN</td>\n      <td>NaN</td>\n      <td>NaN</td>\n      <td>NaN</td>\n      <td>NaN</td>\n      <td>left_only</td>\n    </tr>\n    <tr>\n      <th>2</th>\n      <td>CGTTGGGTGGTATGTGCCGGTGTAATAAGATCAAATCATT</td>\n      <td>1.0</td>\n      <td>r1</td>\n      <td>N/A</td>\n      <td>NaN</td>\n      <td>NaN</td>\n      <td>NaN</td>\n      <td>NaN</td>\n      <td>NaN</td>\n      <td>NaN</td>\n      <td>NaN</td>\n      <td>NaN</td>\n      <td>NaN</td>\n      <td>left_only</td>\n    </tr>\n    <tr>\n      <th>3</th>\n      <td>TGTTAGACGACCACGTATATGGTTCTTGGTCTCGCCCTCG</td>\n      <td>1.0</td>\n      <td>r1</td>\n      <td>N/A</td>\n      <td>NaN</td>\n      <td>NaN</td>\n      <td>NaN</td>\n      <td>NaN</td>\n      <td>NaN</td>\n      <td>NaN</td>\n      <td>NaN</td>\n      <td>NaN</td>\n      <td>NaN</td>\n      <td>left_only</td>\n    </tr>\n    <tr>\n      <th>4</th>\n      <td>CCGGGACAGAGTTCTCGATAACGGCGCCTAAGGGAAACCC</td>\n      <td>1.0</td>\n      <td>r1</td>\n      <td>N/A</td>\n      <td>NaN</td>\n      <td>NaN</td>\n      <td>NaN</td>\n      <td>NaN</td>\n      <td>NaN</td>\n      <td>NaN</td>\n      <td>NaN</td>\n      <td>NaN</td>\n      <td>NaN</td>\n      <td>left_only</td>\n    </tr>\n  </tbody>\n</table>\n</div>"
     },
     "execution_count": 13,
     "metadata": {},
     "output_type": "execute_result"
    }
   ],
   "source": [
    "r1_only.head()"
   ],
   "metadata": {
    "collapsed": false,
    "pycharm": {
     "name": "#%%\n"
    }
   }
  },
  {
   "cell_type": "code",
   "execution_count": 20,
   "outputs": [
    {
     "data": {
      "text/plain": "7621592"
     },
     "execution_count": 20,
     "metadata": {},
     "output_type": "execute_result"
    }
   ],
   "source": [
    "r2_sub.index.__len__()"
   ],
   "metadata": {
    "collapsed": false,
    "pycharm": {
     "name": "#%%\n"
    }
   }
  },
  {
   "cell_type": "code",
   "execution_count": 26,
   "outputs": [],
   "source": [
    "r7_data = full_data[full_data[\"round\"] == \"r7\"]\n",
    "\n",
    "r7_only = exclusive_rows(r7_data, all_seqs_pd, \"sequence\")"
   ],
   "metadata": {
    "collapsed": false,
    "pycharm": {
     "name": "#%%\n"
    }
   }
  },
  {
   "cell_type": "code",
   "execution_count": 27,
   "outputs": [
    {
     "data": {
      "text/plain": "1899861"
     },
     "execution_count": 27,
     "metadata": {},
     "output_type": "execute_result"
    }
   ],
   "source": [
    "r7_only.index.__len__()"
   ],
   "metadata": {
    "collapsed": false,
    "pycharm": {
     "name": "#%%\n"
    }
   }
  },
  {
   "cell_type": "code",
   "execution_count": 29,
   "outputs": [],
   "source": [
    "r7_sub = exclusive_rows(r7_only, r2_sub, \"sequence\")"
   ],
   "metadata": {
    "collapsed": false,
    "pycharm": {
     "name": "#%%\n"
    }
   }
  },
  {
   "cell_type": "code",
   "execution_count": 30,
   "outputs": [
    {
     "data": {
      "text/plain": "1871316"
     },
     "execution_count": 30,
     "metadata": {},
     "output_type": "execute_result"
    }
   ],
   "source": [
    "r7_sub.index.__len__()"
   ],
   "metadata": {
    "collapsed": false,
    "pycharm": {
     "name": "#%%\n"
    }
   }
  },
  {
   "cell_type": "code",
   "execution_count": 58,
   "outputs": [],
   "source": [
    "r7_sample = r7_sub.sample(100000)\n",
    "r7_sample[\"fitness_value\"] = [0.0001 for i in range(100000)]\n",
    "# dp.dataframe_to_fasta(r7_sample, \"./cov/mid_sample.fasta\", count_key=\"fitness_value\")"
   ],
   "metadata": {
    "collapsed": false,
    "pycharm": {
     "name": "#%%\n"
    }
   }
  },
  {
   "cell_type": "code",
   "execution_count": 59,
   "outputs": [],
   "source": [
    "r2_sample = r2_sub.sample(100000)\n",
    "r2_sample[\"fitness_value\"] = [0.00001 for i in range(100000)]\n",
    "# dp.dataframe_to_fasta(r2_sample, \"./cov/bad_sample.fasta\", count_key=\"fitness_value\")"
   ],
   "metadata": {
    "collapsed": false,
    "pycharm": {
     "name": "#%%\n"
    }
   }
  },
  {
   "cell_type": "code",
   "execution_count": 25,
   "outputs": [
    {
     "name": "stdout",
     "output_type": "stream",
     "text": [
      "Process Time 0.2580568790435791\n"
     ]
    }
   ],
   "source": [
    "good_binders = am.fetch_data([\"en_avg_g3\"], dir=\"./cov/\", molecule=\"dna\")"
   ],
   "metadata": {
    "collapsed": false,
    "pycharm": {
     "name": "#%%\n"
    }
   }
  },
  {
   "cell_type": "code",
   "execution_count": 43,
   "outputs": [
    {
     "name": "stdout",
     "output_type": "stream",
     "text": [
      "Kept 70080 of 75000 in df1\n"
     ]
    }
   ],
   "source": [
    "pruned_r7_sample = prune_similar_sequences_df(r7_sample, good_binders, hamming_threshold=1)"
   ],
   "metadata": {
    "collapsed": false,
    "pycharm": {
     "name": "#%%\n"
    }
   }
  },
  {
   "cell_type": "code",
   "execution_count": 60,
   "outputs": [],
   "source": [
    "r7_good_dists = prune_similar_sequences_df(r7_sample, good_binders, hamming_threshold=2, return_min_distances=True)"
   ],
   "metadata": {
    "collapsed": false,
    "pycharm": {
     "name": "#%%\n"
    }
   }
  },
  {
   "cell_type": "code",
   "execution_count": 62,
   "outputs": [],
   "source": [
    "r2_good_dists = prune_similar_sequences_df(r2_sample, good_binders, hamming_threshold=2, return_min_distances=True)"
   ],
   "metadata": {
    "collapsed": false,
    "pycharm": {
     "name": "#%%\n"
    }
   }
  },
  {
   "cell_type": "code",
   "execution_count": null,
   "outputs": [],
   "source": [],
   "metadata": {
    "collapsed": false,
    "pycharm": {
     "name": "#%%\n"
    }
   }
  },
  {
   "cell_type": "code",
   "execution_count": 61,
   "outputs": [
    {
     "data": {
      "text/plain": "<Figure size 640x480 with 1 Axes>",
      "image/png": "[encoded data removed]"
     },
     "metadata": {},
     "output_type": "display_data"
    }
   ],
   "source": [
    "import matplotlib.pyplot as plt\n",
    "fig, axs = plt.subplots(1, 1)\n",
    "hamming_dists = np.arange(0, 11, 1).tolist()\n",
    "number_of_seqs =[sum(i > d for i in r7_good_dists) for d in hamming_dists]\n",
    "axs.plot(hamming_dists, number_of_seqs)\n",
    "axs.set_xlabel(\"Hamming Distance\")\n",
    "axs.set_ylabel(\"Number of Sequences\")\n",
    "axs.set_title(\"Pruned Sample Dataset Number\")\n",
    "plt.show()"
   ],
   "metadata": {
    "collapsed": false,
    "pycharm": {
     "name": "#%%\n"
    }
   }
  },
  {
   "cell_type": "code",
   "execution_count": 63,
   "outputs": [
    {
     "data": {
      "text/plain": "<Figure size 640x480 with 1 Axes>",
      "image/png": "[encoded data removed]"
     },
     "metadata": {},
     "output_type": "display_data"
    }
   ],
   "source": [
    "import matplotlib.pyplot as plt\n",
    "fig, axs = plt.subplots(1, 1)\n",
    "hamming_dists = np.arange(0, 11, 1).tolist()\n",
    "number_of_seqs =[sum(i > d for i in r2_good_dists) for d in hamming_dists]\n",
    "axs.plot(hamming_dists, number_of_seqs)\n",
    "axs.set_xlabel(\"Hamming Distance\")\n",
    "axs.set_ylabel(\"Number of Sequences\")\n",
    "axs.set_title(\"Pruned Sample Dataset Number\")\n",
    "plt.show()"
   ],
   "metadata": {
    "collapsed": false,
    "pycharm": {
     "name": "#%%\n"
    }
   }
  },
  {
   "cell_type": "code",
   "execution_count": 64,
   "outputs": [],
   "source": [
    "# Prepare sample of 75000 sequences with 2 mutations of more away from any sequence in the good binders\n",
    "keep_r2 = r2_sample.iloc[:75000, :]\n",
    "\n",
    "r7_keep = np.asarray(r7_good_dists) > 1\n",
    "r7_select = r7_sample.iloc[r7_keep, :]\n",
    "r7_select.reset_index(drop=True, inplace=True)\n",
    "\n",
    "keep_r7 = r7_select.iloc[:75000, :]\n",
    "\n",
    "dp.dataframe_to_fasta(keep_r7, \"./cov/mid_sample.fasta\", count_key=\"fitness_value\")\n",
    "dp.dataframe_to_fasta(keep_r2, \"./cov/bad_sample.fasta\", count_key=\"fitness_value\")"
   ],
   "metadata": {
    "collapsed": false,
    "pycharm": {
     "name": "#%%\n"
    }
   }
  },
  {
   "cell_type": "code",
   "execution_count": 71,
   "outputs": [],
   "source": [
    "r7_cns = r7_data[\"copy_num\"].tolist()"
   ],
   "metadata": {
    "collapsed": false,
    "pycharm": {
     "name": "#%%\n"
    }
   }
  },
  {
   "cell_type": "code",
   "execution_count": 75,
   "outputs": [
    {
     "name": "stdout",
     "output_type": "stream",
     "text": [
      "228213\n"
     ]
    }
   ],
   "source": [
    "print(len([x for x in r7_cns if x >= 3]))\n",
    "\n",
    "r7_ne = copy(r7_data[r7_data[\"copy_num\"] >= 3])\n",
    "\n",
    "r7_ne_only = exclusive_rows(r7_ne, all_seqs_pd, \"sequence\")\n",
    "\n",
    "\n"
   ],
   "metadata": {
    "collapsed": false,
    "pycharm": {
     "name": "#%%\n"
    }
   }
  },
  {
   "cell_type": "code",
   "execution_count": 76,
   "outputs": [
    {
     "data": {
      "text/plain": "35596"
     },
     "execution_count": 76,
     "metadata": {},
     "output_type": "execute_result"
    }
   ],
   "source": [
    "r7_ne_only.index.__len__()"
   ],
   "metadata": {
    "collapsed": false,
    "pycharm": {
     "name": "#%%\n"
    }
   }
  },
  {
   "cell_type": "code",
   "execution_count": 77,
   "outputs": [],
   "source": [
    "r7_ne_good_dists = prune_similar_sequences_df(r7_ne_only, good_binders, hamming_threshold=2, return_min_distances=True)"
   ],
   "metadata": {
    "collapsed": false,
    "pycharm": {
     "name": "#%%\n"
    }
   }
  },
  {
   "cell_type": "code",
   "execution_count": 78,
   "outputs": [
    {
     "data": {
      "text/plain": "<Figure size 640x480 with 1 Axes>",
      "image/png": "[encoded data removed]"
     },
     "metadata": {},
     "output_type": "display_data"
    }
   ],
   "source": [
    "import matplotlib.pyplot as plt\n",
    "fig, axs = plt.subplots(1, 1)\n",
    "hamming_dists = np.arange(0, 11, 1).tolist()\n",
    "number_of_seqs =[sum(i > d for i in r7_ne_good_dists) for d in hamming_dists]\n",
    "axs.plot(hamming_dists, number_of_seqs)\n",
    "axs.set_xlabel(\"Hamming Distance\")\n",
    "axs.set_ylabel(\"Number of Sequences\")\n",
    "axs.set_title(\"Pruned Sample Dataset Number\")\n",
    "plt.show()"
   ],
   "metadata": {
    "collapsed": false,
    "pycharm": {
     "name": "#%%\n"
    }
   }
  },
  {
   "cell_type": "code",
   "execution_count": 6,
   "outputs": [],
   "source": [
    "from rbm_torch.utils.seq_utils import seq_to_cat\n",
    "from sklearn.metrics.pairwise import pairwise_distances\n",
    "from sklearn.metrics.pairwise import pairwise_distances_chunked\n",
    "import numpy as np\n",
    "\n",
    "def prune_similar_sequences_df(df1, df2, hamming_threshold=0, molecule=\"protein\", return_min_distances=False):\n",
    "    \"\"\"generate subset of sequences in df1 that are at least x mutations away from all sequences in df2\"\"\"\n",
    "    df1.reset_index(drop=True, inplace=True)\n",
    "    df1_seqs = df1[\"sequence\"].tolist()\n",
    "    df1_index = df1.index.tolist()\n",
    "\n",
    "    df1_cat = seq_to_cat(df1_seqs, molecule=molecule)\n",
    "    X = df1_cat.numpy().astype(np.int8)\n",
    "\n",
    "    df2.reset_index(drop=True, inplace=True)\n",
    "    df2_seqs = df2[\"sequence\"].tolist()\n",
    "    df2_index = df2.index.tolist()\n",
    "\n",
    "    df2_cat = seq_to_cat(df2_seqs, molecule=molecule)\n",
    "    Y = df2_cat.numpy().astype(np.int8)\n",
    "\n",
    "    seq_len = len(df1_seqs[0])\n",
    "\n",
    "\n",
    "    def reduce_func(D_chunk, start):\n",
    "        # print(D_chunk)\n",
    "        return np.asarray(D_chunk).min(1).tolist()\n",
    "\n",
    "    min_distances_chunked = pairwise_distances_chunked(X, Y, reduce_func=reduce_func, metric=\"hamming\")\n",
    "\n",
    "    mdists = []\n",
    "    for n1 in min_distances_chunked:\n",
    "        mdists += n1\n",
    "\n",
    "    if return_min_distances:\n",
    "        return [x* seq_len for x in mdists]\n",
    "    else:\n",
    "        keep = np.asarray(mdists)*seq_len > hamming_threshold\n",
    "\n",
    "        dataframe = df1.iloc[keep, :]\n",
    "\n",
    "        print(f\"Kept {dataframe.index.__len__()} of {df1.index.__len__()} in df1\")\n",
    "\n",
    "        dataframe.reset_index(drop=True, inplace=True)\n",
    "        return dataframe\n"
   ],
   "metadata": {
    "collapsed": false,
    "pycharm": {
     "name": "#%%\n"
    }
   }
  },
  {
   "cell_type": "code",
   "execution_count": 5,
   "outputs": [],
   "source": [
    "def enrichment_averge(df, round_names, min_diff=1, max_diff=None, diff_weights=None, round_weights=None):\n",
    "    round_number = len(round_names)\n",
    "\n",
    "    if max_diff is None:\n",
    "        max_diff = round_number-1\n",
    "\n",
    "    if diff_weights is None:\n",
    "        diff_weights = [1. for x in range(min_diff, max_diff+1)]\n",
    "\n",
    "    if round_weights is None:\n",
    "        round_weights = [1. for x in range(len(round_names))]\n",
    "\n",
    "    # first let's remove all the nan values in the dataframe, set nan values as the minimum normalized count for each round\n",
    "    for r in round_names:\n",
    "        df[r] = df[r].fillna(df[r].min())\n",
    "\n",
    "    # Get fold value for round differences\n",
    "    fold_keys = {diff: [] for diff in range(min_diff, max_diff+1)}\n",
    "    for i in range(round_number):\n",
    "        for j in range(round_number):\n",
    "            if i >= j or j - i < min_diff or j - i > max_diff:\n",
    "                continue\n",
    "            fold_column_name = f\"fold_{round_names[j]}v{round_names[i]}\"\n",
    "            fold_keys[j-i].append(fold_column_name)\n",
    "            # fold_diffs.append(j-i)\n",
    "            df[fold_column_name] = df[round_names[j]]/df[round_names[i]] * (round_weights[j] + round_weights[i])\n",
    "\n",
    "    diff_keys = []\n",
    "    for i in range(min_diff, max_diff+1):\n",
    "        diff_avg_key = f\"fold_diff{i}_avg\"\n",
    "        df[diff_avg_key] = df[fold_keys[i]].sum(axis=1).div(len(fold_keys[i])).mul(diff_weights[i-1])\n",
    "        diff_keys.append(diff_avg_key)\n",
    "\n",
    "    df[\"Final_Fold_Avg\"] = df[diff_keys].sum(axis=1).div(len(diff_keys))\n",
    "\n",
    "    return df"
   ],
   "metadata": {
    "collapsed": false,
    "pycharm": {
     "name": "#%%\n"
    }
   }
  },
  {
   "cell_type": "code",
   "execution_count": null,
   "outputs": [],
   "source": [],
   "metadata": {
    "collapsed": false,
    "pycharm": {
     "name": "#%%\n"
    }
   }
  }
 ],
 "metadata": {
  "kernelspec": {
   "name": "python3",
   "language": "python",
   "display_name": "Python 3 (ipykernel)"
  },
  "language_info": {
   "codemirror_mode": {
    "name": "ipython",
    "version": 2
   },
   "file_extension": ".py",
   "mimetype": "text/x-python",
   "name": "python",
   "nbconvert_exporter": "python",
   "pygments_lexer": "ipython2",
   "version": "2.7.6"
  }
 },
 "nbformat": 4,
 "nbformat_minor": 0
}