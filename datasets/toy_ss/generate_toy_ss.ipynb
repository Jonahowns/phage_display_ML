{
 "cells": [
  {
   "cell_type": "code",
   "execution_count": 1,
   "metadata": {
    "collapsed": true,
    "ExecuteTime": {
     "start_time": "2023-05-15T19:15:59.942714Z",
     "end_time": "2023-05-15T19:16:00.290400Z"
    }
   },
   "outputs": [],
   "source": [
    "from nupack import *"
   ]
  },
  {
   "cell_type": "code",
   "execution_count": 1,
   "outputs": [
    {
     "ename": "NameError",
     "evalue": "name 'Model' is not defined",
     "output_type": "error",
     "traceback": [
      "\u001B[0;31m---------------------------------------------------------------------------\u001B[0m",
      "\u001B[0;31mNameError\u001B[0m                                 Traceback (most recent call last)",
      "Cell \u001B[0;32mIn[1], line 1\u001B[0m\n\u001B[0;32m----> 1\u001B[0m my_model \u001B[38;5;241m=\u001B[39m \u001B[43mModel\u001B[49m(material\u001B[38;5;241m=\u001B[39m\u001B[38;5;124m'\u001B[39m\u001B[38;5;124mdna\u001B[39m\u001B[38;5;124m'\u001B[39m, celsius\u001B[38;5;241m=\u001B[39m\u001B[38;5;241m23\u001B[39m)\n\u001B[1;32m      2\u001B[0m \u001B[38;5;28;01mdef\u001B[39;00m \u001B[38;5;21mgenerate_conserved_ss_seqs\u001B[39m(ss, seq_num):\n\u001B[1;32m      3\u001B[0m     \u001B[38;5;66;03m# Define sequence domains\u001B[39;00m\n\u001B[1;32m      4\u001B[0m     seq_len \u001B[38;5;241m=\u001B[39m \u001B[38;5;28mlen\u001B[39m(ss)\n",
      "\u001B[0;31mNameError\u001B[0m: name 'Model' is not defined"
     ]
    }
   ],
   "source": [
    "my_model = Model(material='dna', celsius=23)\n",
    "def generate_conserved_ss_seqs(ss, seq_num):\n",
    "    # Define sequence domains\n",
    "    seq_len = len(ss)\n",
    "    da = Domain(f'N{seq_len}', name='da')\n",
    "    # Define strands containing these domains\n",
    "\n",
    "    sa = TargetStrand([da], name='sa')\n",
    "\n",
    "    # Define a target complex\n",
    "    cstickfigure = TargetComplex([sa], ss, name='cstickfigure')\n",
    "    #Define a target test tube containing all off-target complexes of up to 4 strands\n",
    "    tstickfigure = TargetTube(on_targets={cstickfigure: 1e-06}, off_targets=SetSpec(max_size=1), name='tfigure')\n",
    "    # Set a stop condition of 1% and a seed for random number generation to get a reproducible result for this demo\n",
    "    my_options = DesignOptions(f_stop=0.01, seed=93)\n",
    "    # Define and run the test tube design job\n",
    "    my_design = tube_design(tubes=[tstickfigure], model=my_model, options=my_options)\n",
    "    my_results = my_design.run(trials=seq_num)\n",
    "    return list(set([str(list(x.domains.items())[0][1]) for x in my_results]))"
   ],
   "metadata": {
    "collapsed": false,
    "ExecuteTime": {
     "start_time": "2023-05-15T23:10:50.285844Z",
     "end_time": "2023-05-15T23:10:50.326594Z"
    }
   }
  },
  {
   "cell_type": "code",
   "execution_count": 15,
   "outputs": [],
   "source": [
    "short_hair = \"((((((......))))))\"  # 18 ln\n",
    "short_hair2 = \"((((((....))))))\" # 16 ln\n",
    "gap_hair = \"(((((((....))...)))))\" # 21 ln\n",
    "\n",
    "sh_seqs = generate_conserved_ss_seqs(short_hair, 2000)\n",
    "sh2_seqs = generate_conserved_ss_seqs(short_hair2, 2000)\n",
    "gap_seqs = generate_conserved_ss_seqs(gap_hair, 2000)"
   ],
   "metadata": {
    "collapsed": false,
    "ExecuteTime": {
     "start_time": "2023-05-15T23:13:18.591510Z",
     "end_time": "2023-05-15T23:14:31.906592Z"
    }
   }
  },
  {
   "cell_type": "code",
   "execution_count": 17,
   "outputs": [
    {
     "name": "stdout",
     "output_type": "stream",
     "text": [
      "1033 842 995\n"
     ]
    }
   ],
   "source": [
    "print(len(sh_seqs), len(sh2_seqs), len(gap_seqs))"
   ],
   "metadata": {
    "collapsed": false,
    "ExecuteTime": {
     "start_time": "2023-05-15T23:14:37.032946Z",
     "end_time": "2023-05-15T23:14:37.035002Z"
    }
   }
  },
  {
   "cell_type": "code",
   "execution_count": 27,
   "outputs": [],
   "source": [
    "import numpy as np\n",
    "seqs, labels = [], []\n",
    "length = 26\n",
    "\n",
    "seq_array = [sh_seqs, sh2_seqs, gap_seqs]\n",
    "for did, dc in enumerate(seq_array):\n",
    "    motif_len = len(dc[0])\n",
    "    mps = np.random.randint(0, length-motif_len+1, len(dc))\n",
    "    sls = mps + motif_len\n",
    "    for i in range(len(dc)):\n",
    "        # random sequence\n",
    "        seq = \"\".join([np.random.choice([\"A\", \"C\", \"G\", \"T\"]) for _ in range(sls[i])])\n",
    "        # put motif in position\n",
    "        seq = seq[:mps[i]] + dc[i] + seq[mps[i]+motif_len:]\n",
    "        # seq[mps[i]: mps[i] + len(motif)] = motif\n",
    "        # adjust len of seq\n",
    "        if len(seq) != length:\n",
    "            seq += \"\".join([\"-\" for _ in range(length - len(seq))])\n",
    "        seqs.append(seq)\n",
    "        labels.append(did)\n",
    "\n",
    "noise_num = 300\n",
    "rand_lens = np.random.randint(16, 27, noise_num)\n",
    "noise_label = len(seq_array)\n",
    "for i in range(noise_num):\n",
    "    seq = \"\".join([np.random.choice([\"A\", \"C\", \"G\", \"T\"]) for _ in range(rand_lens[i])])\n",
    "    if len(seq) != length:\n",
    "            seq += \"\".join([\"-\" for _ in range(length - len(seq))])\n",
    "    seqs.append(seq)\n",
    "    labels.append(noise_label)"
   ],
   "metadata": {
    "collapsed": false,
    "ExecuteTime": {
     "start_time": "2023-05-16T13:56:07.507304Z",
     "end_time": "2023-05-16T13:56:07.904156Z"
    }
   }
  },
  {
   "cell_type": "code",
   "execution_count": 28,
   "outputs": [],
   "source": [
    "from rbm_torch.utils.data_prep import write_fasta\n",
    "\n",
    "write_fasta(seqs, labels, \"toy_ss.fasta\")"
   ],
   "metadata": {
    "collapsed": false,
    "ExecuteTime": {
     "start_time": "2023-05-16T13:56:12.217717Z",
     "end_time": "2023-05-16T13:56:12.223894Z"
    }
   }
  },
  {
   "cell_type": "code",
   "execution_count": 22,
   "outputs": [
    {
     "data": {
      "text/plain": "0"
     },
     "execution_count": 22,
     "metadata": {},
     "output_type": "execute_result"
    }
   ],
   "source": [
    "i"
   ],
   "metadata": {
    "collapsed": false,
    "ExecuteTime": {
     "start_time": "2023-05-16T13:51:30.751567Z",
     "end_time": "2023-05-16T13:51:30.794857Z"
    }
   }
  },
  {
   "cell_type": "code",
   "execution_count": null,
   "outputs": [],
   "source": [],
   "metadata": {
    "collapsed": false
   }
  }
 ],
 "metadata": {
  "kernelspec": {
   "display_name": "Python 3",
   "language": "python",
   "name": "python3"
  },
  "language_info": {
   "codemirror_mode": {
    "name": "ipython",
    "version": 2
   },
   "file_extension": ".py",
   "mimetype": "text/x-python",
   "name": "python",
   "nbconvert_exporter": "python",
   "pygments_lexer": "ipython2",
   "version": "2.7.6"
  }
 },
 "nbformat": 4,
 "nbformat_minor": 0
}
