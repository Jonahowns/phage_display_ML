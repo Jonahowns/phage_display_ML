{
 "cells": [
  {
   "cell_type": "code",
   "execution_count": 1,
   "metadata": {
    "collapsed": true,
    "ExecuteTime": {
     "start_time": "2023-06-09T18:38:30.606404Z",
     "end_time": "2023-06-09T18:38:32.317610Z"
    }
   },
   "outputs": [
    {
     "name": "stderr",
     "output_type": "stream",
     "text": [
      "findfont: Font family 'Arial' not found.\n",
      "findfont: Font family 'Arial' not found.\n",
      "findfont: Font family 'Arial' not found.\n",
      "findfont: Font family 'Arial' not found.\n",
      "findfont: Font family 'Arial' not found.\n",
      "findfont: Font family 'Arial' not found.\n",
      "findfont: Font family 'Arial' not found.\n",
      "findfont: Font family 'Arial' not found.\n",
      "findfont: Font family 'Arial' not found.\n",
      "findfont: Font family 'Arial' not found.\n",
      "findfont: Font family 'Arial' not found.\n",
      "findfont: Font family 'Arial' not found.\n",
      "findfont: Font family 'Arial' not found.\n",
      "findfont: Font family 'Arial' not found.\n",
      "findfont: Font family 'Arial' not found.\n",
      "findfont: Font family 'Arial' not found.\n",
      "findfont: Font family 'Arial' not found.\n",
      "findfont: Font family 'Arial' not found.\n",
      "findfont: Font family 'Arial' not found.\n",
      "findfont: Font family 'Arial' not found.\n",
      "findfont: Font family ['Arial'] not found. Falling back to DejaVu Sans.\n",
      "findfont: Font family 'Arial' not found.\n",
      "findfont: Font family 'Arial' not found.\n",
      "findfont: Font family 'Arial' not found.\n",
      "findfont: Font family 'Arial' not found.\n",
      "findfont: Font family 'Arial' not found.\n",
      "findfont: Font family 'Arial' not found.\n",
      "findfont: Font family 'Arial' not found.\n",
      "findfont: Font family 'Arial' not found.\n"
     ]
    }
   ],
   "source": [
    "# import model and everything needed to run it\n",
    "from pytorch_lightning.loggers import TensorBoardLogger\n",
    "from pytorch_lightning import Trainer\n",
    "import rbm_torch.analysis.analysis_methods as am\n",
    "from rbm_torch.utils import utils\n",
    "\n",
    "import os\n",
    "import numpy as np\n",
    "from copy import deepcopy\n",
    "from rbm_torch.models.pool_crbm_base import pool_CRBM\n",
    "from rbm_torch.utils.utils import load_run"
   ]
  },
  {
   "cell_type": "code",
   "execution_count": 2,
   "outputs": [],
   "source": [
    "# load data from preconfigured run file\n",
    "run_file = \"./run_files/toy_pcrbm.json\"\n",
    "run_data, base_config = load_run(run_file)\n",
    "\n",
    "base_config[\"model_name\"] = run_data[\"model_name\"]\n",
    "base_config[\"gpus\"] = run_data[\"gpus\"]\n",
    "\n",
    "model_type = run_data[\"model_type\"]\n",
    "assert model_type == \"pool_crbm\"\n",
    "\n",
    "server_model_dir = run_data[\"server_model_dir\"]\n",
    "base_config['seed'] = 69"
   ],
   "metadata": {
    "collapsed": false,
    "ExecuteTime": {
     "start_time": "2023-06-09T18:40:21.138491Z",
     "end_time": "2023-06-09T18:40:21.181267Z"
    }
   }
  },
  {
   "cell_type": "code",
   "execution_count": 6,
   "outputs": [
    {
     "data": {
      "text/plain": "{'fasta_file': './datasets/toy_ss/toy_ss.fasta',\n 'ind_temp': 1.0,\n 'seq_temp': 1.0,\n 'validation_set_size': 1e-05,\n 'test_set_size': 1e-06,\n 'lgap': 2.0,\n 'lbs': 0.0005,\n 'dr': 0.0,\n 'sampling_strategy': 'random',\n 'label_groups': 1,\n 'label_spacing': [0.0, 11000],\n 'group_fraction': [1.0],\n 'sample_multiplier': 200,\n 'v_num': 26,\n 'q': 5,\n 'molecule': 'dna',\n 'epochs': 1000,\n 'precision': 'single',\n 'seed': 69,\n 'batch_size': 2000,\n 'mc_moves': 1,\n 'lr': 0.004,\n 'lr_final': 0.001,\n 'decay_after': 0.7,\n 'loss_type': 'free_energy',\n 'sample_type': 'pcd',\n 'sequence_weights': 'fasta',\n 'optimizer': 'AdamW',\n 'weight_decay': 0.0,\n 'l1_2': 20.0,\n 'lf': 10.0,\n 'lcorr': 0.0,\n 'ld': 0.0,\n 'lkd': 1.0,\n 'data_worker_num': 6,\n 'convolution_topology': {'hidden_10': {'number': 6,\n   'kernelx': 22,\n   'kernely': 5,\n   'stridex': 1,\n   'stridey': 1,\n   'paddingx': 0,\n   'paddingy': 0,\n   'dilationx': 1,\n   'dilationy': 1,\n   'output_paddingx': 0,\n   'output_paddingy': 0,\n   'weight': 1.0,\n   'kernel': (22, 5),\n   'dilation': (1, 1),\n   'padding': (0, 0),\n   'stride': (1, 1),\n   'output_padding': (0, 0)}},\n 'sampling_weights': None,\n 'sample_stds': None,\n 'gpus': 0,\n 'model_name': 'toy_ss'}"
     },
     "execution_count": 6,
     "metadata": {},
     "output_type": "execute_result"
    }
   ],
   "source": [
    "base_config"
   ],
   "metadata": {
    "collapsed": false,
    "ExecuteTime": {
     "start_time": "2023-05-30T13:19:52.256015Z",
     "end_time": "2023-05-30T13:19:52.263174Z"
    }
   }
  },
  {
   "cell_type": "code",
   "execution_count": 4,
   "outputs": [
    {
     "data": {
      "text/plain": "<Figure size 700x2500 with 0 Axes>"
     },
     "metadata": {},
     "output_type": "display_data"
    }
   ],
   "source": [
    "checkp, version_dir = am.get_checkpoint_path(base_config[\"model_name\"], rbmdir=\"./trained_crbms/\")\n",
    "\n",
    "# load crbm\n",
    "ncrbm = pool_CRBM.load_from_checkpoint(checkp)\n",
    "ncrbm.eval()\n",
    "\n",
    "# generate weights inside the latest version directory\n",
    "utils.all_weights(ncrbm, name=version_dir + base_config[\"model_name\"] + \"ordered\", order_weights=True)"
   ],
   "metadata": {
    "collapsed": false,
    "ExecuteTime": {
     "start_time": "2023-06-09T18:47:39.043491Z",
     "end_time": "2023-06-09T18:47:39.736454Z"
    }
   }
  },
  {
   "cell_type": "code",
   "execution_count": null,
   "outputs": [],
   "source": [],
   "metadata": {
    "collapsed": false
   }
  }
 ],
 "metadata": {
  "kernelspec": {
   "display_name": "Python 3",
   "language": "python",
   "name": "python3"
  },
  "language_info": {
   "codemirror_mode": {
    "name": "ipython",
    "version": 2
   },
   "file_extension": ".py",
   "mimetype": "text/x-python",
   "name": "python",
   "nbconvert_exporter": "python",
   "pygments_lexer": "ipython2",
   "version": "2.7.6"
  }
 },
 "nbformat": 4,
 "nbformat_minor": 0
}
