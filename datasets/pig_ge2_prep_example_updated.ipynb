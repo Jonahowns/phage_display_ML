{
 "cells": [
  {
   "cell_type": "code",
   "execution_count": 3,
   "metadata": {
    "collapsed": true
   },
   "outputs": [],
   "source": [
    "import os\n",
    "import sys\n",
    "import rbm_torch.utils.data_prep as dp\n",
    "\n",
    "# import rbm_torch.utils.utils\n",
    "import rbm_torch.analysis.analysis_methods as am"
   ]
  },
  {
   "cell_type": "code",
   "execution_count": 2,
   "outputs": [],
   "source": [
    "dataset_focus = \"pig\"\n",
    "dataset_dir = f\"./{dataset_focus}/\"\n",
    "\n",
    "if not os.path.isdir(dataset_dir):\n",
    "    os.mkdir(dataset_dir)"
   ],
   "metadata": {
    "collapsed": false,
    "pycharm": {
     "name": "#%%\n"
    }
   }
  },
  {
   "cell_type": "code",
   "execution_count": 3,
   "outputs": [
    {
     "name": "stdout",
     "output_type": "stream",
     "text": [
      "Observed Characters: ['T', 'M', 'N', 'Y', 'V', 'I', 'H', 'A', 'R', 'C', 'Q', 'F', 'G', 'L', 'D', 'P', 'S', '*', 'K', 'X', 'E', 'W']\n"
     ]
    }
   ],
   "source": [
    "import data_prep as dp\n",
    "\n",
    "# Read in raw fasta files. All data is stored in the returned dataframe. Violin out generates a violin plot of sequence lengths for each fasta file.\n",
    "pig_df = dp.process_raw_fasta_files(\"b3_cdr3.fasta\", \"n1_cdr3.fasta\", \"np1_cdr3.fasta\", \"np2_cdr3.fasta\", \"np3_cdr3.fasta\", in_dir=\"/mnt/D1/phage_display_analysis/pig_tissue/fasta files/\", out_dir=dataset_dir, violin_out=\"pid_cdr3_lengths\", input_format=\"fasta\")\n",
    "\n",
    "# names in dataframe correspond to the files that will be generated in prepare_data_files, this just simplifies the names\n",
    "round_dict = {\"np1_cdr3\": \"np1\", \"np2_cdr3\": \"np2\", \"np3_cdr3\": \"np3\"}\n",
    "pig_df.replace({\"round\": round_dict}, inplace=True)"
   ],
   "metadata": {
    "collapsed": false,
    "pycharm": {
     "name": "#%%\n"
    }
   }
  },
  {
   "cell_type": "code",
   "execution_count": null,
   "outputs": [],
   "source": [
    "pig_datatype = {\"focus\": \"pig\", \"molecule\": \"protein\", \"id\": None, \"process\": \"gaps_end\", \"clusters\": 2, \"gap_position_indices\": [-1, -1], \"cluster_indices\": [[12, 22], [35, 45]]} # separate into two clusters seqs of len 12-22 and seqs of len 35-45\n",
    "chars_replace = {\"*\": \"-\", \"X\": \"-\"}\n",
    "dp.prepare_data_files(pig_datatype, pig_df, target_dir=dataset_dir, character_conversion=chars_replace, remove_chars=None)  # Creates datafiles in target directory\n",
    "\n",
    "# generates files b1_c1.fasta, n1_c1.fasta, np1_c1.fasta, np2_c1.fasta, np3_c1.fasta and b1_c2.fasta, n1_c2.fasta, np1_c2.fasta, np2_c2.fasta, np3_c2.fasta\n",
    "\n",
    "# c1 files are sequences of length 12-22\n",
    "# c2 files are sequences of lenght 35-45"
   ],
   "metadata": {
    "collapsed": false,
    "pycharm": {
     "name": "#%%\n"
    }
   }
  },
  {
   "cell_type": "code",
   "execution_count": 5,
   "outputs": [
    {
     "data": {
      "text/plain": "'/home/jonah/PycharmProjects/phage_display_ML/datasets'"
     },
     "execution_count": 5,
     "metadata": {},
     "output_type": "execute_result"
    }
   ],
   "source": [
    "os.getcwd()"
   ],
   "metadata": {
    "collapsed": false,
    "pycharm": {
     "name": "#%%\n"
    }
   }
  },
  {
   "cell_type": "code",
   "execution_count": 6,
   "outputs": [
    {
     "name": "stdout",
     "output_type": "stream",
     "text": [
      "Process Time 0.29348158836364746\n",
      "Process Time 0.10747337341308594\n",
      "Process Time 0.2554490566253662\n",
      "Process Time 260.66364550590515\n"
     ]
    }
   ],
   "source": [
    "# read in data to pandas dataframe and normalize counts within each round as \"reads per hundred thousand\" = (copy_num/(total reads in dataset/ 100000))\n",
    "c1_df = am.fetch_data([\"np1_c1\", \"np2_c1\", \"np3_c1\"], dir=\"./pig/raw_rounds/\", threads=6, molecule=\"protein\", normalize_counts=True, normalization_denominator=1e5)\n",
    "\n",
    "# find sequences carried b/t at least two rounds of negative then positive selection\n",
    "pig_ct = dp.copynum_topology_faster(c1_df, [\"np1_c1\", \"np2_c1\", \"np3_c1\"], threads_per_task=4)\n",
    "# write out dataframe in csv format, each sequence is normalized copy number across the 3 rounds\n",
    "pig_ct.to_csv(\"./pig/pig_c1_ct.csv\", index=False)"
   ],
   "metadata": {
    "collapsed": false,
    "pycharm": {
     "name": "#%%\n"
    }
   }
  },
  {
   "cell_type": "code",
   "execution_count": 1,
   "outputs": [],
   "source": [
    "import pandas as pd\n",
    "import numpy as np\n",
    "# reads per hundred thousand\n",
    "pig_pd = pd.read_csv(\"./pig/pig_c1_ct.csv\")\n",
    "\n",
    "# mean and max copy_number for each sequence\n",
    "# the np.nanmean and np.nanmax ignore nan values in their calculation\n",
    "pig_pd[\"mean\"] = pig_pd.apply(lambda row : np.nanmean(np.asarray([row[x] for x in [\"np1_c1\", \"np2_c1\", \"np3_c1\"]])), axis=1)\n",
    "pig_pd[\"max\"] = pig_pd.apply(lambda row : np.nanmax(np.asarray([row[x] for x in [\"np1_c1\", \"np2_c1\", \"np3_c1\"]])), axis=1)\n",
    "\n",
    "# Fold calculation between the 3rd and 1st round as well as the 3rd and second round\n",
    "pig_pd[\"32_fold\"] = pig_pd.apply(lambda row: row[\"np3_c1\"]/row[\"np2_c1\"], axis=1)\n",
    "pig_pd[\"31_fold\"] = pig_pd.apply(lambda row: row[\"np3_c1\"]/row[\"np1_c1\"], axis=1)"
   ],
   "metadata": {
    "collapsed": false,
    "pycharm": {
     "name": "#%%\n"
    }
   }
  },
  {
   "cell_type": "code",
   "execution_count": null,
   "outputs": [],
   "source": [
    "from copy import copy\n",
    "\n",
    "# selection of enriched seqs\n",
    "e1 = pig_pd[(pig_pd[\"32_fold\"] > 1.) | (pig_pd[\"31_fold\"] > 2.)]\n",
    "e2 = e1[((e1[\"32_fold\"] > 1.) | (np.isnan(e1[\"32_fold\"]))) & ((e1[\"31_fold\"] > 2.) | (np.isnan(e1[\"31_fold\"])))]\n",
    "\n",
    "# must copy dataframe before applying a new function to make a new column\n",
    "enriched = copy(e2)\n",
    "\n",
    "# Can only have one number in fasta file, in this case I am using fold. these numbers are further processed below to make weight files\n",
    "enriched[\"fold\"] = enriched.apply(lambda row: np.nanmax(np.asarray([row[\"31_fold\"]/2., row[\"32_fold\"]])), axis=1)"
   ],
   "metadata": {
    "collapsed": false,
    "pycharm": {
     "name": "#%%\n"
    }
   }
  },
  {
   "cell_type": "code",
   "execution_count": 14,
   "outputs": [
    {
     "name": "stdout",
     "output_type": "stream",
     "text": [
      "Warning, values in a higher bracket will be lowered past the boundary. Recommend raising target scaling or changing boundaries\n",
      "Totals in each bracket: [9341, 4270]\n",
      "Bracket multipliers: [0.7788925140218654]\n"
     ]
    },
    {
     "ename": "NameError",
     "evalue": "name 'exit' is not defined",
     "output_type": "error",
     "traceback": [
      "\u001B[0;31m---------------------------------------------------------------------------\u001B[0m",
      "\u001B[0;31mNameError\u001B[0m                                 Traceback (most recent call last)",
      "\u001B[0;32m<ipython-input-14-53fb4aadff53>\u001B[0m in \u001B[0;36m<module>\u001B[0;34m\u001B[0m\n\u001B[1;32m     13\u001B[0m \u001B[0;31m# A helpful error message will appear advising to change the target_scaling and/or the divider boundaries\u001B[0m\u001B[0;34m\u001B[0m\u001B[0;34m\u001B[0m\u001B[0;34m\u001B[0m\u001B[0m\n\u001B[1;32m     14\u001B[0m \u001B[0;34m\u001B[0m\u001B[0m\n\u001B[0;32m---> 15\u001B[0;31m \u001B[0mstd_folds\u001B[0m \u001B[0;34m=\u001B[0m \u001B[0mdp\u001B[0m\u001B[0;34m.\u001B[0m\u001B[0mstandardize_affinities\u001B[0m\u001B[0;34m(\u001B[0m\u001B[0mfolds\u001B[0m\u001B[0;34m,\u001B[0m \u001B[0mout_plots\u001B[0m\u001B[0;34m=\u001B[0m\u001B[0;34m\"./pig/enrich\"\u001B[0m\u001B[0;34m,\u001B[0m \u001B[0mscale\u001B[0m\u001B[0;34m=\u001B[0m\u001B[0;34m\"log\"\u001B[0m\u001B[0;34m,\u001B[0m \u001B[0mdividers\u001B[0m\u001B[0;34m=\u001B[0m\u001B[0;34m[\u001B[0m\u001B[0;36m25\u001B[0m\u001B[0;34m]\u001B[0m\u001B[0;34m,\u001B[0m \u001B[0mtarget_scaling\u001B[0m\u001B[0;34m=\u001B[0m\u001B[0;34m[\u001B[0m\u001B[0;36m3.5\u001B[0m\u001B[0;34m]\u001B[0m\u001B[0;34m)\u001B[0m\u001B[0;34m\u001B[0m\u001B[0;34m\u001B[0m\u001B[0m\n\u001B[0m",
      "\u001B[0;32m~/PycharmProjects/phage_display_ML/src/rbm_torch/utils/data_prep.py\u001B[0m in \u001B[0;36mstandardize_affinities\u001B[0;34m(affs, out_plots, scale, dividers, target_scaling, divider_type, negate_index, splitter, negative_affs, base)\u001B[0m\n\u001B[1;32m    333\u001B[0m             \u001B[0mprint\u001B[0m\u001B[0;34m(\u001B[0m\u001B[0;34m\"Totals in each bracket:\"\u001B[0m\u001B[0;34m,\u001B[0m \u001B[0mtotals\u001B[0m\u001B[0;34m)\u001B[0m\u001B[0;34m\u001B[0m\u001B[0;34m\u001B[0m\u001B[0m\n\u001B[1;32m    334\u001B[0m             \u001B[0mprint\u001B[0m\u001B[0;34m(\u001B[0m\u001B[0;34m\"Bracket multipliers:\"\u001B[0m\u001B[0;34m,\u001B[0m \u001B[0mmulti_factors\u001B[0m\u001B[0;34m)\u001B[0m\u001B[0;34m\u001B[0m\u001B[0;34m\u001B[0m\u001B[0m\n\u001B[0;32m--> 335\u001B[0;31m             \u001B[0mexit\u001B[0m\u001B[0;34m(\u001B[0m\u001B[0;36m1\u001B[0m\u001B[0;34m)\u001B[0m\u001B[0;34m\u001B[0m\u001B[0;34m\u001B[0m\u001B[0m\n\u001B[0m\u001B[1;32m    336\u001B[0m \u001B[0;34m\u001B[0m\u001B[0m\n\u001B[1;32m    337\u001B[0m     \u001B[0;32mdef\u001B[0m \u001B[0massign_factor\u001B[0m\u001B[0;34m(\u001B[0m\u001B[0mx\u001B[0m\u001B[0;34m)\u001B[0m\u001B[0;34m:\u001B[0m\u001B[0;34m\u001B[0m\u001B[0;34m\u001B[0m\u001B[0m\n",
      "\u001B[0;31mNameError\u001B[0m: name 'exit' is not defined"
     ]
    }
   ],
   "source": [
    "# This is a complicated function, which is my fault, below is a description of how it works\n",
    "# It takes in as an input the fold, or copy number, (really any set of positive values >= 1 is fine)\n",
    "# the input is divided into groups by the percentile defined in dividers, you can separate into multiple groups, # of groups = # of dividers + 1\n",
    "# percentile is calculated from the list of unique values in the input\n",
    "# target_scaling defines how the sum of each group relates to one another, so a target scaling of [2] for dividers [25] means that values in the input above the divider should add up to 2x the sum of the values below the divider\n",
    "# there should be an equivalent number of dividers as target_scaling values\n",
    "# the scale defines how the input values are scaled, the options are log which takes the log of each values and linear which maintains the relative spacing between all values\n",
    "\n",
    "# Option out_plots is where plots showing the pre and post transfomation of the values are located. File affinity mapping is also generated giving an explicit mapping of input to output values\n",
    "# The ouptut is the resulting scaled values\n",
    "\n",
    "# A common error is that the sum of the higher values divided by the sum of the lower values is much higher than the target_scaling value\n",
    "# A helpful error message will appear advising to change the target_scaling and/or the divider boundaries, example below\n",
    "\n",
    "std_folds = dp.standardize_affinities(folds, out_plots=\"./pig/enrich\", scale=\"log\", dividers=[25], target_scaling=[3.5])"
   ],
   "metadata": {
    "collapsed": false,
    "pycharm": {
     "name": "#%%\n"
    }
   }
  },
  {
   "cell_type": "code",
   "execution_count": 21,
   "outputs": [],
   "source": [
    "# after some experimentation, I arrived at this\n",
    "std_folds = dp.standardize_affinities(folds, out_plots=\"./pig/efold\", scale=\"log\", dividers=[15], target_scaling=[5.3])"
   ],
   "metadata": {
    "collapsed": false,
    "pycharm": {
     "name": "#%%\n"
    }
   }
  },
  {
   "cell_type": "code",
   "execution_count": 22,
   "outputs": [],
   "source": [
    "dp.make_weight_file(\"efold_std\", std_folds, dir=\"./pig/\")"
   ],
   "metadata": {
    "collapsed": false,
    "pycharm": {
     "name": "#%%\n"
    }
   }
  },
  {
   "cell_type": "code",
   "execution_count": null,
   "outputs": [],
   "source": [],
   "metadata": {
    "collapsed": false,
    "pycharm": {
     "name": "#%%\n"
    }
   }
  }
 ],
 "metadata": {
  "kernelspec": {
   "name": "utils",
   "language": "python",
   "display_name": "utils"
  },
  "language_info": {
   "codemirror_mode": {
    "name": "ipython",
    "version": 2
   },
   "file_extension": ".py",
   "mimetype": "text/x-python",
   "name": "python",
   "nbconvert_exporter": "python",
   "pygments_lexer": "ipython2",
   "version": "2.7.6"
  }
 },
 "nbformat": 4,
 "nbformat_minor": 0
}