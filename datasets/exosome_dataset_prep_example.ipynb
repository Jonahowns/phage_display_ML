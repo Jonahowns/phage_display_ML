{
 "cells": [
  {
   "cell_type": "code",
   "execution_count": 10,
   "outputs": [],
   "source": [
    "import os\n",
    "import sys"
   ],
   "metadata": {
    "collapsed": false,
    "pycharm": {
     "name": "#%%\n"
    }
   }
  },
  {
   "cell_type": "markdown",
   "source": [
    "## First let's look at our dataset and determine how it should be split up"
   ],
   "metadata": {
    "collapsed": false,
    "pycharm": {
     "name": "#%% md\n"
    }
   }
  },
  {
   "cell_type": "code",
   "execution_count": 2,
   "outputs": [
    {
     "data": {
      "text/plain": "'/home/jonah/PycharmProjects/phage_display_ML/datasets'"
     },
     "execution_count": 2,
     "metadata": {},
     "output_type": "execute_result"
    }
   ],
   "source": [
    "os.getcwd()"
   ],
   "metadata": {
    "collapsed": false,
    "pycharm": {
     "name": "#%%\n"
    }
   }
  },
  {
   "cell_type": "code",
   "execution_count": 28,
   "outputs": [],
   "source": [
    "## Let's make a directory within datasets to store all our files\n",
    "# Choose a short string 3-5 characters to denote this particular dataset\n",
    "# For this one, I chose \"ribo\" for the ribosomal rna.\n",
    "# Make sure to set \"focus\" in datatype as the same string\n",
    "\n",
    "dataset_focus = \"exo\"\n",
    "dataset_dir = f\"./{dataset_focus}/\"\n",
    "\n",
    "if not os.path.isdir(dataset_dir):\n",
    "    os.mkdir(dataset_dir)"
   ],
   "metadata": {
    "collapsed": false,
    "pycharm": {
     "name": "#%%\n"
    }
   }
  },
  {
   "cell_type": "code",
   "execution_count": 4,
   "outputs": [],
   "source": [
    "# Let's import our data_prep tools\n",
    "import data_prep as dp"
   ],
   "metadata": {
    "collapsed": false,
    "pycharm": {
     "name": "#%%\n"
    }
   }
  },
  {
   "cell_type": "code",
   "execution_count": 4,
   "outputs": [
    {
     "name": "stdout",
     "output_type": "stream",
     "text": [
      "Observed Characters: ['G', 'A', 'C', 'T']\n"
     ]
    }
   ],
   "source": [
    "exo_df = dp.process_raw_fasta_files(*[f\"r{i}.csv\" for i in range(1, 6)], in_dir=\"/mnt/D1/caris_exosome/\", out_dir=dataset_dir, input_format=\"caris\",violin_out=\"exo_data_lengths\")"
   ],
   "metadata": {
    "collapsed": false,
    "pycharm": {
     "name": "#%%\n"
    }
   }
  },
  {
   "cell_type": "code",
   "execution_count": 7,
   "outputs": [
    {
     "data": {
      "text/plain": "Index(['sequence', 'length', 'round', 'copy_num'], dtype='object')"
     },
     "execution_count": 7,
     "metadata": {},
     "output_type": "execute_result"
    }
   ],
   "source": [
    "exo_df.columns"
   ],
   "metadata": {
    "collapsed": false,
    "pycharm": {
     "name": "#%%\n"
    }
   }
  },
  {
   "cell_type": "markdown",
   "source": [
    "<img src=\"./exo/exo_data_lengths.png\" alt=\"EXO Data Lengths\" style=\"height: 50px; width:50px;\"/>"
   ],
   "metadata": {
    "collapsed": false,
    "pycharm": {
     "name": "#%% md\n"
    }
   }
  },
  {
   "cell_type": "code",
   "execution_count": 1,
   "outputs": [
    {
     "name": "stdout",
     "output_type": "stream",
     "text": [
      "Process Time 0.7338004112243652\n",
      "Process Time 0.35588884353637695\n",
      "Process Time 0.17561817169189453\n",
      "Process Time 0.11760854721069336\n",
      "Process Time 5082.692240715027\n"
     ]
    }
   ],
   "source": [
    "import data_prep as dp\n",
    "import rbm_torch.analysis.analysis_methods as am\n",
    "\n",
    "exo_df = am.fetch_data([\"r2\", \"r3\", \"r4\", \"r5\"], dir=\"./exo/\", threads=6, molecule=\"dna\")\n",
    "\n",
    "exo_ct = dp.copynum_topology_faster(exo_df, [\"r2\", \"r3\", \"r4\", \"r5\"])\n",
    "exo_ct.to_csv(\"./exo/exo_ct.csv\", index=False)"
   ],
   "metadata": {
    "collapsed": false,
    "pycharm": {
     "name": "#%%\n"
    }
   }
  },
  {
   "cell_type": "code",
   "execution_count": 2,
   "outputs": [],
   "source": [
    "import pandas as pd\n",
    "import numpy as np\n",
    "exo_pd = pd.read_csv(\"./exo/exo_ct.csv\")\n",
    "exo_pd[\"mean\"] = exo_pd.apply(lambda row : np.nanmean(np.asarray([row[x] for x in [\"r2\", \"r3\", \"r4\", \"r5\"]])), axis=1)\n",
    "exo_pd[\"max\"] = exo_pd.apply(lambda row : np.nanmax(np.asarray([row[x] for x in [\"r2\", \"r3\", \"r4\", \"r5\"]])), axis=1)"
   ],
   "metadata": {
    "collapsed": false,
    "pycharm": {
     "name": "#%%\n"
    }
   }
  },
  {
   "cell_type": "code",
   "execution_count": 7,
   "outputs": [
    {
     "name": "stdout",
     "output_type": "stream",
     "text": [
      "61112 23570 23796\n",
      "16765102.0\n"
     ]
    }
   ],
   "source": [
    "ones = exo_pd[exo_pd[\"mean\"] >= 15.0]\n",
    "max = exo_pd[exo_pd[\"max\"] >= 40.0]\n",
    "ones_max = ones[ones[\"max\"] >= 40.0]\n",
    "print(ones.index.__len__(), ones_max.index.__len__(), max.index.__len__())\n",
    "print(np.sum(exo_pd[\"max\"].values))"
   ],
   "metadata": {
    "collapsed": false,
    "pycharm": {
     "name": "#%%\n"
    }
   }
  },
  {
   "cell_type": "code",
   "execution_count": 8,
   "outputs": [],
   "source": [
    "# merged r2, r3, r4, r5 sequences, with max count number\n",
    "dp.dataframe_to_fasta(max, \"./exo/m1.fasta\", count_key=\"max\")"
   ],
   "metadata": {
    "collapsed": false,
    "pycharm": {
     "name": "#%%\n"
    }
   }
  },
  {
   "cell_type": "code",
   "execution_count": 12,
   "outputs": [
    {
     "name": "stdout",
     "output_type": "stream",
     "text": [
      "Process Time 0.08887290954589844\n"
     ]
    }
   ],
   "source": [
    "import rbm_torch.utils as utils\n",
    "\n",
    "fasta_file = \"m1.fasta\"\n",
    "\n",
    "seqs, affs, chars, q = utils.fasta_read(dataset_dir+fasta_file, \"protein\")\n",
    "naffs = dp.standardize_affinities(affs, out_plots=dataset_dir+f\"{fasta_file.split('.')[0]}_m\", scale=\"log\", dividers=[15, 50, 80], target_scaling=[1., 1.2, 1.2], divider_type=\"percentile\")\n",
    "naffs = dp.standardize_affinities(affs, out_plots=dataset_dir+f\"{fasta_file.split('.')[0]}_m2\", scale=\"log\", dividers=[15], target_scaling=[1.2], divider_type=\"percentile\")\n",
    "dp.make_weight_file(f\"{dataset_dir}{fasta_file.split('.')[0]}_m\", naffs, \"m\")\n",
    "dp.make_weight_file(f\"{dataset_dir}{fasta_file.split('.')[0]}_m2\", naffs, \"m2\")"
   ],
   "metadata": {
    "collapsed": false,
    "pycharm": {
     "name": "#%%\n"
    }
   }
  },
  {
   "cell_type": "code",
   "execution_count": 14,
   "outputs": [],
   "source": [
    "import subprocess as sp\n",
    "\n",
    "# no weights\n",
    "os.chdir(\"../rbm_torch\")\n",
    "sp.check_call(f\"python submit.py -d exo -r m1 -p wzhengpu1 -q wildfire -m crbm -e 200 -g 2\", shell=True)\n",
    "sp.call(f\"python submit.py -d exo -r m1 -p wzhengpu1 -q wildfire -m rbm -e 200 -g 1\", shell=True)\n",
    "# weights\n",
    "for wfile in [\"m1_m.json\", \"m1_m2.json\"]:\n",
    "    sp.call(f\"python submit.py -d exo -r m1 -p wzhengpu1 -q wildfire -m crbm -e 200 -g 2 -w {wfile}\", shell=True)\n",
    "    sp.call(f\"python submit.py -d exo -r m1 -p wzhengpu1 -q wildfire -m rbm -e 200 -g 1 -w {wfile}\", shell=True)"
   ],
   "metadata": {
    "collapsed": false,
    "pycharm": {
     "name": "#%%\n"
    }
   }
  },
  {
   "cell_type": "code",
   "execution_count": null,
   "outputs": [],
   "source": [
    "## Looking at the above graph + the length report in our out directory we see this"
   ],
   "metadata": {
    "collapsed": false,
    "pycharm": {
     "name": "#%%\n"
    }
   }
  },
  {
   "cell_type": "code",
   "execution_count": 8,
   "outputs": [
    {
     "name": "stdout",
     "output_type": "stream",
     "text": [
      "Removed 0 Repeat Sequences\r\n",
      "Length: 25 Number of Sequences 94\r\n",
      "Length: 26 Number of Sequences 151\r\n",
      "Length: 27 Number of Sequences 194\r\n",
      "Length: 28 Number of Sequences 299\r\n",
      "Length: 29 Number of Sequences 447\r\n",
      "Length: 30 Number of Sequences 697\r\n",
      "Length: 31 Number of Sequences 1283\r\n",
      "Length: 32 Number of Sequences 2285\r\n",
      "Length: 33 Number of Sequences 5066\r\n",
      "Length: 34 Number of Sequences 27616\r\n",
      "Length: 35 Number of Sequences 1214996\r\n",
      "Length: 36 Number of Sequences 757742\r\n",
      "Length: 37 Number of Sequences 728110\r\n",
      "Length: 38 Number of Sequences 679551\r\n"
     ]
    }
   ],
   "source": [
    "!cat \"./exo/exosome_len_report.txt\" | head -n 80 | tail -n 20"
   ],
   "metadata": {
    "collapsed": false,
    "pycharm": {
     "name": "#%%\n"
    }
   }
  },
  {
   "cell_type": "markdown",
   "source": [
    "## We see that the majority of data is length 35. But we can get 2x the data by extending our range from length 35 to length 38. To make the data uniform in length, we will add gaps to the end of all sequences b/t 35 and 37"
   ],
   "metadata": {
    "collapsed": false,
    "pycharm": {
     "name": "#%% md\n"
    }
   }
  },
  {
   "cell_type": "code",
   "execution_count": 5,
   "outputs": [],
   "source": [
    "# So now we can define our datatype\n",
    "\n",
    "# Datatype defines the basics of our data, Each datatype is specified for a group of related fasta files\n",
    "# Focus - > short string specifier that gives the overall dataset we are using\n",
    "# Molecule -> What kind of sequence data? currently protein, dna, and rna are supported\n",
    "# id -> short string specifier ONLY for datasets which have different clustering methods (CLUSTERS ONLY)\n",
    "# process -> How were the gaps added to each dataset, used to name directory (CLUSTERS ONLY)\n",
    "# clusters -> How many clusters are in each data file (1 if no clusters)\n",
    "# cluster_indices -> Define the lengths of data put in each cluster, It is inclusive so [12, 16] includes length 12 and length 16. There must be cluster_indices for each cluster\n",
    "# gap_position_indices -> Index where gaps should be added to each sequence that is short of the maximum length. (-1 means add gaps to the end of the clusters)\n",
    "\n",
    "exo_datatype = {\"focus\": \"exo\", \"molecule\": \"dna\", \"id\": None, \"process\": None, \"clusters\": 1, \"gap_position_indices\": [-1], \"cluster_indices\": [[35, 38]]}"
   ],
   "metadata": {
    "collapsed": false,
    "pycharm": {
     "name": "#%%\n"
    }
   }
  },
  {
   "cell_type": "markdown",
   "source": [
    "## Before we do anything else, we need to copy our datatype to phage_display_ML/rbm_torch/analysis/global_info.py\n",
    "## Also make sure to add the new datatype to the datatype_list in the same file."
   ],
   "metadata": {
    "collapsed": false,
    "pycharm": {
     "name": "#%% md\n"
    }
   }
  },
  {
   "cell_type": "markdown",
   "source": [
    "## Next we need to process the raw files and make our own fasta files with our preferred formatting"
   ],
   "metadata": {
    "collapsed": false,
    "pycharm": {
     "name": "#%% md\n"
    }
   }
  },
  {
   "cell_type": "code",
   "execution_count": 8,
   "outputs": [],
   "source": [
    "chars_to_remove = [\"W\", \"D\", \"V\", \"M\", \"B\", \"R\", \"K\", \"Y\", \"H\", \"S\"]\n",
    "chars_replace = {x: \"-\" for x in chars_to_remove}\n",
    "dp.prepare_data_files(\"exo\", exo_df, target_dir=dataset_dir, remove_chars=None, character_conversion=None) # Creates datafiles in target directory"
   ],
   "metadata": {
    "collapsed": false,
    "pycharm": {
     "name": "#%%\n"
    }
   }
  },
  {
   "cell_type": "markdown",
   "source": [
    "## Now we have generated a data file that we can use for training our RBM or CRBM"
   ],
   "metadata": {
    "collapsed": false,
    "pycharm": {
     "name": "#%% md\n"
    }
   }
  },
  {
   "cell_type": "code",
   "execution_count": 9,
   "outputs": [
    {
     "name": "stdout",
     "output_type": "stream",
     "text": [
      ">seq0-555276\r\n",
      "GCTTGTCAACTCTACAGTGCAAAGCTAATTTTGCT---\r\n",
      ">seq1-434762\r\n",
      "TGTATATCCAGCGGGAGTGCGTCCAGCGTGCCGGG---\r\n",
      ">seq2-175409\r\n",
      "GGTGTGACTTAAAATTTGGTTTCGTTATTCCGCCATGA\r\n",
      ">seq3-167700\r\n",
      "GTTGCCCACTATCGTTCATAACTCTCAATGTCTGTGA-\r\n",
      ">seq4-120928\r\n",
      "GTGTAGCTCGGATGCTGTAGAACATTTTTTTTGCGA--\r\n",
      ">seq5-81378\r\n",
      "ATTGATAATGTATGTTAACCCGTTTCGTTCTCCGTA--\r\n",
      ">seq6-34574\r\n",
      "CTAACTCTATTGACTGCCCACAACCTTACGGTCCTA--\r\n",
      ">seq7-8859\r\n",
      "TTGGCGAGATCATGGAGGGCGCTCACCCATCACATTGA\r\n",
      ">seq8-4086\r\n",
      "GCCAGGAGCACACCACGTTGCAATGGGAATTGAGT---\r\n",
      ">seq9-3543\r\n",
      "TCAAGCCTACTTGAAACCTGTATAAAACCAACTAT---\r\n"
     ]
    }
   ],
   "source": [
    "!head -n 20 \"./exo/r2.fasta\""
   ],
   "metadata": {
    "collapsed": false,
    "pycharm": {
     "name": "#%%\n"
    }
   }
  },
  {
   "cell_type": "markdown",
   "source": [
    "# Our Last Step is to generate a dataset file, which will inform our models about the location of the data as well as other important details"
   ],
   "metadata": {
    "collapsed": false,
    "pycharm": {
     "name": "#%% md\n"
    }
   }
  },
  {
   "cell_type": "code",
   "execution_count": 2,
   "outputs": [],
   "source": [
    "import sys\n",
    "sys.path.append(\"../\")\n",
    "import rbm_torch.global_info as gi"
   ],
   "metadata": {
    "collapsed": false,
    "pycharm": {
     "name": "#%%\n"
    }
   }
  },
  {
   "cell_type": "code",
   "execution_count": 12,
   "outputs": [
    {
     "data": {
      "text/plain": "'/home/jonah/PycharmProjects/phage_display_ML/datasets'"
     },
     "execution_count": 12,
     "metadata": {},
     "output_type": "execute_result"
    }
   ],
   "source": [
    "os.getcwd()"
   ],
   "metadata": {
    "collapsed": false,
    "pycharm": {
     "name": "#%%\n"
    }
   }
  },
  {
   "cell_type": "code",
   "execution_count": 3,
   "outputs": [],
   "source": [
    "data_files = [f\"r{i}.fasta\" for i in range(1, 6)]\n",
    "data_files.append(\"r5c.fasta\")\n",
    "gi.generate_dataset_file(data_files, gi.supported_datatypes[\"exo\"], destination=\"./dataset_files/\")"
   ],
   "metadata": {
    "collapsed": false,
    "pycharm": {
     "name": "#%%\n"
    }
   }
  },
  {
   "cell_type": "code",
   "execution_count": 7,
   "outputs": [
    {
     "name": "stdout",
     "output_type": "stream",
     "text": [
      "cat: ./dataset_files/exo.json: No such file or directory\r\n"
     ]
    }
   ],
   "source": [
    "!cat \"./dataset_files/exo.json\""
   ],
   "metadata": {
    "collapsed": false,
    "pycharm": {
     "name": "#%%\n"
    }
   }
  },
  {
   "cell_type": "code",
   "execution_count": null,
   "outputs": [],
   "source": [
    "# We're all set to run our models now, except for creating default configs for each dataset\n",
    "# Here is an example one for crbm. It should be appended to crbm_configs.py and added to all_configs\n",
    "\n",
    "exo_default_config = {\"fasta_file\": \"\", # get's overwritten by training script anyway\n",
    "          \"v_num\": 38,\n",
    "          \"q\": 5,\n",
    "          \"molecule\": \"dna\",\n",
    "          \"epochs\": 100, # get's overwritten by training script anyway\n",
    "          \"seed\": seed, # this is defined in the config file\n",
    "          \"batch_size\": 10000, # can be raised or lowered depending on memory usage\n",
    "          \"mc_moves\": 4,\n",
    "          \"lr\": 0.006,\n",
    "          \"lr_final\": None, # automatically set as lr * 1e-2\n",
    "          \"decay_after\": 0.75,\n",
    "          \"loss_type\": \"free_energy\",\n",
    "          \"sample_type\": \"gibbs\",\n",
    "          \"sequence_weights\": None,\n",
    "          \"optimizer\": \"AdamW\",\n",
    "          \"weight_decay\": 0.001,  # l2 norm on all parameters\n",
    "          \"l1_2\": 25.0,\n",
    "          \"lf\": 5.0,\n",
    "          \"ld\": 10.0,\n",
    "          \"data_worker_num\": 4\n",
    "          }\n"
   ],
   "metadata": {
    "collapsed": false,
    "pycharm": {
     "name": "#%%\n"
    }
   }
  },
  {
   "cell_type": "code",
   "execution_count": 10,
   "outputs": [
    {
     "name": "stdout",
     "output_type": "stream",
     "text": [
      "Finding Whole Convolutions for Input with 38 inputs:\n",
      "Whole Convolution Found: Kernel: 1, Stride: 1, Dilation: 1, Padding: 0\n",
      "Whole Convolution Found: Kernel: 1, Stride: 1, Dilation: 1, Padding: 1\n",
      "Whole Convolution Found: Kernel: 1, Stride: 1, Dilation: 1, Padding: 2\n",
      "Whole Convolution Found: Kernel: 2, Stride: 1, Dilation: 1, Padding: 0\n",
      "Whole Convolution Found: Kernel: 2, Stride: 2, Dilation: 1, Padding: 0\n",
      "Whole Convolution Found: Kernel: 2, Stride: 1, Dilation: 1, Padding: 1\n",
      "Whole Convolution Found: Kernel: 2, Stride: 2, Dilation: 1, Padding: 1\n",
      "Whole Convolution Found: Kernel: 2, Stride: 1, Dilation: 1, Padding: 2\n",
      "Whole Convolution Found: Kernel: 2, Stride: 2, Dilation: 1, Padding: 2\n",
      "Whole Convolution Found: Kernel: 3, Stride: 1, Dilation: 1, Padding: 0\n",
      "Whole Convolution Found: Kernel: 3, Stride: 1, Dilation: 1, Padding: 1\n",
      "Whole Convolution Found: Kernel: 3, Stride: 1, Dilation: 1, Padding: 2\n",
      "Whole Convolution Found: Kernel: 4, Stride: 1, Dilation: 1, Padding: 0\n",
      "Whole Convolution Found: Kernel: 4, Stride: 2, Dilation: 1, Padding: 0\n",
      "Whole Convolution Found: Kernel: 4, Stride: 1, Dilation: 1, Padding: 1\n",
      "Whole Convolution Found: Kernel: 4, Stride: 2, Dilation: 1, Padding: 1\n",
      "Whole Convolution Found: Kernel: 4, Stride: 1, Dilation: 1, Padding: 2\n",
      "Whole Convolution Found: Kernel: 4, Stride: 2, Dilation: 1, Padding: 2\n",
      "Whole Convolution Found: Kernel: 5, Stride: 1, Dilation: 1, Padding: 0\n",
      "Whole Convolution Found: Kernel: 5, Stride: 1, Dilation: 1, Padding: 1\n",
      "Whole Convolution Found: Kernel: 5, Stride: 1, Dilation: 1, Padding: 2\n",
      "Whole Convolution Found: Kernel: 6, Stride: 1, Dilation: 1, Padding: 0\n",
      "Whole Convolution Found: Kernel: 6, Stride: 2, Dilation: 1, Padding: 0\n",
      "Whole Convolution Found: Kernel: 6, Stride: 1, Dilation: 1, Padding: 1\n",
      "Whole Convolution Found: Kernel: 6, Stride: 2, Dilation: 1, Padding: 1\n",
      "Whole Convolution Found: Kernel: 6, Stride: 1, Dilation: 1, Padding: 2\n",
      "Whole Convolution Found: Kernel: 6, Stride: 2, Dilation: 1, Padding: 2\n",
      "Whole Convolution Found: Kernel: 7, Stride: 1, Dilation: 1, Padding: 0\n",
      "Whole Convolution Found: Kernel: 7, Stride: 1, Dilation: 1, Padding: 1\n",
      "Whole Convolution Found: Kernel: 7, Stride: 1, Dilation: 1, Padding: 2\n",
      "Whole Convolution Found: Kernel: 8, Stride: 1, Dilation: 1, Padding: 0\n",
      "Whole Convolution Found: Kernel: 8, Stride: 2, Dilation: 1, Padding: 0\n",
      "Whole Convolution Found: Kernel: 8, Stride: 1, Dilation: 1, Padding: 1\n",
      "Whole Convolution Found: Kernel: 8, Stride: 2, Dilation: 1, Padding: 1\n",
      "Whole Convolution Found: Kernel: 8, Stride: 1, Dilation: 1, Padding: 2\n",
      "Whole Convolution Found: Kernel: 8, Stride: 2, Dilation: 1, Padding: 2\n",
      "Whole Convolution Found: Kernel: 9, Stride: 1, Dilation: 1, Padding: 0\n",
      "Whole Convolution Found: Kernel: 9, Stride: 1, Dilation: 1, Padding: 1\n",
      "Whole Convolution Found: Kernel: 9, Stride: 1, Dilation: 1, Padding: 2\n",
      "Whole Convolution Found: Kernel: 10, Stride: 1, Dilation: 1, Padding: 0\n",
      "Whole Convolution Found: Kernel: 10, Stride: 2, Dilation: 1, Padding: 0\n",
      "Whole Convolution Found: Kernel: 10, Stride: 1, Dilation: 1, Padding: 1\n",
      "Whole Convolution Found: Kernel: 10, Stride: 2, Dilation: 1, Padding: 1\n",
      "Whole Convolution Found: Kernel: 10, Stride: 1, Dilation: 1, Padding: 2\n",
      "Whole Convolution Found: Kernel: 10, Stride: 2, Dilation: 1, Padding: 2\n",
      "Whole Convolution Found: Kernel: 11, Stride: 1, Dilation: 1, Padding: 0\n",
      "Whole Convolution Found: Kernel: 11, Stride: 1, Dilation: 1, Padding: 1\n",
      "Whole Convolution Found: Kernel: 11, Stride: 1, Dilation: 1, Padding: 2\n",
      "Whole Convolution Found: Kernel: 12, Stride: 1, Dilation: 1, Padding: 0\n",
      "Whole Convolution Found: Kernel: 12, Stride: 2, Dilation: 1, Padding: 0\n",
      "Whole Convolution Found: Kernel: 12, Stride: 1, Dilation: 1, Padding: 1\n",
      "Whole Convolution Found: Kernel: 12, Stride: 2, Dilation: 1, Padding: 1\n",
      "Whole Convolution Found: Kernel: 12, Stride: 1, Dilation: 1, Padding: 2\n",
      "Whole Convolution Found: Kernel: 12, Stride: 2, Dilation: 1, Padding: 2\n",
      "Whole Convolution Found: Kernel: 13, Stride: 1, Dilation: 1, Padding: 0\n",
      "Whole Convolution Found: Kernel: 13, Stride: 1, Dilation: 1, Padding: 1\n",
      "Whole Convolution Found: Kernel: 13, Stride: 1, Dilation: 1, Padding: 2\n",
      "Whole Convolution Found: Kernel: 14, Stride: 1, Dilation: 1, Padding: 0\n",
      "Whole Convolution Found: Kernel: 14, Stride: 2, Dilation: 1, Padding: 0\n",
      "Whole Convolution Found: Kernel: 14, Stride: 1, Dilation: 1, Padding: 1\n",
      "Whole Convolution Found: Kernel: 14, Stride: 2, Dilation: 1, Padding: 1\n",
      "Whole Convolution Found: Kernel: 14, Stride: 1, Dilation: 1, Padding: 2\n",
      "Whole Convolution Found: Kernel: 14, Stride: 2, Dilation: 1, Padding: 2\n",
      "Whole Convolution Found: Kernel: 15, Stride: 1, Dilation: 1, Padding: 0\n",
      "Whole Convolution Found: Kernel: 15, Stride: 1, Dilation: 1, Padding: 1\n",
      "Whole Convolution Found: Kernel: 15, Stride: 1, Dilation: 1, Padding: 2\n",
      "Whole Convolution Found: Kernel: 16, Stride: 1, Dilation: 1, Padding: 0\n",
      "Whole Convolution Found: Kernel: 16, Stride: 2, Dilation: 1, Padding: 0\n",
      "Whole Convolution Found: Kernel: 16, Stride: 1, Dilation: 1, Padding: 1\n",
      "Whole Convolution Found: Kernel: 16, Stride: 2, Dilation: 1, Padding: 1\n",
      "Whole Convolution Found: Kernel: 16, Stride: 1, Dilation: 1, Padding: 2\n",
      "Whole Convolution Found: Kernel: 16, Stride: 2, Dilation: 1, Padding: 2\n",
      "Whole Convolution Found: Kernel: 17, Stride: 1, Dilation: 1, Padding: 0\n",
      "Whole Convolution Found: Kernel: 17, Stride: 1, Dilation: 1, Padding: 1\n",
      "Whole Convolution Found: Kernel: 17, Stride: 1, Dilation: 1, Padding: 2\n",
      "Whole Convolution Found: Kernel: 18, Stride: 1, Dilation: 1, Padding: 0\n",
      "Whole Convolution Found: Kernel: 18, Stride: 2, Dilation: 1, Padding: 0\n",
      "Whole Convolution Found: Kernel: 18, Stride: 1, Dilation: 1, Padding: 1\n",
      "Whole Convolution Found: Kernel: 18, Stride: 2, Dilation: 1, Padding: 1\n",
      "Whole Convolution Found: Kernel: 18, Stride: 1, Dilation: 1, Padding: 2\n",
      "Whole Convolution Found: Kernel: 18, Stride: 2, Dilation: 1, Padding: 2\n",
      "Whole Convolution Found: Kernel: 19, Stride: 1, Dilation: 1, Padding: 0\n",
      "Whole Convolution Found: Kernel: 19, Stride: 1, Dilation: 1, Padding: 1\n",
      "Whole Convolution Found: Kernel: 19, Stride: 1, Dilation: 1, Padding: 2\n",
      "Whole Convolution Found: Kernel: 20, Stride: 1, Dilation: 1, Padding: 0\n",
      "Whole Convolution Found: Kernel: 20, Stride: 2, Dilation: 1, Padding: 0\n",
      "Whole Convolution Found: Kernel: 20, Stride: 1, Dilation: 1, Padding: 1\n",
      "Whole Convolution Found: Kernel: 20, Stride: 2, Dilation: 1, Padding: 1\n",
      "Whole Convolution Found: Kernel: 20, Stride: 1, Dilation: 1, Padding: 2\n",
      "Whole Convolution Found: Kernel: 20, Stride: 2, Dilation: 1, Padding: 2\n",
      "Whole Convolution Found: Kernel: 21, Stride: 1, Dilation: 1, Padding: 0\n",
      "Whole Convolution Found: Kernel: 21, Stride: 1, Dilation: 1, Padding: 1\n",
      "Whole Convolution Found: Kernel: 21, Stride: 1, Dilation: 1, Padding: 2\n",
      "Whole Convolution Found: Kernel: 22, Stride: 1, Dilation: 1, Padding: 0\n",
      "Whole Convolution Found: Kernel: 22, Stride: 2, Dilation: 1, Padding: 0\n",
      "Whole Convolution Found: Kernel: 22, Stride: 1, Dilation: 1, Padding: 1\n",
      "Whole Convolution Found: Kernel: 22, Stride: 2, Dilation: 1, Padding: 1\n",
      "Whole Convolution Found: Kernel: 22, Stride: 1, Dilation: 1, Padding: 2\n",
      "Whole Convolution Found: Kernel: 22, Stride: 2, Dilation: 1, Padding: 2\n",
      "Whole Convolution Found: Kernel: 23, Stride: 1, Dilation: 1, Padding: 0\n",
      "Whole Convolution Found: Kernel: 23, Stride: 1, Dilation: 1, Padding: 1\n",
      "Whole Convolution Found: Kernel: 23, Stride: 1, Dilation: 1, Padding: 2\n",
      "Whole Convolution Found: Kernel: 24, Stride: 1, Dilation: 1, Padding: 0\n",
      "Whole Convolution Found: Kernel: 24, Stride: 2, Dilation: 1, Padding: 0\n",
      "Whole Convolution Found: Kernel: 24, Stride: 1, Dilation: 1, Padding: 1\n",
      "Whole Convolution Found: Kernel: 24, Stride: 2, Dilation: 1, Padding: 1\n",
      "Whole Convolution Found: Kernel: 24, Stride: 1, Dilation: 1, Padding: 2\n",
      "Whole Convolution Found: Kernel: 24, Stride: 2, Dilation: 1, Padding: 2\n",
      "Whole Convolution Found: Kernel: 25, Stride: 1, Dilation: 1, Padding: 0\n",
      "Whole Convolution Found: Kernel: 25, Stride: 1, Dilation: 1, Padding: 1\n",
      "Whole Convolution Found: Kernel: 25, Stride: 1, Dilation: 1, Padding: 2\n",
      "Whole Convolution Found: Kernel: 26, Stride: 1, Dilation: 1, Padding: 0\n",
      "Whole Convolution Found: Kernel: 26, Stride: 2, Dilation: 1, Padding: 0\n",
      "Whole Convolution Found: Kernel: 26, Stride: 1, Dilation: 1, Padding: 1\n",
      "Whole Convolution Found: Kernel: 26, Stride: 2, Dilation: 1, Padding: 1\n",
      "Whole Convolution Found: Kernel: 26, Stride: 1, Dilation: 1, Padding: 2\n",
      "Whole Convolution Found: Kernel: 26, Stride: 2, Dilation: 1, Padding: 2\n",
      "Whole Convolution Found: Kernel: 27, Stride: 1, Dilation: 1, Padding: 0\n",
      "Whole Convolution Found: Kernel: 27, Stride: 1, Dilation: 1, Padding: 1\n",
      "Whole Convolution Found: Kernel: 27, Stride: 1, Dilation: 1, Padding: 2\n",
      "Whole Convolution Found: Kernel: 28, Stride: 1, Dilation: 1, Padding: 0\n",
      "Whole Convolution Found: Kernel: 28, Stride: 2, Dilation: 1, Padding: 0\n",
      "Whole Convolution Found: Kernel: 28, Stride: 1, Dilation: 1, Padding: 1\n",
      "Whole Convolution Found: Kernel: 28, Stride: 2, Dilation: 1, Padding: 1\n",
      "Whole Convolution Found: Kernel: 28, Stride: 1, Dilation: 1, Padding: 2\n",
      "Whole Convolution Found: Kernel: 28, Stride: 2, Dilation: 1, Padding: 2\n",
      "Whole Convolution Found: Kernel: 29, Stride: 1, Dilation: 1, Padding: 0\n",
      "Whole Convolution Found: Kernel: 29, Stride: 1, Dilation: 1, Padding: 1\n",
      "Whole Convolution Found: Kernel: 29, Stride: 1, Dilation: 1, Padding: 2\n",
      "Whole Convolution Found: Kernel: 30, Stride: 1, Dilation: 1, Padding: 0\n",
      "Whole Convolution Found: Kernel: 30, Stride: 2, Dilation: 1, Padding: 0\n",
      "Whole Convolution Found: Kernel: 30, Stride: 1, Dilation: 1, Padding: 1\n",
      "Whole Convolution Found: Kernel: 30, Stride: 2, Dilation: 1, Padding: 1\n",
      "Whole Convolution Found: Kernel: 30, Stride: 1, Dilation: 1, Padding: 2\n",
      "Whole Convolution Found: Kernel: 30, Stride: 2, Dilation: 1, Padding: 2\n",
      "Whole Convolution Found: Kernel: 31, Stride: 1, Dilation: 1, Padding: 0\n",
      "Whole Convolution Found: Kernel: 31, Stride: 1, Dilation: 1, Padding: 1\n",
      "Whole Convolution Found: Kernel: 31, Stride: 1, Dilation: 1, Padding: 2\n",
      "Whole Convolution Found: Kernel: 32, Stride: 1, Dilation: 1, Padding: 0\n",
      "Whole Convolution Found: Kernel: 32, Stride: 2, Dilation: 1, Padding: 0\n",
      "Whole Convolution Found: Kernel: 32, Stride: 1, Dilation: 1, Padding: 1\n",
      "Whole Convolution Found: Kernel: 32, Stride: 2, Dilation: 1, Padding: 1\n",
      "Whole Convolution Found: Kernel: 32, Stride: 1, Dilation: 1, Padding: 2\n",
      "Whole Convolution Found: Kernel: 32, Stride: 2, Dilation: 1, Padding: 2\n",
      "Whole Convolution Found: Kernel: 33, Stride: 1, Dilation: 1, Padding: 0\n",
      "Whole Convolution Found: Kernel: 33, Stride: 1, Dilation: 1, Padding: 1\n",
      "Whole Convolution Found: Kernel: 33, Stride: 1, Dilation: 1, Padding: 2\n",
      "Whole Convolution Found: Kernel: 34, Stride: 1, Dilation: 1, Padding: 0\n",
      "Whole Convolution Found: Kernel: 34, Stride: 2, Dilation: 1, Padding: 0\n",
      "Whole Convolution Found: Kernel: 34, Stride: 1, Dilation: 1, Padding: 1\n",
      "Whole Convolution Found: Kernel: 34, Stride: 2, Dilation: 1, Padding: 1\n",
      "Whole Convolution Found: Kernel: 34, Stride: 1, Dilation: 1, Padding: 2\n",
      "Whole Convolution Found: Kernel: 34, Stride: 2, Dilation: 1, Padding: 2\n",
      "Whole Convolution Found: Kernel: 35, Stride: 1, Dilation: 1, Padding: 0\n",
      "Whole Convolution Found: Kernel: 35, Stride: 1, Dilation: 1, Padding: 1\n",
      "Whole Convolution Found: Kernel: 35, Stride: 1, Dilation: 1, Padding: 2\n",
      "Whole Convolution Found: Kernel: 36, Stride: 1, Dilation: 1, Padding: 0\n",
      "Whole Convolution Found: Kernel: 36, Stride: 2, Dilation: 1, Padding: 0\n",
      "Whole Convolution Found: Kernel: 36, Stride: 1, Dilation: 1, Padding: 1\n",
      "Whole Convolution Found: Kernel: 36, Stride: 2, Dilation: 1, Padding: 1\n",
      "Whole Convolution Found: Kernel: 36, Stride: 1, Dilation: 1, Padding: 2\n",
      "Whole Convolution Found: Kernel: 36, Stride: 2, Dilation: 1, Padding: 2\n",
      "Whole Convolution Found: Kernel: 37, Stride: 1, Dilation: 1, Padding: 0\n",
      "Whole Convolution Found: Kernel: 37, Stride: 1, Dilation: 1, Padding: 1\n",
      "Whole Convolution Found: Kernel: 37, Stride: 1, Dilation: 1, Padding: 2\n",
      "Whole Convolution Found: Kernel: 38, Stride: 1, Dilation: 1, Padding: 0\n",
      "Whole Convolution Found: Kernel: 38, Stride: 2, Dilation: 1, Padding: 0\n",
      "Whole Convolution Found: Kernel: 38, Stride: 1, Dilation: 1, Padding: 1\n",
      "Whole Convolution Found: Kernel: 38, Stride: 2, Dilation: 1, Padding: 1\n",
      "Whole Convolution Found: Kernel: 38, Stride: 1, Dilation: 1, Padding: 2\n",
      "Whole Convolution Found: Kernel: 38, Stride: 2, Dilation: 1, Padding: 2\n"
     ]
    }
   ],
   "source": [
    "# TO figure out the convolution topology we use some helper functions in crbm.py\n",
    "\n",
    "# This function gives all convolutions that fully sample all visible units on the conv transpose for a given data size\n",
    "from rbm_torch.utils import suggest_conv_size\n",
    "\n",
    "# one hot encoded vector of input size (B x V X Q) is the input the CRBM uses\n",
    "visible_num = 38 # V\n",
    "q_states = 5 #Q\n",
    "input_shape = (visible_num, q_states)\n",
    "suggest_conv_size(input_shape, padding_max=2, dilation_max=1, stride_max=2)"
   ],
   "metadata": {
    "collapsed": false,
    "pycharm": {
     "name": "#%%\n"
    }
   }
  },
  {
   "cell_type": "markdown",
   "source": [
    "## My current line of thinking is that having a dilation > 1 or a stride > 1 will introduce some position specific effects."
   ],
   "metadata": {
    "collapsed": false,
    "pycharm": {
     "name": "#%% md\n"
    }
   }
  },
  {
   "cell_type": "code",
   "execution_count": null,
   "outputs": [],
   "source": [
    "## Idea: The size of the kernel controls defines the size of the motif/pattern of the convolutional filter. So for this dataset I expect long filters to capture the secondary structure of this rfam family\n",
    "\n",
    "# It is possible to use different strides and dilations, but I think they only take away from the interpretability of the convolutional filters. Also, they can lead to unsampled visible units on the convolution transpose. Likewise using a hidden layer with the kernel size the same as the number of visible units is somewhat equivalent to an RBM if not exactly (I haven't verified). This introduces a positional dependence into the corresponding hidden layer of the model.\n",
    "\n",
    "# So I will use sizes:  11, 25, 46, 86, 100, 112\n",
    "# Motif Finding:  Local Features-------Global Features\n",
    "# Names/Keys for hidden layers in the convolutional topology can be named anything you can use as key in a dictionary\n",
    "# Model outputs are the average of each hidden layer with a set weight\n",
    "exo_default_config[\"convolution_topology\"] = {\"hidden7\": {\"number\": 10, \"kernel\": (7, exo_default_config[\"q\"]), \"stride\": (1, 1), \"padding\": (0, 0), \"dilation\": (1, 1), \"output_padding\": (0, 0), \"weight\": 1.0},\n",
    "                                            \"hidden13\": {\"number\": 10, \"kernel\": (13, exo_default_config[\"q\"]), \"stride\": (1, 1), \"padding\": (0, 0), \"dilation\": (1, 1), \"output_padding\": (0, 0), \"weight\": 1.0},\n",
    "                                            \"hidden19\": {\"number\": 15, \"kernel\": (19, exo_default_config[\"q\"]), \"stride\": (1, 1), \"padding\": (0, 0), \"dilation\": (1, 1), \"output_padding\": (0, 0), \"weight\": 1.0},\n",
    "                                            \"hidden25\": {\"number\": 15, \"kernel\": (25, exo_default_config[\"q\"]), \"stride\": (1, 1), \"padding\": (0, 0), \"dilation\": (1, 1), \"output_padding\": (0, 0), \"weight\": 1.0},\n",
    "                                              \"hidden31\": {\"number\": 15, \"kernel\": (31, exo_default_config[\"q\"]), \"stride\": (1, 1), \"padding\": (0, 0), \"dilation\": (1, 1), \"output_padding\": (0, 0), \"weight\": 1.0}\n",
    "                                             }"
   ],
   "metadata": {
    "collapsed": false,
    "pycharm": {
     "name": "#%%\n"
    }
   }
  },
  {
   "cell_type": "code",
   "execution_count": null,
   "outputs": [],
   "source": [
    "### COPY THE ABOVE CELL TO CRBM CONFIGS AS WELL!!"
   ],
   "metadata": {
    "collapsed": false,
    "pycharm": {
     "name": "#%%\n"
    }
   }
  },
  {
   "cell_type": "code",
   "execution_count": null,
   "outputs": [],
   "source": [
    "# Lets create a submission script for a slurm system to run using the script submit.py\n",
    "\n",
    "# From Directory rbm_torch I ran\n",
    "\"python submit.py -d ribo -r all -p wzhengpu1 -q wildfire -m crbm -e 200 -g 2 --precision double\"\n",
    "\n",
    "# Use python submit.py -h for help!"
   ],
   "metadata": {
    "collapsed": false,
    "pycharm": {
     "name": "#%%\n"
    }
   }
  },
  {
   "cell_type": "code",
   "execution_count": 3,
   "outputs": [],
   "source": [
    "import rbm_torch.utils as utils\n",
    "import data_prep as dp\n",
    "import numpy as np"
   ],
   "metadata": {
    "collapsed": false,
    "pycharm": {
     "name": "#%%\n"
    }
   }
  },
  {
   "cell_type": "code",
   "execution_count": 5,
   "outputs": [
    {
     "name": "stdout",
     "output_type": "stream",
     "text": [
      "Process Time 2.909881114959717\n",
      "Process Time 0.3979940414428711\n",
      "Process Time 0.25513148307800293\n",
      "Process Time 0.1415846347808838\n",
      "Process Time 0.09172296524047852\n"
     ]
    }
   ],
   "source": [
    "## Now we will make a weight file, one standardized and one with negative weights\n",
    "all_fasta_files = [f\"r{i}.fasta\" for i in range(1, 6)]\n",
    "all_affinities =[]\n",
    "min_vals = []\n",
    "for fasta_file in all_fasta_files:\n",
    "    seqs, affs, chars, q = utils.fasta_read(f\"./exo/{fasta_file}\", \"dna\", threads=12)\n",
    "    # stand_affs = dp.standardize_affinities(affs, out_plot=f\"./exo/{fasta_file.split('.')[0]}_stand_affs\")\n",
    "\n",
    "    stand_affs = dp.standardize_affinities(affs, out_plots=dataset_dir+f\"{fasta_file.split('.')[0]}_sp\", scale=\"linear\", dividers=[15, 50, 80], target_scaling=[2., 20., 5.], divider_type=\"percentile\", negate_index=1, splitter=[0.02, 0.5])\n",
    "\n",
    "    # min_vals.append(min(stand_affs))\n",
    "    # all_affinities.append(stand_affs)\n",
    "    # dp.make_weight_file(f\"./exo/{fasta_file.split('.')[0]}_st_weights\", stand_affs, \"st\")\n",
    "\n",
    "    # stand2_affs = [x if x > 4 else x/1000 for x in stand_affs]\n",
    "    # dp.quick_hist(stand2_affs, f\"./exo/{fasta_file.split('.')[0]})st2_affs.png\", bins=100)\n",
    "\n",
    "    # dp.make_weight_file(f\"./exo/{fasta_file.split('.')[0]}_sd_weights\", stand_affs, \"sd\")\n",
    "    dp.make_weight_file(f\"./exo/{fasta_file.split('.')[0]}_sp_weights\", stand_affs, \"sp\")\n",
    "\n",
    "    # dataset = zip(seqs, stand_affs)\n",
    "    # stand_affs = [(x, a)  for x, a in dataset if min_vals[-1] < a]\n",
    "    # nseqs, naffs = zip(*stand_affs)\n",
    "    # dp.write_fasta(nseqs, naffs, \"./exo/exosome_enriched.fasta\")\n",
    "\n"
   ],
   "metadata": {
    "collapsed": false,
    "pycharm": {
     "name": "#%%\n"
    }
   }
  },
  {
   "cell_type": "code",
   "execution_count": 3,
   "outputs": [
    {
     "name": "stdout",
     "output_type": "stream",
     "text": [
      "Process Time 0.005297183990478516\n"
     ]
    }
   ],
   "source": [
    "import rbm_torch.utils as utils\n",
    "import data_prep as dp\n",
    "\n",
    "fasta_file = \"r5c.fasta\"\n",
    "\n",
    "seqs, affs, chars, q = utils.fasta_read(f\"./exo/{fasta_file}\", \"dna\", threads=12)\n",
    "stand_affs = dp.standardize_affinities(affs, out_plots=dataset_dir+f\"{fasta_file.split('.')[0]}_lo\", scale=\"linear\", dividers=[10, 40, 80], target_scaling=[1., 2., 2.], divider_type=\"percentile\")\n",
    "\n",
    "dp.make_weight_file(f\"./exo/{fasta_file.split('.')[0]}_lo_weights\", stand_affs, \"lo\")"
   ],
   "metadata": {
    "collapsed": false,
    "pycharm": {
     "name": "#%%\n"
    }
   }
  },
  {
   "cell_type": "code",
   "execution_count": 4,
   "outputs": [],
   "source": [
    "thresholds = min_vals\n",
    "for fid, fasta_file in enumerate(all_fasta_files):\n",
    "    new_weights = dp.negate_affinites(all_affinities[fid], thresholds[fid], out_plot=f\"./exo/{fasta_file.split('.')[0]}_nw_affs\", negative_factor=100.)\n",
    "    dp.make_weight_file(f\"./exo/{fasta_file.split('.')[0]}_nw_weights\", new_weights, \"nw\")"
   ],
   "metadata": {
    "collapsed": false,
    "pycharm": {
     "name": "#%%\n"
    }
   }
  },
  {
   "cell_type": "code",
   "execution_count": 5,
   "outputs": [
    {
     "data": {
      "text/plain": "0"
     },
     "execution_count": 5,
     "metadata": {},
     "output_type": "execute_result"
    }
   ],
   "source": [
    "import subprocess as sp\n",
    "os.chdir(\"../rbm_torch/\")\n",
    "sp.check_call(f\"python submit.py -d exo -r r5c -p wzhengpu1 -q wildfire -g 1 -e 200 -c 6 --precision single -m crbm -w r5c_lo_weights.json\", shell=True)"
   ],
   "metadata": {
    "collapsed": false,
    "pycharm": {
     "name": "#%%\n"
    }
   }
  },
  {
   "cell_type": "code",
   "execution_count": 5,
   "outputs": [
    {
     "data": {
      "text/plain": "'/home/jonah/PycharmProjects/phage_display_ML/datasets'"
     },
     "execution_count": 5,
     "metadata": {},
     "output_type": "execute_result"
    }
   ],
   "source": [
    "import os\n",
    "os.getcwd()"
   ],
   "metadata": {
    "collapsed": false,
    "pycharm": {
     "name": "#%%\n"
    }
   }
  },
  {
   "cell_type": "code",
   "execution_count": 6,
   "outputs": [],
   "source": [
    "#### Now we just need to generate the submission script\n",
    "# run from phage_display/rbm_torch/\n",
    "import subprocess as sp\n",
    "import os\n",
    "\n",
    "\n",
    "# weight_files = [f\"r{i}_st_weights.json\" for i in range(1, 6)]\n",
    "weight_files = [f\"r{i}_sp_weights.json\" for i in range(1, 6)]\n",
    "rounds = [f\"r{i}\" for i in range(1,6)]\n",
    "\n",
    "os.chdir(\"../rbm_torch/\")\n",
    "for i in range(5):\n",
    "    # crbm models\n",
    "    sp.check_call(f\"python submit.py -d exo -r {rounds[i]} -p wzhengpu1 -q wildfire -g 2 -e 200 -c 6 --precision single -m crbm -w {weight_files[i]}\", shell=True)\n",
    "    # rbm models\n",
    "    sp.check_call(f\"python submit.py -d exo -r {rounds[i]} -p wzhengpu1 -q wildfire -g 1 -e 200 -c 6 --precision single -m rbm -w {weight_files[i]}\", shell=True)\n"
   ],
   "metadata": {
    "collapsed": false,
    "pycharm": {
     "name": "#%%\n"
    }
   }
  },
  {
   "cell_type": "markdown",
   "source": [
    "## Creating Submission Scripts for HPC Slurm Jobs using submit.py script"
   ],
   "metadata": {
    "collapsed": false,
    "pycharm": {
     "name": "#%% md\n"
    }
   }
  },
  {
   "cell_type": "code",
   "execution_count": null,
   "outputs": [],
   "source": [
    "# run from phage_display_ML/rbm_torch/\n",
    "!python submit.py -d exo -r exosome -w exosome_nw_weights.json -p wzhengpu1 -q wildfire -g 2 -e 200 -c 8 --precision single -m crbm\n",
    "!python submit.py -d exo -r exosome -w exosome_st_weights.json -p wzhengpu1 -q wildfire -g 2 -e 200 -c 8 --precision single -m crbm"
   ],
   "metadata": {
    "collapsed": false,
    "pycharm": {
     "name": "#%%\n"
    }
   }
  },
  {
   "cell_type": "code",
   "execution_count": 20,
   "outputs": [
    {
     "name": "stdout",
     "output_type": "stream",
     "text": [
      "hi\n"
     ]
    }
   ],
   "source": [
    "print(\"hi\")"
   ],
   "metadata": {
    "collapsed": false,
    "pycharm": {
     "name": "#%%\n"
    }
   }
  },
  {
   "cell_type": "code",
   "execution_count": 43,
   "outputs": [],
   "source": [
    "import numpy as np\n",
    "import data_prep as dp\n",
    "m1_close_neighs = dp.load_neighbor_file(\"./exo/m1.fasta_10_neighbor_counts.pkl\")\n",
    "m1_far_neighs = dp.load_neighbor_file(\"./exo/m1.fasta_20_neighbor_counts.pkl\")\n",
    "\n",
    "neigh_avg = (np.asarray(m1_close_neighs)+np.asarray(m1_far_neighs))/2"
   ],
   "metadata": {
    "collapsed": false,
    "pycharm": {
     "name": "#%%\n"
    }
   }
  },
  {
   "cell_type": "code",
   "execution_count": 44,
   "outputs": [
    {
     "data": {
      "text/plain": "<Figure size 640x480 with 1 Axes>",
      "image/png": "[encoded data removed]"
     },
     "metadata": {},
     "output_type": "display_data"
    }
   ],
   "source": [
    "dp.quick_hist(neigh_avg)"
   ],
   "metadata": {
    "collapsed": false,
    "pycharm": {
     "name": "#%%\n"
    }
   }
  },
  {
   "cell_type": "code",
   "execution_count": 13,
   "outputs": [
    {
     "name": "stdout",
     "output_type": "stream",
     "text": [
      "Process Time 0.02197122573852539\n"
     ]
    }
   ],
   "source": [
    "import math\n",
    "from rbm_torch.utils import utils\n",
    "import data_prep as dp\n",
    "import numpy as np\n",
    "\n",
    "fasta_file = \"m1.fasta\"\n",
    "m1_close_neighs = dp.load_neighbor_file(\"./exo/m1.fasta_10_neighbor_counts.pkl\")\n",
    "m1_far_neighs = dp.load_neighbor_file(\"./exo/m1.fasta_20_neighbor_counts.pkl\")\n",
    "neigh_avg = (np.asarray(m1_close_neighs)+np.asarray(m1_far_neighs))/2\n",
    "\n",
    "\n",
    "seqs, affs, chars, q = utils.fasta_read(f\"./exo/{fasta_file}\", \"dna\", threads=12)\n",
    "stand_affs = dp.standardize_affinities(affs, out_plots=f\"./exo/{fasta_file.split('.')[0]}_st\", scale=\"log\", dividers=[1000], target_scaling=[2.], divider_type=\"copynum\")\n",
    "neigh_vals = 1. + 1./neigh_avg\n",
    "neigh_exp_vals = np.exp(neigh_vals) - math.e\n",
    "\n",
    "dp.make_weight_file(\"m1_nexp\", neigh_exp_vals.tolist(), \"nexp\", dir=\"./exo/\")\n",
    "dp.make_weight_file(\"m1_ne\", neigh_vals.tolist(), \"ne\", dir=\"./exo/\")\n",
    "dp.make_weight_file(\"m1_st\", neigh_vals.tolist(), \"st\", dir=\"./exo/\")\n",
    "dp.make_weight_file(\"m1_stne\", (neigh_vals*stand_affs).tolist(), \"stne\", dir=\"./exo/\")\n",
    "dp.make_weight_file(\"m1_stnexp\", (neigh_exp_vals*stand_affs).tolist(), \"stnexp\", dir=\"./exo/\")"
   ],
   "metadata": {
    "collapsed": false,
    "pycharm": {
     "name": "#%%\n"
    }
   }
  },
  {
   "cell_type": "code",
   "execution_count": 14,
   "outputs": [
    {
     "name": "stdout",
     "output_type": "stream",
     "text": [
      "Process Time 0.0038950443267822266\n"
     ]
    }
   ],
   "source": [
    "import math\n",
    "from rbm_torch.utils import utils\n",
    "import data_prep as dp\n",
    "import numpy as np\n",
    "\n",
    "fasta_file = \"m1c.fasta\"\n",
    "m1c_close_neighs = dp.load_neighbor_file(\"./exo/m1c.fasta_10_neighbor_counts.pkl\")\n",
    "m1c_far_neighs = dp.load_neighbor_file(\"./exo/m1c.fasta_20_neighbor_counts.pkl\")\n",
    "neigh_avg = (np.asarray(m1c_close_neighs)+np.asarray(m1c_far_neighs))/2\n",
    "\n",
    "\n",
    "seqs, affs, chars, q = utils.fasta_read(f\"./exo/{fasta_file}\", \"dna\", threads=12)\n",
    "stand_affs = dp.standardize_affinities(affs, out_plots=f\"./exo/{fasta_file.split('.')[0]}_st\", scale=\"log\", dividers=[70], target_scaling=[2.], divider_type=\"percentile\")\n",
    "neigh_vals = 1. + 1./neigh_avg\n",
    "neigh_exp_vals = np.exp(neigh_vals) - math.e\n",
    "\n",
    "dp.make_weight_file(\"m1c_nexp\", neigh_exp_vals.tolist(), \"nexp\", dir=\"./exo/\")\n",
    "dp.make_weight_file(\"m1c_ne\", neigh_vals.tolist(), \"ne\", dir=\"./exo/\")\n",
    "dp.make_weight_file(\"m1c_st\", neigh_vals.tolist(), \"st\", dir=\"./exo/\")\n",
    "dp.make_weight_file(\"m1c_stne\", (neigh_vals*stand_affs).tolist(), \"stne\", dir=\"./exo/\")\n",
    "dp.make_weight_file(\"m1c_stnexp\", (neigh_exp_vals*stand_affs).tolist(), \"stnexp\", dir=\"./exo/\")"
   ],
   "metadata": {
    "collapsed": false,
    "pycharm": {
     "name": "#%%\n"
    }
   }
  },
  {
   "cell_type": "code",
   "execution_count": 9,
   "outputs": [],
   "source": [
    "dp.make_weight_file(\"m1_ne\", (1/neigh_avg).tolist(), \"ne\", dir=\"./exo/\")"
   ],
   "metadata": {
    "collapsed": false,
    "pycharm": {
     "name": "#%%\n"
    }
   }
  },
  {
   "cell_type": "code",
   "execution_count": 15,
   "outputs": [
    {
     "data": {
      "text/plain": "0"
     },
     "execution_count": 15,
     "metadata": {},
     "output_type": "execute_result"
    }
   ],
   "source": [
    "import subprocess as sp\n",
    "import os\n",
    "os.chdir(\"../rbm_torch/\")\n",
    "sp.call(f\"python submit.py -d exo -r m1 -p wzhengpu1 -q wildfire -m crbm -e 2000 -g 2 --precision single\", shell=True) # weights\n",
    "sp.call(f\"python submit.py -d exo -r m1 -p wzhengpu1 -q wildfire -m crbm -e 2000 -g 2 -w m1_nexp.json --precision single\", shell=True) # weights\n",
    "sp.call(f\"python submit.py -d exo -r m1 -p wzhengpu1 -q wildfire -m crbm -e 2000 -g 2 -w m1_ne.json --precision single\", shell=True) # weights\n",
    "sp.call(f\"python submit.py -d exo -r m1 -p wzhengpu1 -q wildfire -m crbm -e 2000 -g 2 -w m1_st.json --precision single\", shell=True) # weights\n",
    "sp.call(f\"python submit.py -d exo -r m1 -p wzhengpu1 -q wildfire -m crbm -e 2000 -g 2 -w m1_stne.json --precision single\", shell=True) # weights\n",
    "sp.call(f\"python submit.py -d exo -r m1 -p wzhengpu1 -q wildfire -m crbm -e 2000 -g 2 -w m1_stnexp.json --precision single\", shell=True) # weights\n",
    "\n",
    "# sp.call(f\"python submit.py -d exo -r m1c -p wzhengpu1 -q wildfire -m crbm -e 2000 -g 1 -w m1c_lg.json --precision single\", shell=True) # weights\n",
    "sp.call(f\"python submit.py -d exo -r m1c -p wzhengpu1 -q wildfire -m crbm -e 2000 -g 1 -w m1c_st.json --precision single\", shell=True) # weights\n",
    "sp.call(f\"python submit.py -d exo -r m1c -p wzhengpu1 -q wildfire -m crbm -e 2000 -g 1 -w m1c_ne.json --precision single\", shell=True) # weights\n",
    "sp.call(f\"python submit.py -d exo -r m1c -p wzhengpu1 -q wildfire -m crbm -e 2000 -g 1 -w m1c_nexp.json --precision single\", shell=True) # weights\n",
    "sp.call(f\"python submit.py -d exo -r m1c -p wzhengpu1 -q wildfire -m crbm -e 2000 -g 1 -w m1c_stne.json --precision single\", shell=True) # weights\n",
    "sp.call(f\"python submit.py -d exo -r m1c -p wzhengpu1 -q wildfire -m crbm -e 2000 -g 1 --precision single\", shell=True) # no weights\n",
    "sp.call(f\"python submit.py -d exo -r m1c -p wzhengpu1 -q wildfire -m crbm -e 2000 -g 1 -w m1c_stnexp.json --precision single\", shell=True) # weights"
   ],
   "metadata": {
    "collapsed": false,
    "pycharm": {
     "name": "#%%\n"
    }
   }
  },
  {
   "cell_type": "code",
   "execution_count": 39,
   "outputs": [
    {
     "name": "stdout",
     "output_type": "stream",
     "text": [
      "Process Time 0.0037202835083007812\n"
     ]
    },
    {
     "data": {
      "text/plain": "<Figure size 640x480 with 1 Axes>",
      "image/png": "[encoded data removed]"
     },
     "metadata": {},
     "output_type": "display_data"
    },
    {
     "data": {
      "text/plain": "<Figure size 640x480 with 1 Axes>",
      "image/png": "[encoded data removed]"
     },
     "metadata": {},
     "output_type": "display_data"
    },
    {
     "data": {
      "text/plain": "<Figure size 640x480 with 1 Axes>",
      "image/png": "[encoded data removed]"
     },
     "metadata": {},
     "output_type": "display_data"
    },
    {
     "data": {
      "text/plain": "<Figure size 640x480 with 1 Axes>",
      "image/png": "[encoded data removed]"
     },
     "metadata": {},
     "output_type": "display_data"
    },
    {
     "data": {
      "text/plain": "<Figure size 640x480 with 1 Axes>",
      "image/png": "[encoded data removed]"
     },
     "metadata": {},
     "output_type": "display_data"
    }
   ],
   "source": [
    "import numpy as np\n",
    "import data_prep as dp\n",
    "import rbm_torch.utils.utils as utils\n",
    "\n",
    "fasta_file = \"m1c.fasta\"\n",
    "\n",
    "seqs, affs, chars, q = utils.fasta_read(f\"./exo/{fasta_file}\", \"dna\", threads=12)\n",
    "\n",
    "## First Set of Weights for m1c file\n",
    "# log_affs = dp.log_scale(affs, base=0.001)\n",
    "# lin_affs = dp.scale_values_np(np.asarray(affs), min=0.01, max=10)\n",
    "# dp.quick_hist(log_affs)\n",
    "# dp.quick_hist(lin_affs)\n",
    "# dp.make_weight_file(f\"./exo/{fasta_file.split('.')[0]}_lg\", log_affs.tolist(), \"lg\")\n",
    "# dp.make_weight_file(f\"./exo/{fasta_file.split('.')[0]}_ln\", lin_affs.tolist(), \"ln\")\n",
    "\n",
    "## Second Set of Weights for m1c file\n",
    "stand_affs = np.asarray(dp.standardize_affinities(affs, out_plots=dataset_dir+f\"{fasta_file.split('.')[0]}_st\", scale=\"log\", dividers=[90], target_scaling=[2.], divider_type=\"percentile\"))*50\n",
    "\n",
    "dp.quick_hist(stand_affs)\n",
    "\n",
    "neighs_far = dp.load_neighbor_file(\"./exo/m1c.fasta_20_neighbor_counts.pkl\")\n",
    "neighs_close = dp.load_neighbor_file(\"./exo/m1c.fasta_10_neighbor_counts.pkl\")\n",
    "\n",
    "neigh_avg = (np.asarray(neighs_far)+np.asarray(neighs_close))/2\n",
    "dp.quick_hist(1/neigh_avg)\n",
    "\n",
    "neigh_weights = 1. + 1./neigh_avg\n",
    "\n",
    "dp.quick_hist(neigh_weights * stand_affs)\n",
    "\n",
    "dp.make_weight_file(f\"./exo/{fasta_file.split('.')[0]}_st\", stand_affs.tolist(), \"st\")\n",
    "dp.make_weight_file(f\"./exo/{fasta_file.split('.')[0]}_ne\", neigh_weights.tolist(), \"ne\")\n",
    "dp.make_weight_file(f\"./exo/{fasta_file.split('.')[0]}_stne\", (stand_affs*neigh_weights).tolist(), \"stne\")\n",
    "\n"
   ],
   "metadata": {
    "collapsed": false,
    "pycharm": {
     "name": "#%%\n"
    }
   }
  },
  {
   "cell_type": "code",
   "execution_count": 26,
   "outputs": [
    {
     "data": {
      "text/plain": "<Figure size 640x480 with 1 Axes>",
      "image/png": "[encoded data removed]"
     },
     "metadata": {},
     "output_type": "display_data"
    },
    {
     "data": {
      "text/plain": "<Figure size 640x480 with 1 Axes>",
      "image/png": "[encoded data removed]"
     },
     "metadata": {},
     "output_type": "display_data"
    },
    {
     "data": {
      "text/plain": "<Figure size 640x480 with 1 Axes>",
      "image/png": "[encoded data removed]"
     },
     "metadata": {},
     "output_type": "display_data"
    }
   ],
   "source": [
    "neighs_far = dp.load_neighbor_file(\"./exo/m1c.fasta_20_neighbor_counts.pkl\")\n",
    "neighs_close = dp.load_neighbor_file(\"./exo/m1c.fasta_10_neighbor_counts.pkl\")\n",
    "\n",
    "neigh_avg = (np.asarray(neighs_far)+np.asarray(neighs_close))/2\n",
    "dp.quick_hist(1/neigh_avg)\n",
    "\n",
    "neigh_weights = (1. + 1./neigh_avg).tolist()"
   ],
   "metadata": {
    "collapsed": false,
    "pycharm": {
     "name": "#%%\n"
    }
   }
  },
  {
   "cell_type": "code",
   "execution_count": 42,
   "outputs": [],
   "source": [
    "os.chdir(\"../datasets\")"
   ],
   "metadata": {
    "collapsed": false,
    "pycharm": {
     "name": "#%%\n"
    }
   }
  },
  {
   "cell_type": "code",
   "execution_count": 48,
   "outputs": [
    {
     "data": {
      "text/plain": "0"
     },
     "execution_count": 48,
     "metadata": {},
     "output_type": "execute_result"
    }
   ],
   "source": [
    "import subprocess as sp\n",
    "import os\n",
    "os.chdir(\"../rbm_torch/\")\n",
    "\n",
    "### First Set of Weights\n",
    "# sp.call(f\"python submit.py -d exo -r m1c -p wzhengpu1 -q wildfire -m crbm -e 200 -g 1 -w m1c_lg.json --precision single\", shell=True) # weights\n",
    "# sp.call(f\"python submit.py -d exo -r m1c -p wzhengpu1 -q wildfire -m crbm -e 200 -g 1 -w m1c_ln.json --precision single\", shell=True) # weights\n",
    "# sp.call(f\"python submit.py -d exo -r m1c -p wzhengpu1 -q wildfire -m crbm -e 200 -g 1 --precision single\", shell=True) # no weights\n",
    "\n",
    "\n",
    "\n",
    "#### Second set of weights\n",
    "# sp.call(f\"python submit.py -d exo -r m1c -p wzhengpu1 -q wildfire -m crbm -e 400 -g 1 -w m1c_lg.json --precision single\", shell=True) # weights\n",
    "# sp.call(f\"python submit.py -d exo -r m1c -p wzhengpu1 -q wildfire -m crbm -e 400 -g 1 -w m1c_st.json --precision single\", shell=True) # weights\n",
    "# sp.call(f\"python submit.py -d exo -r m1c -p wzhengpu1 -q wildfire -m crbm -e 400 -g 1 -w m1c_ne.json --precision single\", shell=True) # weights\n",
    "# sp.call(f\"python submit.py -d exo -r m1c -p wzhengpu1 -q wildfire -m crbm -e 400 -g 1 -w m1c_stne.json --precision single\", shell=True) # weights\n",
    "# sp.call(f\"python submit.py -d exo -r m1c -p wzhengpu1 -q wildfire -m crbm -e 400 -g 1 --precision single\", shell=True) # no weights\n",
    "\n",
    "\n",
    "#### Retrain these but longer\n",
    "sp.call(f\"python submit.py -d exo -r m1c -p wzhengpu1 -q wildfire -m crbm -e 1000 -g 1 -w m1c_lg.json --precision single\", shell=True) # weights\n",
    "sp.call(f\"python submit.py -d exo -r m1c -p wzhengpu1 -q wildfire -m crbm -e 1000 -g 1 -w m1c_st.json --precision single\", shell=True) # weights\n",
    "sp.call(f\"python submit.py -d exo -r m1c -p wzhengpu1 -q wildfire -m crbm -e 1000 -g 1 -w m1c_ne.json --precision single\", shell=True) # weights\n",
    "sp.call(f\"python submit.py -d exo -r m1c -p wzhengpu1 -q wildfire -m crbm -e 1000 -g 1 -w m1c_stne.json --precision single\", shell=True) # weights\n",
    "sp.call(f\"python submit.py -d exo -r m1c -p wzhengpu1 -q wildfire -m crbm -e 1000 -g 1 --precision single\", shell=True) # no weights"
   ],
   "metadata": {
    "collapsed": false,
    "pycharm": {
     "name": "#%%\n"
    }
   }
  },
  {
   "cell_type": "code",
   "execution_count": null,
   "outputs": [],
   "source": [],
   "metadata": {
    "collapsed": false,
    "pycharm": {
     "name": "#%%\n"
    }
   }
  }
 ],
 "metadata": {
  "kernelspec": {
   "name": "python3",
   "language": "python",
   "display_name": "Python 3"
  },
  "language_info": {
   "codemirror_mode": {
    "name": "ipython",
    "version": 2
   },
   "file_extension": ".py",
   "mimetype": "text/x-python",
   "name": "python",
   "nbconvert_exporter": "python",
   "pygments_lexer": "ipython2",
   "version": "2.7.6"
  }
 },
 "nbformat": 4,
 "nbformat_minor": 0
}