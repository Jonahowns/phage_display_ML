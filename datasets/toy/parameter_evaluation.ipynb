{
 "cells": [
  {
   "cell_type": "code",
   "execution_count": null,
   "metadata": {
    "collapsed": true,
    "pycharm": {
     "name": "#%%\n"
    }
   },
   "outputs": [],
   "source": [
    "# import model and everything needed to run it\n",
    "from pytorch_lightning.loggers import TensorBoardLogger\n",
    "from pytorch_lightning import Trainer\n",
    "\n",
    "import os\n",
    "import numpy as np\n",
    "from copy import deepcopy\n",
    "from rbm_torch.models.pool_crbm_base import pool_CRBM\n",
    "from rbm_torch.utils.utils import load_run_file"
   ]
  },
  {
   "cell_type": "code",
   "execution_count": null,
   "outputs": [],
   "source": [
    "# load data from preconfigured run file\n",
    "run_file = \"./datasets/toy/run_files/toy_pcrbm.json\"\n",
    "run_data, base_config = load_run_file(run_file)\n",
    "\n",
    "base_config[\"model_name\"] = run_data[\"model_name\"]\n",
    "base_config[\"gpus\"] = run_data[\"gpus\"]\n",
    "\n",
    "model_type = run_data[\"model_type\"]\n",
    "assert model_type == \"pool_crbm\"\n",
    "\n",
    "server_model_dir = run_data[\"server_model_dir\"]\n",
    "base_config['seed']"
   ],
   "metadata": {
    "collapsed": false,
    "pycharm": {
     "name": "#%%\n"
    }
   }
  },
  {
   "cell_type": "code",
   "execution_count": null,
   "outputs": [],
   "source": [
    "# Training Code for individual model\n",
    "def train_model(config):\n",
    "    model = pool_CRBM(config, debug=False, precision=config[\"precision\"])\n",
    "    logger = TensorBoardLogger(server_model_dir, name=config[\"model_name\"])\n",
    "    if config[\"gpus\"] > 1:\n",
    "        # distributed data parallel, multi-gpus on single machine or across multiple machines\n",
    "        plt = Trainer(max_epochs=config['epochs'], logger=logger, gpus=run_data[\"gpus\"], accelerator=\"cuda\", strategy=\"ddp\")  # distributed data-parallel\n",
    "    else:\n",
    "        if config['gpus'] == 0:\n",
    "            plt = Trainer(max_epochs=config['epochs'], logger=logger, accelerator=\"cpu\")\n",
    "        else:\n",
    "            plt = Trainer(max_epochs=config['epochs'], logger=logger, devices=run_data[\"gpus\"], accelerator=\"cuda\")  # gpus=1,\n",
    "    plt.fit(model)\n",
    "    return"
   ],
   "metadata": {
    "collapsed": false,
    "pycharm": {
     "name": "#%%\n"
    }
   }
  },
  {
   "cell_type": "code",
   "execution_count": null,
   "outputs": [],
   "source": [
    "# define several models for comparison across a single variable\n",
    "vary = \"ld\"\n",
    "vrange = np.geomspace(0.001, 0.1, num=6).tolist()\n",
    "vrange.insert(0, 0.)\n",
    "vrange = [round(x, 3) for x in vrange]\n",
    "\n",
    "\n",
    "model_configs = [deepcopy(base_config) for _ in vrange]\n",
    "\n",
    "for vid, vval in enumerate(vrange):\n",
    "    model_configs[vid][vary] = vval\n",
    "    model_configs[vid][\"model_name\"] += f\"_{vary}_{vid}\""
   ],
   "metadata": {
    "collapsed": false,
    "pycharm": {
     "name": "#%%\n"
    }
   }
  },
  {
   "cell_type": "code",
   "execution_count": null,
   "outputs": [],
   "source": [
    "for vid in range(len(vrange)):\n",
    "    train_model(model_configs[vid])"
   ],
   "metadata": {
    "collapsed": false,
    "pycharm": {
     "name": "#%%\n"
    }
   }
  }
 ],
 "metadata": {
  "kernelspec": {
   "display_name": "Python 3",
   "language": "python",
   "name": "python3"
  },
  "language_info": {
   "codemirror_mode": {
    "name": "ipython",
    "version": 2
   },
   "file_extension": ".py",
   "mimetype": "text/x-python",
   "name": "python",
   "nbconvert_exporter": "python",
   "pygments_lexer": "ipython2",
   "version": "2.7.6"
  }
 },
 "nbformat": 4,
 "nbformat_minor": 0
}