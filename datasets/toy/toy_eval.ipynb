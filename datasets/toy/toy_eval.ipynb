{
 "cells": [
  {
   "cell_type": "code",
   "execution_count": 1,
   "metadata": {
    "collapsed": true,
    "ExecuteTime": {
     "start_time": "2023-06-14T23:41:50.027193Z",
     "end_time": "2023-06-14T23:41:51.785808Z"
    }
   },
   "outputs": [
    {
     "name": "stderr",
     "output_type": "stream",
     "text": [
      "findfont: Font family 'Arial' not found.\n",
      "findfont: Font family 'Arial' not found.\n",
      "findfont: Font family 'Arial' not found.\n",
      "findfont: Font family 'Arial' not found.\n",
      "findfont: Font family 'Arial' not found.\n",
      "findfont: Font family 'Arial' not found.\n",
      "findfont: Font family 'Arial' not found.\n",
      "findfont: Font family 'Arial' not found.\n",
      "findfont: Font family 'Arial' not found.\n",
      "findfont: Font family 'Arial' not found.\n",
      "findfont: Font family 'Arial' not found.\n",
      "findfont: Font family 'Arial' not found.\n",
      "findfont: Font family 'Arial' not found.\n",
      "findfont: Font family 'Arial' not found.\n",
      "findfont: Font family 'Arial' not found.\n",
      "findfont: Font family 'Arial' not found.\n",
      "findfont: Font family 'Arial' not found.\n",
      "findfont: Font family 'Arial' not found.\n",
      "findfont: Font family 'Arial' not found.\n",
      "findfont: Font family 'Arial' not found.\n",
      "findfont: Font family ['Arial'] not found. Falling back to DejaVu Sans.\n",
      "findfont: Font family 'Arial' not found.\n",
      "findfont: Font family 'Arial' not found.\n",
      "findfont: Font family 'Arial' not found.\n",
      "findfont: Font family 'Arial' not found.\n",
      "findfont: Font family 'Arial' not found.\n",
      "findfont: Font family 'Arial' not found.\n",
      "findfont: Font family 'Arial' not found.\n",
      "findfont: Font family 'Arial' not found.\n"
     ]
    }
   ],
   "source": [
    "# import model and everything needed to run it\n",
    "from pytorch_lightning.loggers import TensorBoardLogger\n",
    "from pytorch_lightning import Trainer\n",
    "import rbm_torch.analysis.analysis_methods as am\n",
    "from rbm_torch.utils import utils\n",
    "\n",
    "import os\n",
    "import numpy as np\n",
    "from copy import deepcopy\n",
    "from rbm_torch.models.pool_crbm_base import pool_CRBM\n",
    "from rbm_torch.models.pool_crbm_relu_base import pool_CRBM_relu\n",
    "from rbm_torch.models.crbm_base import CRBM\n",
    "from rbm_torch.utils.utils import load_run"
   ]
  },
  {
   "cell_type": "code",
   "execution_count": 1,
   "outputs": [
    {
     "ename": "NameError",
     "evalue": "name 'load_run' is not defined",
     "output_type": "error",
     "traceback": [
      "\u001B[0;31m---------------------------------------------------------------------------\u001B[0m",
      "\u001B[0;31mNameError\u001B[0m                                 Traceback (most recent call last)",
      "Cell \u001B[0;32mIn[1], line 3\u001B[0m\n\u001B[1;32m      1\u001B[0m \u001B[38;5;66;03m# load data from preconfigured run file\u001B[39;00m\n\u001B[1;32m      2\u001B[0m run_file \u001B[38;5;241m=\u001B[39m \u001B[38;5;124m\"\u001B[39m\u001B[38;5;124m./run_files/toy_pcrbm.json\u001B[39m\u001B[38;5;124m\"\u001B[39m\n\u001B[0;32m----> 3\u001B[0m run_data, base_config \u001B[38;5;241m=\u001B[39m \u001B[43mload_run_file\u001B[49m(run_file)\n\u001B[1;32m      5\u001B[0m base_config[\u001B[38;5;124m\"\u001B[39m\u001B[38;5;124mmodel_name\u001B[39m\u001B[38;5;124m\"\u001B[39m] \u001B[38;5;241m=\u001B[39m run_data[\u001B[38;5;124m\"\u001B[39m\u001B[38;5;124mmodel_name\u001B[39m\u001B[38;5;124m\"\u001B[39m]\n\u001B[1;32m      6\u001B[0m base_config[\u001B[38;5;124m\"\u001B[39m\u001B[38;5;124mgpus\u001B[39m\u001B[38;5;124m\"\u001B[39m] \u001B[38;5;241m=\u001B[39m run_data[\u001B[38;5;124m\"\u001B[39m\u001B[38;5;124mgpus\u001B[39m\u001B[38;5;124m\"\u001B[39m]\n",
      "\u001B[0;31mNameError\u001B[0m: name 'load_run' is not defined"
     ]
    }
   ],
   "source": [
    "# load data from preconfigured run file\n",
    "run_file = \"./run_files/toy_pcrbm.json\"\n",
    "run_data, base_config = load_run(run_file)\n",
    "\n",
    "base_config[\"model_name\"] = run_data[\"model_name\"]\n",
    "base_config[\"gpus\"] = run_data[\"gpus\"]\n",
    "\n",
    "model_type = run_data[\"model_type\"]\n",
    "assert model_type == \"pool_crbm\"\n",
    "\n",
    "server_model_dir = run_data[\"server_model_dir\"]\n",
    "base_config['seed'] = 69\n",
    "checkp, version_dir = am.get_checkpoint_path(base_config[\"model_name\"], rbmdir=\"./trained_crbms/\")\n",
    "\n",
    "# load crbm\n",
    "ncrbm = pool_CRBM.load_from_checkpoint(checkp)\n",
    "ncrbm.eval()\n",
    "\n",
    "# generate weights inside the latest version directory\n",
    "utils.all_weights(ncrbm, name=version_dir + base_config[\"model_name\"] + \"ordered\", order_weights=True)"
   ],
   "metadata": {
    "collapsed": false,
    "ExecuteTime": {
     "start_time": "2023-06-06T23:29:15.329334Z",
     "end_time": "2023-06-06T23:29:15.808314Z"
    }
   }
  },
  {
   "cell_type": "code",
   "execution_count": 9,
   "outputs": [],
   "source": [
    "# load data from preconfigured run file\n",
    "run_file = \"./run_files/toy_pcrbm_relu.json\"\n",
    "run_data, base_config = load_run(run_file)\n",
    "\n",
    "base_config[\"model_name\"] = run_data[\"model_name\"]\n",
    "base_config[\"gpus\"] = run_data[\"gpus\"]\n",
    "\n",
    "model_type = run_data[\"model_type\"]\n",
    "assert model_type == \"pool_crbm_relu\"\n",
    "\n",
    "server_model_dir = run_data[\"server_model_dir\"]\n",
    "base_config['seed'] = 69"
   ],
   "metadata": {
    "collapsed": false,
    "ExecuteTime": {
     "start_time": "2023-06-06T16:52:36.810073Z",
     "end_time": "2023-06-06T16:52:36.812092Z"
    }
   }
  },
  {
   "cell_type": "code",
   "execution_count": 3,
   "outputs": [
    {
     "data": {
      "text/plain": "{'fasta_file': './datasets/toy/toy_rare.fasta',\n 'ind_temp': 1.0,\n 'seq_temp': 3.0,\n 'validation_set_size': 1e-05,\n 'test_set_size': 1e-06,\n 'lgap': 0.1,\n 'lbs': 0.0005,\n 'dr': 0.0,\n 'sampling_strategy': 'random',\n 'label_groups': 1,\n 'label_spacing': [0.0, 11000],\n 'group_fraction': [1.0],\n 'sample_multiplier': 200,\n 'v_num': 20,\n 'q': 5,\n 'molecule': 'dna',\n 'epochs': 500,\n 'precision': 'single',\n 'seed': 69,\n 'batch_size': 2000,\n 'mc_moves': 1,\n 'lr': 0.004,\n 'lr_final': 0.001,\n 'decay_after': 0.7,\n 'loss_type': 'free_energy',\n 'sample_type': 'pcd',\n 'sequence_weights': 'fasta',\n 'optimizer': 'AdamW',\n 'weight_decay': 0.0,\n 'l1_2': 7.0,\n 'lf': 10.0,\n 'lcorr': 0.0,\n 'ld': 0.0,\n 'lkd': 2.0,\n 'data_worker_num': 6,\n 'convolution_topology': {'hidden_10': {'number': 6,\n   'kernelx': 10,\n   'kernely': 5,\n   'stridex': 1,\n   'stridey': 1,\n   'paddingx': 0,\n   'paddingy': 0,\n   'dilationx': 1,\n   'dilationy': 1,\n   'output_paddingx': 0,\n   'output_paddingy': 0,\n   'weight': 1.0,\n   'kernel': (10, 5),\n   'dilation': (1, 1),\n   'padding': (0, 0),\n   'stride': (1, 1),\n   'output_padding': (0, 0)}},\n 'sampling_weights': None,\n 'sample_stds': None,\n 'gpus': 0,\n 'model_name': 'pcrbm_toy'}"
     },
     "execution_count": 3,
     "metadata": {},
     "output_type": "execute_result"
    }
   ],
   "source": [
    "base_config"
   ],
   "metadata": {
    "collapsed": false,
    "ExecuteTime": {
     "start_time": "2023-05-25T13:01:53.712354Z",
     "end_time": "2023-05-25T13:01:53.724395Z"
    }
   }
  }
 ],
 "metadata": {
  "kernelspec": {
   "display_name": "Python 3",
   "language": "python",
   "name": "python3"
  },
  "language_info": {
   "codemirror_mode": {
    "name": "ipython",
    "version": 2
   },
   "file_extension": ".py",
   "mimetype": "text/x-python",
   "name": "python",
   "nbconvert_exporter": "python",
   "pygments_lexer": "ipython2",
   "version": "2.7.6"
  }
 },
 "nbformat": 4,
 "nbformat_minor": 0
}
