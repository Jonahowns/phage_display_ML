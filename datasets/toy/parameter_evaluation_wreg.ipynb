{
 "cells": [
  {
   "cell_type": "code",
   "execution_count": 1,
   "metadata": {
    "collapsed": true,
    "ExecuteTime": {
     "start_time": "2023-05-01T13:17:20.465208Z",
     "end_time": "2023-05-01T13:17:22.112876Z"
    },
    "pycharm": {
     "name": "#%%\n"
    }
   },
   "outputs": [
    {
     "name": "stderr",
     "output_type": "stream",
     "text": [
      "findfont: Font family 'Arial' not found.\n",
      "findfont: Font family 'Arial' not found.\n",
      "findfont: Font family 'Arial' not found.\n",
      "findfont: Font family 'Arial' not found.\n",
      "findfont: Font family 'Arial' not found.\n",
      "findfont: Font family 'Arial' not found.\n",
      "findfont: Font family 'Arial' not found.\n",
      "findfont: Font family 'Arial' not found.\n",
      "findfont: Font family 'Arial' not found.\n",
      "findfont: Font family 'Arial' not found.\n",
      "findfont: Font family 'Arial' not found.\n",
      "findfont: Font family 'Arial' not found.\n",
      "findfont: Font family 'Arial' not found.\n",
      "findfont: Font family 'Arial' not found.\n",
      "findfont: Font family 'Arial' not found.\n",
      "findfont: Font family 'Arial' not found.\n",
      "findfont: Font family 'Arial' not found.\n",
      "findfont: Font family 'Arial' not found.\n",
      "findfont: Font family 'Arial' not found.\n",
      "findfont: Font family 'Arial' not found.\n",
      "findfont: Font family ['Arial'] not found. Falling back to DejaVu Sans.\n",
      "findfont: Font family 'Arial' not found.\n",
      "findfont: Font family 'Arial' not found.\n",
      "findfont: Font family 'Arial' not found.\n",
      "findfont: Font family 'Arial' not found.\n",
      "findfont: Font family 'Arial' not found.\n",
      "findfont: Font family 'Arial' not found.\n",
      "findfont: Font family 'Arial' not found.\n",
      "findfont: Font family 'Arial' not found.\n"
     ]
    }
   ],
   "source": [
    "# import model and everything needed to run it\n",
    "from pytorch_lightning.loggers import TensorBoardLogger\n",
    "from pytorch_lightning import Trainer\n",
    "\n",
    "import os\n",
    "import numpy as np\n",
    "from copy import deepcopy\n",
    "from rbm_torch.models.pool_crbm_base import pool_CRBM\n",
    "from rbm_torch.utils.utils import load_run_file"
   ]
  },
  {
   "cell_type": "code",
   "execution_count": 5,
   "outputs": [],
   "source": [
    "# load data from preconfigured run file\n",
    "run_file = \"./run_files/toy_pcrbm.json\"\n",
    "run_data, base_config = load_run_file(run_file)\n",
    "\n",
    "base_config[\"model_name\"] = run_data[\"model_name\"]\n",
    "base_config[\"gpus\"] = run_data[\"gpus\"]\n",
    "\n",
    "model_type = run_data[\"model_type\"]\n",
    "assert model_type == \"pool_crbm\"\n",
    "\n",
    "server_model_dir = run_data[\"server_model_dir\"]\n",
    "base_config['seed'] = 69\n",
    "\n",
    "base_config['lgap'] = 0.0\n",
    "base_config['lbs'] = 0.0\n",
    "base_config['lcorr'] = 0.0\n",
    "base_config['ld'] = 0.0\n",
    "base_config['l1_2'] = 1.0\n",
    "base_config['epochs'] = 1000"
   ],
   "metadata": {
    "collapsed": false,
    "ExecuteTime": {
     "start_time": "2023-05-01T13:20:24.332325Z",
     "end_time": "2023-05-01T13:20:24.334273Z"
    },
    "pycharm": {
     "name": "#%%\n"
    }
   }
  },
  {
   "cell_type": "code",
   "execution_count": 10,
   "outputs": [],
   "source": [
    "# Training Code for individual model\n",
    "def train_model(config):\n",
    "    model = pool_CRBM(config, debug=False, precision=config[\"precision\"])\n",
    "    logger = TensorBoardLogger(server_model_dir, name=config[\"model_name\"])\n",
    "    if config[\"gpus\"] > 1:\n",
    "        # distributed data parallel, multi-gpus on single machine or across multiple machines\n",
    "        plt = Trainer(max_epochs=config['epochs'], logger=logger, gpus=run_data[\"gpus\"], accelerator=\"cuda\", strategy=\"ddp\", enable_progress_bar=False, enable_model_summary=False)  # distributed data-parallel\n",
    "    else:\n",
    "        if config['gpus'] == 0:\n",
    "            plt = Trainer(max_epochs=config['epochs'], logger=logger, accelerator=\"cpu\", enable_progress_bar=False, enable_model_summary=False)\n",
    "        else:\n",
    "            plt = Trainer(max_epochs=config['epochs'], logger=logger, devices=run_data[\"gpus\"], accelerator=\"cuda\", enable_progress_bar=False, enable_model_summary=False)  # gpus=1,\n",
    "    plt.fit(model)\n",
    "    return"
   ],
   "metadata": {
    "collapsed": false,
    "ExecuteTime": {
     "start_time": "2023-05-01T14:59:52.457974Z",
     "end_time": "2023-05-01T14:59:52.505556Z"
    },
    "pycharm": {
     "name": "#%%\n"
    }
   }
  },
  {
   "cell_type": "code",
   "execution_count": 38,
   "outputs": [],
   "source": [
    "import tbparse\n",
    "import pandas as pd\n",
    "from rbm_torch.analysis import analysis_methods as am\n",
    "\n",
    "def parse_tb_files_crbm(model_str, model_dir=\"./\", version=None):\n",
    "    \"\"\"parses the log directory of a given model, and optionally version. Extracts data to a pandas dataframe for\n",
    "    easy graphing of our model\"\"\"\n",
    "    checkp, version_dir = am.get_checkpoint_path(model_str, rbmdir=model_dir, version=version)\n",
    "\n",
    "    # Read in all scalar event files and extract info\n",
    "    scalars = [\"weight_reg\", \"field_reg\", \"distance_reg\", \"gap_reg\", \"free_energy_diff\", \"loss\", \"free_energy_pos\", \"free_energy_neg\", \"Input Correlation Reg\"]\n",
    "    dfs = []\n",
    "    for scalar in scalars:\n",
    "        reader = tbparse.SummaryReader(f\"{version_dir}/Train Scalars_{scalar}\")\n",
    "        df = reader.scalars\n",
    "        rename = {\"Train Scalars\": scalar}\n",
    "        df.replace({\"tag\": rename}, inplace=True)\n",
    "        dfs.append(df)\n",
    "\n",
    "    # Read in the main event file and drop almost all the information in it\n",
    "    reader = tbparse.SummaryReader(version_dir)\n",
    "    df = reader.scalars\n",
    "    print(df.keys())\n",
    "\n",
    "    removal_tags = [\"Train Scalars\", \"Val Scalars\", \"hp_metric\", \"train_free_energy_epoch\", \"val_free_energy_epoch\", \"ptl/free_energy_diff_step\",\n",
    "                    \"val_free_energy_step\", \"train_free_energy_step\", \"train_loss_step\", \"epoch\", \"train_loss_epoch\"]\n",
    "    rename_tags = {\"ptl/train_free_energy_epoch\": \"train_free_energy_epoch\",\n",
    "                   \"ptl/val_free_energy\": \"val_free_energy\"}\n",
    "\n",
    "    # Everything is Removed except for the Validation Free Energy\n",
    "    for rtag in removal_tags:\n",
    "        df.drop(df[df['tag'].str.contains(rtag)].index, inplace = True)\n",
    "\n",
    "    df.replace({\"tag\": rename_tags}, inplace=True)\n",
    "\n",
    "    df = df.iloc[1: , :] # Removes a false 0 step value for the Validation Free Energy\n",
    "    dfs.append(df)\n",
    "\n",
    "    df = pd.concat(dfs)  # Join all dfs together\n",
    "    df.rename(columns={\"step\": \"Epoch\", \"tag\": \"Scalar\", \"value\": \"Value\"}, inplace=True)  # rename columns to epoch\n",
    "    df.reset_index(inplace=True, drop=True)\n",
    "    df[\"Model\"] = model_str\n",
    "    return df"
   ],
   "metadata": {
    "collapsed": false,
    "ExecuteTime": {
     "start_time": "2023-05-01T17:40:20.009783Z",
     "end_time": "2023-05-01T17:40:20.054516Z"
    },
    "pycharm": {
     "name": "#%%\n"
    }
   }
  },
  {
   "cell_type": "markdown",
   "source": [
    "## Define Models"
   ],
   "metadata": {
    "collapsed": false,
    "pycharm": {
     "name": "#%% md\n"
    }
   }
  },
  {
   "cell_type": "code",
   "execution_count": null,
   "outputs": [],
   "source": [
    "# define several models for comparison across a single variable\n",
    "vary = \"l1_2\"\n",
    "vrange = np.geomspace(0.1, 100.0, num=10).tolist()\n",
    "vrange.insert(0, 0.)\n",
    "vrange = [round(x, 3) for x in vrange]\n",
    "\n",
    "model_configs = [deepcopy(base_config) for _ in vrange]\n",
    "\n",
    "for vid, vval in enumerate(vrange):\n",
    "    model_configs[vid][vary] = vval\n",
    "    model_configs[vid][\"model_name\"] += f\"_{vary}_{vid}\"\n",
    "\n"
   ],
   "metadata": {
    "collapsed": false,
    "pycharm": {
     "name": "#%%\n"
    }
   }
  },
  {
   "cell_type": "code",
   "execution_count": null,
   "outputs": [],
   "source": [
    "# Train Models\n",
    "cdir = os.getcwd()\n",
    "os.chdir(\"/home/jonah/PycharmProjects/phage_display_ML/\")\n",
    "\n",
    "for vid in range(len(vrange)):\n",
    "    train_model(model_configs[vid])\n",
    "\n",
    "os.chdir(cdir)"
   ],
   "metadata": {
    "collapsed": false,
    "pycharm": {
     "name": "#%%\n"
    }
   }
  },
  {
   "cell_type": "markdown",
   "source": [
    "## Analysis"
   ],
   "metadata": {
    "collapsed": false,
    "pycharm": {
     "name": "#%% md\n"
    }
   }
  },
  {
   "cell_type": "code",
   "execution_count": null,
   "outputs": [],
   "source": [
    "# Gather Tensorboard Data for all models\n",
    "dfs = []\n",
    "for i in range(len(vrange)):\n",
    "    df = parse_tb_files_crbm(model_configs[i][\"model_name\"], model_dir=\"./trained_crbms/\")\n",
    "    dfs.append(df)\n",
    "df = pd.concat(dfs)  # Join all dfs together"
   ],
   "metadata": {
    "collapsed": false,
    "pycharm": {
     "name": "#%%\n"
    }
   }
  },
  {
   "cell_type": "code",
   "execution_count": null,
   "outputs": [],
   "source": [
    "# Plot anything we're interested\n",
    "import seaborn as sns\n",
    "import matplotlib.pyplot as plt\n",
    "\n",
    "key = 'distance_reg'\n",
    "sns.lineplot(data=df[df['Scalar'] == key], x=\"Epoch\", y=\"Value\", hue=\"Model\")\n",
    "plt.ylim(0.0, 0.2)\n"
   ],
   "metadata": {
    "collapsed": false,
    "pycharm": {
     "name": "#%%\n"
    }
   }
  },
  {
   "cell_type": "code",
   "execution_count": null,
   "outputs": [],
   "source": [
    "key = 'free_energy_pos'\n",
    "sns.lineplot(data=df[df['Scalar'] == key], x=\"Epoch\", y=\"Value\", hue=\"Model\")"
   ],
   "metadata": {
    "collapsed": false,
    "pycharm": {
     "name": "#%%\n"
    }
   }
  }
 ],
 "metadata": {
  "kernelspec": {
   "display_name": "Python 3",
   "language": "python",
   "name": "python3"
  },
  "language_info": {
   "codemirror_mode": {
    "name": "ipython",
    "version": 2
   },
   "file_extension": ".py",
   "mimetype": "text/x-python",
   "name": "python",
   "nbconvert_exporter": "python",
   "pygments_lexer": "ipython2",
   "version": "2.7.6"
  }
 },
 "nbformat": 4,
 "nbformat_minor": 0
}