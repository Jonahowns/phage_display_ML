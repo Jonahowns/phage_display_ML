{
 "cells": [
  {
   "cell_type": "code",
   "execution_count": 1,
   "metadata": {
    "collapsed": true
   },
   "outputs": [],
   "source": [
    "import pandas as pd"
   ]
  },
  {
   "cell_type": "code",
   "execution_count": 4,
   "outputs": [],
   "source": [
    "data_dir = \"/mnt/D1/caris_exosome/probing_vcap_lncap/\""
   ],
   "metadata": {
    "collapsed": false,
    "pycharm": {
     "name": "#%%\n"
    }
   }
  },
  {
   "cell_type": "code",
   "execution_count": 16,
   "outputs": [],
   "source": [
    "l1 = pd.read_csv(data_dir+\"lncap1.csv\", header=None, delimiter=\" \")\n",
    "l1.columns = [\"copy_num\", \"sequence\", \"c1\", \"c2\", \"c3\", \"c4\",\"c5\"]\n",
    "l1 = l1.iloc[:, :2]"
   ],
   "metadata": {
    "collapsed": false,
    "pycharm": {
     "name": "#%%\n"
    }
   }
  },
  {
   "cell_type": "code",
   "execution_count": 58,
   "outputs": [],
   "source": [
    "def import_csv(csv_file):\n",
    "    df = pd.read_csv(csv_file, header=None, delimiter=\" \")\n",
    "    df.columns = [\"copy_num\", \"sequence\", \"c1\", \"c2\", \"c3\", \"c4\",\"c5\"]\n",
    "    df= df.iloc[:, :2]\n",
    "    df.drop_duplicates(\"sequence\", inplace=True)\n",
    "    return df"
   ],
   "metadata": {
    "collapsed": false,
    "pycharm": {
     "name": "#%%\n"
    }
   }
  },
  {
   "cell_type": "code",
   "execution_count": 17,
   "outputs": [
    {
     "data": {
      "text/plain": "   copy_num                                sequence\n0   3514942  TCCTGGTTTCTGGTGGTTTCATTTAGCTTGTTACCTGA\n1   1954859     ACATGCACTGAGCCCGACACACCCGCCTGAACTAT\n2   1064687    AGTTCTTGGGGGTTTTGGTTGTTGCCTTGTCTATTA\n3    390684     GGTTTTATCGTTTCTTTAGTTGGGTTCTTGGGTGA\n4    228431   TTGCCGCCCTTTATGGTTTGTTTTTTGCGATGTGGGA",
      "text/html": "<div>\n<style scoped>\n    .dataframe tbody tr th:only-of-type {\n        vertical-align: middle;\n    }\n\n    .dataframe tbody tr th {\n        vertical-align: top;\n    }\n\n    .dataframe thead th {\n        text-align: right;\n    }\n</style>\n<table border=\"1\" class=\"dataframe\">\n  <thead>\n    <tr style=\"text-align: right;\">\n      <th></th>\n      <th>copy_num</th>\n      <th>sequence</th>\n    </tr>\n  </thead>\n  <tbody>\n    <tr>\n      <th>0</th>\n      <td>3514942</td>\n      <td>TCCTGGTTTCTGGTGGTTTCATTTAGCTTGTTACCTGA</td>\n    </tr>\n    <tr>\n      <th>1</th>\n      <td>1954859</td>\n      <td>ACATGCACTGAGCCCGACACACCCGCCTGAACTAT</td>\n    </tr>\n    <tr>\n      <th>2</th>\n      <td>1064687</td>\n      <td>AGTTCTTGGGGGTTTTGGTTGTTGCCTTGTCTATTA</td>\n    </tr>\n    <tr>\n      <th>3</th>\n      <td>390684</td>\n      <td>GGTTTTATCGTTTCTTTAGTTGGGTTCTTGGGTGA</td>\n    </tr>\n    <tr>\n      <th>4</th>\n      <td>228431</td>\n      <td>TTGCCGCCCTTTATGGTTTGTTTTTTGCGATGTGGGA</td>\n    </tr>\n  </tbody>\n</table>\n</div>"
     },
     "execution_count": 17,
     "metadata": {},
     "output_type": "execute_result"
    }
   ],
   "source": [
    "l1.head()"
   ],
   "metadata": {
    "collapsed": false,
    "pycharm": {
     "name": "#%%\n"
    }
   }
  },
  {
   "cell_type": "code",
   "execution_count": 59,
   "outputs": [],
   "source": [
    "l1 = import_csv(data_dir+\"lncap1.csv\")\n",
    "l2 = import_csv(data_dir+\"lncap2.csv\")\n",
    "v1 = import_csv(data_dir+\"vcap1.csv\")\n",
    "v2 = import_csv(data_dir+\"vcap2.csv\")"
   ],
   "metadata": {
    "collapsed": false,
    "pycharm": {
     "name": "#%%\n"
    }
   }
  },
  {
   "cell_type": "code",
   "execution_count": 24,
   "outputs": [
    {
     "data": {
      "text/plain": "   copy_num                                sequence\n0   3063787  TCCTGGTTTCTGGTGGTTTCATTTAGCTTGTTACCTGA\n1   2180058     ACATGCACTGAGCCCGACACACCCGCCTGAACTAT\n2   1259816    AGTTCTTGGGGGTTTTGGTTGTTGCCTTGTCTATTA\n3    497516     GGTTTTATCGTTTCTTTAGTTGGGTTCTTGGGTGA\n4    228201  GTTTCAGGGGTTTGGTGTTAATTATGATGTGTGTGTGA",
      "text/html": "<div>\n<style scoped>\n    .dataframe tbody tr th:only-of-type {\n        vertical-align: middle;\n    }\n\n    .dataframe tbody tr th {\n        vertical-align: top;\n    }\n\n    .dataframe thead th {\n        text-align: right;\n    }\n</style>\n<table border=\"1\" class=\"dataframe\">\n  <thead>\n    <tr style=\"text-align: right;\">\n      <th></th>\n      <th>copy_num</th>\n      <th>sequence</th>\n    </tr>\n  </thead>\n  <tbody>\n    <tr>\n      <th>0</th>\n      <td>3063787</td>\n      <td>TCCTGGTTTCTGGTGGTTTCATTTAGCTTGTTACCTGA</td>\n    </tr>\n    <tr>\n      <th>1</th>\n      <td>2180058</td>\n      <td>ACATGCACTGAGCCCGACACACCCGCCTGAACTAT</td>\n    </tr>\n    <tr>\n      <th>2</th>\n      <td>1259816</td>\n      <td>AGTTCTTGGGGGTTTTGGTTGTTGCCTTGTCTATTA</td>\n    </tr>\n    <tr>\n      <th>3</th>\n      <td>497516</td>\n      <td>GGTTTTATCGTTTCTTTAGTTGGGTTCTTGGGTGA</td>\n    </tr>\n    <tr>\n      <th>4</th>\n      <td>228201</td>\n      <td>GTTTCAGGGGTTTGGTGTTAATTATGATGTGTGTGTGA</td>\n    </tr>\n  </tbody>\n</table>\n</div>"
     },
     "execution_count": 24,
     "metadata": {},
     "output_type": "execute_result"
    }
   ],
   "source": [
    "v2.head()"
   ],
   "metadata": {
    "collapsed": false,
    "pycharm": {
     "name": "#%%\n"
    }
   }
  },
  {
   "cell_type": "code",
   "execution_count": 60,
   "outputs": [
    {
     "data": {
      "text/plain": "   copy_num_l1                                sequence  copy_num_l2\n0      3514942  TCCTGGTTTCTGGTGGTTTCATTTAGCTTGTTACCTGA      3959849\n1      1954859     ACATGCACTGAGCCCGACACACCCGCCTGAACTAT      2262995\n2      1064687    AGTTCTTGGGGGTTTTGGTTGTTGCCTTGTCTATTA      1162223\n3       390684     GGTTTTATCGTTTCTTTAGTTGGGTTCTTGGGTGA       427369\n4       228431   TTGCCGCCCTTTATGGTTTGTTTTTTGCGATGTGGGA       231932",
      "text/html": "<div>\n<style scoped>\n    .dataframe tbody tr th:only-of-type {\n        vertical-align: middle;\n    }\n\n    .dataframe tbody tr th {\n        vertical-align: top;\n    }\n\n    .dataframe thead th {\n        text-align: right;\n    }\n</style>\n<table border=\"1\" class=\"dataframe\">\n  <thead>\n    <tr style=\"text-align: right;\">\n      <th></th>\n      <th>copy_num_l1</th>\n      <th>sequence</th>\n      <th>copy_num_l2</th>\n    </tr>\n  </thead>\n  <tbody>\n    <tr>\n      <th>0</th>\n      <td>3514942</td>\n      <td>TCCTGGTTTCTGGTGGTTTCATTTAGCTTGTTACCTGA</td>\n      <td>3959849</td>\n    </tr>\n    <tr>\n      <th>1</th>\n      <td>1954859</td>\n      <td>ACATGCACTGAGCCCGACACACCCGCCTGAACTAT</td>\n      <td>2262995</td>\n    </tr>\n    <tr>\n      <th>2</th>\n      <td>1064687</td>\n      <td>AGTTCTTGGGGGTTTTGGTTGTTGCCTTGTCTATTA</td>\n      <td>1162223</td>\n    </tr>\n    <tr>\n      <th>3</th>\n      <td>390684</td>\n      <td>GGTTTTATCGTTTCTTTAGTTGGGTTCTTGGGTGA</td>\n      <td>427369</td>\n    </tr>\n    <tr>\n      <th>4</th>\n      <td>228431</td>\n      <td>TTGCCGCCCTTTATGGTTTGTTTTTTGCGATGTGGGA</td>\n      <td>231932</td>\n    </tr>\n  </tbody>\n</table>\n</div>"
     },
     "execution_count": 60,
     "metadata": {},
     "output_type": "execute_result"
    }
   ],
   "source": [
    "l_merged = pd.merge(l1, l2, how='inner', left_on='sequence', right_on='sequence')\n",
    "l_merged.columns = [\"copy_num_l1\", \"sequence\", \"copy_num_l2\"]\n",
    "l_merged.head()"
   ],
   "metadata": {
    "collapsed": false,
    "pycharm": {
     "name": "#%%\n"
    }
   }
  },
  {
   "cell_type": "code",
   "execution_count": 61,
   "outputs": [
    {
     "name": "stdout",
     "output_type": "stream",
     "text": [
      "138014 145618 79137\n"
     ]
    }
   ],
   "source": [
    "print(l1.index.__len__(), l2.index.__len__(), l_merged.index.__len__())"
   ],
   "metadata": {
    "collapsed": false,
    "pycharm": {
     "name": "#%%\n"
    }
   }
  },
  {
   "cell_type": "code",
   "execution_count": 62,
   "outputs": [
    {
     "data": {
      "text/plain": "   copy_num_v1                                sequence  copy_num_v2\n0      2563471  TCCTGGTTTCTGGTGGTTTCATTTAGCTTGTTACCTGA      3063787\n1      1769898     ACATGCACTGAGCCCGACACACCCGCCTGAACTAT      2180058\n2       967257    AGTTCTTGGGGGTTTTGGTTGTTGCCTTGTCTATTA      1259816\n3       419939     GGTTTTATCGTTTCTTTAGTTGGGTTCTTGGGTGA       497516\n4       200728  GTTTCAGGGGTTTGGTGTTAATTATGATGTGTGTGTGA       228201",
      "text/html": "<div>\n<style scoped>\n    .dataframe tbody tr th:only-of-type {\n        vertical-align: middle;\n    }\n\n    .dataframe tbody tr th {\n        vertical-align: top;\n    }\n\n    .dataframe thead th {\n        text-align: right;\n    }\n</style>\n<table border=\"1\" class=\"dataframe\">\n  <thead>\n    <tr style=\"text-align: right;\">\n      <th></th>\n      <th>copy_num_v1</th>\n      <th>sequence</th>\n      <th>copy_num_v2</th>\n    </tr>\n  </thead>\n  <tbody>\n    <tr>\n      <th>0</th>\n      <td>2563471</td>\n      <td>TCCTGGTTTCTGGTGGTTTCATTTAGCTTGTTACCTGA</td>\n      <td>3063787</td>\n    </tr>\n    <tr>\n      <th>1</th>\n      <td>1769898</td>\n      <td>ACATGCACTGAGCCCGACACACCCGCCTGAACTAT</td>\n      <td>2180058</td>\n    </tr>\n    <tr>\n      <th>2</th>\n      <td>967257</td>\n      <td>AGTTCTTGGGGGTTTTGGTTGTTGCCTTGTCTATTA</td>\n      <td>1259816</td>\n    </tr>\n    <tr>\n      <th>3</th>\n      <td>419939</td>\n      <td>GGTTTTATCGTTTCTTTAGTTGGGTTCTTGGGTGA</td>\n      <td>497516</td>\n    </tr>\n    <tr>\n      <th>4</th>\n      <td>200728</td>\n      <td>GTTTCAGGGGTTTGGTGTTAATTATGATGTGTGTGTGA</td>\n      <td>228201</td>\n    </tr>\n  </tbody>\n</table>\n</div>"
     },
     "execution_count": 62,
     "metadata": {},
     "output_type": "execute_result"
    }
   ],
   "source": [
    "v_merged = pd.merge(v1, v2, how='inner', left_on='sequence', right_on='sequence')\n",
    "v_merged.columns = [\"copy_num_v1\", \"sequence\", \"copy_num_v2\"]\n",
    "v_merged.head()"
   ],
   "metadata": {
    "collapsed": false,
    "pycharm": {
     "name": "#%%\n"
    }
   }
  },
  {
   "cell_type": "code",
   "execution_count": 63,
   "outputs": [
    {
     "name": "stdout",
     "output_type": "stream",
     "text": [
      "107171 118334 61964\n"
     ]
    }
   ],
   "source": [
    "print(v1.index.__len__(), v2.index.__len__(), v_merged.index.__len__())"
   ],
   "metadata": {
    "collapsed": false,
    "pycharm": {
     "name": "#%%\n"
    }
   }
  },
  {
   "cell_type": "code",
   "execution_count": 64,
   "outputs": [
    {
     "data": {
      "text/plain": "   copy_num_l1                                sequence  copy_num_l2  \\\n0      3514942  TCCTGGTTTCTGGTGGTTTCATTTAGCTTGTTACCTGA      3959849   \n1      1954859     ACATGCACTGAGCCCGACACACCCGCCTGAACTAT      2262995   \n2      1064687    AGTTCTTGGGGGTTTTGGTTGTTGCCTTGTCTATTA      1162223   \n3       390684     GGTTTTATCGTTTCTTTAGTTGGGTTCTTGGGTGA       427369   \n4       228431   TTGCCGCCCTTTATGGTTTGTTTTTTGCGATGTGGGA       231932   \n\n   copy_num_v1  copy_num_v2  \n0      2563471      3063787  \n1      1769898      2180058  \n2       967257      1259816  \n3       419939       497516  \n4        53760        65811  ",
      "text/html": "<div>\n<style scoped>\n    .dataframe tbody tr th:only-of-type {\n        vertical-align: middle;\n    }\n\n    .dataframe tbody tr th {\n        vertical-align: top;\n    }\n\n    .dataframe thead th {\n        text-align: right;\n    }\n</style>\n<table border=\"1\" class=\"dataframe\">\n  <thead>\n    <tr style=\"text-align: right;\">\n      <th></th>\n      <th>copy_num_l1</th>\n      <th>sequence</th>\n      <th>copy_num_l2</th>\n      <th>copy_num_v1</th>\n      <th>copy_num_v2</th>\n    </tr>\n  </thead>\n  <tbody>\n    <tr>\n      <th>0</th>\n      <td>3514942</td>\n      <td>TCCTGGTTTCTGGTGGTTTCATTTAGCTTGTTACCTGA</td>\n      <td>3959849</td>\n      <td>2563471</td>\n      <td>3063787</td>\n    </tr>\n    <tr>\n      <th>1</th>\n      <td>1954859</td>\n      <td>ACATGCACTGAGCCCGACACACCCGCCTGAACTAT</td>\n      <td>2262995</td>\n      <td>1769898</td>\n      <td>2180058</td>\n    </tr>\n    <tr>\n      <th>2</th>\n      <td>1064687</td>\n      <td>AGTTCTTGGGGGTTTTGGTTGTTGCCTTGTCTATTA</td>\n      <td>1162223</td>\n      <td>967257</td>\n      <td>1259816</td>\n    </tr>\n    <tr>\n      <th>3</th>\n      <td>390684</td>\n      <td>GGTTTTATCGTTTCTTTAGTTGGGTTCTTGGGTGA</td>\n      <td>427369</td>\n      <td>419939</td>\n      <td>497516</td>\n    </tr>\n    <tr>\n      <th>4</th>\n      <td>228431</td>\n      <td>TTGCCGCCCTTTATGGTTTGTTTTTTGCGATGTGGGA</td>\n      <td>231932</td>\n      <td>53760</td>\n      <td>65811</td>\n    </tr>\n  </tbody>\n</table>\n</div>"
     },
     "execution_count": 64,
     "metadata": {},
     "output_type": "execute_result"
    }
   ],
   "source": [
    "all_merged = pd.merge(l_merged, v_merged, how='inner', left_on='sequence', right_on='sequence')\n",
    "all_merged.head()"
   ],
   "metadata": {
    "collapsed": false,
    "pycharm": {
     "name": "#%%\n"
    }
   }
  },
  {
   "cell_type": "code",
   "execution_count": 65,
   "outputs": [
    {
     "name": "stdout",
     "output_type": "stream",
     "text": [
      "50172\n"
     ]
    }
   ],
   "source": [
    "print(all_merged.index.__len__())"
   ],
   "metadata": {
    "collapsed": false,
    "pycharm": {
     "name": "#%%\n"
    }
   }
  },
  {
   "cell_type": "code",
   "execution_count": 37,
   "outputs": [
    {
     "name": "stdout",
     "output_type": "stream",
     "text": [
      "163541\n"
     ]
    }
   ],
   "source": [
    "vfull = pd.merge(v1, v2, how='outer', left_on='sequence', right_on='sequence')\n",
    "vfull.columns = [\"copy_num_v1\", \"sequence\", \"copy_num_v2\"]\n",
    "print(vfull.index.__len__())"
   ],
   "metadata": {
    "collapsed": false,
    "pycharm": {
     "name": "#%%\n"
    }
   }
  },
  {
   "cell_type": "code",
   "execution_count": 38,
   "outputs": [
    {
     "data": {
      "text/plain": "   copy_num_v1                                sequence  copy_num_v2\n0    2563471.0  TCCTGGTTTCTGGTGGTTTCATTTAGCTTGTTACCTGA    3063787.0\n1    1769898.0     ACATGCACTGAGCCCGACACACCCGCCTGAACTAT    2180058.0\n2     967257.0    AGTTCTTGGGGGTTTTGGTTGTTGCCTTGTCTATTA    1259816.0\n3     419939.0     GGTTTTATCGTTTCTTTAGTTGGGTTCTTGGGTGA     497516.0\n4     200728.0  GTTTCAGGGGTTTGGTGTTAATTATGATGTGTGTGTGA     228201.0",
      "text/html": "<div>\n<style scoped>\n    .dataframe tbody tr th:only-of-type {\n        vertical-align: middle;\n    }\n\n    .dataframe tbody tr th {\n        vertical-align: top;\n    }\n\n    .dataframe thead th {\n        text-align: right;\n    }\n</style>\n<table border=\"1\" class=\"dataframe\">\n  <thead>\n    <tr style=\"text-align: right;\">\n      <th></th>\n      <th>copy_num_v1</th>\n      <th>sequence</th>\n      <th>copy_num_v2</th>\n    </tr>\n  </thead>\n  <tbody>\n    <tr>\n      <th>0</th>\n      <td>2563471.0</td>\n      <td>TCCTGGTTTCTGGTGGTTTCATTTAGCTTGTTACCTGA</td>\n      <td>3063787.0</td>\n    </tr>\n    <tr>\n      <th>1</th>\n      <td>1769898.0</td>\n      <td>ACATGCACTGAGCCCGACACACCCGCCTGAACTAT</td>\n      <td>2180058.0</td>\n    </tr>\n    <tr>\n      <th>2</th>\n      <td>967257.0</td>\n      <td>AGTTCTTGGGGGTTTTGGTTGTTGCCTTGTCTATTA</td>\n      <td>1259816.0</td>\n    </tr>\n    <tr>\n      <th>3</th>\n      <td>419939.0</td>\n      <td>GGTTTTATCGTTTCTTTAGTTGGGTTCTTGGGTGA</td>\n      <td>497516.0</td>\n    </tr>\n    <tr>\n      <th>4</th>\n      <td>200728.0</td>\n      <td>GTTTCAGGGGTTTGGTGTTAATTATGATGTGTGTGTGA</td>\n      <td>228201.0</td>\n    </tr>\n  </tbody>\n</table>\n</div>"
     },
     "execution_count": 38,
     "metadata": {},
     "output_type": "execute_result"
    }
   ],
   "source": [
    "vfull.head()"
   ],
   "metadata": {
    "collapsed": false,
    "pycharm": {
     "name": "#%%\n"
    }
   }
  },
  {
   "cell_type": "code",
   "execution_count": 39,
   "outputs": [
    {
     "name": "stdout",
     "output_type": "stream",
     "text": [
      "204495\n"
     ]
    }
   ],
   "source": [
    "lfull = pd.merge(l1, l2, how='outer', left_on='sequence', right_on='sequence')\n",
    "lfull.columns = [\"copy_num_l1\", \"sequence\", \"copy_num_l2\"]\n",
    "print(lfull.index.__len__())"
   ],
   "metadata": {
    "collapsed": false,
    "pycharm": {
     "name": "#%%\n"
    }
   }
  },
  {
   "cell_type": "code",
   "execution_count": 40,
   "outputs": [
    {
     "data": {
      "text/plain": "   copy_num_l1                                sequence  copy_num_l2\n0    3514942.0  TCCTGGTTTCTGGTGGTTTCATTTAGCTTGTTACCTGA    3959849.0\n1    1954859.0     ACATGCACTGAGCCCGACACACCCGCCTGAACTAT    2262995.0\n2    1064687.0    AGTTCTTGGGGGTTTTGGTTGTTGCCTTGTCTATTA    1162223.0\n3     390684.0     GGTTTTATCGTTTCTTTAGTTGGGTTCTTGGGTGA     427369.0\n4     228431.0   TTGCCGCCCTTTATGGTTTGTTTTTTGCGATGTGGGA     231932.0",
      "text/html": "<div>\n<style scoped>\n    .dataframe tbody tr th:only-of-type {\n        vertical-align: middle;\n    }\n\n    .dataframe tbody tr th {\n        vertical-align: top;\n    }\n\n    .dataframe thead th {\n        text-align: right;\n    }\n</style>\n<table border=\"1\" class=\"dataframe\">\n  <thead>\n    <tr style=\"text-align: right;\">\n      <th></th>\n      <th>copy_num_l1</th>\n      <th>sequence</th>\n      <th>copy_num_l2</th>\n    </tr>\n  </thead>\n  <tbody>\n    <tr>\n      <th>0</th>\n      <td>3514942.0</td>\n      <td>TCCTGGTTTCTGGTGGTTTCATTTAGCTTGTTACCTGA</td>\n      <td>3959849.0</td>\n    </tr>\n    <tr>\n      <th>1</th>\n      <td>1954859.0</td>\n      <td>ACATGCACTGAGCCCGACACACCCGCCTGAACTAT</td>\n      <td>2262995.0</td>\n    </tr>\n    <tr>\n      <th>2</th>\n      <td>1064687.0</td>\n      <td>AGTTCTTGGGGGTTTTGGTTGTTGCCTTGTCTATTA</td>\n      <td>1162223.0</td>\n    </tr>\n    <tr>\n      <th>3</th>\n      <td>390684.0</td>\n      <td>GGTTTTATCGTTTCTTTAGTTGGGTTCTTGGGTGA</td>\n      <td>427369.0</td>\n    </tr>\n    <tr>\n      <th>4</th>\n      <td>228431.0</td>\n      <td>TTGCCGCCCTTTATGGTTTGTTTTTTGCGATGTGGGA</td>\n      <td>231932.0</td>\n    </tr>\n  </tbody>\n</table>\n</div>"
     },
     "execution_count": 40,
     "metadata": {},
     "output_type": "execute_result"
    }
   ],
   "source": [
    "lfull.head()"
   ],
   "metadata": {
    "collapsed": false,
    "pycharm": {
     "name": "#%%\n"
    }
   }
  },
  {
   "cell_type": "code",
   "execution_count": 41,
   "outputs": [
    {
     "name": "stdout",
     "output_type": "stream",
     "text": [
      "97756 270280\n"
     ]
    },
    {
     "data": {
      "text/plain": "   copy_num_l1                                sequence  copy_num_l2  \\\n0    3514942.0  TCCTGGTTTCTGGTGGTTTCATTTAGCTTGTTACCTGA    3959849.0   \n1    1954859.0     ACATGCACTGAGCCCGACACACCCGCCTGAACTAT    2262995.0   \n2    1064687.0    AGTTCTTGGGGGTTTTGGTTGTTGCCTTGTCTATTA    1162223.0   \n3     390684.0     GGTTTTATCGTTTCTTTAGTTGGGTTCTTGGGTGA     427369.0   \n4     228431.0   TTGCCGCCCTTTATGGTTTGTTTTTTGCGATGTGGGA     231932.0   \n\n   copy_num_v1  copy_num_v2  \n0    2563471.0    3063787.0  \n1    1769898.0    2180058.0  \n2     967257.0    1259816.0  \n3     419939.0     497516.0  \n4      53760.0      65811.0  ",
      "text/html": "<div>\n<style scoped>\n    .dataframe tbody tr th:only-of-type {\n        vertical-align: middle;\n    }\n\n    .dataframe tbody tr th {\n        vertical-align: top;\n    }\n\n    .dataframe thead th {\n        text-align: right;\n    }\n</style>\n<table border=\"1\" class=\"dataframe\">\n  <thead>\n    <tr style=\"text-align: right;\">\n      <th></th>\n      <th>copy_num_l1</th>\n      <th>sequence</th>\n      <th>copy_num_l2</th>\n      <th>copy_num_v1</th>\n      <th>copy_num_v2</th>\n    </tr>\n  </thead>\n  <tbody>\n    <tr>\n      <th>0</th>\n      <td>3514942.0</td>\n      <td>TCCTGGTTTCTGGTGGTTTCATTTAGCTTGTTACCTGA</td>\n      <td>3959849.0</td>\n      <td>2563471.0</td>\n      <td>3063787.0</td>\n    </tr>\n    <tr>\n      <th>1</th>\n      <td>1954859.0</td>\n      <td>ACATGCACTGAGCCCGACACACCCGCCTGAACTAT</td>\n      <td>2262995.0</td>\n      <td>1769898.0</td>\n      <td>2180058.0</td>\n    </tr>\n    <tr>\n      <th>2</th>\n      <td>1064687.0</td>\n      <td>AGTTCTTGGGGGTTTTGGTTGTTGCCTTGTCTATTA</td>\n      <td>1162223.0</td>\n      <td>967257.0</td>\n      <td>1259816.0</td>\n    </tr>\n    <tr>\n      <th>3</th>\n      <td>390684.0</td>\n      <td>GGTTTTATCGTTTCTTTAGTTGGGTTCTTGGGTGA</td>\n      <td>427369.0</td>\n      <td>419939.0</td>\n      <td>497516.0</td>\n    </tr>\n    <tr>\n      <th>4</th>\n      <td>228431.0</td>\n      <td>TTGCCGCCCTTTATGGTTTGTTTTTTGCGATGTGGGA</td>\n      <td>231932.0</td>\n      <td>53760.0</td>\n      <td>65811.0</td>\n    </tr>\n  </tbody>\n</table>\n</div>"
     },
     "execution_count": 41,
     "metadata": {},
     "output_type": "execute_result"
    }
   ],
   "source": [
    "full_merged = pd.merge(lfull, vfull, how='inner', left_on='sequence', right_on='sequence')\n",
    "full_all = pd.merge(lfull, vfull, how='outer', left_on='sequence', right_on='sequence')\n",
    "print(full_merged.index.__len__(), full_all.index.__len__())\n",
    "full_merged.head()"
   ],
   "metadata": {
    "collapsed": false,
    "pycharm": {
     "name": "#%%\n"
    }
   }
  },
  {
   "cell_type": "code",
   "execution_count": 48,
   "outputs": [],
   "source": [
    "import numpy as np\n",
    "full_merged[\"max_l\"] = full_merged.apply(lambda x: np.nanmax(np.asarray([x[\"copy_num_l1\"], x[\"copy_num_l2\"]])), axis=1)\n",
    "full_merged[\"max_v\"] = full_merged.apply(lambda x: np.nanmax(np.asarray([x[\"copy_num_v1\"], x[\"copy_num_v2\"]])), axis=1)\n",
    "full_merged[\"fold_v_over_l\"] = full_merged.apply(lambda x: x[\"max_v\"]/x[\"max_l\"], axis=1)"
   ],
   "metadata": {
    "collapsed": false,
    "pycharm": {
     "name": "#%%\n"
    }
   }
  },
  {
   "cell_type": "code",
   "execution_count": 49,
   "outputs": [
    {
     "data": {
      "text/plain": "   copy_num_l1                                sequence  copy_num_l2  \\\n0    3514942.0  TCCTGGTTTCTGGTGGTTTCATTTAGCTTGTTACCTGA    3959849.0   \n1    1954859.0     ACATGCACTGAGCCCGACACACCCGCCTGAACTAT    2262995.0   \n2    1064687.0    AGTTCTTGGGGGTTTTGGTTGTTGCCTTGTCTATTA    1162223.0   \n3     390684.0     GGTTTTATCGTTTCTTTAGTTGGGTTCTTGGGTGA     427369.0   \n4     228431.0   TTGCCGCCCTTTATGGTTTGTTTTTTGCGATGTGGGA     231932.0   \n\n   copy_num_v1  copy_num_v2      max_l      max_v  fold_v_over_l  \n0    2563471.0    3063787.0  3959849.0  3063787.0       0.773713  \n1    1769898.0    2180058.0  2262995.0  2180058.0       0.963351  \n2     967257.0    1259816.0  1162223.0  1259816.0       1.083971  \n3     419939.0     497516.0   427369.0   497516.0       1.164137  \n4      53760.0      65811.0   231932.0    65811.0       0.283751  ",
      "text/html": "<div>\n<style scoped>\n    .dataframe tbody tr th:only-of-type {\n        vertical-align: middle;\n    }\n\n    .dataframe tbody tr th {\n        vertical-align: top;\n    }\n\n    .dataframe thead th {\n        text-align: right;\n    }\n</style>\n<table border=\"1\" class=\"dataframe\">\n  <thead>\n    <tr style=\"text-align: right;\">\n      <th></th>\n      <th>copy_num_l1</th>\n      <th>sequence</th>\n      <th>copy_num_l2</th>\n      <th>copy_num_v1</th>\n      <th>copy_num_v2</th>\n      <th>max_l</th>\n      <th>max_v</th>\n      <th>fold_v_over_l</th>\n    </tr>\n  </thead>\n  <tbody>\n    <tr>\n      <th>0</th>\n      <td>3514942.0</td>\n      <td>TCCTGGTTTCTGGTGGTTTCATTTAGCTTGTTACCTGA</td>\n      <td>3959849.0</td>\n      <td>2563471.0</td>\n      <td>3063787.0</td>\n      <td>3959849.0</td>\n      <td>3063787.0</td>\n      <td>0.773713</td>\n    </tr>\n    <tr>\n      <th>1</th>\n      <td>1954859.0</td>\n      <td>ACATGCACTGAGCCCGACACACCCGCCTGAACTAT</td>\n      <td>2262995.0</td>\n      <td>1769898.0</td>\n      <td>2180058.0</td>\n      <td>2262995.0</td>\n      <td>2180058.0</td>\n      <td>0.963351</td>\n    </tr>\n    <tr>\n      <th>2</th>\n      <td>1064687.0</td>\n      <td>AGTTCTTGGGGGTTTTGGTTGTTGCCTTGTCTATTA</td>\n      <td>1162223.0</td>\n      <td>967257.0</td>\n      <td>1259816.0</td>\n      <td>1162223.0</td>\n      <td>1259816.0</td>\n      <td>1.083971</td>\n    </tr>\n    <tr>\n      <th>3</th>\n      <td>390684.0</td>\n      <td>GGTTTTATCGTTTCTTTAGTTGGGTTCTTGGGTGA</td>\n      <td>427369.0</td>\n      <td>419939.0</td>\n      <td>497516.0</td>\n      <td>427369.0</td>\n      <td>497516.0</td>\n      <td>1.164137</td>\n    </tr>\n    <tr>\n      <th>4</th>\n      <td>228431.0</td>\n      <td>TTGCCGCCCTTTATGGTTTGTTTTTTGCGATGTGGGA</td>\n      <td>231932.0</td>\n      <td>53760.0</td>\n      <td>65811.0</td>\n      <td>231932.0</td>\n      <td>65811.0</td>\n      <td>0.283751</td>\n    </tr>\n  </tbody>\n</table>\n</div>"
     },
     "execution_count": 49,
     "metadata": {},
     "output_type": "execute_result"
    }
   ],
   "source": [
    "full_merged.head()"
   ],
   "metadata": {
    "collapsed": false,
    "pycharm": {
     "name": "#%%\n"
    }
   }
  },
  {
   "cell_type": "code",
   "execution_count": 51,
   "outputs": [
    {
     "data": {
      "text/plain": "       copy_num_l1                                sequence  copy_num_l2  \\\n89334          NaN    TCAAATATAGGGGTTGGGGTATGGGGGTGATCGGGA          1.0   \n81744          NaN     TGGGGGGGGTATCTACTTGGCTTGGTGGGGGGTTG          6.0   \n81576          NaN   GTTTCTGGGGGGGGGTATTATGGTAAATATATGGGGA          9.0   \n78869          1.0     ATGGGGGAGAGTGAGGGGTGATTGTTAGGAGGTAT          NaN   \n72352          1.0  TTTGGCCCGTGCGTAATTATTATACTGGGTGTTTTTGA          NaN   \n\n       copy_num_v1  copy_num_v2  max_l  max_v  fold_v_over_l  \n89334         38.0          1.0    1.0   38.0      38.000000  \n81744        131.0         26.0    6.0  131.0      21.833333  \n81576        163.0        163.0    9.0  163.0      18.111111  \n78869         17.0         10.0    1.0   17.0      17.000000  \n72352         15.0          NaN    1.0   15.0      15.000000  ",
      "text/html": "<div>\n<style scoped>\n    .dataframe tbody tr th:only-of-type {\n        vertical-align: middle;\n    }\n\n    .dataframe tbody tr th {\n        vertical-align: top;\n    }\n\n    .dataframe thead th {\n        text-align: right;\n    }\n</style>\n<table border=\"1\" class=\"dataframe\">\n  <thead>\n    <tr style=\"text-align: right;\">\n      <th></th>\n      <th>copy_num_l1</th>\n      <th>sequence</th>\n      <th>copy_num_l2</th>\n      <th>copy_num_v1</th>\n      <th>copy_num_v2</th>\n      <th>max_l</th>\n      <th>max_v</th>\n      <th>fold_v_over_l</th>\n    </tr>\n  </thead>\n  <tbody>\n    <tr>\n      <th>89334</th>\n      <td>NaN</td>\n      <td>TCAAATATAGGGGTTGGGGTATGGGGGTGATCGGGA</td>\n      <td>1.0</td>\n      <td>38.0</td>\n      <td>1.0</td>\n      <td>1.0</td>\n      <td>38.0</td>\n      <td>38.000000</td>\n    </tr>\n    <tr>\n      <th>81744</th>\n      <td>NaN</td>\n      <td>TGGGGGGGGTATCTACTTGGCTTGGTGGGGGGTTG</td>\n      <td>6.0</td>\n      <td>131.0</td>\n      <td>26.0</td>\n      <td>6.0</td>\n      <td>131.0</td>\n      <td>21.833333</td>\n    </tr>\n    <tr>\n      <th>81576</th>\n      <td>NaN</td>\n      <td>GTTTCTGGGGGGGGGTATTATGGTAAATATATGGGGA</td>\n      <td>9.0</td>\n      <td>163.0</td>\n      <td>163.0</td>\n      <td>9.0</td>\n      <td>163.0</td>\n      <td>18.111111</td>\n    </tr>\n    <tr>\n      <th>78869</th>\n      <td>1.0</td>\n      <td>ATGGGGGAGAGTGAGGGGTGATTGTTAGGAGGTAT</td>\n      <td>NaN</td>\n      <td>17.0</td>\n      <td>10.0</td>\n      <td>1.0</td>\n      <td>17.0</td>\n      <td>17.000000</td>\n    </tr>\n    <tr>\n      <th>72352</th>\n      <td>1.0</td>\n      <td>TTTGGCCCGTGCGTAATTATTATACTGGGTGTTTTTGA</td>\n      <td>NaN</td>\n      <td>15.0</td>\n      <td>NaN</td>\n      <td>1.0</td>\n      <td>15.0</td>\n      <td>15.000000</td>\n    </tr>\n  </tbody>\n</table>\n</div>"
     },
     "execution_count": 51,
     "metadata": {},
     "output_type": "execute_result"
    }
   ],
   "source": [
    "full_merged.sort_values(\"fold_v_over_l\", ascending=False, inplace=True)\n",
    "full_merged.head()"
   ],
   "metadata": {
    "collapsed": false,
    "pycharm": {
     "name": "#%%\n"
    }
   }
  },
  {
   "cell_type": "code",
   "execution_count": 55,
   "outputs": [
    {
     "name": "stdout",
     "output_type": "stream",
     "text": [
      "v_enriched 9633 l_enriched 35372\n"
     ]
    }
   ],
   "source": [
    "from rbm_torch.utils import data_prep as dp\n",
    "\n",
    "foldv = full_merged[\"fold_v_over_l\"].tolist()\n",
    "\n",
    "v_enriched = [x for x in foldv if x >= 2]\n",
    "l_enriched = [x for x in foldv if x <= 0.5]\n",
    "\n",
    "print(\"v_enriched\", len(v_enriched), \"l_enriched\", len(l_enriched))"
   ],
   "metadata": {
    "collapsed": false,
    "pycharm": {
     "name": "#%%\n"
    }
   }
  },
  {
   "cell_type": "code",
   "execution_count": 56,
   "outputs": [
    {
     "data": {
      "text/plain": "<Figure size 640x480 with 1 Axes>",
      "image/png": "[encoded data removed]"
     },
     "metadata": {},
     "output_type": "display_data"
    }
   ],
   "source": [
    "dp.quick_hist(v_enriched)"
   ],
   "metadata": {
    "collapsed": false,
    "pycharm": {
     "name": "#%%\n"
    }
   }
  },
  {
   "cell_type": "code",
   "execution_count": 57,
   "outputs": [
    {
     "data": {
      "text/plain": "<Figure size 640x480 with 1 Axes>",
      "image/png": "[encoded data removed]"
     },
     "metadata": {},
     "output_type": "display_data"
    }
   ],
   "source": [
    "dp.quick_hist(l_enriched)"
   ],
   "metadata": {
    "collapsed": false,
    "pycharm": {
     "name": "#%%\n"
    }
   }
  },
  {
   "cell_type": "code",
   "execution_count": 66,
   "outputs": [],
   "source": [
    "vleft = vfull.merge(lfull, on=['sequence'], how='left', indicator=True)\n",
    "lleft = lfull.merge(vfull, on=['sequence'], how='left', indicator=True)\n",
    "\n",
    "v_only = vleft[vleft[\"_merge\"] == \"left_only\"]\n",
    "l_only = lleft[lleft[\"_merge\"] == \"left_only\"]"
   ],
   "metadata": {
    "collapsed": false,
    "pycharm": {
     "name": "#%%\n"
    }
   }
  },
  {
   "cell_type": "code",
   "execution_count": 67,
   "outputs": [
    {
     "data": {
      "text/plain": "65785"
     },
     "execution_count": 67,
     "metadata": {},
     "output_type": "execute_result"
    }
   ],
   "source": [
    "v_only.index.__len__()"
   ],
   "metadata": {
    "collapsed": false,
    "pycharm": {
     "name": "#%%\n"
    }
   }
  },
  {
   "cell_type": "code",
   "execution_count": 68,
   "outputs": [
    {
     "data": {
      "text/plain": "106739"
     },
     "execution_count": 68,
     "metadata": {},
     "output_type": "execute_result"
    }
   ],
   "source": [
    "l_only.index.__len__()"
   ],
   "metadata": {
    "collapsed": false,
    "pycharm": {
     "name": "#%%\n"
    }
   }
  },
  {
   "cell_type": "code",
   "execution_count": 69,
   "outputs": [
    {
     "data": {
      "text/plain": "        copy_num_v1                                sequence  copy_num_v2  \\\n6628           33.0    TGCGCCGAATAAACGGTTTACTTAGCTCTTAGGGGA          NaN   \n7419           29.0     TGCTAACCTGGTTTTTTTTGGTATGTTTGATGCGC          NaN   \n8262           25.0    ACATCCTAGCACATGATGAGACTACAACGCGCCTTA          NaN   \n9083           22.0     TCTTAATAAAACTACATATTCGCCGGTCCAAATCC          NaN   \n10466          18.0     TCAATTCCCGTTCTCAACTCGCTGTTTATGTGTCG          NaN   \n...             ...                                     ...          ...   \n163536          NaN     GACTCACTGGGGTTTCGTTTTTTGTATCTTTTTTT          1.0   \n163537          NaN     AACTGACTGGGGTTTCGTTTTTTGTATCTTTTTTT          1.0   \n163538          NaN     GGTTGTGGGGCGTACGCTTAGTATGGAGTTTTTTT          1.0   \n163539          NaN     GGTTTTGGGCCGTACGCTTATTATGGAGTTTTTTT          1.0   \n163540          NaN  GGCCCGACGTATCTTATGACCCGAATACATTTTTTTTT          1.0   \n\n        copy_num_l1  copy_num_l2     _merge  \n6628            NaN          NaN  left_only  \n7419            NaN          NaN  left_only  \n8262            NaN          NaN  left_only  \n9083            NaN          NaN  left_only  \n10466           NaN          NaN  left_only  \n...             ...          ...        ...  \n163536          NaN          NaN  left_only  \n163537          NaN          NaN  left_only  \n163538          NaN          NaN  left_only  \n163539          NaN          NaN  left_only  \n163540          NaN          NaN  left_only  \n\n[65785 rows x 6 columns]",
      "text/html": "<div>\n<style scoped>\n    .dataframe tbody tr th:only-of-type {\n        vertical-align: middle;\n    }\n\n    .dataframe tbody tr th {\n        vertical-align: top;\n    }\n\n    .dataframe thead th {\n        text-align: right;\n    }\n</style>\n<table border=\"1\" class=\"dataframe\">\n  <thead>\n    <tr style=\"text-align: right;\">\n      <th></th>\n      <th>copy_num_v1</th>\n      <th>sequence</th>\n      <th>copy_num_v2</th>\n      <th>copy_num_l1</th>\n      <th>copy_num_l2</th>\n      <th>_merge</th>\n    </tr>\n  </thead>\n  <tbody>\n    <tr>\n      <th>6628</th>\n      <td>33.0</td>\n      <td>TGCGCCGAATAAACGGTTTACTTAGCTCTTAGGGGA</td>\n      <td>NaN</td>\n      <td>NaN</td>\n      <td>NaN</td>\n      <td>left_only</td>\n    </tr>\n    <tr>\n      <th>7419</th>\n      <td>29.0</td>\n      <td>TGCTAACCTGGTTTTTTTTGGTATGTTTGATGCGC</td>\n      <td>NaN</td>\n      <td>NaN</td>\n      <td>NaN</td>\n      <td>left_only</td>\n    </tr>\n    <tr>\n      <th>8262</th>\n      <td>25.0</td>\n      <td>ACATCCTAGCACATGATGAGACTACAACGCGCCTTA</td>\n      <td>NaN</td>\n      <td>NaN</td>\n      <td>NaN</td>\n      <td>left_only</td>\n    </tr>\n    <tr>\n      <th>9083</th>\n      <td>22.0</td>\n      <td>TCTTAATAAAACTACATATTCGCCGGTCCAAATCC</td>\n      <td>NaN</td>\n      <td>NaN</td>\n      <td>NaN</td>\n      <td>left_only</td>\n    </tr>\n    <tr>\n      <th>10466</th>\n      <td>18.0</td>\n      <td>TCAATTCCCGTTCTCAACTCGCTGTTTATGTGTCG</td>\n      <td>NaN</td>\n      <td>NaN</td>\n      <td>NaN</td>\n      <td>left_only</td>\n    </tr>\n    <tr>\n      <th>...</th>\n      <td>...</td>\n      <td>...</td>\n      <td>...</td>\n      <td>...</td>\n      <td>...</td>\n      <td>...</td>\n    </tr>\n    <tr>\n      <th>163536</th>\n      <td>NaN</td>\n      <td>GACTCACTGGGGTTTCGTTTTTTGTATCTTTTTTT</td>\n      <td>1.0</td>\n      <td>NaN</td>\n      <td>NaN</td>\n      <td>left_only</td>\n    </tr>\n    <tr>\n      <th>163537</th>\n      <td>NaN</td>\n      <td>AACTGACTGGGGTTTCGTTTTTTGTATCTTTTTTT</td>\n      <td>1.0</td>\n      <td>NaN</td>\n      <td>NaN</td>\n      <td>left_only</td>\n    </tr>\n    <tr>\n      <th>163538</th>\n      <td>NaN</td>\n      <td>GGTTGTGGGGCGTACGCTTAGTATGGAGTTTTTTT</td>\n      <td>1.0</td>\n      <td>NaN</td>\n      <td>NaN</td>\n      <td>left_only</td>\n    </tr>\n    <tr>\n      <th>163539</th>\n      <td>NaN</td>\n      <td>GGTTTTGGGCCGTACGCTTATTATGGAGTTTTTTT</td>\n      <td>1.0</td>\n      <td>NaN</td>\n      <td>NaN</td>\n      <td>left_only</td>\n    </tr>\n    <tr>\n      <th>163540</th>\n      <td>NaN</td>\n      <td>GGCCCGACGTATCTTATGACCCGAATACATTTTTTTTT</td>\n      <td>1.0</td>\n      <td>NaN</td>\n      <td>NaN</td>\n      <td>left_only</td>\n    </tr>\n  </tbody>\n</table>\n<p>65785 rows × 6 columns</p>\n</div>"
     },
     "execution_count": 69,
     "metadata": {},
     "output_type": "execute_result"
    }
   ],
   "source": [
    "v_only"
   ],
   "metadata": {
    "collapsed": false,
    "pycharm": {
     "name": "#%%\n"
    }
   }
  },
  {
   "cell_type": "code",
   "execution_count": 105,
   "outputs": [],
   "source": [
    "from copy import copy\n",
    "vo = copy(v_only)\n",
    "lo = copy(l_only)\n",
    "\n",
    "\n",
    "vo.reset_index(drop=True, inplace=True)\n",
    "lo.reset_index(drop=True, inplace=True)\n",
    "vo[\"max_v\"] = vo.apply(lambda x: max(x[\"copy_num_v1\"], x[\"copy_num_v2\"]), axis=1)\n",
    "vo[\"fold_v_over_l\"] = vo[\"max_v\"]\n",
    "lo[\"max_l\"] = lo.apply(lambda x: max(x[\"copy_num_l1\"], x[\"copy_num_l2\"]), axis=1)\n",
    "lo[\"fold_v_over_l\"] = lo.apply(lambda x: 1./x[\"max_l\"], axis=1)"
   ],
   "metadata": {
    "collapsed": false,
    "pycharm": {
     "name": "#%%\n"
    }
   }
  },
  {
   "cell_type": "code",
   "execution_count": 89,
   "outputs": [
    {
     "data": {
      "text/plain": "   copy_num_v1                              sequence  copy_num_v2  \\\n0         33.0  TGCGCCGAATAAACGGTTTACTTAGCTCTTAGGGGA          NaN   \n1         29.0   TGCTAACCTGGTTTTTTTTGGTATGTTTGATGCGC          NaN   \n2         25.0  ACATCCTAGCACATGATGAGACTACAACGCGCCTTA          NaN   \n3         22.0   TCTTAATAAAACTACATATTCGCCGGTCCAAATCC          NaN   \n4         18.0   TCAATTCCCGTTCTCAACTCGCTGTTTATGTGTCG          NaN   \n\n   copy_num_l1  copy_num_l2     _merge  v_max  max_v  \n0          NaN          NaN  left_only   33.0   33.0  \n1          NaN          NaN  left_only   29.0   29.0  \n2          NaN          NaN  left_only   25.0   25.0  \n3          NaN          NaN  left_only   22.0   22.0  \n4          NaN          NaN  left_only   18.0   18.0  ",
      "text/html": "<div>\n<style scoped>\n    .dataframe tbody tr th:only-of-type {\n        vertical-align: middle;\n    }\n\n    .dataframe tbody tr th {\n        vertical-align: top;\n    }\n\n    .dataframe thead th {\n        text-align: right;\n    }\n</style>\n<table border=\"1\" class=\"dataframe\">\n  <thead>\n    <tr style=\"text-align: right;\">\n      <th></th>\n      <th>copy_num_v1</th>\n      <th>sequence</th>\n      <th>copy_num_v2</th>\n      <th>copy_num_l1</th>\n      <th>copy_num_l2</th>\n      <th>_merge</th>\n      <th>v_max</th>\n      <th>max_v</th>\n    </tr>\n  </thead>\n  <tbody>\n    <tr>\n      <th>0</th>\n      <td>33.0</td>\n      <td>TGCGCCGAATAAACGGTTTACTTAGCTCTTAGGGGA</td>\n      <td>NaN</td>\n      <td>NaN</td>\n      <td>NaN</td>\n      <td>left_only</td>\n      <td>33.0</td>\n      <td>33.0</td>\n    </tr>\n    <tr>\n      <th>1</th>\n      <td>29.0</td>\n      <td>TGCTAACCTGGTTTTTTTTGGTATGTTTGATGCGC</td>\n      <td>NaN</td>\n      <td>NaN</td>\n      <td>NaN</td>\n      <td>left_only</td>\n      <td>29.0</td>\n      <td>29.0</td>\n    </tr>\n    <tr>\n      <th>2</th>\n      <td>25.0</td>\n      <td>ACATCCTAGCACATGATGAGACTACAACGCGCCTTA</td>\n      <td>NaN</td>\n      <td>NaN</td>\n      <td>NaN</td>\n      <td>left_only</td>\n      <td>25.0</td>\n      <td>25.0</td>\n    </tr>\n    <tr>\n      <th>3</th>\n      <td>22.0</td>\n      <td>TCTTAATAAAACTACATATTCGCCGGTCCAAATCC</td>\n      <td>NaN</td>\n      <td>NaN</td>\n      <td>NaN</td>\n      <td>left_only</td>\n      <td>22.0</td>\n      <td>22.0</td>\n    </tr>\n    <tr>\n      <th>4</th>\n      <td>18.0</td>\n      <td>TCAATTCCCGTTCTCAACTCGCTGTTTATGTGTCG</td>\n      <td>NaN</td>\n      <td>NaN</td>\n      <td>NaN</td>\n      <td>left_only</td>\n      <td>18.0</td>\n      <td>18.0</td>\n    </tr>\n  </tbody>\n</table>\n</div>"
     },
     "execution_count": 89,
     "metadata": {},
     "output_type": "execute_result"
    }
   ],
   "source": [
    "vo.head()"
   ],
   "metadata": {
    "collapsed": false,
    "pycharm": {
     "name": "#%%\n"
    }
   }
  },
  {
   "cell_type": "code",
   "execution_count": 75,
   "outputs": [
    {
     "data": {
      "text/plain": "<Figure size 640x480 with 1 Axes>",
      "image/png": "[encoded data removed]"
     },
     "metadata": {},
     "output_type": "display_data"
    }
   ],
   "source": [
    "dp.quick_hist(vo[\"v_max\"].tolist())"
   ],
   "metadata": {
    "collapsed": false,
    "pycharm": {
     "name": "#%%\n"
    }
   }
  },
  {
   "cell_type": "code",
   "execution_count": 76,
   "outputs": [
    {
     "data": {
      "text/plain": "<Figure size 640x480 with 1 Axes>",
      "image/png": "[encoded data removed]"
     },
     "metadata": {},
     "output_type": "display_data"
    }
   ],
   "source": [
    "dp.quick_hist(lo[\"l_max\"].tolist())"
   ],
   "metadata": {
    "collapsed": false,
    "pycharm": {
     "name": "#%%\n"
    }
   }
  },
  {
   "cell_type": "code",
   "execution_count": 106,
   "outputs": [
    {
     "name": "stdout",
     "output_type": "stream",
     "text": [
      "4157 4256\n"
     ]
    }
   ],
   "source": [
    "enrichv = full_merged[(full_merged[\"max_v\"] >= 5) & (full_merged[\"fold_v_over_l\"] >= 1.5)]  # all sequences that enrich v over l at 2x or greater with a copy_num of at least 5 in the v data files and\n",
    "full_enrichv = pd.concat([enrichv, vo[vo[\"fold_v_over_l\"] >= 5]], join=\"outer\")  # add sequences that\n",
    "print(enrichv.index.__len__(), full_enrichv.index.__len__())"
   ],
   "metadata": {
    "collapsed": false,
    "pycharm": {
     "name": "#%%\n"
    }
   }
  },
  {
   "cell_type": "code",
   "execution_count": 91,
   "outputs": [
    {
     "data": {
      "text/plain": "       copy_num_l1                                sequence  copy_num_l2  \\\n89334          NaN    TCAAATATAGGGGTTGGGGTATGGGGGTGATCGGGA          1.0   \n81744          NaN     TGGGGGGGGTATCTACTTGGCTTGGTGGGGGGTTG          6.0   \n81576          NaN   GTTTCTGGGGGGGGGTATTATGGTAAATATATGGGGA          9.0   \n78869          1.0     ATGGGGGAGAGTGAGGGGTGATTGTTAGGAGGTAT          NaN   \n72352          1.0  TTTGGCCCGTGCGTAATTATTATACTGGGTGTTTTTGA          NaN   \n\n       copy_num_v1  copy_num_v2  max_l  max_v  fold_v_over_l _merge  v_max  \n89334         38.0          1.0    1.0   38.0      38.000000    NaN    NaN  \n81744        131.0         26.0    6.0  131.0      21.833333    NaN    NaN  \n81576        163.0        163.0    9.0  163.0      18.111111    NaN    NaN  \n78869         17.0         10.0    1.0   17.0      17.000000    NaN    NaN  \n72352         15.0          NaN    1.0   15.0      15.000000    NaN    NaN  ",
      "text/html": "<div>\n<style scoped>\n    .dataframe tbody tr th:only-of-type {\n        vertical-align: middle;\n    }\n\n    .dataframe tbody tr th {\n        vertical-align: top;\n    }\n\n    .dataframe thead th {\n        text-align: right;\n    }\n</style>\n<table border=\"1\" class=\"dataframe\">\n  <thead>\n    <tr style=\"text-align: right;\">\n      <th></th>\n      <th>copy_num_l1</th>\n      <th>sequence</th>\n      <th>copy_num_l2</th>\n      <th>copy_num_v1</th>\n      <th>copy_num_v2</th>\n      <th>max_l</th>\n      <th>max_v</th>\n      <th>fold_v_over_l</th>\n      <th>_merge</th>\n      <th>v_max</th>\n    </tr>\n  </thead>\n  <tbody>\n    <tr>\n      <th>89334</th>\n      <td>NaN</td>\n      <td>TCAAATATAGGGGTTGGGGTATGGGGGTGATCGGGA</td>\n      <td>1.0</td>\n      <td>38.0</td>\n      <td>1.0</td>\n      <td>1.0</td>\n      <td>38.0</td>\n      <td>38.000000</td>\n      <td>NaN</td>\n      <td>NaN</td>\n    </tr>\n    <tr>\n      <th>81744</th>\n      <td>NaN</td>\n      <td>TGGGGGGGGTATCTACTTGGCTTGGTGGGGGGTTG</td>\n      <td>6.0</td>\n      <td>131.0</td>\n      <td>26.0</td>\n      <td>6.0</td>\n      <td>131.0</td>\n      <td>21.833333</td>\n      <td>NaN</td>\n      <td>NaN</td>\n    </tr>\n    <tr>\n      <th>81576</th>\n      <td>NaN</td>\n      <td>GTTTCTGGGGGGGGGTATTATGGTAAATATATGGGGA</td>\n      <td>9.0</td>\n      <td>163.0</td>\n      <td>163.0</td>\n      <td>9.0</td>\n      <td>163.0</td>\n      <td>18.111111</td>\n      <td>NaN</td>\n      <td>NaN</td>\n    </tr>\n    <tr>\n      <th>78869</th>\n      <td>1.0</td>\n      <td>ATGGGGGAGAGTGAGGGGTGATTGTTAGGAGGTAT</td>\n      <td>NaN</td>\n      <td>17.0</td>\n      <td>10.0</td>\n      <td>1.0</td>\n      <td>17.0</td>\n      <td>17.000000</td>\n      <td>NaN</td>\n      <td>NaN</td>\n    </tr>\n    <tr>\n      <th>72352</th>\n      <td>1.0</td>\n      <td>TTTGGCCCGTGCGTAATTATTATACTGGGTGTTTTTGA</td>\n      <td>NaN</td>\n      <td>15.0</td>\n      <td>NaN</td>\n      <td>1.0</td>\n      <td>15.0</td>\n      <td>15.000000</td>\n      <td>NaN</td>\n      <td>NaN</td>\n    </tr>\n  </tbody>\n</table>\n</div>"
     },
     "execution_count": 91,
     "metadata": {},
     "output_type": "execute_result"
    }
   ],
   "source": [
    "full_enrichv.head()"
   ],
   "metadata": {
    "collapsed": false,
    "pycharm": {
     "name": "#%%\n"
    }
   }
  },
  {
   "cell_type": "code",
   "execution_count": 110,
   "outputs": [],
   "source": [
    "ng_seqs = full_enrichv[\"sequence\"].tolist()\n",
    "gapped_seqs = dp.gap_adder(ng_seqs, 38, position_indx=-1)\n",
    "full_enrichv[\"sequence\"] = gapped_seqs"
   ],
   "metadata": {
    "collapsed": false,
    "pycharm": {
     "name": "#%%\n"
    }
   }
  },
  {
   "cell_type": "code",
   "execution_count": 111,
   "outputs": [],
   "source": [
    "dp.dataframe_to_fasta(full_enrichv, \"./exo/pev.fasta\", count_key=\"fold_v_over_l\")"
   ],
   "metadata": {
    "collapsed": false,
    "pycharm": {
     "name": "#%%\n"
    }
   }
  },
  {
   "cell_type": "code",
   "execution_count": 107,
   "outputs": [
    {
     "data": {
      "text/plain": "False"
     },
     "execution_count": 107,
     "metadata": {},
     "output_type": "execute_result"
    }
   ],
   "source": [
    "full_enrichv[\"fold_v_over_l\"].isnull().values.any()"
   ],
   "metadata": {
    "collapsed": false,
    "pycharm": {
     "name": "#%%\n"
    }
   }
  },
  {
   "cell_type": "code",
   "execution_count": 96,
   "outputs": [
    {
     "data": {
      "text/plain": "nan"
     },
     "execution_count": 96,
     "metadata": {},
     "output_type": "execute_result"
    }
   ],
   "source": [
    "full_enrichv.iloc[0, 0]"
   ],
   "metadata": {
    "collapsed": false,
    "pycharm": {
     "name": "#%%\n"
    }
   }
  },
  {
   "cell_type": "code",
   "execution_count": 115,
   "outputs": [
    {
     "name": "stdout",
     "output_type": "stream",
     "text": [
      "20018 20692\n"
     ]
    }
   ],
   "source": [
    "enrichl= full_merged[(full_merged[\"max_l\"] >= 5) & (full_merged[\"fold_v_over_l\"] <= 0.5)]  # all sequences that enrich v over l at 2x or greater with a copy_num of at least 5 in the v data files and\n",
    "full_enrichl = pd.concat([enrichl, lo[lo[\"fold_v_over_l\"] <= 0.2]], join=\"outer\")  # add sequences unobserved in vcap data with copy num of 5 or greater\n",
    "print(enrichl.index.__len__(), full_enrichl.index.__len__())"
   ],
   "metadata": {
    "collapsed": false,
    "pycharm": {
     "name": "#%%\n"
    }
   }
  },
  {
   "cell_type": "code",
   "execution_count": 113,
   "outputs": [
    {
     "data": {
      "text/plain": "False"
     },
     "execution_count": 113,
     "metadata": {},
     "output_type": "execute_result"
    }
   ],
   "source": [
    "full_enrichl[\"fold_v_over_l\"].isnull().values.any()"
   ],
   "metadata": {
    "collapsed": false,
    "pycharm": {
     "name": "#%%\n"
    }
   }
  },
  {
   "cell_type": "code",
   "execution_count": 116,
   "outputs": [],
   "source": [
    "ng_seqs = full_enrichl[\"sequence\"].tolist()\n",
    "gapped_seqs = dp.gap_adder(ng_seqs, 38, position_indx=-1)\n",
    "full_enrichl[\"sequence\"] = gapped_seqs\n",
    "\n",
    "full_enrichl[\"fold_l_over_v\"] = full_enrichl.apply(lambda x: 1./x[\"fold_v_over_l\"], axis=1)\n",
    "\n",
    "dp.dataframe_to_fasta(full_enrichl, \"./exo/pel.fasta\", count_key=\"fold_l_over_v\")"
   ],
   "metadata": {
    "collapsed": false,
    "pycharm": {
     "name": "#%%\n"
    }
   }
  },
  {
   "cell_type": "code",
   "execution_count": 129,
   "outputs": [],
   "source": [
    "### Forgot to remove very alike sequences\n",
    "### Lets try to do that now\n",
    "from sklearn.metrics import pairwise_distances\n",
    "from rbm_torch.utils.seq_utils import seq_to_cat\n",
    "\n",
    "\n",
    "def prune_sim_seqs(dataframe, hamming_threshold=0, molecule=\"protein\"):\n",
    "    dataframe.reset_index(drop=True, inplace=True)\n",
    "    seqs = dataframe[\"sequence\"].tolist()\n",
    "    index = dataframe.index.tolist()\n",
    "\n",
    "    cat = seq_to_cat(seqs, molecule=molecule)\n",
    "    X = cat.numpy().astype(np.int8)\n",
    "\n",
    "    seq_len = len(seqs[0])\n",
    "    selected_seqs, selected_indices, selected_cat = [], [], []\n",
    "    total_seqs = len(seqs)\n",
    "    for i in range(total_seqs):  # len(m1_seqs)\n",
    "        if i == 0:\n",
    "            selected_seqs.append(seqs[i])\n",
    "            selected_indices.append(index[i])\n",
    "            selected_cat.append(X[i])\n",
    "        else:\n",
    "            # number of mutations this sequence is from all sequences in the selected subset\n",
    "            dist_matrix = pairwise_distances([X[i]], selected_cat, metric=\"hamming\") * seq_len\n",
    "            if min(dist_matrix[0]) > hamming_threshold:\n",
    "                selected_seqs.append(seqs[i])\n",
    "                selected_indices.append(index[i])\n",
    "                selected_cat.append(X[i])\n",
    "\n",
    "    print(f\"Kept {len(selected_seqs)} of {total_seqs}\")\n",
    "\n",
    "    dataframe = dataframe.iloc[selected_indices, :]\n",
    "    # dataframe.head()\n",
    "    dataframe.reset_index(drop=True, inplace=True)\n",
    "    return dataframe"
   ],
   "metadata": {
    "collapsed": false,
    "pycharm": {
     "name": "#%%\n"
    }
   }
  },
  {
   "cell_type": "code",
   "execution_count": 132,
   "outputs": [
    {
     "name": "stdout",
     "output_type": "stream",
     "text": [
      "Kept 2451 of 4256\n"
     ]
    }
   ],
   "source": [
    "full_enrichv.sort_values(\"fold_v_over_l\", inplace=True, ascending=False)\n",
    "enrichv_pruned = prune_sim_seqs(full_enrichv, hamming_threshold=4, molecule=\"dna\")  # remove sequences within 4 mutations of any others\n",
    "dp.dataframe_to_fasta(enrichv_pruned, \"./exo/pevp.fasta\", count_key=\"fold_v_over_l\")"
   ],
   "metadata": {
    "collapsed": false,
    "pycharm": {
     "name": "#%%\n"
    }
   }
  },
  {
   "cell_type": "code",
   "execution_count": 131,
   "outputs": [
    {
     "data": {
      "text/plain": "   copy_num_l1                                sequence  copy_num_l2  \\\n0          NaN  TCAAATATAGGGGTTGGGGTATGGGGGTGATCGGGA--          1.0   \n1          NaN  TGGGGGGGGTATCTACTTGGCTTGGTGGGGGGTTG---          6.0   \n2          NaN  GTTTCTGGGGGGGGGTATTATGGTAAATATATGGGGA-          9.0   \n3          1.0  ATGGGGGAGAGTGAGGGGTGATTGTTAGGAGGTAT---          NaN   \n4          1.0  TTTGGCCCGTGCGTAATTATTATACTGGGTGTTTTTGA          NaN   \n\n   copy_num_v1  copy_num_v2  max_l  max_v  fold_v_over_l _merge  v_max  \n0         38.0          1.0    1.0   38.0      38.000000    NaN    NaN  \n1        131.0         26.0    6.0  131.0      21.833333    NaN    NaN  \n2        163.0        163.0    9.0  163.0      18.111111    NaN    NaN  \n3         17.0         10.0    1.0   17.0      17.000000    NaN    NaN  \n4         15.0          NaN    1.0   15.0      15.000000    NaN    NaN  ",
      "text/html": "<div>\n<style scoped>\n    .dataframe tbody tr th:only-of-type {\n        vertical-align: middle;\n    }\n\n    .dataframe tbody tr th {\n        vertical-align: top;\n    }\n\n    .dataframe thead th {\n        text-align: right;\n    }\n</style>\n<table border=\"1\" class=\"dataframe\">\n  <thead>\n    <tr style=\"text-align: right;\">\n      <th></th>\n      <th>copy_num_l1</th>\n      <th>sequence</th>\n      <th>copy_num_l2</th>\n      <th>copy_num_v1</th>\n      <th>copy_num_v2</th>\n      <th>max_l</th>\n      <th>max_v</th>\n      <th>fold_v_over_l</th>\n      <th>_merge</th>\n      <th>v_max</th>\n    </tr>\n  </thead>\n  <tbody>\n    <tr>\n      <th>0</th>\n      <td>NaN</td>\n      <td>TCAAATATAGGGGTTGGGGTATGGGGGTGATCGGGA--</td>\n      <td>1.0</td>\n      <td>38.0</td>\n      <td>1.0</td>\n      <td>1.0</td>\n      <td>38.0</td>\n      <td>38.000000</td>\n      <td>NaN</td>\n      <td>NaN</td>\n    </tr>\n    <tr>\n      <th>1</th>\n      <td>NaN</td>\n      <td>TGGGGGGGGTATCTACTTGGCTTGGTGGGGGGTTG---</td>\n      <td>6.0</td>\n      <td>131.0</td>\n      <td>26.0</td>\n      <td>6.0</td>\n      <td>131.0</td>\n      <td>21.833333</td>\n      <td>NaN</td>\n      <td>NaN</td>\n    </tr>\n    <tr>\n      <th>2</th>\n      <td>NaN</td>\n      <td>GTTTCTGGGGGGGGGTATTATGGTAAATATATGGGGA-</td>\n      <td>9.0</td>\n      <td>163.0</td>\n      <td>163.0</td>\n      <td>9.0</td>\n      <td>163.0</td>\n      <td>18.111111</td>\n      <td>NaN</td>\n      <td>NaN</td>\n    </tr>\n    <tr>\n      <th>3</th>\n      <td>1.0</td>\n      <td>ATGGGGGAGAGTGAGGGGTGATTGTTAGGAGGTAT---</td>\n      <td>NaN</td>\n      <td>17.0</td>\n      <td>10.0</td>\n      <td>1.0</td>\n      <td>17.0</td>\n      <td>17.000000</td>\n      <td>NaN</td>\n      <td>NaN</td>\n    </tr>\n    <tr>\n      <th>4</th>\n      <td>1.0</td>\n      <td>TTTGGCCCGTGCGTAATTATTATACTGGGTGTTTTTGA</td>\n      <td>NaN</td>\n      <td>15.0</td>\n      <td>NaN</td>\n      <td>1.0</td>\n      <td>15.0</td>\n      <td>15.000000</td>\n      <td>NaN</td>\n      <td>NaN</td>\n    </tr>\n  </tbody>\n</table>\n</div>"
     },
     "execution_count": 131,
     "metadata": {},
     "output_type": "execute_result"
    }
   ],
   "source": [
    "enrichv_pruned.head()"
   ],
   "metadata": {
    "collapsed": false,
    "pycharm": {
     "name": "#%%\n"
    }
   }
  },
  {
   "cell_type": "code",
   "execution_count": 133,
   "outputs": [
    {
     "name": "stdout",
     "output_type": "stream",
     "text": [
      "Kept 19172 of 20692\n"
     ]
    }
   ],
   "source": [
    "full_enrichl.sort_values(\"fold_l_over_v\", inplace=True, ascending=False)\n",
    "enrichl_pruned = prune_sim_seqs(full_enrichl, hamming_threshold=4, molecule=\"dna\")  # remove sequences within 4 mutations of any others\n",
    "dp.dataframe_to_fasta(enrichl_pruned, \"./exo/pelp.fasta\", count_key=\"fold_l_over_v\")"
   ],
   "metadata": {
    "collapsed": false,
    "pycharm": {
     "name": "#%%\n"
    }
   }
  },
  {
   "cell_type": "code",
   "execution_count": null,
   "outputs": [],
   "source": [],
   "metadata": {
    "collapsed": false,
    "pycharm": {
     "name": "#%%\n"
    }
   }
  }
 ],
 "metadata": {
  "kernelspec": {
   "display_name": "Python 3",
   "language": "python",
   "name": "python3"
  },
  "language_info": {
   "codemirror_mode": {
    "name": "ipython",
    "version": 2
   },
   "file_extension": ".py",
   "mimetype": "text/x-python",
   "name": "python",
   "nbconvert_exporter": "python",
   "pygments_lexer": "ipython2",
   "version": "2.7.6"
  }
 },
 "nbformat": 4,
 "nbformat_minor": 0
}