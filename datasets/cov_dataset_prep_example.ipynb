{
 "cells": [
  {
   "cell_type": "code",
   "execution_count": 1,
   "outputs": [],
   "source": [
    "import os\n",
    "import sys\n",
    "\n",
    "import pandas as pd"
   ],
   "metadata": {
    "collapsed": false,
    "pycharm": {
     "name": "#%%\n"
    }
   }
  },
  {
   "cell_type": "markdown",
   "source": [
    "## First let's look at our dataset and determine how it should be split up"
   ],
   "metadata": {
    "collapsed": false,
    "pycharm": {
     "name": "#%% md\n"
    }
   }
  },
  {
   "cell_type": "code",
   "execution_count": 4,
   "outputs": [
    {
     "data": {
      "text/plain": "'/home/jonah/PycharmProjects/phage_display_ML/datasets'"
     },
     "execution_count": 4,
     "metadata": {},
     "output_type": "execute_result"
    }
   ],
   "source": [
    "os.getcwd()"
   ],
   "metadata": {
    "collapsed": false,
    "pycharm": {
     "name": "#%%\n"
    }
   }
  },
  {
   "cell_type": "code",
   "execution_count": 2,
   "outputs": [],
   "source": [
    "## Let's make a directory within datasets to store all our files\n",
    "# Choose a short string 3-5 characters to denote this particular dataset\n",
    "# For this one, I chose \"ribo\" for the ribosomal rna.\n",
    "# Make sure to set \"focus\" in datatype as the same string\n",
    "\n",
    "dataset_focus = \"cov\"\n",
    "dataset_dir = f\"./{dataset_focus}/\"\n",
    "\n",
    "if not os.path.isdir(dataset_dir):\n",
    "    os.mkdir(dataset_dir)"
   ],
   "metadata": {
    "collapsed": false,
    "pycharm": {
     "name": "#%%\n"
    }
   }
  },
  {
   "cell_type": "code",
   "execution_count": 2,
   "outputs": [],
   "source": [
    "# Let's import our data_prep tools\n",
    "import data_prep as dp"
   ],
   "metadata": {
    "collapsed": false,
    "pycharm": {
     "name": "#%%\n"
    }
   }
  },
  {
   "cell_type": "code",
   "execution_count": 7,
   "outputs": [
    {
     "name": "stdout",
     "output_type": "stream",
     "text": [
      "Observed Characters: ['C', 'A', 'N', 'G', 'T']\n"
     ]
    }
   ],
   "source": [
    "# The below code can take awhile to run depending on the size of each file\n",
    "cov_df = dp.process_raw_fasta_files(\"r1.txt\", \"r2.txt\", \"r3.txt\", \"r4.txt\", \"r5.txt\", \"r6.txt\", \"r7.txt\", \"r8.txt\", \"r9.txt\", \"r10.txt\", \"r11.txt\", \"r12.txt\", in_dir=\"/mnt/D1/sars-cov-2-data/processed/\", out_dir=dataset_dir, violin_out=\"cov_data_lengths\", input_format=\"fasta\")"
   ],
   "metadata": {
    "collapsed": false,
    "pycharm": {
     "name": "#%%\n"
    }
   }
  },
  {
   "cell_type": "code",
   "execution_count": null,
   "outputs": [],
   "source": [
    "for round in [f\"r{x}\" for x in range(1, 13)]:\n",
    "    if x > 2:\n",
    "        rseqs = cov_df[cov_df[\"round\"] == round]"
   ],
   "metadata": {
    "collapsed": false,
    "pycharm": {
     "name": "#%%\n"
    }
   }
  },
  {
   "cell_type": "code",
   "execution_count": 3,
   "outputs": [],
   "source": [
    "sys.path.append(\"../rbm_torch/\")\n",
    "import utils"
   ],
   "metadata": {
    "collapsed": false,
    "pycharm": {
     "name": "#%%\n"
    }
   }
  },
  {
   "cell_type": "markdown",
   "source": [
    "## Looking at the above graph + the length report in our out directory we see this\n",
    "\n",
    "<img src=\"./cov/cov_data_lengths.png\" alt=\"COV Data Lengths\" style=\"height: 50px; width:50px;\"/>"
   ],
   "metadata": {
    "collapsed": false,
    "pycharm": {
     "name": "#%% md\n"
    }
   }
  },
  {
   "cell_type": "code",
   "execution_count": 3,
   "outputs": [
    {
     "name": "stdout",
     "output_type": "stream",
     "text": [
      "Removed 3036794 Repeat Sequences\r\n",
      "Length: 19 Number of Sequences 1\r\n",
      "Length: 25 Number of Sequences 2\r\n",
      "Length: 27 Number of Sequences 2\r\n",
      "Length: 28 Number of Sequences 2\r\n",
      "Length: 29 Number of Sequences 6\r\n",
      "Length: 30 Number of Sequences 29\r\n",
      "Length: 31 Number of Sequences 59\r\n",
      "Length: 32 Number of Sequences 74\r\n",
      "Length: 33 Number of Sequences 108\r\n",
      "Length: 34 Number of Sequences 125\r\n",
      "Length: 35 Number of Sequences 286\r\n",
      "Length: 36 Number of Sequences 546\r\n",
      "Length: 37 Number of Sequences 1280\r\n",
      "Length: 38 Number of Sequences 5464\r\n",
      "Length: 39 Number of Sequences 12615\r\n",
      "Length: 40 Number of Sequences 2078863\r\n",
      "Length: 41 Number of Sequences 162432\r\n"
     ]
    }
   ],
   "source": [
    "!cat ./cov/r5_len_report.txt"
   ],
   "metadata": {
    "collapsed": false,
    "pycharm": {
     "name": "#%%\n"
    }
   }
  },
  {
   "cell_type": "code",
   "execution_count": null,
   "outputs": [],
   "source": [
    "# So now we can define our datatype\n",
    "\n",
    "# Datatype defines the basics of our data, Each datatype is specified for a group of related fasta files\n",
    "# Focus - > short string specifier that gives the overall dataset we are using\n",
    "# Molecule -> What kind of sequence data? currently protein, dna, and rna are supported\n",
    "# id -> short string specifier ONLY for datasets which have different clustering methods (CLUSTERS ONLY)\n",
    "# process -> How were the gaps added to each dataset, used to name directory (CLUSTERS ONLY)\n",
    "# clusters -> How many clusters are in each data file (1 if no clusters)\n",
    "# cluster_indices -> Define the lengths of data put in each cluster, It is inclusive so [12, 16] includes length 12 and length 16. There must be cluster_indices for each cluster\n",
    "# gap_position_indices -> Index where gaps should be added to each sequence that is short of the maximum length. (-1 means add gaps to the end of the clusters)\n",
    "\n",
    "cov_datatype = {\"focus\": \"cov\", \"molecule\": \"dna\", \"id\": None, \"process\": None, \"clusters\": 1, \"gap_position_indices\": [-1], \"cluster_indices\": [[40, 40]]}"
   ],
   "metadata": {
    "collapsed": false,
    "pycharm": {
     "name": "#%%\n"
    }
   }
  },
  {
   "cell_type": "markdown",
   "source": [
    "## Before we do anything else, we need to copy our datatype to phage_display_ML/rbm_torch/analysis/global_info.py\n",
    "## Also make sure to add the new datatype to the datatype_list in the same file."
   ],
   "metadata": {
    "collapsed": false,
    "pycharm": {
     "name": "#%% md\n"
    }
   }
  },
  {
   "cell_type": "markdown",
   "source": [
    "## Next we need to process the raw files and make our own fasta files with our preferred formatting"
   ],
   "metadata": {
    "collapsed": false,
    "pycharm": {
     "name": "#%% md\n"
    }
   }
  },
  {
   "cell_type": "code",
   "execution_count": 7,
   "outputs": [],
   "source": [
    "# chars_to_remove = [\"W\", \"D\", \"V\", \"M\", \"B\", \"R\", \"K\", \"Y\", \"H\", \"S\"]\n",
    "# chars_replace = {x: \"-\" for x in chars_to_remove}\n",
    "dp.prepare_data_files(\"cov\", cov_df, target_dir=dataset_dir, character_conversion={\"T\": \"U\", \"N\":\"-\"}, remove_chars=None) # Creates datafiles in target directory"
   ],
   "metadata": {
    "collapsed": false,
    "pycharm": {
     "name": "#%%\n"
    }
   }
  },
  {
   "cell_type": "markdown",
   "source": [
    "## Now we have generated a data file that we can use for training our RBM or CRBM"
   ],
   "metadata": {
    "collapsed": false,
    "pycharm": {
     "name": "#%% md\n"
    }
   }
  },
  {
   "cell_type": "markdown",
   "source": [
    "#We will also try scaling the weights based off other information. In this case I am going choose a weight that is representative of both the copy number and the number of sequences that match with less than a threshold of difference b/t one another. To do this I'm going to read in the already processed files with their count number. And write them out with the altered weights in the fasta file"
   ],
   "metadata": {
    "collapsed": false,
    "pycharm": {
     "name": "#%% md\n"
    }
   }
  },
  {
   "cell_type": "code",
   "execution_count": null,
   "outputs": [],
   "source": [
    "import numpy as np"
   ],
   "metadata": {
    "collapsed": false,
    "pycharm": {
     "name": "#%%\n"
    }
   }
  },
  {
   "cell_type": "markdown",
   "source": [],
   "metadata": {
    "collapsed": false
   }
  },
  {
   "cell_type": "markdown",
   "source": [
    "#### The Below Scaling Weights didn't work too well, returned about the same model as just the raw weights"
   ],
   "metadata": {
    "collapsed": false
   }
  },
  {
   "cell_type": "code",
   "execution_count": null,
   "outputs": [],
   "source": [
    "## Scaling all Rounds except R1 and R2 (way too much data, pairwise neighbor jobs aren't done yet)"
   ],
   "metadata": {
    "collapsed": false,
    "pycharm": {
     "name": "#%%\n"
    }
   }
  },
  {
   "cell_type": "code",
   "execution_count": 3,
   "outputs": [
    {
     "name": "stdout",
     "output_type": "stream",
     "text": [
      "Process Time 0.587090015411377\n"
     ]
    }
   ],
   "source": [
    "fasta_file = \"r3.fasta\"\n",
    "dp.scale_weights(f\"./cov/{fasta_file}\", \"./cov/sw/\", f\"./cov/{fasta_file}_15_neighbor_counts.pkl\", molecule=\"dna\", threads=12, precision=20, scale_log=True, copynum_coeff=5.0, neighbor_coeff=0.5, normalize_threshold=0.75)"
   ],
   "metadata": {
    "collapsed": false,
    "pycharm": {
     "name": "#%%\n"
    }
   }
  },
  {
   "cell_type": "code",
   "execution_count": 4,
   "outputs": [],
   "source": [
    "import rbm_torch.utils as utils\n",
    "import data_prep as dp\n",
    "import numpy as np"
   ],
   "metadata": {
    "collapsed": false,
    "pycharm": {
     "name": "#%%\n"
    }
   }
  },
  {
   "cell_type": "code",
   "execution_count": 5,
   "outputs": [
    {
     "name": "stdout",
     "output_type": "stream",
     "text": [
      "Process Time 0.5592570304870605\n",
      "Process Time 0.3178377151489258\n",
      "Process Time 1.5709872245788574\n",
      "Process Time 1.1642749309539795\n",
      "Process Time 2.1850874423980713\n",
      "Process Time 0.6264688968658447\n",
      "Process Time 0.16741061210632324\n",
      "Process Time 0.41866111755371094\n",
      "Process Time 0.20952653884887695\n",
      "Process Time 0.4487771987915039\n"
     ]
    }
   ],
   "source": [
    "all_fasta_files = [f\"r{i}.fasta\" for i in range(3, 13)]\n",
    "all_affinities =[]\n",
    "min_vals = []\n",
    "for fasta_file in all_fasta_files:\n",
    "    seqs, affs, chars, q = utils.fasta_read(f\"./cov/{fasta_file}\", \"dna\", threads=12)\n",
    "    # stand_affs = dp.standardize_affinities(affs, out_plot=f\"./cov/sw/{fasta_file.split('.')[0]}_stand_affs\")\n",
    "    stand_affs = dp.standardize_affinities(affs, out_plot=f\"./cov/nw/{fasta_file.split('.')[0]}_stand_affs\")\n",
    "    min_vals.append(min(stand_affs))\n",
    "    all_affinities.append(stand_affs)\n",
    "    # neighs = dp.load_neighbor_file(f\"./cov/{fasta_file}_15_neighbor_counts.pkl\")\n",
    "    # neighs_log_scaled = dp.scale_values_np(dp.log_scale(neighs, base=0.001), min=0.01, max=1.00)\n",
    "    # dp.quick_hist(neighs_log_scaled.squeeze(1).tolist(), outfile=f\"./cov/sw/{fasta_file.split('.')[0]}_neighs_log_scaled\")\n",
    "    # new_weights = np.asarray(stand_affs) * neighs_log_scaled.squeeze(1)\n",
    "    # dp.quick_hist(new_weights.tolist(), outfile=f\"./cov/sw/{fasta_file.split('.')[0]}_aff_and_neigh_weights\")\n",
    "    # dp.make_weight_file(f\"./cov/nw/{fasta_file.split('.')[0]}_nw_weights\", stand_affs, \"nw\")\n",
    "    # dp.write_fasta(seqs, stand_affs, f\"./cov/nw/{fasta_file}\")\n",
    "    # dp.write_fasta(seqs, new_weights.tolist(), f\"./cov/sw/{fasta_file.split('.')[0]}_n\")"
   ],
   "metadata": {
    "collapsed": false,
    "pycharm": {
     "name": "#%%\n"
    }
   }
  },
  {
   "cell_type": "code",
   "execution_count": 6,
   "outputs": [],
   "source": [
    "thresholds = min_vals\n",
    "for fid, fasta_file in enumerate(all_fasta_files):\n",
    "    new_weights =dp.negate_affinites(all_affinities[fid], thresholds[fid], out_plot=f\"./cov/nw/{fasta_file.split('.')[0]}_n3_affs\", negative_factor=10000.)\n",
    "    dp.make_weight_file(f\"./cov/nw/{fasta_file.split('.')[0]}_n3_weights\", new_weights, \"n3\")\n",
    "    # dp.write_fasta(seqs, stand_affs, f\"./cov/nw/{fasta_file}\")"
   ],
   "metadata": {
    "collapsed": false,
    "pycharm": {
     "name": "#%%\n"
    }
   }
  },
  {
   "cell_type": "code",
   "execution_count": 134,
   "outputs": [],
   "source": [
    "import numpy as np\n",
    "r9_neighs_log = log_scale(r9_neighs_close)   # Want largest value to be least number of neighbors (1)"
   ],
   "metadata": {
    "collapsed": false,
    "pycharm": {
     "name": "#%%\n"
    }
   }
  },
  {
   "cell_type": "code",
   "execution_count": 135,
   "outputs": [
    {
     "name": "stdout",
     "output_type": "stream",
     "text": [
      "10.035655516113545 0.6931471805599453 6.73164957580278 7.848543482456679\n"
     ]
    },
    {
     "data": {
      "text/plain": "<Figure size 640x480 with 1 Axes>",
      "image/png": "[encoded data removed]"
     },
     "metadata": {},
     "output_type": "display_data"
    }
   ],
   "source": [
    "summary(r9_neighs_log)\n",
    "quick_hist(r9_neighs_log)"
   ],
   "metadata": {
    "collapsed": false,
    "pycharm": {
     "name": "#%%\n"
    }
   }
  },
  {
   "cell_type": "code",
   "execution_count": 140,
   "outputs": [],
   "source": [
    "from sklearn.preprocessing import MinMaxScaler\n",
    "\n",
    "mscaler = MinMaxScaler(feature_range=(0.05, 0.95))\n",
    "r9_scaled = mscaler.fit_transform(r9_neighs_log.reshape(-1, 1))"
   ],
   "metadata": {
    "collapsed": false,
    "pycharm": {
     "name": "#%%\n"
    }
   }
  },
  {
   "cell_type": "code",
   "execution_count": 141,
   "outputs": [
    {
     "name": "stdout",
     "output_type": "stream",
     "text": [
      "0.95 0.05 0.6317123154213931 0.7393070298048023\n"
     ]
    },
    {
     "data": {
      "text/plain": "<Figure size 640x480 with 1 Axes>",
      "image/png": "[encoded data removed]"
     },
     "metadata": {},
     "output_type": "display_data"
    }
   ],
   "source": [
    "summary(r9_scaled)\n",
    "quick_hist(r9_scaled)"
   ],
   "metadata": {
    "collapsed": false,
    "pycharm": {
     "name": "#%%\n"
    }
   }
  },
  {
   "cell_type": "code",
   "execution_count": 142,
   "outputs": [
    {
     "name": "stdout",
     "output_type": "stream",
     "text": [
      "334668.0 1.0 8.113757120779015 1.0\n"
     ]
    },
    {
     "data": {
      "text/plain": "<Figure size 640x480 with 1 Axes>",
      "image/png": "[encoded data removed]"
     },
     "metadata": {},
     "output_type": "display_data"
    }
   ],
   "source": [
    "affs = np.asarray(affs)\n",
    "summary(affs)\n",
    "quick_hist(affs)"
   ],
   "metadata": {
    "collapsed": false,
    "pycharm": {
     "name": "#%%\n"
    }
   }
  },
  {
   "cell_type": "code",
   "execution_count": 144,
   "outputs": [
    {
     "name": "stdout",
     "output_type": "stream",
     "text": [
      "12.72089726265295 0.6931471805599453 0.8867362142919959 0.6931471805599453\n"
     ]
    },
    {
     "data": {
      "text/plain": "<Figure size 640x480 with 1 Axes>",
      "image/png": "[encoded data removed]"
     },
     "metadata": {},
     "output_type": "display_data"
    }
   ],
   "source": [
    "log_affs = log_scale(affs)\n",
    "summary(log_affs)\n",
    "quick_hist(log_affs)"
   ],
   "metadata": {
    "collapsed": false,
    "pycharm": {
     "name": "#%%\n"
    }
   }
  },
  {
   "cell_type": "code",
   "execution_count": 146,
   "outputs": [
    {
     "name": "stdout",
     "output_type": "stream",
     "text": [
      "0.95 0.05 0.06448567929743075 0.05\n"
     ]
    },
    {
     "data": {
      "text/plain": "<Figure size 640x480 with 1 Axes>",
      "image/png": "[encoded data removed]"
     },
     "metadata": {},
     "output_type": "display_data"
    }
   ],
   "source": [
    "ascaler = MinMaxScaler(feature_range=(0.05, 0.95))\n",
    "affs_scaled = ascaler.fit_transform(log_affs.reshape(-1, 1))\n",
    "\n",
    "summary(affs_scaled)\n",
    "quick_hist(affs_scaled)"
   ],
   "metadata": {
    "collapsed": false,
    "pycharm": {
     "name": "#%%\n"
    }
   }
  },
  {
   "cell_type": "code",
   "execution_count": 147,
   "outputs": [
    {
     "name": "stdout",
     "output_type": "stream",
     "text": [
      "0.3348448080826318 0.003307718667520332 0.022179787810108074 0.015061535530508603\n"
     ]
    },
    {
     "data": {
      "text/plain": "<Figure size 640x480 with 1 Axes>",
      "image/png": "[encoded data removed]"
     },
     "metadata": {},
     "output_type": "display_data"
    }
   ],
   "source": [
    "new_weights = affs_scaled*(1-r9_scaled)\n",
    "summary(new_weights)\n",
    "quick_hist(new_weights)"
   ],
   "metadata": {
    "collapsed": false,
    "pycharm": {
     "name": "#%%\n"
    }
   }
  },
  {
   "cell_type": "code",
   "execution_count": 157,
   "outputs": [
    {
     "data": {
      "text/plain": "                        weights    affs                  neigh\n91184    [0.003307718667520332]  [0.05]  [0.06615437335040664]\n186376   [0.003470392537045147]  [0.05]  [0.06940785074090294]\n235767   [0.003533788092438983]  [0.05]  [0.07067576184877966]\n18285   [0.0035387598260424704]  [0.05]   [0.0707751965208494]\n119420   [0.003542688507037134]  [0.05]  [0.07085377014074268]\n127134   [0.003595114546188549]  [0.05]  [0.07190229092377098]\n92862    [0.003602802382602255]  [0.05]   [0.0720560476520451]\n159253    [0.00360651814817326]  [0.05]   [0.0721303629634652]\n162372   [0.003607580322186821]  [0.05]  [0.07215160644373642]\n119097  [0.0036142242218145993]  [0.05]  [0.07228448443629198]\n66881   [0.0036168843497821736]  [0.05]  [0.07233768699564347]\n211740  [0.0036360807627900562]  [0.05]  [0.07272161525580112]\n47969   [0.0036390202968197174]  [0.05]  [0.07278040593639434]\n198163  [0.0036422291085223325]  [0.05]  [0.07284458217044665]\n203751  [0.0036427641183627625]  [0.05]  [0.07285528236725525]\n236569   [0.003662870006420255]  [0.05]  [0.07325740012840509]\n127579    [0.00366717014605501]  [0.05]   [0.0733434029211002]\n41203   [0.0036738968091437063]  [0.05]  [0.07347793618287413]\n19682   [0.0036747046403554084]  [0.05]  [0.07349409280710817]\n159852  [0.0036809025182160562]  [0.05]  [0.07361805036432112]",
      "text/html": "<div>\n<style scoped>\n    .dataframe tbody tr th:only-of-type {\n        vertical-align: middle;\n    }\n\n    .dataframe tbody tr th {\n        vertical-align: top;\n    }\n\n    .dataframe thead th {\n        text-align: right;\n    }\n</style>\n<table border=\"1\" class=\"dataframe\">\n  <thead>\n    <tr style=\"text-align: right;\">\n      <th></th>\n      <th>weights</th>\n      <th>affs</th>\n      <th>neigh</th>\n    </tr>\n  </thead>\n  <tbody>\n    <tr>\n      <th>91184</th>\n      <td>[0.003307718667520332]</td>\n      <td>[0.05]</td>\n      <td>[0.06615437335040664]</td>\n    </tr>\n    <tr>\n      <th>186376</th>\n      <td>[0.003470392537045147]</td>\n      <td>[0.05]</td>\n      <td>[0.06940785074090294]</td>\n    </tr>\n    <tr>\n      <th>235767</th>\n      <td>[0.003533788092438983]</td>\n      <td>[0.05]</td>\n      <td>[0.07067576184877966]</td>\n    </tr>\n    <tr>\n      <th>18285</th>\n      <td>[0.0035387598260424704]</td>\n      <td>[0.05]</td>\n      <td>[0.0707751965208494]</td>\n    </tr>\n    <tr>\n      <th>119420</th>\n      <td>[0.003542688507037134]</td>\n      <td>[0.05]</td>\n      <td>[0.07085377014074268]</td>\n    </tr>\n    <tr>\n      <th>127134</th>\n      <td>[0.003595114546188549]</td>\n      <td>[0.05]</td>\n      <td>[0.07190229092377098]</td>\n    </tr>\n    <tr>\n      <th>92862</th>\n      <td>[0.003602802382602255]</td>\n      <td>[0.05]</td>\n      <td>[0.0720560476520451]</td>\n    </tr>\n    <tr>\n      <th>159253</th>\n      <td>[0.00360651814817326]</td>\n      <td>[0.05]</td>\n      <td>[0.0721303629634652]</td>\n    </tr>\n    <tr>\n      <th>162372</th>\n      <td>[0.003607580322186821]</td>\n      <td>[0.05]</td>\n      <td>[0.07215160644373642]</td>\n    </tr>\n    <tr>\n      <th>119097</th>\n      <td>[0.0036142242218145993]</td>\n      <td>[0.05]</td>\n      <td>[0.07228448443629198]</td>\n    </tr>\n    <tr>\n      <th>66881</th>\n      <td>[0.0036168843497821736]</td>\n      <td>[0.05]</td>\n      <td>[0.07233768699564347]</td>\n    </tr>\n    <tr>\n      <th>211740</th>\n      <td>[0.0036360807627900562]</td>\n      <td>[0.05]</td>\n      <td>[0.07272161525580112]</td>\n    </tr>\n    <tr>\n      <th>47969</th>\n      <td>[0.0036390202968197174]</td>\n      <td>[0.05]</td>\n      <td>[0.07278040593639434]</td>\n    </tr>\n    <tr>\n      <th>198163</th>\n      <td>[0.0036422291085223325]</td>\n      <td>[0.05]</td>\n      <td>[0.07284458217044665]</td>\n    </tr>\n    <tr>\n      <th>203751</th>\n      <td>[0.0036427641183627625]</td>\n      <td>[0.05]</td>\n      <td>[0.07285528236725525]</td>\n    </tr>\n    <tr>\n      <th>236569</th>\n      <td>[0.003662870006420255]</td>\n      <td>[0.05]</td>\n      <td>[0.07325740012840509]</td>\n    </tr>\n    <tr>\n      <th>127579</th>\n      <td>[0.00366717014605501]</td>\n      <td>[0.05]</td>\n      <td>[0.0733434029211002]</td>\n    </tr>\n    <tr>\n      <th>41203</th>\n      <td>[0.0036738968091437063]</td>\n      <td>[0.05]</td>\n      <td>[0.07347793618287413]</td>\n    </tr>\n    <tr>\n      <th>19682</th>\n      <td>[0.0036747046403554084]</td>\n      <td>[0.05]</td>\n      <td>[0.07349409280710817]</td>\n    </tr>\n    <tr>\n      <th>159852</th>\n      <td>[0.0036809025182160562]</td>\n      <td>[0.05]</td>\n      <td>[0.07361805036432112]</td>\n    </tr>\n  </tbody>\n</table>\n</div>"
     },
     "execution_count": 157,
     "metadata": {},
     "output_type": "execute_result"
    }
   ],
   "source": [
    "import pandas as pd\n",
    "neigh_term = 1-r9_scaled\n",
    "weight_df = pd.DataFrame({\"weights\": new_weights.tolist(), \"affs\": affs_scaled.tolist(), \"neigh\": neigh_term.tolist()})\n",
    "weight_df.sort_values(\"weights\", ascending=True, inplace=True)\n",
    "weight_df.head(20)"
   ],
   "metadata": {
    "collapsed": false,
    "pycharm": {
     "name": "#%%\n"
    }
   }
  },
  {
   "cell_type": "code",
   "execution_count": 165,
   "outputs": [
    {
     "data": {
      "text/plain": "[0.00586916040509527,\n 0.014810463977324169,\n 0.033070475565228234,\n 0.007026866059164133,\n 0.03385327945094363,\n 0.005640244566947456,\n 0.04554699881343095,\n 0.010441758735904035,\n 0.0475,\n 0.013059151406134529,\n 0.018498575437217047,\n 0.012124925754913286,\n 0.010651481467998537,\n 0.0475,\n 0.07632273617811608,\n 0.007112418496982776,\n 0.009020529699930419,\n 0.010213353362277477,\n 0.01848107077741198,\n 0.014998293792841703,\n 0.021343844418321406,\n 0.006153001798091612,\n 0.0475,\n 0.015362861689600311,\n 0.02195560525170064,\n 0.026393120404303083,\n 0.018971118822396466,\n 0.022028038099186478,\n 0.01520393986053701,\n 0.014356823564374871,\n 0.039747830726153385,\n 0.011257794062209187,\n 0.0475,\n 0.007477204160158047,\n 0.04416132241953743,\n 0.0072496014926621615,\n 0.006232032772794472,\n 0.029671962512336083,\n 0.007553115650792697,\n 0.009837143539427419,\n 0.03514542487518909,\n 0.013606910969283443,\n 0.011598476321661567,\n 0.022622808513631788,\n 0.008729145313148657,\n 0.01615643716442307,\n 0.01642245716872881,\n 0.03748396725861227,\n 0.011737197625979308,\n 0.008801205292009695,\n 0.017999276779729245,\n 0.01328349402338332,\n 0.0053536930523425015,\n 0.022368181282418603,\n 0.008197414443773787,\n 0.019195498543242526,\n 0.0475,\n 0.012118073743932745,\n 0.008858491637839552,\n 0.006243036075325898,\n 0.04554699881343095,\n 0.021423019592492806,\n 0.0067995292989075145,\n 0.007475425360265193,\n 0.07318466471878855,\n 0.008588181035192216,\n 0.008798083649911803,\n 0.01591458799803604,\n 0.011629271910128431,\n 0.016324691100981305,\n 0.01749917098334654,\n 0.07632273617811608,\n 0.011342102301620697,\n 0.010257658865169795,\n 0.006810360868001414,\n 0.007173278058617389,\n 0.023697622626553252,\n 0.02305444282384051,\n 0.007197838839368026,\n 0.011691460132514037,\n 0.029322024750947,\n 0.011182146236228447,\n 0.006048722926575817,\n 0.011448736728384791,\n 0.00745281477429433,\n 0.03103785779592906,\n 0.02030761212412748,\n 0.0475,\n 0.011562750331572684,\n 0.010564767539847543,\n 0.009592742151936685,\n 0.07632273617811608,\n 0.01090083866788254,\n 0.011636298451984961,\n 0.00916428978989695,\n 0.007470685102937392,\n 0.015133664664953202,\n 0.01367085031864619,\n 0.014174765098031634,\n 0.007310511861040908,\n 0.04220832123296838,\n 0.04220832123296838,\n 0.03812714706132502,\n 0.010115078070966378,\n 0.0113749110815916,\n 0.0475,\n 0.0475,\n 0.009828439543022933,\n 0.021192612061129358,\n 0.013649442756347531,\n 0.02037617831523769,\n 0.007912620602692667,\n 0.01075919375335504,\n 0.007482544504689848,\n 0.005037276765028737,\n 0.013222509953187012,\n 0.007229843565679284,\n 0.010566268249193184,\n 0.009883832372724433,\n 0.018762899253848272,\n 0.02147695849421512,\n 0.010360145573849955,\n 0.006014459024687941,\n 0.009017551867012924,\n 0.009046461828414612,\n 0.019903204326506527,\n 0.013100903936659126,\n 0.04171477166213458,\n 0.07632273617811608,\n 0.008985001017749239,\n 0.008745322947765888,\n 0.00916428978989695,\n 0.006750831401962371,\n 0.010817067972270129,\n 0.01898403221776776,\n 0.02974310818918884,\n 0.01581980811598383,\n 0.00691053834899868,\n 0.0475,\n 0.00947010400725748,\n 0.02385498777413731,\n 0.01870764021272588,\n 0.009231254140515772,\n 0.00723652069696711,\n 0.016407286467720068,\n 0.009126557642642714,\n 0.027819104092731223,\n 0.021756103432521393,\n 0.0475,\n 0.008917351977089727,\n 0.022950213547859994,\n 0.010584546330334442,\n 0.014201040208797684,\n 0.041465824641787594,\n 0.033445992422171895,\n 0.02503764281521427,\n 0.007558540874105269,\n 0.01355426898532321,\n 0.03399707202714325,\n 0.013475101957641093,\n 0.016683937704098185,\n 0.020560950861566674,\n 0.01627249404130131,\n 0.02657722027503731,\n 0.016407286467720068,\n 0.0475,\n 0.01023906831226883,\n 0.02053411684459594,\n 0.011577591651327985,\n 0.0064273624684022925,\n 0.014566662869333186,\n 0.0049991914962974286,\n 0.0475,\n 0.010654921554031055,\n 0.006588847262206854,\n 0.017777839792397554,\n 0.023069518559429177,\n 0.03256208900819209,\n 0.022734182113372522,\n 0.0106081183804425,\n 0.016533897411987592,\n 0.008133108816399016,\n 0.009768902301254802,\n 0.016347077013878882,\n 0.007859040264916716,\n 0.04554699881343095,\n 0.031536581520328254,\n 0.024205111946799196,\n 0.015248388286583465,\n 0.039747830726153385,\n 0.011324649511486375,\n 0.019353437072600784,\n 0.04678242521454955,\n 0.010599038842243225,\n 0.020239769674914115,\n 0.04554699881343095,\n 0.010081355457687525,\n 0.005305092862372163,\n 0.00571987464977663,\n 0.032611395633249725,\n 0.01012534383271347,\n 0.018176400790634456,\n 0.008648305936191003,\n 0.01307588865221421,\n 0.035735962693941595,\n 0.01598344826429311,\n 0.018446251154056237,\n 0.011311393322615715,\n 0.24713129885782656,\n 0.006775887776299422,\n 0.01672016875022665,\n 0.011534714842357519,\n 0.010087469306938835,\n 0.004689570242813291,\n 0.0475,\n 0.007955656191109462,\n 0.01138157594164,\n 0.006628959783205901,\n 0.04554699881343095,\n 0.020104267065324626,\n 0.011508111411641084,\n 0.01204404049262512,\n 0.014948783648015704,\n 0.010888781856609847,\n 0.02450645500923047,\n 0.030985634476558336,\n 0.009208262719351906,\n 0.017663447268340845,\n 0.012841180994107622,\n 0.008978517162032197,\n 0.012677533891679992,\n 0.020847358327191312,\n 0.011030531420380303,\n 0.010542432510199208,\n 0.05067280402811925,\n 0.015110465614262032,\n 0.026801292936080984,\n 0.014264367827381046,\n 0.01434064924880957,\n 0.033070475565228234,\n 0.007162155334384979,\n 0.009643615048725136,\n 0.01772199835233313,\n 0.00848619752079295,\n 0.020972724796660513,\n 0.00876232942650595,\n 0.02371485589570026,\n 0.010923830089046405,\n 0.005006997557596815,\n 0.008032904526230834,\n 0.031280767765254305,\n 0.0475,\n 0.015304932861241018,\n 0.0202991095736611,\n 0.008809800254055594,\n 0.017226760187426193,\n 0.0359500732137123,\n 0.04220832123296838,\n 0.010437370948227831,\n 0.013825888895329616,\n 0.010203042478296327,\n 0.012895669059197751,\n 0.011902388798368118,\n 0.024148108990527974,\n 0.04554699881343095,\n 0.01251115424732109,\n 0.011313326266591182,\n 0.008710961715200008,\n 0.036174145874755974,\n 0.008167207030359403,\n 0.013424108075270037,\n 0.01210410555554014,\n 0.034298213429763504,\n 0.02870539326011163,\n 0.01878146071646529,\n 0.024224263835206174,\n 0.0475,\n 0.035735962693941595,\n 0.015013097505622443,\n 0.025615636917609208,\n 0.014870639239785167,\n 0.008428773043238769,\n 0.009527854491052284,\n 0.03533433903276934,\n 0.005120539677102898,\n 0.017461318579595653,\n 0.017226760187426193,\n 0.011261695798824689,\n 0.010858771207573377,\n 0.02354523648234984,\n 0.007277968439129989,\n 0.015911170691338267,\n 0.01883757816973035,\n 0.013232294018278707,\n 0.07632273617811608,\n 0.0475,\n 0.009636181878131977,\n 0.015700626111829243,\n 0.03812714706132502,\n 0.04416132241953743,\n 0.02162009363595136,\n 0.012087088152429355,\n 0.010856378413888569,\n 0.007866750060221783,\n 0.02879515411637383,\n 0.014346938094330436,\n 0.0475,\n 0.018264681723931014,\n 0.007506947947329041,\n 0.049670487385338365,\n 0.0475,\n 0.027353383847831984,\n 0.036916642465936754,\n 0.008204995990659686,\n 0.017120211468575636,\n 0.03871052664677238,\n 0.006390780410988917,\n 0.012462730225083091,\n 0.006002655004540419,\n 0.004156946080491985,\n 0.009529670398175944,\n 0.0475,\n 0.0475,\n 0.0475,\n 0.04554699881343095,\n 0.0475,\n 0.012918905761484101,\n 0.009299162607800393,\n 0.009002062782297005,\n 0.02017334019375118,\n 0.016231427084379375,\n 0.07632273617811608,\n 0.0475,\n 0.03219228849158065,\n 0.010662957989006816,\n 0.08997083180305294,\n 0.0475,\n 0.05349067978056316,\n 0.0059934940575813505,\n 0.009520452977321021,\n 0.007224213297839544,\n 0.022734182113372522,\n 0.03514542487518909,\n 0.01830381932186976,\n 0.012477779792020244,\n 0.007303070298368747,\n 0.020472079455059012,\n 0.012373407111152701,\n 0.022595362891861998,\n 0.014376655578345311,\n 0.014141530017805033,\n 0.015021610073826542,\n 0.009779411802493082,\n 0.02450070735734046,\n 0.007928225455181126,\n 0.01515697599218901,\n 0.006863320628216979,\n 0.016553374565856312,\n 0.12559552912224953,\n 0.012097471088993162,\n 0.00981396774368838,\n 0.010339687919719127,\n 0.017262806706179752,\n 0.01470959283847485,\n 0.022407501448434865,\n 0.023749508517020297,\n 0.020436984993152642,\n 0.04554699881343095,\n 0.015189214402450852,\n 0.005265588417008249,\n 0.016078479917991644,\n 0.008673327777336176,\n 0.01730368412483037,\n 0.011707396209927012,\n 0.0475,\n 0.013838955032749579,\n 0.006714754937643308,\n 0.0475,\n 0.018143708174708107,\n 0.02176761286114806,\n 0.02856160068391201,\n 0.005441495782458805,\n 0.011851886212559191,\n 0.03525570212530463,\n 0.009199775151361068,\n 0.04554699881343095,\n 0.00981396774368838,\n 0.0475,\n 0.017020267465628097,\n 0.014702944031007109,\n 0.005379329087790397,\n 0.016335871052434132,\n 0.008641556764324595,\n 0.009508828685188915,\n 0.01591458799803604,\n 0.010163518534576073,\n 0.010041803482641942,\n 0.2020497561564467,\n 0.04416132241953743,\n 0.02216372858165327,\n 0.03478846948086244,\n 0.02177379294986757,\n 0.048105998194861756,\n 0.03399707202714325,\n 0.01798874848354087,\n 0.02781079602881863,\n 0.01416524593764394,\n 0.0475,\n 0.007317964938365607,\n 0.01385899215075786,\n 0.03349156671305767,\n 0.01741441758986507,\n 0.015717003868473606,\n 0.0475,\n 0.02171033877861584,\n 0.014780655933123095,\n 0.009168500554732357,\n 0.0475,\n 0.012254331873350536,\n 0.0475,\n 0.03640908187728278,\n 0.007361190118567018,\n 0.009543311567272079,\n 0.02569382314832528,\n 0.009957143293787732,\n 0.00496281226271425,\n 0.0475,\n 0.0475,\n 0.017551708568637827,\n 0.017879568887038778,\n 0.00970726447160702,\n 0.007616793358416685,\n 0.03180674729472651,\n 0.008038231990994555,\n 0.0475,\n 0.010017624254681962,\n 0.011369585825561652,\n 0.041465824641787594,\n 0.016249598793175144,\n 0.04220832123296838,\n 0.04554699881343095,\n 0.013564751456464725,\n 0.03318055733857942,\n 0.010184280177015543,\n 0.00502015453028768,\n 0.036656217227898344,\n 0.00961395094518352,\n 0.006651389710578649,\n 0.030042660265737722,\n 0.0475,\n 0.026016850997777632,\n 0.07813917862069085,\n 0.005403174154253521,\n 0.014015443587301446,\n 0.039288750794174876,\n 0.01758060881686955,\n 0.0207905793562994,\n 0.0475,\n 0.02298725964229885,\n 0.016049790145369,\n 0.013193276440904157,\n 0.027070828624326405,\n 0.021687618483712975,\n 0.07814397070769045,\n 0.012767696987607546,\n 0.011885953846180537,\n 0.06386659364557096,\n 0.009204865897216452,\n 0.03295153881648185,\n 0.0475,\n 0.010811261291019461,\n 0.0475,\n 0.011485396729705073,\n 0.014595171765835253,\n 0.014175019281305084,\n 0.01610993326316253,\n 0.011990614918615349,\n 0.0475,\n 0.014867887629548404,\n 0.007373363007332179,\n 0.01747075382960282,\n 0.008819194101184159,\n 0.06386659364557096,\n 0.010506947234458408,\n 0.014624633084057787,\n 0.01958216579354153,\n 0.016985984804259734,\n 0.008131070579431533,\n 0.012340740362759579,\n 0.007999079757553623,\n 0.015559821530120022,\n 0.006829504527421293,\n 0.032722129098284425,\n 0.008854585102347035,\n 0.012497919306747996,\n 0.005053025795771432,\n 0.0129011519210174,\n 0.010206176646233684,\n 0.015536678771857455,\n 0.009326944623327537,\n 0.01075693957597459,\n 0.02342272293596524,\n 0.02618686959841417,\n 0.020551989568584707,\n 0.03812714706132502,\n 0.022650411417760103,\n 0.01560030841036621,\n 0.010494726346926182,\n 0.006980104285631006,\n 0.07632273617811608,\n 0.021182396376306475,\n 0.009260363290967494,\n 0.025934040472324574,\n 0.008341415718248918,\n 0.006885297975493993,\n 0.008116827019751516,\n 0.010231323678798095,\n 0.013890327628485716,\n 0.007369881898829561,\n 0.010709139489358283,\n 0.040822644839074856,\n 0.016695984463829534,\n 0.012868347978638518,\n 0.0053028267162054665,\n 0.010112084756969503,\n 0.012025094469229352,\n 0.020291089786953535,\n 0.012739321685584337,\n 0.023680450795216287,\n 0.011741507866614554,\n 0.010933543616086179,\n 0.013814577879510976,\n 0.006712224497034303,\n 0.010447249097365314,\n 0.009498892698642031,\n 0.019297912612352353,\n 0.007046891669533595,\n 0.039288750794174876,\n 0.03239728511347902,\n 0.023646289704590057,\n 0.010490290064237762,\n 0.02053411684459594,\n 0.040822644839074856,\n 0.009840048370305566,\n 0.011317970810444411,\n 0.0475,\n 0.010861165190519512,\n 0.039288750794174876,\n 0.04554699881343095,\n 0.008207065758043164,\n 0.04308650830661596,\n 0.007687515313584487,\n 0.019509514437489023,\n 0.0475,\n 0.006557387982127155,\n 0.04308650830661596,\n 0.05931745607388479,\n 0.006478181046730692,\n 0.008365602385819472,\n 0.01994701094161987,\n 0.005125996450756027,\n 0.06273317048471207,\n 0.0475,\n 0.014631701578107182,\n 0.009705380374736346,\n 0.026640184486510617,\n 0.009289649429472668,\n 0.019915529172107174,\n 0.015722730998440678,\n 0.023872794425058515,\n 0.008141672999708569,\n 0.034456151959121765,\n 0.020809431410065395,\n 0.01715553950261385,\n 0.01219800119139488,\n 0.014155745552732702,\n 0.021943638304952592,\n 0.02230335266465593,\n 0.006643901456613893,\n 0.06386659364557096,\n 0.009742253859348666,\n 0.007727952759127349,\n 0.01817369166706272,\n 0.009805305488921735,\n 0.0067056515661187595,\n 0.014528057050146044,\n 0.01226219915383008,\n 0.02177179719673205,\n 0.009836104548659057,\n 0.007443518784594056,\n 0.0475,\n 0.008308179940979616,\n 0.04220832123296838,\n 0.07919001894765289,\n 0.0475,\n 0.01995560930181689,\n 0.00951969137031562,\n 0.021631282243975238,\n 0.0218023070826131,\n 0.008133108816399016,\n 0.021051527267398763,\n 0.014312497850441459,\n 0.10800400587347585,\n 0.021071430988234992,\n 0.011750139936287663,\n 0.017107057085556494,\n 0.008267479199370964,\n 0.017926057443404,\n 0.014799603333289968,\n 0.09677279294413348,\n 0.01226002980160621,\n 0.01066985704999312,\n 0.02985374610815746,\n 0.02556537037358915,\n 0.009090776563475539,\n 0.008634712248179317,\n 0.011018145983912292,\n 0.00941417333084781,\n 0.010301162726742509,\n 0.017111437889486,\n 0.02777879679819661,\n 0.03848410245565166,\n 0.008520689113088226,\n 0.009360342850340708,\n 0.02727927578660413,\n 0.01138157594164,\n 0.02626038600402424,\n 0.06852753004653869,\n 0.008068073048858858,\n 0.006068159354076725,\n 0.01797299906268029,\n 0.005685819772380274,\n 0.014344469893616187,\n 0.005936737218274957,\n 0.009155039044238445,\n 0.00942901940714498,\n 0.0475,\n 0.04308650830661596,\n 0.013788124575921447,\n 0.01861692767123806,\n 0.0475,\n 0.006787180115118874,\n 0.013246025184213651,\n 0.014616012008571988,\n 0.08599193960415835,\n 0.04161975288649981,\n 0.03510678473593603,\n 0.02895501873221651,\n 0.0475,\n 0.07002754778927198,\n 0.09677279294413348,\n 0.011600596062269049,\n 0.009458457574232854,\n 0.009272400732119785,\n 0.019992249531860067,\n 0.0475,\n 0.01577677217116468,\n 0.007267737082369119,\n 0.01607446407793339,\n 0.021531508268511596,\n 0.026801292936080984,\n 0.010710299719061218,\n 0.006506216070996418,\n 0.010568521146141858,\n 0.008476700738062294,\n 0.006362936810040904,\n 0.026703982685275147,\n 0.00946920712733897,\n 0.008902978543911732,\n 0.025957702925184196,\n 0.008028912790984317,\n 0.007772514318054341,\n 0.009175245444458302,\n 0.009703497014560459,\n 0.013680438450319184,\n 0.0075338753062939474,\n 0.0475,\n 0.007473647217038776,\n 0.010731231785946788,\n 0.016699207054412024,\n 0.007523086291754111,\n 0.00825143400348729,\n 0.02411047838046816,\n 0.011235743723173743,\n 0.04416132241953743,\n 0.026101110177097014,\n 0.022720118764437625,\n 0.013059503743971931,\n 0.15441826530036562,\n 0.02305444282384051,\n 0.008183660312244989,\n 0.011966607344176733,\n 0.006846122785936099,\n 0.012393114033651854,\n 0.011581761347379866,\n 0.03812714706132502,\n 0.005676425327805041,\n 0.008129033204601666,\n 0.014592573064078952,\n 0.008533225871448497,\n 0.005461747111336602,\n 0.012311528519655097,\n 0.007243948095782571,\n 0.01741441758986507,\n 0.01331226079174795,\n 0.007029026980505205,\n 0.009118212710568457,\n 0.012653475392162761,\n 0.02059696369167094,\n 0.022665635200154126,\n 0.013953616863987512,\n 0.013189392010380352,\n 0.012182224257576126,\n 0.01797824314984876,\n 0.006437387801855288,\n 0.023306619661773657,\n 0.009996566541251445,\n 0.007011228305259021,\n 0.031874624523231004,\n 0.012930499725980949,\n 0.010599038842243225,\n 0.012113413178897182,\n 0.026215798775997137,\n 0.0475,\n 0.005846702941040677,\n 0.029164473192090142,\n 0.011748700183298778,\n 0.014043261924306704,\n 0.012823154425205957,\n 0.011670169276034065,\n 0.007951073539711223,\n 0.016192517434914167,\n 0.03848410245565166,\n 0.011579848099540452,\n 0.005856012199753808,\n 0.0475,\n 0.016460594292652952,\n 0.010934759185452492,\n 0.015897525657883122,\n 0.011123187078473413,\n 0.02496995982443781,\n 0.009822645604567543,\n 0.017462624906605547,\n 0.013214696985393737,\n 0.02343004320179698,\n 0.0071566035892009,\n 0.018812556328585174,\n 0.020678990730394548,\n 0.04308650830661596,\n 0.0475,\n 0.04308650830661596,\n 0.007439986620963419,\n 0.006476253598290216,\n 0.09677279294413348,\n 0.010546039454973555,\n 0.03103785779592906,\n 0.006618528121792611,\n 0.011285172824612978,\n 0.015962686621853645,\n 0.02376692876598482,\n 0.04416132241953743,\n 0.025083299020446783,\n 0.01345478124359475,\n 0.017100020504299422,\n 0.014546034599738113,\n 0.0475,\n 0.0475,\n 0.007026866059164133,\n 0.013705301559577599,\n 0.007026325980272675,\n 0.005860249636103871,\n 0.039747830726153385,\n 0.012560457700489388,\n 0.04308650830661596,\n 0.009485376572697518,\n 0.006789236114974429,\n 0.03295153881648185,\n 0.006311450915622208,\n 0.04268022001415978,\n 0.04554699881343095,\n 0.01793125064454153,\n 0.0475,\n 0.11263508930641784,\n 0.03593428293761892,\n 0.012870164570622511,\n 0.006337593143096815,\n 0.005088650526935618,\n 0.0202991095736611,\n 0.010748667761821004,\n 0.012913969588767305,\n 0.11263508930641784,\n 0.007128940444082638,\n 0.041465824641787594,\n 0.028421976600909355,\n 0.07713583827846414,\n 0.009721418738590821,\n 0.07632273617811608,\n 0.038113716740217844,\n 0.03748396725861227,\n 0.020282149367446135,\n 0.018527891982913432,\n 0.07632273617811608,\n 0.00853765841187339,\n 0.009066794349958157,\n 0.012574201461164381,\n 0.03404944450350816,\n 0.0075051581311487425,\n 0.009954725299713913,\n 0.014323013881327637,\n 0.013861223651186222,\n 0.008236830575660931,\n 0.010206176646233684,\n 0.008474511829327297,\n 0.01004786730247989,\n 0.022964966066554578,\n 0.09677279294413348,\n 0.0254650189607828,\n 0.02452497931397448,\n 0.009168500554732357,\n 0.040822644839074856,\n 0.02448042651226865,\n 0.007960898851315169,\n 0.016365811746126724,\n 0.07632273617811608,\n 0.011664507572662875,\n 0.01028520106321782,\n 0.02880369654124538,\n 0.020734461903034337,\n 0.0116152495025875,\n 0.01807898119501781,\n 0.018732121554314363,\n 0.033445992422171895,\n 0.01046927334053211,\n 0.039288750794174876,\n 0.02176761286114806,\n 0.01486513759031386,\n 0.008285118783100284,\n 0.015332472354798605,\n 0.00926465892452471,\n 0.020678990730394548,\n 0.01069639537381244,\n 0.007039846153042523,\n 0.034298213429763504,\n 0.03570810411885951,\n 0.010567394565949973,\n 0.0475,\n 0.01298677128557574,\n 0.0475,\n 0.007308793556632959,\n 0.010135631520495465,\n 0.00975746348268628,\n 0.008342835106380137,\n 0.031449791900399864,\n 0.020032677880755783,\n 0.02499241531307389,\n 0.005300939075162198,\n 0.005128909259727377,\n 0.02541561654218746,\n 0.03180674729472651,\n 0.02890404795405173,\n 0.031198429117694194,\n 0.013790323477392397,\n 0.00643690993156485,\n 0.04220832123296838,\n 0.04554699881343095,\n 0.0475,\n 0.04308650830661596,\n 0.0102302732603906,\n 0.0475,\n 0.021872454345523352,\n 0.013004661215465025,\n 0.0069311560104814126,\n 0.021031705455110402,\n 0.005174284510200966,\n 0.012882198663307148,\n 0.0069079029637009685,\n 0.0475,\n 0.0077908347695547055,\n 0.03295153881648185,\n 0.022052426473257017,\n 0.016313537039057125,\n 0.01904912366223437,\n 0.043609424788051666,\n 0.0475,\n 0.007142198927752086,\n 0.0475,\n 0.034298213429763504,\n 0.006856538388629036,\n 0.012655278764252261,\n 0.01195452917980009,\n 0.008054918398552463,\n 0.008806063505912424,\n 0.005874684867887126,\n 0.012784051490652247,\n 0.01097382026997888,\n 0.009012655194017378,\n 0.02096296452262485,\n 0.008443246292074635,\n 0.04416132241953743,\n 0.04416132241953743,\n 0.026671361815063112,\n 0.04025532004639933,\n 0.00788607871211599,\n 0.006647394526450407,\n 0.014254024372532044,\n 0.03369818982770416,\n 0.010461553394948399,\n 0.022500516352984848,\n 0.07095816758532796,\n 0.01163489232335478,\n 0.01118041579432793,\n 0.012481130535521258,\n 0.028514608178604774,\n 0.007480170287222938,\n 0.024224263835206174,\n 0.009910295096095046,\n 0.0475,\n 0.0475,\n 0.04025532004639933,\n 0.011352319292071018,\n 0.008022931383896776,\n 0.00660514909699933,\n 0.005782871368222614,\n 0.020679920763157843,\n 0.0104111278308414,\n 0.023009496678841973,\n 0.013091198155088812,\n 0.0475,\n 0.02176761286114806,\n 0.008248648982543284,\n 0.011328153757562538,\n 0.007821312236418165,\n 0.0475,\n 0.0475,\n 0.004517795492607385,\n 0.0246451158396324,\n 0.012013526018770643,\n 0.006398359043432078,\n 0.023462615355618412,\n 0.007293356339206647,\n 0.011209930726837953,\n 0.0089833792353809,\n 0.015284244731982933,\n 0.02955447635645971,\n 0.027211472005521087,\n 0.018557388055421616,\n 0.0092827425366047,\n 0.009536031469776662,\n 0.009054436453189268,\n 0.010697552537442857,\n 0.004230127639865311,\n 0.01829820872882017,\n 0.04554699881343095,\n 0.010479217200537306,\n 0.009445946674761552,\n 0.013177757479147612,\n 0.012409598285156483,\n 0.013379471168229557,\n 0.00936540844258732,\n 0.03640915314569081,\n 0.01325782599106814,\n 0.009197281681651256,\n 0.015806419105031996,\n 0.01735412116776402,\n 0.024148108990527974,\n 0.00934002281107556,\n 0.012099458479841075,\n 0.04220832123296838,\n 0.05239980937508811,\n 0.00898905786426924,\n 0.027563024933118838,\n 0.019270388574094216,\n 0.018384434767296575,\n 0.007447053540321519,\n 0.07318466471878855,\n 0.0475,\n 0.007820675318256776,\n 0.01012226180621066,\n 0.04554699881343095,\n 0.00624992592571888,\n 0.009434358436239704,\n 0.0475,\n 0.00947369319787696,\n 0.009434358436239704,\n 0.012776598660051425,\n 0.009786111625752976,\n 0.016884576983161297,\n 0.07318466471878855,\n 0.025879613976980492,\n 0.0246451158396324,\n 0.02593563007274039,\n 0.01404317894371528,\n 0.0303749777874784,\n 0.006224253947087838,\n 0.011181290529830835,\n 0.00725922752196408,\n 0.015116254910137412,\n 0.04554699881343095,\n 0.007105276549093165,\n 0.04554699881343095,\n ...]"
     },
     "execution_count": 165,
     "metadata": {},
     "output_type": "execute_result"
    }
   ],
   "source": [
    "new_weights.squeeze(1).tolist()"
   ],
   "metadata": {
    "collapsed": false,
    "pycharm": {
     "name": "#%%\n"
    }
   }
  },
  {
   "cell_type": "code",
   "execution_count": 166,
   "outputs": [],
   "source": [
    "import data_prep as dp\n",
    "\n",
    "# !mkdir ./cov/sw/\n",
    "dp.write_fasta(seqs, [round(x, 5) for x in new_weights.squeeze(1).tolist()], \"./cov/sw/r9.fasta\")"
   ],
   "metadata": {
    "collapsed": false,
    "pycharm": {
     "name": "#%%\n"
    }
   }
  },
  {
   "cell_type": "code",
   "execution_count": 160,
   "outputs": [
    {
     "data": {
      "text/plain": "'/home/jonah/PycharmProjects/phage_display_ML/datasets'"
     },
     "execution_count": 160,
     "metadata": {},
     "output_type": "execute_result"
    }
   ],
   "source": [
    "os.getcwd()"
   ],
   "metadata": {
    "collapsed": false,
    "pycharm": {
     "name": "#%%\n"
    }
   }
  },
  {
   "cell_type": "code",
   "execution_count": 153,
   "outputs": [
    {
     "data": {
      "text/plain": "numpy.ndarray"
     },
     "execution_count": 153,
     "metadata": {},
     "output_type": "execute_result"
    }
   ],
   "source": [
    "type(affs_scaled)"
   ],
   "metadata": {
    "collapsed": false,
    "pycharm": {
     "name": "#%%\n"
    }
   }
  },
  {
   "cell_type": "markdown",
   "source": [],
   "metadata": {
    "collapsed": false
   }
  },
  {
   "cell_type": "code",
   "execution_count": 55,
   "outputs": [
    {
     "ename": "MemoryError",
     "evalue": "Unable to allocate 14.7 TiB for an array with shape (1420384, 1420384) and data type float64",
     "output_type": "error",
     "traceback": [
      "\u001B[0;31m---------------------------------------------------------------------------\u001B[0m",
      "\u001B[0;31mMemoryError\u001B[0m                               Traceback (most recent call last)",
      "\u001B[0;32m<ipython-input-55-ce0eadc2558b>\u001B[0m in \u001B[0;36m<module>\u001B[0;34m\u001B[0m\n\u001B[1;32m     16\u001B[0m     \u001B[0;32mreturn\u001B[0m \u001B[0;32mlambda\u001B[0m \u001B[0mx\u001B[0m\u001B[0;34m,\u001B[0m\u001B[0my\u001B[0m\u001B[0;34m:\u001B[0m \u001B[0mdistance\u001B[0m\u001B[0;34m(\u001B[0m\u001B[0mx\u001B[0m\u001B[0;34m[\u001B[0m\u001B[0;36m0\u001B[0m\u001B[0;34m]\u001B[0m\u001B[0;34m,\u001B[0m\u001B[0my\u001B[0m\u001B[0;34m[\u001B[0m\u001B[0;36m0\u001B[0m\u001B[0;34m]\u001B[0m\u001B[0;34m)\u001B[0m\u001B[0;34m\u001B[0m\u001B[0;34m\u001B[0m\u001B[0m\n\u001B[1;32m     17\u001B[0m \u001B[0;34m\u001B[0m\u001B[0m\n\u001B[0;32m---> 18\u001B[0;31m \u001B[0mdist_matrix\u001B[0m \u001B[0;34m=\u001B[0m \u001B[0mpairwise_distances\u001B[0m\u001B[0;34m(\u001B[0m\u001B[0mX\u001B[0m\u001B[0;34m,\u001B[0m \u001B[0mY\u001B[0m\u001B[0;34m=\u001B[0m\u001B[0mY\u001B[0m\u001B[0;34m,\u001B[0m \u001B[0mmetric\u001B[0m\u001B[0;34m=\u001B[0m\u001B[0;34m\"hamming\"\u001B[0m\u001B[0;34m)\u001B[0m\u001B[0;34m\u001B[0m\u001B[0;34m\u001B[0m\u001B[0m\n\u001B[0m\u001B[1;32m     19\u001B[0m \u001B[0;34m\u001B[0m\u001B[0m\n\u001B[1;32m     20\u001B[0m \u001B[0mo\u001B[0m \u001B[0;34m=\u001B[0m \u001B[0mopen\u001B[0m\u001B[0;34m(\u001B[0m\u001B[0;34m\"cov_pairwise_distances.txt\"\u001B[0m\u001B[0;34m,\u001B[0m \u001B[0;34m\"w+\"\u001B[0m\u001B[0;34m)\u001B[0m\u001B[0;34m\u001B[0m\u001B[0;34m\u001B[0m\u001B[0m\n",
      "\u001B[0;32m~/anaconda3/envs/utils/lib/python3.8/site-packages/sklearn/utils/validation.py\u001B[0m in \u001B[0;36minner_f\u001B[0;34m(*args, **kwargs)\u001B[0m\n\u001B[1;32m     61\u001B[0m             \u001B[0mextra_args\u001B[0m \u001B[0;34m=\u001B[0m \u001B[0mlen\u001B[0m\u001B[0;34m(\u001B[0m\u001B[0margs\u001B[0m\u001B[0;34m)\u001B[0m \u001B[0;34m-\u001B[0m \u001B[0mlen\u001B[0m\u001B[0;34m(\u001B[0m\u001B[0mall_args\u001B[0m\u001B[0;34m)\u001B[0m\u001B[0;34m\u001B[0m\u001B[0;34m\u001B[0m\u001B[0m\n\u001B[1;32m     62\u001B[0m             \u001B[0;32mif\u001B[0m \u001B[0mextra_args\u001B[0m \u001B[0;34m<=\u001B[0m \u001B[0;36m0\u001B[0m\u001B[0;34m:\u001B[0m\u001B[0;34m\u001B[0m\u001B[0;34m\u001B[0m\u001B[0m\n\u001B[0;32m---> 63\u001B[0;31m                 \u001B[0;32mreturn\u001B[0m \u001B[0mf\u001B[0m\u001B[0;34m(\u001B[0m\u001B[0;34m*\u001B[0m\u001B[0margs\u001B[0m\u001B[0;34m,\u001B[0m \u001B[0;34m**\u001B[0m\u001B[0mkwargs\u001B[0m\u001B[0;34m)\u001B[0m\u001B[0;34m\u001B[0m\u001B[0;34m\u001B[0m\u001B[0m\n\u001B[0m\u001B[1;32m     64\u001B[0m \u001B[0;34m\u001B[0m\u001B[0m\n\u001B[1;32m     65\u001B[0m             \u001B[0;31m# extra_args > 0\u001B[0m\u001B[0;34m\u001B[0m\u001B[0;34m\u001B[0m\u001B[0;34m\u001B[0m\u001B[0m\n",
      "\u001B[0;32m~/anaconda3/envs/utils/lib/python3.8/site-packages/sklearn/metrics/pairwise.py\u001B[0m in \u001B[0;36mpairwise_distances\u001B[0;34m(X, Y, metric, n_jobs, force_all_finite, **kwds)\u001B[0m\n\u001B[1;32m   1788\u001B[0m         \u001B[0mfunc\u001B[0m \u001B[0;34m=\u001B[0m \u001B[0mpartial\u001B[0m\u001B[0;34m(\u001B[0m\u001B[0mdistance\u001B[0m\u001B[0;34m.\u001B[0m\u001B[0mcdist\u001B[0m\u001B[0;34m,\u001B[0m \u001B[0mmetric\u001B[0m\u001B[0;34m=\u001B[0m\u001B[0mmetric\u001B[0m\u001B[0;34m,\u001B[0m \u001B[0;34m**\u001B[0m\u001B[0mkwds\u001B[0m\u001B[0;34m)\u001B[0m\u001B[0;34m\u001B[0m\u001B[0;34m\u001B[0m\u001B[0m\n\u001B[1;32m   1789\u001B[0m \u001B[0;34m\u001B[0m\u001B[0m\n\u001B[0;32m-> 1790\u001B[0;31m     \u001B[0;32mreturn\u001B[0m \u001B[0m_parallel_pairwise\u001B[0m\u001B[0;34m(\u001B[0m\u001B[0mX\u001B[0m\u001B[0;34m,\u001B[0m \u001B[0mY\u001B[0m\u001B[0;34m,\u001B[0m \u001B[0mfunc\u001B[0m\u001B[0;34m,\u001B[0m \u001B[0mn_jobs\u001B[0m\u001B[0;34m,\u001B[0m \u001B[0;34m**\u001B[0m\u001B[0mkwds\u001B[0m\u001B[0;34m)\u001B[0m\u001B[0;34m\u001B[0m\u001B[0;34m\u001B[0m\u001B[0m\n\u001B[0m\u001B[1;32m   1791\u001B[0m \u001B[0;34m\u001B[0m\u001B[0m\n\u001B[1;32m   1792\u001B[0m \u001B[0;34m\u001B[0m\u001B[0m\n",
      "\u001B[0;32m~/anaconda3/envs/utils/lib/python3.8/site-packages/sklearn/metrics/pairwise.py\u001B[0m in \u001B[0;36m_parallel_pairwise\u001B[0;34m(X, Y, func, n_jobs, **kwds)\u001B[0m\n\u001B[1;32m   1357\u001B[0m \u001B[0;34m\u001B[0m\u001B[0m\n\u001B[1;32m   1358\u001B[0m     \u001B[0;32mif\u001B[0m \u001B[0meffective_n_jobs\u001B[0m\u001B[0;34m(\u001B[0m\u001B[0mn_jobs\u001B[0m\u001B[0;34m)\u001B[0m \u001B[0;34m==\u001B[0m \u001B[0;36m1\u001B[0m\u001B[0;34m:\u001B[0m\u001B[0;34m\u001B[0m\u001B[0;34m\u001B[0m\u001B[0m\n\u001B[0;32m-> 1359\u001B[0;31m         \u001B[0;32mreturn\u001B[0m \u001B[0mfunc\u001B[0m\u001B[0;34m(\u001B[0m\u001B[0mX\u001B[0m\u001B[0;34m,\u001B[0m \u001B[0mY\u001B[0m\u001B[0;34m,\u001B[0m \u001B[0;34m**\u001B[0m\u001B[0mkwds\u001B[0m\u001B[0;34m)\u001B[0m\u001B[0;34m\u001B[0m\u001B[0;34m\u001B[0m\u001B[0m\n\u001B[0m\u001B[1;32m   1360\u001B[0m \u001B[0;34m\u001B[0m\u001B[0m\n\u001B[1;32m   1361\u001B[0m     \u001B[0;31m# enforce a threading backend to prevent data communication overhead\u001B[0m\u001B[0;34m\u001B[0m\u001B[0;34m\u001B[0m\u001B[0;34m\u001B[0m\u001B[0m\n",
      "\u001B[0;32m~/anaconda3/envs/utils/lib/python3.8/site-packages/scipy/spatial/distance.py\u001B[0m in \u001B[0;36mcdist\u001B[0;34m(XA, XB, metric, *args, **kwargs)\u001B[0m\n\u001B[1;32m   2752\u001B[0m     \u001B[0mout\u001B[0m \u001B[0;34m=\u001B[0m \u001B[0mkwargs\u001B[0m\u001B[0;34m.\u001B[0m\u001B[0mpop\u001B[0m\u001B[0;34m(\u001B[0m\u001B[0;34m\"out\"\u001B[0m\u001B[0;34m,\u001B[0m \u001B[0;32mNone\u001B[0m\u001B[0;34m)\u001B[0m\u001B[0;34m\u001B[0m\u001B[0;34m\u001B[0m\u001B[0m\n\u001B[1;32m   2753\u001B[0m     \u001B[0;32mif\u001B[0m \u001B[0mout\u001B[0m \u001B[0;32mis\u001B[0m \u001B[0;32mNone\u001B[0m\u001B[0;34m:\u001B[0m\u001B[0;34m\u001B[0m\u001B[0;34m\u001B[0m\u001B[0m\n\u001B[0;32m-> 2754\u001B[0;31m         \u001B[0mdm\u001B[0m \u001B[0;34m=\u001B[0m \u001B[0mnp\u001B[0m\u001B[0;34m.\u001B[0m\u001B[0mempty\u001B[0m\u001B[0;34m(\u001B[0m\u001B[0;34m(\u001B[0m\u001B[0mmA\u001B[0m\u001B[0;34m,\u001B[0m \u001B[0mmB\u001B[0m\u001B[0;34m)\u001B[0m\u001B[0;34m,\u001B[0m \u001B[0mdtype\u001B[0m\u001B[0;34m=\u001B[0m\u001B[0mnp\u001B[0m\u001B[0;34m.\u001B[0m\u001B[0mdouble\u001B[0m\u001B[0;34m)\u001B[0m\u001B[0;34m\u001B[0m\u001B[0;34m\u001B[0m\u001B[0m\n\u001B[0m\u001B[1;32m   2755\u001B[0m     \u001B[0;32melse\u001B[0m\u001B[0;34m:\u001B[0m\u001B[0;34m\u001B[0m\u001B[0;34m\u001B[0m\u001B[0m\n\u001B[1;32m   2756\u001B[0m         \u001B[0;32mif\u001B[0m \u001B[0mout\u001B[0m\u001B[0;34m.\u001B[0m\u001B[0mshape\u001B[0m \u001B[0;34m!=\u001B[0m \u001B[0;34m(\u001B[0m\u001B[0mmA\u001B[0m\u001B[0;34m,\u001B[0m \u001B[0mmB\u001B[0m\u001B[0;34m)\u001B[0m\u001B[0;34m:\u001B[0m\u001B[0;34m\u001B[0m\u001B[0;34m\u001B[0m\u001B[0m\n",
      "\u001B[0;31mMemoryError\u001B[0m: Unable to allocate 14.7 TiB for an array with shape (1420384, 1420384) and data type float64"
     ]
    }
   ],
   "source": [
    "from sklearn.metrics import pairwise_distances\n",
    "from Levenshtein import distance\n",
    "import numpy as np\n",
    "from scipy.spatial.distance import pdist\n",
    "\n",
    "# X = np.asarray(seqs, dtype=str).reshape(-1, 1)\n",
    "# Y = np.asarray(seqs, dtype=str).reshape(-1, 1)\n",
    "\n",
    "X = r6_cat.numpy().astype(np.int8)\n",
    "Y = r6_cat.numpy().astype(np.int8)\n",
    "\n",
    "# X = np.asarray(r6_cat, dtype=int).reshape(-1, 1)\n",
    "# Y = np.asarray(r6_cat, dtype=int).reshape(-1, 1)\n",
    "\n",
    "def lev(x, y):\n",
    "    return lambda x,y: distance(x[0],y[0])\n",
    "\n",
    "dist_matrix = pairwise_distances(X, Y=Y, metric=\"hamming\")\n",
    "\n",
    "# o = open(\"cov_pairwise_distances.txt\", \"w+\")\n",
    "\n",
    "\n",
    "# test = X[:10000, :]\n",
    "# print(test.shape)\n",
    "# dist_matrix = pdist(test, lambda x,y: distance(x[0],y[0]))\n"
   ],
   "metadata": {
    "collapsed": false,
    "pycharm": {
     "name": "#%%\n"
    }
   }
  },
  {
   "cell_type": "code",
   "execution_count": 81,
   "outputs": [],
   "source": [
    "from sklearn.metrics import pairwise_distances_chunked\n",
    "sys.path.append(\"../rbm_torch/\")\n",
    "import utils\n",
    "\n",
    "\n",
    "ffile = \"r6.fasta\"\n",
    "molecule = \"dna\"\n",
    "threads = 12\n",
    "\n",
    "seqs, affs, all_chars, q = utils.fasta_read(dataset_dir + ffile, molecule, threads=threads, drop_duplicates=False)\n",
    "\n",
    "r6_cat = utils.seq_to_cat(seqs, molecule=molecule)\n",
    "\n",
    "X = r6_cat.numpy().astype(np.int8)\n",
    "\n",
    "# X should be a categorical vector of shape (seqs, bases)\n",
    "def calc_neighbors(X, threshold_1=0.15, threshold_2=0.25):\n",
    "    def reduce_func(D_chunk, start):\n",
    "        # print(D_chunk)\n",
    "        neigh1 = np.asarray(D_chunk <= threshold_1).sum(1)\n",
    "        neigh2 = np.asarray(D_chunk <= threshold_2).sum(1)\n",
    "        return list(neigh1), list(neigh2)\n",
    "\n",
    "    gen = pairwise_distances_chunked(X, X, reduce_func=reduce_func, metric=\"hamming\")\n",
    "\n",
    "    neigh1, neigh2 = [], []\n",
    "    for n1, n2 in gen:\n",
    "        neigh1 += n1\n",
    "        neigh2 += n2\n",
    "        print(round(len(neigh1)/X.shape[0] * 100, 3), \"% done\")\n",
    "        \n",
    "    return neigh1, neigh2\n",
    "\n",
    "t1 = 0.15\n",
    "t2 = 0.25\n",
    "n1, n2 = calc_neighbors(X, threshold_1=0.15, threshold_2=0.25)\n",
    "o = open(f\"{ffile}_{int(t1*100)}_pairwise_distances.txt\", \"w+\")\n",
    "o.write(n1)\n",
    "o.close()\n",
    "\n",
    "o = open(f\"{ffile}_{int(t2*100)}_pairwise_distances.txt\", \"w+\")\n",
    "o.write(n2)\n",
    "o.close()"
   ],
   "metadata": {
    "collapsed": false,
    "pycharm": {
     "name": "#%%\n"
    }
   }
  },
  {
   "cell_type": "code",
   "execution_count": 82,
   "outputs": [
    {
     "name": "stdout",
     "output_type": "stream",
     "text": [
      "0.006617928672809606 % done\n",
      "0.013235857345619212 % done\n",
      "0.01985378601842882 % done\n",
      "0.026471714691238424 % done\n",
      "0.03308964336404803 % done\n",
      "0.03970757203685764 % done\n",
      "0.04632550070966725 % done\n",
      "0.05294342938247685 % done\n"
     ]
    },
    {
     "ename": "KeyboardInterrupt",
     "evalue": "",
     "output_type": "error",
     "traceback": [
      "\u001B[0;31m---------------------------------------------------------------------------\u001B[0m",
      "\u001B[0;31mKeyboardInterrupt\u001B[0m                         Traceback (most recent call last)",
      "\u001B[0;32m<ipython-input-82-70592f7fbe35>\u001B[0m in \u001B[0;36m<module>\u001B[0;34m\u001B[0m\n\u001B[0;32m----> 1\u001B[0;31m \u001B[0mneighs\u001B[0m \u001B[0;34m=\u001B[0m \u001B[0mcalc_neighbors\u001B[0m\u001B[0;34m(\u001B[0m\u001B[0mX\u001B[0m\u001B[0;34m,\u001B[0m \u001B[0mthreshold\u001B[0m\u001B[0;34m=\u001B[0m\u001B[0;36m0.15\u001B[0m\u001B[0;34m)\u001B[0m\u001B[0;34m\u001B[0m\u001B[0;34m\u001B[0m\u001B[0m\n\u001B[0m",
      "\u001B[0;32m<ipython-input-81-9e68a33907ca>\u001B[0m in \u001B[0;36mcalc_neighbors\u001B[0;34m(X, threshold)\u001B[0m\n\u001B[1;32m     11\u001B[0m \u001B[0;34m\u001B[0m\u001B[0m\n\u001B[1;32m     12\u001B[0m     \u001B[0mneighbors\u001B[0m \u001B[0;34m=\u001B[0m \u001B[0;34m[\u001B[0m\u001B[0;34m]\u001B[0m\u001B[0;34m\u001B[0m\u001B[0;34m\u001B[0m\u001B[0m\n\u001B[0;32m---> 13\u001B[0;31m     \u001B[0;32mfor\u001B[0m \u001B[0mx\u001B[0m \u001B[0;32min\u001B[0m \u001B[0mgen\u001B[0m\u001B[0;34m:\u001B[0m\u001B[0;34m\u001B[0m\u001B[0;34m\u001B[0m\u001B[0m\n\u001B[0m\u001B[1;32m     14\u001B[0m         \u001B[0mneighbors\u001B[0m \u001B[0;34m+=\u001B[0m \u001B[0mx\u001B[0m\u001B[0;34m\u001B[0m\u001B[0;34m\u001B[0m\u001B[0m\n\u001B[1;32m     15\u001B[0m         \u001B[0mprint\u001B[0m\u001B[0;34m(\u001B[0m\u001B[0mlen\u001B[0m\u001B[0;34m(\u001B[0m\u001B[0mneighbors\u001B[0m\u001B[0;34m)\u001B[0m\u001B[0;34m/\u001B[0m\u001B[0mX\u001B[0m\u001B[0;34m.\u001B[0m\u001B[0mshape\u001B[0m\u001B[0;34m[\u001B[0m\u001B[0;36m0\u001B[0m\u001B[0;34m]\u001B[0m \u001B[0;34m*\u001B[0m \u001B[0;36m100\u001B[0m\u001B[0;34m,\u001B[0m \u001B[0;34m\"% done\"\u001B[0m\u001B[0;34m)\u001B[0m\u001B[0;34m\u001B[0m\u001B[0;34m\u001B[0m\u001B[0m\n",
      "\u001B[0;32m~/anaconda3/envs/utils/lib/python3.8/site-packages/sklearn/metrics/pairwise.py\u001B[0m in \u001B[0;36mpairwise_distances_chunked\u001B[0;34m(X, Y, reduce_func, metric, n_jobs, working_memory, **kwds)\u001B[0m\n\u001B[1;32m   1621\u001B[0m         \u001B[0;32melse\u001B[0m\u001B[0;34m:\u001B[0m\u001B[0;34m\u001B[0m\u001B[0;34m\u001B[0m\u001B[0m\n\u001B[1;32m   1622\u001B[0m             \u001B[0mX_chunk\u001B[0m \u001B[0;34m=\u001B[0m \u001B[0mX\u001B[0m\u001B[0;34m[\u001B[0m\u001B[0msl\u001B[0m\u001B[0;34m]\u001B[0m\u001B[0;34m\u001B[0m\u001B[0;34m\u001B[0m\u001B[0m\n\u001B[0;32m-> 1623\u001B[0;31m         D_chunk = pairwise_distances(X_chunk, Y, metric=metric,\n\u001B[0m\u001B[1;32m   1624\u001B[0m                                      n_jobs=n_jobs, **kwds)\n\u001B[1;32m   1625\u001B[0m         if ((X is Y or Y is None)\n",
      "\u001B[0;32m~/anaconda3/envs/utils/lib/python3.8/site-packages/sklearn/utils/validation.py\u001B[0m in \u001B[0;36minner_f\u001B[0;34m(*args, **kwargs)\u001B[0m\n\u001B[1;32m     61\u001B[0m             \u001B[0mextra_args\u001B[0m \u001B[0;34m=\u001B[0m \u001B[0mlen\u001B[0m\u001B[0;34m(\u001B[0m\u001B[0margs\u001B[0m\u001B[0;34m)\u001B[0m \u001B[0;34m-\u001B[0m \u001B[0mlen\u001B[0m\u001B[0;34m(\u001B[0m\u001B[0mall_args\u001B[0m\u001B[0;34m)\u001B[0m\u001B[0;34m\u001B[0m\u001B[0;34m\u001B[0m\u001B[0m\n\u001B[1;32m     62\u001B[0m             \u001B[0;32mif\u001B[0m \u001B[0mextra_args\u001B[0m \u001B[0;34m<=\u001B[0m \u001B[0;36m0\u001B[0m\u001B[0;34m:\u001B[0m\u001B[0;34m\u001B[0m\u001B[0;34m\u001B[0m\u001B[0m\n\u001B[0;32m---> 63\u001B[0;31m                 \u001B[0;32mreturn\u001B[0m \u001B[0mf\u001B[0m\u001B[0;34m(\u001B[0m\u001B[0;34m*\u001B[0m\u001B[0margs\u001B[0m\u001B[0;34m,\u001B[0m \u001B[0;34m**\u001B[0m\u001B[0mkwargs\u001B[0m\u001B[0;34m)\u001B[0m\u001B[0;34m\u001B[0m\u001B[0;34m\u001B[0m\u001B[0m\n\u001B[0m\u001B[1;32m     64\u001B[0m \u001B[0;34m\u001B[0m\u001B[0m\n\u001B[1;32m     65\u001B[0m             \u001B[0;31m# extra_args > 0\u001B[0m\u001B[0;34m\u001B[0m\u001B[0;34m\u001B[0m\u001B[0;34m\u001B[0m\u001B[0m\n",
      "\u001B[0;32m~/anaconda3/envs/utils/lib/python3.8/site-packages/sklearn/metrics/pairwise.py\u001B[0m in \u001B[0;36mpairwise_distances\u001B[0;34m(X, Y, metric, n_jobs, force_all_finite, **kwds)\u001B[0m\n\u001B[1;32m   1776\u001B[0m             \u001B[0mwarnings\u001B[0m\u001B[0;34m.\u001B[0m\u001B[0mwarn\u001B[0m\u001B[0;34m(\u001B[0m\u001B[0mmsg\u001B[0m\u001B[0;34m,\u001B[0m \u001B[0mDataConversionWarning\u001B[0m\u001B[0;34m)\u001B[0m\u001B[0;34m\u001B[0m\u001B[0;34m\u001B[0m\u001B[0m\n\u001B[1;32m   1777\u001B[0m \u001B[0;34m\u001B[0m\u001B[0m\n\u001B[0;32m-> 1778\u001B[0;31m         X, Y = check_pairwise_arrays(X, Y, dtype=dtype,\n\u001B[0m\u001B[1;32m   1779\u001B[0m                                      force_all_finite=force_all_finite)\n\u001B[1;32m   1780\u001B[0m \u001B[0;34m\u001B[0m\u001B[0m\n",
      "\u001B[0;32m~/anaconda3/envs/utils/lib/python3.8/site-packages/sklearn/utils/validation.py\u001B[0m in \u001B[0;36minner_f\u001B[0;34m(*args, **kwargs)\u001B[0m\n\u001B[1;32m     61\u001B[0m             \u001B[0mextra_args\u001B[0m \u001B[0;34m=\u001B[0m \u001B[0mlen\u001B[0m\u001B[0;34m(\u001B[0m\u001B[0margs\u001B[0m\u001B[0;34m)\u001B[0m \u001B[0;34m-\u001B[0m \u001B[0mlen\u001B[0m\u001B[0;34m(\u001B[0m\u001B[0mall_args\u001B[0m\u001B[0;34m)\u001B[0m\u001B[0;34m\u001B[0m\u001B[0;34m\u001B[0m\u001B[0m\n\u001B[1;32m     62\u001B[0m             \u001B[0;32mif\u001B[0m \u001B[0mextra_args\u001B[0m \u001B[0;34m<=\u001B[0m \u001B[0;36m0\u001B[0m\u001B[0;34m:\u001B[0m\u001B[0;34m\u001B[0m\u001B[0;34m\u001B[0m\u001B[0m\n\u001B[0;32m---> 63\u001B[0;31m                 \u001B[0;32mreturn\u001B[0m \u001B[0mf\u001B[0m\u001B[0;34m(\u001B[0m\u001B[0;34m*\u001B[0m\u001B[0margs\u001B[0m\u001B[0;34m,\u001B[0m \u001B[0;34m**\u001B[0m\u001B[0mkwargs\u001B[0m\u001B[0;34m)\u001B[0m\u001B[0;34m\u001B[0m\u001B[0;34m\u001B[0m\u001B[0m\n\u001B[0m\u001B[1;32m     64\u001B[0m \u001B[0;34m\u001B[0m\u001B[0m\n\u001B[1;32m     65\u001B[0m             \u001B[0;31m# extra_args > 0\u001B[0m\u001B[0;34m\u001B[0m\u001B[0;34m\u001B[0m\u001B[0;34m\u001B[0m\u001B[0m\n",
      "\u001B[0;32m~/anaconda3/envs/utils/lib/python3.8/site-packages/sklearn/metrics/pairwise.py\u001B[0m in \u001B[0;36mcheck_pairwise_arrays\u001B[0;34m(X, Y, precomputed, dtype, accept_sparse, force_all_finite, copy)\u001B[0m\n\u001B[1;32m    147\u001B[0m                         \u001B[0mcopy\u001B[0m\u001B[0;34m=\u001B[0m\u001B[0mcopy\u001B[0m\u001B[0;34m,\u001B[0m \u001B[0mforce_all_finite\u001B[0m\u001B[0;34m=\u001B[0m\u001B[0mforce_all_finite\u001B[0m\u001B[0;34m,\u001B[0m\u001B[0;34m\u001B[0m\u001B[0;34m\u001B[0m\u001B[0m\n\u001B[1;32m    148\u001B[0m                         estimator=estimator)\n\u001B[0;32m--> 149\u001B[0;31m         Y = check_array(Y, accept_sparse=accept_sparse, dtype=dtype,\n\u001B[0m\u001B[1;32m    150\u001B[0m                         \u001B[0mcopy\u001B[0m\u001B[0;34m=\u001B[0m\u001B[0mcopy\u001B[0m\u001B[0;34m,\u001B[0m \u001B[0mforce_all_finite\u001B[0m\u001B[0;34m=\u001B[0m\u001B[0mforce_all_finite\u001B[0m\u001B[0;34m,\u001B[0m\u001B[0;34m\u001B[0m\u001B[0;34m\u001B[0m\u001B[0m\n\u001B[1;32m    151\u001B[0m                         estimator=estimator)\n",
      "\u001B[0;32m~/anaconda3/envs/utils/lib/python3.8/site-packages/sklearn/utils/validation.py\u001B[0m in \u001B[0;36minner_f\u001B[0;34m(*args, **kwargs)\u001B[0m\n\u001B[1;32m     61\u001B[0m             \u001B[0mextra_args\u001B[0m \u001B[0;34m=\u001B[0m \u001B[0mlen\u001B[0m\u001B[0;34m(\u001B[0m\u001B[0margs\u001B[0m\u001B[0;34m)\u001B[0m \u001B[0;34m-\u001B[0m \u001B[0mlen\u001B[0m\u001B[0;34m(\u001B[0m\u001B[0mall_args\u001B[0m\u001B[0;34m)\u001B[0m\u001B[0;34m\u001B[0m\u001B[0;34m\u001B[0m\u001B[0m\n\u001B[1;32m     62\u001B[0m             \u001B[0;32mif\u001B[0m \u001B[0mextra_args\u001B[0m \u001B[0;34m<=\u001B[0m \u001B[0;36m0\u001B[0m\u001B[0;34m:\u001B[0m\u001B[0;34m\u001B[0m\u001B[0;34m\u001B[0m\u001B[0m\n\u001B[0;32m---> 63\u001B[0;31m                 \u001B[0;32mreturn\u001B[0m \u001B[0mf\u001B[0m\u001B[0;34m(\u001B[0m\u001B[0;34m*\u001B[0m\u001B[0margs\u001B[0m\u001B[0;34m,\u001B[0m \u001B[0;34m**\u001B[0m\u001B[0mkwargs\u001B[0m\u001B[0;34m)\u001B[0m\u001B[0;34m\u001B[0m\u001B[0;34m\u001B[0m\u001B[0m\n\u001B[0m\u001B[1;32m     64\u001B[0m \u001B[0;34m\u001B[0m\u001B[0m\n\u001B[1;32m     65\u001B[0m             \u001B[0;31m# extra_args > 0\u001B[0m\u001B[0;34m\u001B[0m\u001B[0;34m\u001B[0m\u001B[0;34m\u001B[0m\u001B[0m\n",
      "\u001B[0;32m~/anaconda3/envs/utils/lib/python3.8/site-packages/sklearn/utils/validation.py\u001B[0m in \u001B[0;36mcheck_array\u001B[0;34m(array, accept_sparse, accept_large_sparse, dtype, order, copy, force_all_finite, ensure_2d, allow_nd, ensure_min_samples, ensure_min_features, estimator)\u001B[0m\n\u001B[1;32m    671\u001B[0m                     \u001B[0marray\u001B[0m \u001B[0;34m=\u001B[0m \u001B[0marray\u001B[0m\u001B[0;34m.\u001B[0m\u001B[0mastype\u001B[0m\u001B[0;34m(\u001B[0m\u001B[0mdtype\u001B[0m\u001B[0;34m,\u001B[0m \u001B[0mcasting\u001B[0m\u001B[0;34m=\u001B[0m\u001B[0;34m\"unsafe\"\u001B[0m\u001B[0;34m,\u001B[0m \u001B[0mcopy\u001B[0m\u001B[0;34m=\u001B[0m\u001B[0;32mFalse\u001B[0m\u001B[0;34m)\u001B[0m\u001B[0;34m\u001B[0m\u001B[0;34m\u001B[0m\u001B[0m\n\u001B[1;32m    672\u001B[0m                 \u001B[0;32melse\u001B[0m\u001B[0;34m:\u001B[0m\u001B[0;34m\u001B[0m\u001B[0;34m\u001B[0m\u001B[0m\n\u001B[0;32m--> 673\u001B[0;31m                     \u001B[0marray\u001B[0m \u001B[0;34m=\u001B[0m \u001B[0mnp\u001B[0m\u001B[0;34m.\u001B[0m\u001B[0masarray\u001B[0m\u001B[0;34m(\u001B[0m\u001B[0marray\u001B[0m\u001B[0;34m,\u001B[0m \u001B[0morder\u001B[0m\u001B[0;34m=\u001B[0m\u001B[0morder\u001B[0m\u001B[0;34m,\u001B[0m \u001B[0mdtype\u001B[0m\u001B[0;34m=\u001B[0m\u001B[0mdtype\u001B[0m\u001B[0;34m)\u001B[0m\u001B[0;34m\u001B[0m\u001B[0;34m\u001B[0m\u001B[0m\n\u001B[0m\u001B[1;32m    674\u001B[0m             \u001B[0;32mexcept\u001B[0m \u001B[0mComplexWarning\u001B[0m \u001B[0;32mas\u001B[0m \u001B[0mcomplex_warning\u001B[0m\u001B[0;34m:\u001B[0m\u001B[0;34m\u001B[0m\u001B[0;34m\u001B[0m\u001B[0m\n\u001B[1;32m    675\u001B[0m                 raise ValueError(\"Complex data not supported\\n\"\n",
      "\u001B[0;32m~/anaconda3/envs/utils/lib/python3.8/site-packages/numpy/core/_asarray.py\u001B[0m in \u001B[0;36masarray\u001B[0;34m(a, dtype, order)\u001B[0m\n\u001B[1;32m     81\u001B[0m \u001B[0;34m\u001B[0m\u001B[0m\n\u001B[1;32m     82\u001B[0m     \"\"\"\n\u001B[0;32m---> 83\u001B[0;31m     \u001B[0;32mreturn\u001B[0m \u001B[0marray\u001B[0m\u001B[0;34m(\u001B[0m\u001B[0ma\u001B[0m\u001B[0;34m,\u001B[0m \u001B[0mdtype\u001B[0m\u001B[0;34m,\u001B[0m \u001B[0mcopy\u001B[0m\u001B[0;34m=\u001B[0m\u001B[0;32mFalse\u001B[0m\u001B[0;34m,\u001B[0m \u001B[0morder\u001B[0m\u001B[0;34m=\u001B[0m\u001B[0morder\u001B[0m\u001B[0;34m)\u001B[0m\u001B[0;34m\u001B[0m\u001B[0;34m\u001B[0m\u001B[0m\n\u001B[0m\u001B[1;32m     84\u001B[0m \u001B[0;34m\u001B[0m\u001B[0m\n\u001B[1;32m     85\u001B[0m \u001B[0;34m\u001B[0m\u001B[0m\n",
      "\u001B[0;31mKeyboardInterrupt\u001B[0m: "
     ]
    }
   ],
   "source": [
    "neighs = calc_neighbors(X, threshold=0.15)\n",
    "o = open(f\"{fasta_file}_pairwise_distances.txt\", \"w+\")\n",
    "o.write(neighs)\n",
    "o.close()"
   ],
   "metadata": {
    "collapsed": false,
    "pycharm": {
     "name": "#%%\n"
    }
   }
  },
  {
   "cell_type": "code",
   "execution_count": 77,
   "outputs": [
    {
     "data": {
      "text/plain": "50000"
     },
     "execution_count": 77,
     "metadata": {},
     "output_type": "execute_result"
    }
   ],
   "source": [
    "len(neighs)"
   ],
   "metadata": {
    "collapsed": false,
    "pycharm": {
     "name": "#%%\n"
    }
   }
  },
  {
   "cell_type": "code",
   "execution_count": 54,
   "outputs": [
    {
     "data": {
      "text/plain": "0.575"
     },
     "execution_count": 54,
     "metadata": {},
     "output_type": "execute_result"
    }
   ],
   "source": [
    "dist_matrix[99, 100]"
   ],
   "metadata": {
    "collapsed": false,
    "pycharm": {
     "name": "#%%\n"
    }
   }
  },
  {
   "cell_type": "code",
   "execution_count": null,
   "outputs": [],
   "source": [],
   "metadata": {
    "collapsed": false,
    "pycharm": {
     "name": "#%%\n"
    }
   }
  },
  {
   "cell_type": "code",
   "execution_count": 32,
   "outputs": [
    {
     "data": {
      "text/plain": "(10, 56815360)"
     },
     "execution_count": 32,
     "metadata": {},
     "output_type": "execute_result"
    }
   ],
   "source": [
    "dist_matrix.shape"
   ],
   "metadata": {
    "collapsed": false,
    "pycharm": {
     "name": "#%%\n"
    }
   }
  },
  {
   "cell_type": "code",
   "execution_count": 37,
   "outputs": [
    {
     "data": {
      "text/plain": "(56815360, 1)"
     },
     "execution_count": 37,
     "metadata": {},
     "output_type": "execute_result"
    }
   ],
   "source": [
    "X.shape"
   ],
   "metadata": {
    "collapsed": false,
    "pycharm": {
     "name": "#%%\n"
    }
   }
  },
  {
   "cell_type": "code",
   "execution_count": 20,
   "outputs": [
    {
     "name": "stdout",
     "output_type": "stream",
     "text": [
      "1008744643536\n"
     ]
    }
   ],
   "source": [
    "m = 1420384\n",
    "print(m*(m-1) //2 )"
   ],
   "metadata": {
    "collapsed": false,
    "pycharm": {
     "name": "#%%\n"
    }
   }
  },
  {
   "cell_type": "code",
   "execution_count": 15,
   "outputs": [
    {
     "data": {
      "text/plain": "(0,)"
     },
     "execution_count": 15,
     "metadata": {},
     "output_type": "execute_result"
    }
   ],
   "source": [
    "dist_matrix.shape"
   ],
   "metadata": {
    "collapsed": false,
    "pycharm": {
     "name": "#%%\n"
    }
   }
  },
  {
   "cell_type": "code",
   "execution_count": 16,
   "outputs": [],
   "source": [
    "# lets double check if only contains characters we know\n",
    "# seqs, chars = dp.fasta_read(dataset_dir+\"rfam.fasta\")"
   ],
   "metadata": {
    "collapsed": false,
    "pycharm": {
     "name": "#%%\n"
    }
   }
  },
  {
   "cell_type": "code",
   "execution_count": 9,
   "outputs": [
    {
     "name": "stdout",
     "output_type": "stream",
     "text": [
      "['C', 'G', '-', 'A', 'U']\n"
     ]
    }
   ],
   "source": [
    "# print(chars)"
   ],
   "metadata": {
    "collapsed": false,
    "pycharm": {
     "name": "#%%\n"
    }
   }
  },
  {
   "cell_type": "code",
   "execution_count": 8,
   "outputs": [
    {
     "name": "stdout",
     "output_type": "stream",
     "text": [
      ">seq0-193.0\r\n",
      "AACGACAUUAUACAUCGGGCAUGUCCCUGAGGAUUAGUAACC-\r\n",
      ">seq1-178.0\r\n",
      "AUACUGGCUAUGGGGGUCACUCCAAUAGUCAGAGAGAAUGCA-\r\n",
      ">seq2-165.0\r\n",
      "CACAGGGUAUCGAGAGGAAGCCUGACAACUGAUGGAAUUCA--\r\n",
      ">seq3-83.0\r\n",
      "UGACACGAGAAAAAAUUAGCCCGUGAUCCCACCAUAGUCAAG-\r\n",
      ">seq4-79.0\r\n",
      "CAAGGGAAACCUUACACAUCGAGAGGGGUCCUUCCUAGACC--\r\n",
      ">seq5-55.0\r\n",
      "GUUAUACGGAAUCAAGGAGGAAUAAUCCACGUGCCACACGCG-\r\n",
      ">seq6-53.0\r\n",
      "UAGAAUACGAACGUCGGAUGAUGGGGCAGCGUCUCACAUUAC-\r\n",
      ">seq7-48.0\r\n",
      "GACACAACGUGAUCACUAGACGGAGCCACAAUCCAUUAGAAA-\r\n",
      ">seq8-45.0\r\n",
      "AUCCAGGAUACAUGGCCACACGUCAAAGCGGCUAUAAUACCA-\r\n",
      ">seq9-45.0\r\n",
      "AGCUGCUUCCAACGAAGGCAUGACCCUAAAGAACUGGGAAAC-\r\n"
     ]
    }
   ],
   "source": [
    "!head -n 20 \"./thc/r3.fasta\""
   ],
   "metadata": {
    "collapsed": false,
    "pycharm": {
     "name": "#%%\n"
    }
   }
  },
  {
   "cell_type": "markdown",
   "source": [
    "# Our Last Step is to generate a dataset file, which will inform our models about the location of the data as well as other important details"
   ],
   "metadata": {
    "collapsed": false,
    "pycharm": {
     "name": "#%% md\n"
    }
   }
  },
  {
   "cell_type": "code",
   "execution_count": 2,
   "outputs": [],
   "source": [
    "sys.path.append(\"../\")\n",
    "import rbm_torch.analysis.global_info as gi"
   ],
   "metadata": {
    "collapsed": false,
    "pycharm": {
     "name": "#%%\n"
    }
   }
  },
  {
   "cell_type": "code",
   "execution_count": 12,
   "outputs": [
    {
     "data": {
      "text/plain": "'/home/jonah/PycharmProjects/phage_display_ML/datasets'"
     },
     "execution_count": 12,
     "metadata": {},
     "output_type": "execute_result"
    }
   ],
   "source": [
    "os.getcwd()"
   ],
   "metadata": {
    "collapsed": false,
    "pycharm": {
     "name": "#%%\n"
    }
   }
  },
  {
   "cell_type": "code",
   "execution_count": 4,
   "outputs": [],
   "source": [
    "gi.generate_dataset_file([f\"r{i}.fasta\" for i in range(3, 13)], gi.supported_datatypes[\"cov_nw\"], destination=\"./dataset_files/\")"
   ],
   "metadata": {
    "collapsed": false,
    "pycharm": {
     "name": "#%%\n"
    }
   }
  },
  {
   "cell_type": "code",
   "execution_count": 5,
   "outputs": [
    {
     "name": "stdout",
     "output_type": "stream",
     "text": [
      "{\"data_files\": {\"1\": [\"r3.fasta\", \"r4.fasta\", \"r5.fasta\", \"r6.fasta\", \"r7.fasta\", \"r8.fasta\", \"r9.fasta\", \"r10.fasta\", \"r11.fasta\", \"r12.fasta\"]}, \"rounds\": {\"1\": [\"r3\", \"r4\", \"r5\", \"r6\", \"r7\", \"r8\", \"r9\", \"r10\", \"r11\", \"r12\"]}, \"model_names\": {\"weights\": {\"1\": [\"r3_w\", \"r4_w\", \"r5_w\", \"r6_w\", \"r7_w\", \"r8_w\", \"r9_w\", \"r10_w\", \"r11_w\", \"r12_w\"]}, \"equal\": {\"1\": [\"r3\", \"r4\", \"r5\", \"r6\", \"r7\", \"r8\", \"r9\", \"r10\", \"r11\", \"r12\"]}}, \"local_model_dir\": {\"rbm\": \"/mnt/D1/globus/cov_trained_rbms/nw/\", \"crbm\": \"/mnt/D1/globus/cov_trained_crbms/nw/\"}, \"data_dir\": \"../../datasets/cov/nw/\", \"server_model_dir\": {\"rbm\": \"datasets/cov/nw/trained_rbms/\", \"crbm\": \"datasets/cov/nw/trained_crbms/\"}, \"molecule\": \"dna\", \"configkey\": {\"1\": \"cov_nw\"}, \"clusters\": 1}"
     ]
    }
   ],
   "source": [
    "!cat \"./dataset_files/cov_nw.json\""
   ],
   "metadata": {
    "collapsed": false,
    "pycharm": {
     "name": "#%%\n"
    }
   }
  },
  {
   "cell_type": "code",
   "execution_count": null,
   "outputs": [],
   "source": [
    "# We're all set to run our models now, except for creating default configs for each dataset\n",
    "# Here is an example one for crbm. It should be appended to crbm_configs.py and added to all_configs\n",
    "\n",
    "thc_default_config = {\"fasta_file\": \"\",\n",
    "          \"v_num\": 43,\n",
    "          \"q\": 5,\n",
    "          \"molecule\": \"rna\",\n",
    "          \"epochs\": 100, # get's overwritten by training script anyway\n",
    "          \"seed\": seed, # this is defined in the config file\n",
    "          \"batch_size\": 10000, # can be raised or lowered depending on memory usage\n",
    "          \"mc_moves\": 4,\n",
    "          \"lr\": 0.006,\n",
    "          \"lr_final\": None, # automatically set as lr * 1e-2\n",
    "          \"decay_after\": 0.75,\n",
    "          \"loss_type\": \"free_energy\",\n",
    "          \"sample_type\": \"gibbs\",\n",
    "          \"sequence_weights\": None,\n",
    "          \"optimizer\": \"AdamW\",\n",
    "          \"weight_decay\": 0.001,  # l2 norm on all parameters\n",
    "          \"l1_2\": 25.0,\n",
    "          \"lf\": 5.0,\n",
    "          \"ld\": 10.0,\n",
    "          \"data_worker_num\": 4\n",
    "          }\n"
   ],
   "metadata": {
    "collapsed": false,
    "pycharm": {
     "name": "#%%\n"
    }
   }
  },
  {
   "cell_type": "code",
   "execution_count": 1,
   "outputs": [
    {
     "name": "stdout",
     "output_type": "stream",
     "text": [
      "Finding Whole Convolutions for Input with 43 inputs:\n",
      "Whole Convolution Found: Kernel: 1, Stride: 1, Dilation: 1, Padding: 0\n",
      "Whole Convolution Found: Kernel: 1, Stride: 2, Dilation: 1, Padding: 0\n",
      "Whole Convolution Found: Kernel: 1, Stride: 1, Dilation: 1, Padding: 1\n",
      "Whole Convolution Found: Kernel: 1, Stride: 2, Dilation: 1, Padding: 1\n",
      "Whole Convolution Found: Kernel: 1, Stride: 1, Dilation: 1, Padding: 2\n",
      "Whole Convolution Found: Kernel: 1, Stride: 2, Dilation: 1, Padding: 2\n",
      "Whole Convolution Found: Kernel: 2, Stride: 1, Dilation: 1, Padding: 0\n",
      "Whole Convolution Found: Kernel: 2, Stride: 1, Dilation: 1, Padding: 1\n",
      "Whole Convolution Found: Kernel: 2, Stride: 1, Dilation: 1, Padding: 2\n",
      "Whole Convolution Found: Kernel: 3, Stride: 1, Dilation: 1, Padding: 0\n",
      "Whole Convolution Found: Kernel: 3, Stride: 2, Dilation: 1, Padding: 0\n",
      "Whole Convolution Found: Kernel: 3, Stride: 1, Dilation: 1, Padding: 1\n",
      "Whole Convolution Found: Kernel: 3, Stride: 2, Dilation: 1, Padding: 1\n",
      "Whole Convolution Found: Kernel: 3, Stride: 1, Dilation: 1, Padding: 2\n",
      "Whole Convolution Found: Kernel: 3, Stride: 2, Dilation: 1, Padding: 2\n",
      "Whole Convolution Found: Kernel: 4, Stride: 1, Dilation: 1, Padding: 0\n",
      "Whole Convolution Found: Kernel: 4, Stride: 1, Dilation: 1, Padding: 1\n",
      "Whole Convolution Found: Kernel: 4, Stride: 1, Dilation: 1, Padding: 2\n",
      "Whole Convolution Found: Kernel: 5, Stride: 1, Dilation: 1, Padding: 0\n",
      "Whole Convolution Found: Kernel: 5, Stride: 2, Dilation: 1, Padding: 0\n",
      "Whole Convolution Found: Kernel: 5, Stride: 1, Dilation: 1, Padding: 1\n",
      "Whole Convolution Found: Kernel: 5, Stride: 2, Dilation: 1, Padding: 1\n",
      "Whole Convolution Found: Kernel: 5, Stride: 1, Dilation: 1, Padding: 2\n",
      "Whole Convolution Found: Kernel: 5, Stride: 2, Dilation: 1, Padding: 2\n",
      "Whole Convolution Found: Kernel: 6, Stride: 1, Dilation: 1, Padding: 0\n",
      "Whole Convolution Found: Kernel: 6, Stride: 1, Dilation: 1, Padding: 1\n",
      "Whole Convolution Found: Kernel: 6, Stride: 1, Dilation: 1, Padding: 2\n",
      "Whole Convolution Found: Kernel: 7, Stride: 1, Dilation: 1, Padding: 0\n",
      "Whole Convolution Found: Kernel: 7, Stride: 2, Dilation: 1, Padding: 0\n",
      "Whole Convolution Found: Kernel: 7, Stride: 1, Dilation: 1, Padding: 1\n",
      "Whole Convolution Found: Kernel: 7, Stride: 2, Dilation: 1, Padding: 1\n",
      "Whole Convolution Found: Kernel: 7, Stride: 1, Dilation: 1, Padding: 2\n",
      "Whole Convolution Found: Kernel: 7, Stride: 2, Dilation: 1, Padding: 2\n",
      "Whole Convolution Found: Kernel: 8, Stride: 1, Dilation: 1, Padding: 0\n",
      "Whole Convolution Found: Kernel: 8, Stride: 1, Dilation: 1, Padding: 1\n",
      "Whole Convolution Found: Kernel: 8, Stride: 1, Dilation: 1, Padding: 2\n",
      "Whole Convolution Found: Kernel: 9, Stride: 1, Dilation: 1, Padding: 0\n",
      "Whole Convolution Found: Kernel: 9, Stride: 2, Dilation: 1, Padding: 0\n",
      "Whole Convolution Found: Kernel: 9, Stride: 1, Dilation: 1, Padding: 1\n",
      "Whole Convolution Found: Kernel: 9, Stride: 2, Dilation: 1, Padding: 1\n",
      "Whole Convolution Found: Kernel: 9, Stride: 1, Dilation: 1, Padding: 2\n",
      "Whole Convolution Found: Kernel: 9, Stride: 2, Dilation: 1, Padding: 2\n",
      "Whole Convolution Found: Kernel: 10, Stride: 1, Dilation: 1, Padding: 0\n",
      "Whole Convolution Found: Kernel: 10, Stride: 1, Dilation: 1, Padding: 1\n",
      "Whole Convolution Found: Kernel: 10, Stride: 1, Dilation: 1, Padding: 2\n",
      "Whole Convolution Found: Kernel: 11, Stride: 1, Dilation: 1, Padding: 0\n",
      "Whole Convolution Found: Kernel: 11, Stride: 2, Dilation: 1, Padding: 0\n",
      "Whole Convolution Found: Kernel: 11, Stride: 1, Dilation: 1, Padding: 1\n",
      "Whole Convolution Found: Kernel: 11, Stride: 2, Dilation: 1, Padding: 1\n",
      "Whole Convolution Found: Kernel: 11, Stride: 1, Dilation: 1, Padding: 2\n",
      "Whole Convolution Found: Kernel: 11, Stride: 2, Dilation: 1, Padding: 2\n",
      "Whole Convolution Found: Kernel: 12, Stride: 1, Dilation: 1, Padding: 0\n",
      "Whole Convolution Found: Kernel: 12, Stride: 1, Dilation: 1, Padding: 1\n",
      "Whole Convolution Found: Kernel: 12, Stride: 1, Dilation: 1, Padding: 2\n",
      "Whole Convolution Found: Kernel: 13, Stride: 1, Dilation: 1, Padding: 0\n",
      "Whole Convolution Found: Kernel: 13, Stride: 2, Dilation: 1, Padding: 0\n",
      "Whole Convolution Found: Kernel: 13, Stride: 1, Dilation: 1, Padding: 1\n",
      "Whole Convolution Found: Kernel: 13, Stride: 2, Dilation: 1, Padding: 1\n",
      "Whole Convolution Found: Kernel: 13, Stride: 1, Dilation: 1, Padding: 2\n",
      "Whole Convolution Found: Kernel: 13, Stride: 2, Dilation: 1, Padding: 2\n",
      "Whole Convolution Found: Kernel: 14, Stride: 1, Dilation: 1, Padding: 0\n",
      "Whole Convolution Found: Kernel: 14, Stride: 1, Dilation: 1, Padding: 1\n",
      "Whole Convolution Found: Kernel: 14, Stride: 1, Dilation: 1, Padding: 2\n",
      "Whole Convolution Found: Kernel: 15, Stride: 1, Dilation: 1, Padding: 0\n",
      "Whole Convolution Found: Kernel: 15, Stride: 2, Dilation: 1, Padding: 0\n",
      "Whole Convolution Found: Kernel: 15, Stride: 1, Dilation: 1, Padding: 1\n",
      "Whole Convolution Found: Kernel: 15, Stride: 2, Dilation: 1, Padding: 1\n",
      "Whole Convolution Found: Kernel: 15, Stride: 1, Dilation: 1, Padding: 2\n",
      "Whole Convolution Found: Kernel: 15, Stride: 2, Dilation: 1, Padding: 2\n",
      "Whole Convolution Found: Kernel: 16, Stride: 1, Dilation: 1, Padding: 0\n",
      "Whole Convolution Found: Kernel: 16, Stride: 1, Dilation: 1, Padding: 1\n",
      "Whole Convolution Found: Kernel: 16, Stride: 1, Dilation: 1, Padding: 2\n",
      "Whole Convolution Found: Kernel: 17, Stride: 1, Dilation: 1, Padding: 0\n",
      "Whole Convolution Found: Kernel: 17, Stride: 2, Dilation: 1, Padding: 0\n",
      "Whole Convolution Found: Kernel: 17, Stride: 1, Dilation: 1, Padding: 1\n",
      "Whole Convolution Found: Kernel: 17, Stride: 2, Dilation: 1, Padding: 1\n",
      "Whole Convolution Found: Kernel: 17, Stride: 1, Dilation: 1, Padding: 2\n",
      "Whole Convolution Found: Kernel: 17, Stride: 2, Dilation: 1, Padding: 2\n",
      "Whole Convolution Found: Kernel: 18, Stride: 1, Dilation: 1, Padding: 0\n",
      "Whole Convolution Found: Kernel: 18, Stride: 1, Dilation: 1, Padding: 1\n",
      "Whole Convolution Found: Kernel: 18, Stride: 1, Dilation: 1, Padding: 2\n",
      "Whole Convolution Found: Kernel: 19, Stride: 1, Dilation: 1, Padding: 0\n",
      "Whole Convolution Found: Kernel: 19, Stride: 2, Dilation: 1, Padding: 0\n",
      "Whole Convolution Found: Kernel: 19, Stride: 1, Dilation: 1, Padding: 1\n",
      "Whole Convolution Found: Kernel: 19, Stride: 2, Dilation: 1, Padding: 1\n",
      "Whole Convolution Found: Kernel: 19, Stride: 1, Dilation: 1, Padding: 2\n",
      "Whole Convolution Found: Kernel: 19, Stride: 2, Dilation: 1, Padding: 2\n",
      "Whole Convolution Found: Kernel: 20, Stride: 1, Dilation: 1, Padding: 0\n",
      "Whole Convolution Found: Kernel: 20, Stride: 1, Dilation: 1, Padding: 1\n",
      "Whole Convolution Found: Kernel: 20, Stride: 1, Dilation: 1, Padding: 2\n",
      "Whole Convolution Found: Kernel: 21, Stride: 1, Dilation: 1, Padding: 0\n",
      "Whole Convolution Found: Kernel: 21, Stride: 2, Dilation: 1, Padding: 0\n",
      "Whole Convolution Found: Kernel: 21, Stride: 1, Dilation: 1, Padding: 1\n",
      "Whole Convolution Found: Kernel: 21, Stride: 2, Dilation: 1, Padding: 1\n",
      "Whole Convolution Found: Kernel: 21, Stride: 1, Dilation: 1, Padding: 2\n",
      "Whole Convolution Found: Kernel: 21, Stride: 2, Dilation: 1, Padding: 2\n",
      "Whole Convolution Found: Kernel: 22, Stride: 1, Dilation: 1, Padding: 0\n",
      "Whole Convolution Found: Kernel: 22, Stride: 1, Dilation: 1, Padding: 1\n",
      "Whole Convolution Found: Kernel: 22, Stride: 1, Dilation: 1, Padding: 2\n",
      "Whole Convolution Found: Kernel: 23, Stride: 1, Dilation: 1, Padding: 0\n",
      "Whole Convolution Found: Kernel: 23, Stride: 2, Dilation: 1, Padding: 0\n",
      "Whole Convolution Found: Kernel: 23, Stride: 1, Dilation: 1, Padding: 1\n",
      "Whole Convolution Found: Kernel: 23, Stride: 2, Dilation: 1, Padding: 1\n",
      "Whole Convolution Found: Kernel: 23, Stride: 1, Dilation: 1, Padding: 2\n",
      "Whole Convolution Found: Kernel: 23, Stride: 2, Dilation: 1, Padding: 2\n",
      "Whole Convolution Found: Kernel: 24, Stride: 1, Dilation: 1, Padding: 0\n",
      "Whole Convolution Found: Kernel: 24, Stride: 1, Dilation: 1, Padding: 1\n",
      "Whole Convolution Found: Kernel: 24, Stride: 1, Dilation: 1, Padding: 2\n",
      "Whole Convolution Found: Kernel: 25, Stride: 1, Dilation: 1, Padding: 0\n",
      "Whole Convolution Found: Kernel: 25, Stride: 2, Dilation: 1, Padding: 0\n",
      "Whole Convolution Found: Kernel: 25, Stride: 1, Dilation: 1, Padding: 1\n",
      "Whole Convolution Found: Kernel: 25, Stride: 2, Dilation: 1, Padding: 1\n",
      "Whole Convolution Found: Kernel: 25, Stride: 1, Dilation: 1, Padding: 2\n",
      "Whole Convolution Found: Kernel: 25, Stride: 2, Dilation: 1, Padding: 2\n",
      "Whole Convolution Found: Kernel: 26, Stride: 1, Dilation: 1, Padding: 0\n",
      "Whole Convolution Found: Kernel: 26, Stride: 1, Dilation: 1, Padding: 1\n",
      "Whole Convolution Found: Kernel: 26, Stride: 1, Dilation: 1, Padding: 2\n",
      "Whole Convolution Found: Kernel: 27, Stride: 1, Dilation: 1, Padding: 0\n",
      "Whole Convolution Found: Kernel: 27, Stride: 2, Dilation: 1, Padding: 0\n",
      "Whole Convolution Found: Kernel: 27, Stride: 1, Dilation: 1, Padding: 1\n",
      "Whole Convolution Found: Kernel: 27, Stride: 2, Dilation: 1, Padding: 1\n",
      "Whole Convolution Found: Kernel: 27, Stride: 1, Dilation: 1, Padding: 2\n",
      "Whole Convolution Found: Kernel: 27, Stride: 2, Dilation: 1, Padding: 2\n",
      "Whole Convolution Found: Kernel: 28, Stride: 1, Dilation: 1, Padding: 0\n",
      "Whole Convolution Found: Kernel: 28, Stride: 1, Dilation: 1, Padding: 1\n",
      "Whole Convolution Found: Kernel: 28, Stride: 1, Dilation: 1, Padding: 2\n",
      "Whole Convolution Found: Kernel: 29, Stride: 1, Dilation: 1, Padding: 0\n",
      "Whole Convolution Found: Kernel: 29, Stride: 2, Dilation: 1, Padding: 0\n",
      "Whole Convolution Found: Kernel: 29, Stride: 1, Dilation: 1, Padding: 1\n",
      "Whole Convolution Found: Kernel: 29, Stride: 2, Dilation: 1, Padding: 1\n",
      "Whole Convolution Found: Kernel: 29, Stride: 1, Dilation: 1, Padding: 2\n",
      "Whole Convolution Found: Kernel: 29, Stride: 2, Dilation: 1, Padding: 2\n",
      "Whole Convolution Found: Kernel: 30, Stride: 1, Dilation: 1, Padding: 0\n",
      "Whole Convolution Found: Kernel: 30, Stride: 1, Dilation: 1, Padding: 1\n",
      "Whole Convolution Found: Kernel: 30, Stride: 1, Dilation: 1, Padding: 2\n",
      "Whole Convolution Found: Kernel: 31, Stride: 1, Dilation: 1, Padding: 0\n",
      "Whole Convolution Found: Kernel: 31, Stride: 2, Dilation: 1, Padding: 0\n",
      "Whole Convolution Found: Kernel: 31, Stride: 1, Dilation: 1, Padding: 1\n",
      "Whole Convolution Found: Kernel: 31, Stride: 2, Dilation: 1, Padding: 1\n",
      "Whole Convolution Found: Kernel: 31, Stride: 1, Dilation: 1, Padding: 2\n",
      "Whole Convolution Found: Kernel: 31, Stride: 2, Dilation: 1, Padding: 2\n",
      "Whole Convolution Found: Kernel: 32, Stride: 1, Dilation: 1, Padding: 0\n",
      "Whole Convolution Found: Kernel: 32, Stride: 1, Dilation: 1, Padding: 1\n",
      "Whole Convolution Found: Kernel: 32, Stride: 1, Dilation: 1, Padding: 2\n",
      "Whole Convolution Found: Kernel: 33, Stride: 1, Dilation: 1, Padding: 0\n",
      "Whole Convolution Found: Kernel: 33, Stride: 2, Dilation: 1, Padding: 0\n",
      "Whole Convolution Found: Kernel: 33, Stride: 1, Dilation: 1, Padding: 1\n",
      "Whole Convolution Found: Kernel: 33, Stride: 2, Dilation: 1, Padding: 1\n",
      "Whole Convolution Found: Kernel: 33, Stride: 1, Dilation: 1, Padding: 2\n",
      "Whole Convolution Found: Kernel: 33, Stride: 2, Dilation: 1, Padding: 2\n",
      "Whole Convolution Found: Kernel: 34, Stride: 1, Dilation: 1, Padding: 0\n",
      "Whole Convolution Found: Kernel: 34, Stride: 1, Dilation: 1, Padding: 1\n",
      "Whole Convolution Found: Kernel: 34, Stride: 1, Dilation: 1, Padding: 2\n",
      "Whole Convolution Found: Kernel: 35, Stride: 1, Dilation: 1, Padding: 0\n",
      "Whole Convolution Found: Kernel: 35, Stride: 2, Dilation: 1, Padding: 0\n",
      "Whole Convolution Found: Kernel: 35, Stride: 1, Dilation: 1, Padding: 1\n",
      "Whole Convolution Found: Kernel: 35, Stride: 2, Dilation: 1, Padding: 1\n",
      "Whole Convolution Found: Kernel: 35, Stride: 1, Dilation: 1, Padding: 2\n",
      "Whole Convolution Found: Kernel: 35, Stride: 2, Dilation: 1, Padding: 2\n",
      "Whole Convolution Found: Kernel: 36, Stride: 1, Dilation: 1, Padding: 0\n",
      "Whole Convolution Found: Kernel: 36, Stride: 1, Dilation: 1, Padding: 1\n",
      "Whole Convolution Found: Kernel: 36, Stride: 1, Dilation: 1, Padding: 2\n",
      "Whole Convolution Found: Kernel: 37, Stride: 1, Dilation: 1, Padding: 0\n",
      "Whole Convolution Found: Kernel: 37, Stride: 2, Dilation: 1, Padding: 0\n",
      "Whole Convolution Found: Kernel: 37, Stride: 1, Dilation: 1, Padding: 1\n",
      "Whole Convolution Found: Kernel: 37, Stride: 2, Dilation: 1, Padding: 1\n",
      "Whole Convolution Found: Kernel: 37, Stride: 1, Dilation: 1, Padding: 2\n",
      "Whole Convolution Found: Kernel: 37, Stride: 2, Dilation: 1, Padding: 2\n",
      "Whole Convolution Found: Kernel: 38, Stride: 1, Dilation: 1, Padding: 0\n",
      "Whole Convolution Found: Kernel: 38, Stride: 1, Dilation: 1, Padding: 1\n",
      "Whole Convolution Found: Kernel: 38, Stride: 1, Dilation: 1, Padding: 2\n",
      "Whole Convolution Found: Kernel: 39, Stride: 1, Dilation: 1, Padding: 0\n",
      "Whole Convolution Found: Kernel: 39, Stride: 2, Dilation: 1, Padding: 0\n",
      "Whole Convolution Found: Kernel: 39, Stride: 1, Dilation: 1, Padding: 1\n",
      "Whole Convolution Found: Kernel: 39, Stride: 2, Dilation: 1, Padding: 1\n",
      "Whole Convolution Found: Kernel: 39, Stride: 1, Dilation: 1, Padding: 2\n",
      "Whole Convolution Found: Kernel: 39, Stride: 2, Dilation: 1, Padding: 2\n",
      "Whole Convolution Found: Kernel: 40, Stride: 1, Dilation: 1, Padding: 0\n",
      "Whole Convolution Found: Kernel: 40, Stride: 1, Dilation: 1, Padding: 1\n",
      "Whole Convolution Found: Kernel: 40, Stride: 1, Dilation: 1, Padding: 2\n",
      "Whole Convolution Found: Kernel: 41, Stride: 1, Dilation: 1, Padding: 0\n",
      "Whole Convolution Found: Kernel: 41, Stride: 2, Dilation: 1, Padding: 0\n",
      "Whole Convolution Found: Kernel: 41, Stride: 1, Dilation: 1, Padding: 1\n",
      "Whole Convolution Found: Kernel: 41, Stride: 2, Dilation: 1, Padding: 1\n",
      "Whole Convolution Found: Kernel: 41, Stride: 1, Dilation: 1, Padding: 2\n",
      "Whole Convolution Found: Kernel: 41, Stride: 2, Dilation: 1, Padding: 2\n",
      "Whole Convolution Found: Kernel: 42, Stride: 1, Dilation: 1, Padding: 0\n",
      "Whole Convolution Found: Kernel: 42, Stride: 1, Dilation: 1, Padding: 1\n",
      "Whole Convolution Found: Kernel: 42, Stride: 1, Dilation: 1, Padding: 2\n",
      "Whole Convolution Found: Kernel: 43, Stride: 1, Dilation: 1, Padding: 0\n",
      "Whole Convolution Found: Kernel: 43, Stride: 2, Dilation: 1, Padding: 0\n",
      "Whole Convolution Found: Kernel: 43, Stride: 1, Dilation: 1, Padding: 1\n",
      "Whole Convolution Found: Kernel: 43, Stride: 2, Dilation: 1, Padding: 1\n",
      "Whole Convolution Found: Kernel: 43, Stride: 1, Dilation: 1, Padding: 2\n",
      "Whole Convolution Found: Kernel: 43, Stride: 2, Dilation: 1, Padding: 2\n"
     ]
    }
   ],
   "source": [
    "# TO figure out the convolution topology we use some helper functions in crbm.py\n",
    "\n",
    "# This function gives all convolutions that fully sample all visible units on the conv transpose for a given data size\n",
    "from rbm_torch.utils import suggest_conv_size\n",
    "\n",
    "# one hot encoded vector of input size (B x V X Q) is the input the CRBM uses\n",
    "visible_num = 43 # V\n",
    "q_states = 5 #Q\n",
    "input_shape = (visible_num, q_states)\n",
    "suggest_conv_size(input_shape, padding_max=2, dilation_max=1, stride_max=2)"
   ],
   "metadata": {
    "collapsed": false,
    "pycharm": {
     "name": "#%%\n"
    }
   }
  },
  {
   "cell_type": "markdown",
   "source": [
    "## My current line of thinking is that having a dilation > 1 or a stride > 1 will introduce some position specific effects."
   ],
   "metadata": {
    "collapsed": false,
    "pycharm": {
     "name": "#%% md\n"
    }
   }
  },
  {
   "cell_type": "code",
   "execution_count": null,
   "outputs": [],
   "source": [
    "## Idea: The size of the kernel controls defines the size of the motif/pattern of the convolutional filter. So for this dataset I expect long filters to capture the secondary structure of this rfam family\n",
    "\n",
    "# It is possible to use different strides and dilations, but I think they only take away from the interpretability of the convolutional filters. Also, they can lead to unsampled visible units on the convolution transpose. Likewise using a hidden layer with the kernel size the same as the number of visible units is somewhat equivalent to an RBM if not exactly (I haven't verified). This introduces a positional dependence into the corresponding hidden layer of the model.\n",
    "\n",
    "# So I will use sizes:  11, 25, 46, 86, 100, 112\n",
    "# Motif Finding:  Local Features-------Global Features\n",
    "# Names/Keys for hidden layers in the convolutional topology can be named anything you can use as key in a dictionary\n",
    "# Model outputs are the average of each hidden layer with a set weight\n",
    "thc_default_config[\"convolution_topology\"] = {\"hidden10\": {\"number\": 15, \"kernel\": (9, thc_default_config[\"q\"]), \"stride\": (1, 1), \"padding\": (0, 0), \"dilation\": (1, 1), \"output_padding\": (0, 0), \"weight\": 1.0},\n",
    "                                            \"hidden25\": {\"number\": 15, \"kernel\": (17, thc_default_config[\"q\"]), \"stride\": (1, 1), \"padding\": (0, 0), \"dilation\": (1, 1), \"output_padding\": (0, 0), \"weight\": 1.0},\n",
    "                                            \"hidden46\": {\"number\": 15, \"kernel\": (25, thc_default_config[\"q\"]), \"stride\": (1, 1), \"padding\": (0, 0), \"dilation\": (1, 1), \"output_padding\": (0, 0), \"weight\": 1.0},\n",
    "                                            \"hidden86\": {\"number\": 15, \"kernel\": (33, thc_default_config[\"q\"]), \"stride\": (1, 1), \"padding\": (0, 0), \"dilation\": (1, 1), \"output_padding\": (0, 0), \"weight\": 1.0},\n",
    "                                             }"
   ],
   "metadata": {
    "collapsed": false,
    "pycharm": {
     "name": "#%%\n"
    }
   }
  },
  {
   "cell_type": "code",
   "execution_count": null,
   "outputs": [],
   "source": [
    "### COPY THE ABOVE CELL TO CRBM CONFIGS AS WELL"
   ],
   "metadata": {
    "collapsed": false,
    "pycharm": {
     "name": "#%%\n"
    }
   }
  },
  {
   "cell_type": "code",
   "execution_count": null,
   "outputs": [],
   "source": [
    "# Lets create a submission script for a slurm system to run by using the script submit.py\n",
    "\n",
    "# Submission files are stored in rbm_torch/submission/\n",
    "\n",
    "# From Directory rbm_torch I ran\n",
    "\"python submit.py -d ribo -r all -p wzhengpu1 -q wildfire -m crbm -e 200 -g 2 --precision double\"\n",
    "\n",
    "# Use python submit.py -h for help!"
   ],
   "metadata": {
    "collapsed": false,
    "pycharm": {
     "name": "#%%\n"
    }
   }
  }
 ],
 "metadata": {
  "kernelspec": {
   "name": "utils",
   "language": "python",
   "display_name": "utils"
  },
  "language_info": {
   "codemirror_mode": {
    "name": "ipython",
    "version": 2
   },
   "file_extension": ".py",
   "mimetype": "text/x-python",
   "name": "python",
   "nbconvert_exporter": "python",
   "pygments_lexer": "ipython2",
   "version": "2.7.6"
  }
 },
 "nbformat": 4,
 "nbformat_minor": 0
}