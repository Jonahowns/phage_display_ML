{
 "cells": [
  {
   "cell_type": "code",
   "execution_count": 1,
   "outputs": [],
   "source": [
    "import os\n",
    "import sys\n",
    "\n",
    "import pandas as pd"
   ],
   "metadata": {
    "collapsed": false,
    "pycharm": {
     "name": "#%%\n"
    }
   }
  },
  {
   "cell_type": "markdown",
   "source": [
    "## First let's look at our dataset and determine how it should be split up"
   ],
   "metadata": {
    "collapsed": false,
    "pycharm": {
     "name": "#%% md\n"
    }
   }
  },
  {
   "cell_type": "code",
   "execution_count": 4,
   "outputs": [
    {
     "data": {
      "text/plain": "'/home/jonah/PycharmProjects/phage_display_ML/datasets'"
     },
     "execution_count": 4,
     "metadata": {},
     "output_type": "execute_result"
    }
   ],
   "source": [
    "os.getcwd()"
   ],
   "metadata": {
    "collapsed": false,
    "pycharm": {
     "name": "#%%\n"
    }
   }
  },
  {
   "cell_type": "code",
   "execution_count": 2,
   "outputs": [],
   "source": [
    "## Let's make a directory within datasets to store all our files\n",
    "# Choose a short string 3-5 characters to denote this particular dataset\n",
    "# For this one, I chose \"ribo\" for the ribosomal rna.\n",
    "# Make sure to set \"focus\" in datatype as the same string\n",
    "\n",
    "dataset_focus = \"cov\"\n",
    "dataset_dir = f\"./{dataset_focus}/\"\n",
    "\n",
    "if not os.path.isdir(dataset_dir):\n",
    "    os.mkdir(dataset_dir)"
   ],
   "metadata": {
    "collapsed": false,
    "pycharm": {
     "name": "#%%\n"
    }
   }
  },
  {
   "cell_type": "code",
   "execution_count": 3,
   "outputs": [],
   "source": [
    "# Let's import our data_prep tools\n",
    "import data_prep as dp"
   ],
   "metadata": {
    "collapsed": false,
    "pycharm": {
     "name": "#%%\n"
    }
   }
  },
  {
   "cell_type": "code",
   "execution_count": 7,
   "outputs": [
    {
     "name": "stdout",
     "output_type": "stream",
     "text": [
      "Observed Characters: ['C', 'A', 'N', 'G', 'T']\n"
     ]
    }
   ],
   "source": [
    "# The below code can take awhile to run depending on the size of each file\n",
    "cov_df = dp.process_raw_fasta_files(\"r1.txt\", \"r2.txt\", \"r3.txt\", \"r4.txt\", \"r5.txt\", \"r6.txt\", \"r7.txt\", \"r8.txt\", \"r9.txt\", \"r10.txt\", \"r11.txt\", \"r12.txt\", in_dir=\"/mnt/D1/sars-cov-2-data/processed/\", out_dir=dataset_dir, violin_out=\"cov_data_lengths\", input_format=\"fasta\")"
   ],
   "metadata": {
    "collapsed": false,
    "pycharm": {
     "name": "#%%\n"
    }
   }
  },
  {
   "cell_type": "markdown",
   "source": [
    "## Looking at the above graph + the length report in our out directory we see this\n",
    "\n",
    "<img src=\"./cov/cov_data_lengths.png\" alt=\"COV Data Lengths\" style=\"height: 50px; width:50px;\"/>"
   ],
   "metadata": {
    "collapsed": false,
    "pycharm": {
     "name": "#%% md\n"
    }
   }
  },
  {
   "cell_type": "code",
   "execution_count": 3,
   "outputs": [
    {
     "name": "stdout",
     "output_type": "stream",
     "text": [
      "Removed 3036794 Repeat Sequences\r\n",
      "Length: 19 Number of Sequences 1\r\n",
      "Length: 25 Number of Sequences 2\r\n",
      "Length: 27 Number of Sequences 2\r\n",
      "Length: 28 Number of Sequences 2\r\n",
      "Length: 29 Number of Sequences 6\r\n",
      "Length: 30 Number of Sequences 29\r\n",
      "Length: 31 Number of Sequences 59\r\n",
      "Length: 32 Number of Sequences 74\r\n",
      "Length: 33 Number of Sequences 108\r\n",
      "Length: 34 Number of Sequences 125\r\n",
      "Length: 35 Number of Sequences 286\r\n",
      "Length: 36 Number of Sequences 546\r\n",
      "Length: 37 Number of Sequences 1280\r\n",
      "Length: 38 Number of Sequences 5464\r\n",
      "Length: 39 Number of Sequences 12615\r\n",
      "Length: 40 Number of Sequences 2078863\r\n",
      "Length: 41 Number of Sequences 162432\r\n"
     ]
    }
   ],
   "source": [
    "!cat ./cov/r5_len_report.txt"
   ],
   "metadata": {
    "collapsed": false,
    "pycharm": {
     "name": "#%%\n"
    }
   }
  },
  {
   "cell_type": "code",
   "execution_count": null,
   "outputs": [],
   "source": [
    "# So now we can define our datatype\n",
    "\n",
    "# Datatype defines the basics of our data, Each datatype is specified for a group of related fasta files\n",
    "# Focus - > short string specifier that gives the overall dataset we are using\n",
    "# Molecule -> What kind of sequence data? currently protein, dna, and rna are supported\n",
    "# id -> short string specifier ONLY for datasets which have different clustering methods (CLUSTERS ONLY)\n",
    "# process -> How were the gaps added to each dataset, used to name directory (CLUSTERS ONLY)\n",
    "# clusters -> How many clusters are in each data file (1 if no clusters)\n",
    "# cluster_indices -> Define the lengths of data put in each cluster, It is inclusive so [12, 16] includes length 12 and length 16. There must be cluster_indices for each cluster\n",
    "# gap_position_indices -> Index where gaps should be added to each sequence that is short of the maximum length. (-1 means add gaps to the end of the clusters)\n",
    "\n",
    "cov_datatype = {\"focus\": \"cov\", \"molecule\": \"dna\", \"id\": None, \"process\": None, \"clusters\": 1, \"gap_position_indices\": [-1], \"cluster_indices\": [[40, 40]]}"
   ],
   "metadata": {
    "collapsed": false,
    "pycharm": {
     "name": "#%%\n"
    }
   }
  },
  {
   "cell_type": "markdown",
   "source": [
    "## Before we do anything else, we need to copy our datatype to phage_display_ML/rbm_torch/global_info.py\n",
    "## Also make sure to add the new datatype to the datatype_list in the same file."
   ],
   "metadata": {
    "collapsed": false,
    "pycharm": {
     "name": "#%% md\n"
    }
   }
  },
  {
   "cell_type": "markdown",
   "source": [
    "## Next we need to process the raw files and make our own fasta files with our preferred formatting"
   ],
   "metadata": {
    "collapsed": false,
    "pycharm": {
     "name": "#%% md\n"
    }
   }
  },
  {
   "cell_type": "code",
   "execution_count": 7,
   "outputs": [],
   "source": [
    "# chars_to_remove = [\"W\", \"D\", \"V\", \"M\", \"B\", \"R\", \"K\", \"Y\", \"H\", \"S\"]\n",
    "# chars_replace = {x: \"-\" for x in chars_to_remove}\n",
    "dp.prepare_data_files(\"cov\", cov_df, target_dir=dataset_dir, character_conversion={\"T\": \"U\", \"N\":\"-\"}, remove_chars=None) # Creates datafiles in target directory"
   ],
   "metadata": {
    "collapsed": false,
    "pycharm": {
     "name": "#%%\n"
    }
   }
  },
  {
   "cell_type": "markdown",
   "source": [
    "## Now we have generated a data file that we can use for training our RBM or CRBM"
   ],
   "metadata": {
    "collapsed": false,
    "pycharm": {
     "name": "#%% md\n"
    }
   }
  },
  {
   "cell_type": "markdown",
   "source": [
    "#We will also try scaling the weights based off other information. In this case I am going choose a weight that is representative of both the copy number and the number of sequences that match with less than a threshold of difference b/t one another. To do this I'm going to read in the already processed files with their count number. And write them out with the altered weights in the fasta file"
   ],
   "metadata": {
    "collapsed": false,
    "pycharm": {
     "name": "#%% md\n"
    }
   }
  },
  {
   "cell_type": "code",
   "execution_count": null,
   "outputs": [],
   "source": [
    "import numpy as np"
   ],
   "metadata": {
    "collapsed": false,
    "pycharm": {
     "name": "#%%\n"
    }
   }
  },
  {
   "cell_type": "markdown",
   "source": [],
   "metadata": {
    "collapsed": false
   }
  },
  {
   "cell_type": "markdown",
   "source": [
    "#### The Below Scaling Weights didn't work too well, returned about the same model as just the raw weights"
   ],
   "metadata": {
    "collapsed": false
   }
  },
  {
   "cell_type": "code",
   "execution_count": null,
   "outputs": [],
   "source": [
    "## Scaling all Rounds except R1 and R2 (way too much data, pairwise neighbor jobs aren't done yet)"
   ],
   "metadata": {
    "collapsed": false,
    "pycharm": {
     "name": "#%%\n"
    }
   }
  },
  {
   "cell_type": "code",
   "execution_count": 3,
   "outputs": [
    {
     "name": "stdout",
     "output_type": "stream",
     "text": [
      "Process Time 0.587090015411377\n"
     ]
    }
   ],
   "source": [
    "fasta_file = \"r3.fasta\"\n",
    "dp.scale_weights(f\"./cov/{fasta_file}\", \"./cov/sw/\", f\"./cov/{fasta_file}_15_neighbor_counts.pkl\", molecule=\"dna\", threads=12, precision=20, scale_log=True, copynum_coeff=5.0, neighbor_coeff=0.5, normalize_threshold=0.75)"
   ],
   "metadata": {
    "collapsed": false,
    "pycharm": {
     "name": "#%%\n"
    }
   }
  },
  {
   "cell_type": "code",
   "execution_count": 4,
   "outputs": [],
   "source": [
    "sys.path.append(\"../rbm_torch/\")\n",
    "import rbm_torch.utils as utils\n",
    "import data_prep as dp\n",
    "import numpy as np"
   ],
   "metadata": {
    "collapsed": false,
    "pycharm": {
     "name": "#%%\n"
    }
   }
  },
  {
   "cell_type": "code",
   "execution_count": 5,
   "outputs": [
    {
     "name": "stdout",
     "output_type": "stream",
     "text": [
      "Process Time 0.5592570304870605\n",
      "Process Time 0.3178377151489258\n",
      "Process Time 1.5709872245788574\n",
      "Process Time 1.1642749309539795\n",
      "Process Time 2.1850874423980713\n",
      "Process Time 0.6264688968658447\n",
      "Process Time 0.16741061210632324\n",
      "Process Time 0.41866111755371094\n",
      "Process Time 0.20952653884887695\n",
      "Process Time 0.4487771987915039\n"
     ]
    }
   ],
   "source": [
    "all_fasta_files = [f\"r{i}.fasta\" for i in range(3, 13)]\n",
    "all_affinities =[]\n",
    "min_vals = []\n",
    "for fasta_file in all_fasta_files:\n",
    "    seqs, affs, chars, q = utils.fasta_read(f\"./cov/{fasta_file}\", \"dna\", threads=12)\n",
    "    # stand_affs = dp.standardize_affinities(affs, out_plot=f\"./cov/sw/{fasta_file.split('.')[0]}_stand_affs\")\n",
    "    stand_affs = dp.standardize_affinities(affs, out_plot=f\"./cov/nw/{fasta_file.split('.')[0]}_stand_affs\")\n",
    "    min_vals.append(min(stand_affs))\n",
    "    all_affinities.append(stand_affs)\n",
    "    # neighs = dp.load_neighbor_file(f\"./cov/{fasta_file}_15_neighbor_counts.pkl\")\n",
    "    # neighs_log_scaled = dp.scale_values_np(dp.log_scale(neighs, base=0.001), min=0.01, max=1.00)\n",
    "    # dp.quick_hist(neighs_log_scaled.squeeze(1).tolist(), outfile=f\"./cov/sw/{fasta_file.split('.')[0]}_neighs_log_scaled\")\n",
    "    # new_weights = np.asarray(stand_affs) * neighs_log_scaled.squeeze(1)\n",
    "    # dp.quick_hist(new_weights.tolist(), outfile=f\"./cov/sw/{fasta_file.split('.')[0]}_aff_and_neigh_weights\")\n",
    "    # dp.make_weight_file(f\"./cov/nw/{fasta_file.split('.')[0]}_nw_weights\", stand_affs, \"nw\")\n",
    "    # dp.write_fasta(seqs, stand_affs, f\"./cov/nw/{fasta_file}\")\n",
    "    # dp.write_fasta(seqs, new_weights.tolist(), f\"./cov/sw/{fasta_file.split('.')[0]}_n\")"
   ],
   "metadata": {
    "collapsed": false,
    "pycharm": {
     "name": "#%%\n"
    }
   }
  },
  {
   "cell_type": "code",
   "execution_count": 6,
   "outputs": [],
   "source": [
    "thresholds = min_vals\n",
    "for fid, fasta_file in enumerate(all_fasta_files):\n",
    "    new_weights =dp.negate_affinites(all_affinities[fid], thresholds[fid], out_plot=f\"./cov/nw/{fasta_file.split('.')[0]}_n3_affs\", negative_factor=10000.)\n",
    "    dp.make_weight_file(f\"./cov/nw/{fasta_file.split('.')[0]}_n3_weights\", new_weights, \"n3\")\n",
    "    # dp.write_fasta(seqs, stand_affs, f\"./cov/nw/{fasta_file}\")"
   ],
   "metadata": {
    "collapsed": false,
    "pycharm": {
     "name": "#%%\n"
    }
   }
  },
  {
   "cell_type": "markdown",
   "source": [],
   "metadata": {
    "collapsed": false
   }
  },
  {
   "cell_type": "code",
   "execution_count": 82,
   "outputs": [
    {
     "name": "stdout",
     "output_type": "stream",
     "text": [
      "0.006617928672809606 % done\n",
      "0.013235857345619212 % done\n",
      "0.01985378601842882 % done\n",
      "0.026471714691238424 % done\n",
      "0.03308964336404803 % done\n",
      "0.03970757203685764 % done\n",
      "0.04632550070966725 % done\n",
      "0.05294342938247685 % done\n"
     ]
    },
    {
     "ename": "KeyboardInterrupt",
     "evalue": "",
     "output_type": "error",
     "traceback": [
      "\u001B[0;31m---------------------------------------------------------------------------\u001B[0m",
      "\u001B[0;31mKeyboardInterrupt\u001B[0m                         Traceback (most recent call last)",
      "\u001B[0;32m<ipython-input-82-70592f7fbe35>\u001B[0m in \u001B[0;36m<module>\u001B[0;34m\u001B[0m\n\u001B[0;32m----> 1\u001B[0;31m \u001B[0mneighs\u001B[0m \u001B[0;34m=\u001B[0m \u001B[0mcalc_neighbors\u001B[0m\u001B[0;34m(\u001B[0m\u001B[0mX\u001B[0m\u001B[0;34m,\u001B[0m \u001B[0mthreshold\u001B[0m\u001B[0;34m=\u001B[0m\u001B[0;36m0.15\u001B[0m\u001B[0;34m)\u001B[0m\u001B[0;34m\u001B[0m\u001B[0;34m\u001B[0m\u001B[0m\n\u001B[0m",
      "\u001B[0;32m<ipython-input-81-9e68a33907ca>\u001B[0m in \u001B[0;36mcalc_neighbors\u001B[0;34m(X, threshold)\u001B[0m\n\u001B[1;32m     11\u001B[0m \u001B[0;34m\u001B[0m\u001B[0m\n\u001B[1;32m     12\u001B[0m     \u001B[0mneighbors\u001B[0m \u001B[0;34m=\u001B[0m \u001B[0;34m[\u001B[0m\u001B[0;34m]\u001B[0m\u001B[0;34m\u001B[0m\u001B[0;34m\u001B[0m\u001B[0m\n\u001B[0;32m---> 13\u001B[0;31m     \u001B[0;32mfor\u001B[0m \u001B[0mx\u001B[0m \u001B[0;32min\u001B[0m \u001B[0mgen\u001B[0m\u001B[0;34m:\u001B[0m\u001B[0;34m\u001B[0m\u001B[0;34m\u001B[0m\u001B[0m\n\u001B[0m\u001B[1;32m     14\u001B[0m         \u001B[0mneighbors\u001B[0m \u001B[0;34m+=\u001B[0m \u001B[0mx\u001B[0m\u001B[0;34m\u001B[0m\u001B[0;34m\u001B[0m\u001B[0m\n\u001B[1;32m     15\u001B[0m         \u001B[0mprint\u001B[0m\u001B[0;34m(\u001B[0m\u001B[0mlen\u001B[0m\u001B[0;34m(\u001B[0m\u001B[0mneighbors\u001B[0m\u001B[0;34m)\u001B[0m\u001B[0;34m/\u001B[0m\u001B[0mX\u001B[0m\u001B[0;34m.\u001B[0m\u001B[0mshape\u001B[0m\u001B[0;34m[\u001B[0m\u001B[0;36m0\u001B[0m\u001B[0;34m]\u001B[0m \u001B[0;34m*\u001B[0m \u001B[0;36m100\u001B[0m\u001B[0;34m,\u001B[0m \u001B[0;34m\"% done\"\u001B[0m\u001B[0;34m)\u001B[0m\u001B[0;34m\u001B[0m\u001B[0;34m\u001B[0m\u001B[0m\n",
      "\u001B[0;32m~/anaconda3/envs/utils/lib/python3.8/site-packages/sklearn/metrics/pairwise.py\u001B[0m in \u001B[0;36mpairwise_distances_chunked\u001B[0;34m(X, Y, reduce_func, metric, n_jobs, working_memory, **kwds)\u001B[0m\n\u001B[1;32m   1621\u001B[0m         \u001B[0;32melse\u001B[0m\u001B[0;34m:\u001B[0m\u001B[0;34m\u001B[0m\u001B[0;34m\u001B[0m\u001B[0m\n\u001B[1;32m   1622\u001B[0m             \u001B[0mX_chunk\u001B[0m \u001B[0;34m=\u001B[0m \u001B[0mX\u001B[0m\u001B[0;34m[\u001B[0m\u001B[0msl\u001B[0m\u001B[0;34m]\u001B[0m\u001B[0;34m\u001B[0m\u001B[0;34m\u001B[0m\u001B[0m\n\u001B[0;32m-> 1623\u001B[0;31m         D_chunk = pairwise_distances(X_chunk, Y, metric=metric,\n\u001B[0m\u001B[1;32m   1624\u001B[0m                                      n_jobs=n_jobs, **kwds)\n\u001B[1;32m   1625\u001B[0m         if ((X is Y or Y is None)\n",
      "\u001B[0;32m~/anaconda3/envs/utils/lib/python3.8/site-packages/sklearn/utils/validation.py\u001B[0m in \u001B[0;36minner_f\u001B[0;34m(*args, **kwargs)\u001B[0m\n\u001B[1;32m     61\u001B[0m             \u001B[0mextra_args\u001B[0m \u001B[0;34m=\u001B[0m \u001B[0mlen\u001B[0m\u001B[0;34m(\u001B[0m\u001B[0margs\u001B[0m\u001B[0;34m)\u001B[0m \u001B[0;34m-\u001B[0m \u001B[0mlen\u001B[0m\u001B[0;34m(\u001B[0m\u001B[0mall_args\u001B[0m\u001B[0;34m)\u001B[0m\u001B[0;34m\u001B[0m\u001B[0;34m\u001B[0m\u001B[0m\n\u001B[1;32m     62\u001B[0m             \u001B[0;32mif\u001B[0m \u001B[0mextra_args\u001B[0m \u001B[0;34m<=\u001B[0m \u001B[0;36m0\u001B[0m\u001B[0;34m:\u001B[0m\u001B[0;34m\u001B[0m\u001B[0;34m\u001B[0m\u001B[0m\n\u001B[0;32m---> 63\u001B[0;31m                 \u001B[0;32mreturn\u001B[0m \u001B[0mf\u001B[0m\u001B[0;34m(\u001B[0m\u001B[0;34m*\u001B[0m\u001B[0margs\u001B[0m\u001B[0;34m,\u001B[0m \u001B[0;34m**\u001B[0m\u001B[0mkwargs\u001B[0m\u001B[0;34m)\u001B[0m\u001B[0;34m\u001B[0m\u001B[0;34m\u001B[0m\u001B[0m\n\u001B[0m\u001B[1;32m     64\u001B[0m \u001B[0;34m\u001B[0m\u001B[0m\n\u001B[1;32m     65\u001B[0m             \u001B[0;31m# extra_args > 0\u001B[0m\u001B[0;34m\u001B[0m\u001B[0;34m\u001B[0m\u001B[0;34m\u001B[0m\u001B[0m\n",
      "\u001B[0;32m~/anaconda3/envs/utils/lib/python3.8/site-packages/sklearn/metrics/pairwise.py\u001B[0m in \u001B[0;36mpairwise_distances\u001B[0;34m(X, Y, metric, n_jobs, force_all_finite, **kwds)\u001B[0m\n\u001B[1;32m   1776\u001B[0m             \u001B[0mwarnings\u001B[0m\u001B[0;34m.\u001B[0m\u001B[0mwarn\u001B[0m\u001B[0;34m(\u001B[0m\u001B[0mmsg\u001B[0m\u001B[0;34m,\u001B[0m \u001B[0mDataConversionWarning\u001B[0m\u001B[0;34m)\u001B[0m\u001B[0;34m\u001B[0m\u001B[0;34m\u001B[0m\u001B[0m\n\u001B[1;32m   1777\u001B[0m \u001B[0;34m\u001B[0m\u001B[0m\n\u001B[0;32m-> 1778\u001B[0;31m         X, Y = check_pairwise_arrays(X, Y, dtype=dtype,\n\u001B[0m\u001B[1;32m   1779\u001B[0m                                      force_all_finite=force_all_finite)\n\u001B[1;32m   1780\u001B[0m \u001B[0;34m\u001B[0m\u001B[0m\n",
      "\u001B[0;32m~/anaconda3/envs/utils/lib/python3.8/site-packages/sklearn/utils/validation.py\u001B[0m in \u001B[0;36minner_f\u001B[0;34m(*args, **kwargs)\u001B[0m\n\u001B[1;32m     61\u001B[0m             \u001B[0mextra_args\u001B[0m \u001B[0;34m=\u001B[0m \u001B[0mlen\u001B[0m\u001B[0;34m(\u001B[0m\u001B[0margs\u001B[0m\u001B[0;34m)\u001B[0m \u001B[0;34m-\u001B[0m \u001B[0mlen\u001B[0m\u001B[0;34m(\u001B[0m\u001B[0mall_args\u001B[0m\u001B[0;34m)\u001B[0m\u001B[0;34m\u001B[0m\u001B[0;34m\u001B[0m\u001B[0m\n\u001B[1;32m     62\u001B[0m             \u001B[0;32mif\u001B[0m \u001B[0mextra_args\u001B[0m \u001B[0;34m<=\u001B[0m \u001B[0;36m0\u001B[0m\u001B[0;34m:\u001B[0m\u001B[0;34m\u001B[0m\u001B[0;34m\u001B[0m\u001B[0m\n\u001B[0;32m---> 63\u001B[0;31m                 \u001B[0;32mreturn\u001B[0m \u001B[0mf\u001B[0m\u001B[0;34m(\u001B[0m\u001B[0;34m*\u001B[0m\u001B[0margs\u001B[0m\u001B[0;34m,\u001B[0m \u001B[0;34m**\u001B[0m\u001B[0mkwargs\u001B[0m\u001B[0;34m)\u001B[0m\u001B[0;34m\u001B[0m\u001B[0;34m\u001B[0m\u001B[0m\n\u001B[0m\u001B[1;32m     64\u001B[0m \u001B[0;34m\u001B[0m\u001B[0m\n\u001B[1;32m     65\u001B[0m             \u001B[0;31m# extra_args > 0\u001B[0m\u001B[0;34m\u001B[0m\u001B[0;34m\u001B[0m\u001B[0;34m\u001B[0m\u001B[0m\n",
      "\u001B[0;32m~/anaconda3/envs/utils/lib/python3.8/site-packages/sklearn/metrics/pairwise.py\u001B[0m in \u001B[0;36mcheck_pairwise_arrays\u001B[0;34m(X, Y, precomputed, dtype, accept_sparse, force_all_finite, copy)\u001B[0m\n\u001B[1;32m    147\u001B[0m                         \u001B[0mcopy\u001B[0m\u001B[0;34m=\u001B[0m\u001B[0mcopy\u001B[0m\u001B[0;34m,\u001B[0m \u001B[0mforce_all_finite\u001B[0m\u001B[0;34m=\u001B[0m\u001B[0mforce_all_finite\u001B[0m\u001B[0;34m,\u001B[0m\u001B[0;34m\u001B[0m\u001B[0;34m\u001B[0m\u001B[0m\n\u001B[1;32m    148\u001B[0m                         estimator=estimator)\n\u001B[0;32m--> 149\u001B[0;31m         Y = check_array(Y, accept_sparse=accept_sparse, dtype=dtype,\n\u001B[0m\u001B[1;32m    150\u001B[0m                         \u001B[0mcopy\u001B[0m\u001B[0;34m=\u001B[0m\u001B[0mcopy\u001B[0m\u001B[0;34m,\u001B[0m \u001B[0mforce_all_finite\u001B[0m\u001B[0;34m=\u001B[0m\u001B[0mforce_all_finite\u001B[0m\u001B[0;34m,\u001B[0m\u001B[0;34m\u001B[0m\u001B[0;34m\u001B[0m\u001B[0m\n\u001B[1;32m    151\u001B[0m                         estimator=estimator)\n",
      "\u001B[0;32m~/anaconda3/envs/utils/lib/python3.8/site-packages/sklearn/utils/validation.py\u001B[0m in \u001B[0;36minner_f\u001B[0;34m(*args, **kwargs)\u001B[0m\n\u001B[1;32m     61\u001B[0m             \u001B[0mextra_args\u001B[0m \u001B[0;34m=\u001B[0m \u001B[0mlen\u001B[0m\u001B[0;34m(\u001B[0m\u001B[0margs\u001B[0m\u001B[0;34m)\u001B[0m \u001B[0;34m-\u001B[0m \u001B[0mlen\u001B[0m\u001B[0;34m(\u001B[0m\u001B[0mall_args\u001B[0m\u001B[0;34m)\u001B[0m\u001B[0;34m\u001B[0m\u001B[0;34m\u001B[0m\u001B[0m\n\u001B[1;32m     62\u001B[0m             \u001B[0;32mif\u001B[0m \u001B[0mextra_args\u001B[0m \u001B[0;34m<=\u001B[0m \u001B[0;36m0\u001B[0m\u001B[0;34m:\u001B[0m\u001B[0;34m\u001B[0m\u001B[0;34m\u001B[0m\u001B[0m\n\u001B[0;32m---> 63\u001B[0;31m                 \u001B[0;32mreturn\u001B[0m \u001B[0mf\u001B[0m\u001B[0;34m(\u001B[0m\u001B[0;34m*\u001B[0m\u001B[0margs\u001B[0m\u001B[0;34m,\u001B[0m \u001B[0;34m**\u001B[0m\u001B[0mkwargs\u001B[0m\u001B[0;34m)\u001B[0m\u001B[0;34m\u001B[0m\u001B[0;34m\u001B[0m\u001B[0m\n\u001B[0m\u001B[1;32m     64\u001B[0m \u001B[0;34m\u001B[0m\u001B[0m\n\u001B[1;32m     65\u001B[0m             \u001B[0;31m# extra_args > 0\u001B[0m\u001B[0;34m\u001B[0m\u001B[0;34m\u001B[0m\u001B[0;34m\u001B[0m\u001B[0m\n",
      "\u001B[0;32m~/anaconda3/envs/utils/lib/python3.8/site-packages/sklearn/utils/validation.py\u001B[0m in \u001B[0;36mcheck_array\u001B[0;34m(array, accept_sparse, accept_large_sparse, dtype, order, copy, force_all_finite, ensure_2d, allow_nd, ensure_min_samples, ensure_min_features, estimator)\u001B[0m\n\u001B[1;32m    671\u001B[0m                     \u001B[0marray\u001B[0m \u001B[0;34m=\u001B[0m \u001B[0marray\u001B[0m\u001B[0;34m.\u001B[0m\u001B[0mastype\u001B[0m\u001B[0;34m(\u001B[0m\u001B[0mdtype\u001B[0m\u001B[0;34m,\u001B[0m \u001B[0mcasting\u001B[0m\u001B[0;34m=\u001B[0m\u001B[0;34m\"unsafe\"\u001B[0m\u001B[0;34m,\u001B[0m \u001B[0mcopy\u001B[0m\u001B[0;34m=\u001B[0m\u001B[0;32mFalse\u001B[0m\u001B[0;34m)\u001B[0m\u001B[0;34m\u001B[0m\u001B[0;34m\u001B[0m\u001B[0m\n\u001B[1;32m    672\u001B[0m                 \u001B[0;32melse\u001B[0m\u001B[0;34m:\u001B[0m\u001B[0;34m\u001B[0m\u001B[0;34m\u001B[0m\u001B[0m\n\u001B[0;32m--> 673\u001B[0;31m                     \u001B[0marray\u001B[0m \u001B[0;34m=\u001B[0m \u001B[0mnp\u001B[0m\u001B[0;34m.\u001B[0m\u001B[0masarray\u001B[0m\u001B[0;34m(\u001B[0m\u001B[0marray\u001B[0m\u001B[0;34m,\u001B[0m \u001B[0morder\u001B[0m\u001B[0;34m=\u001B[0m\u001B[0morder\u001B[0m\u001B[0;34m,\u001B[0m \u001B[0mdtype\u001B[0m\u001B[0;34m=\u001B[0m\u001B[0mdtype\u001B[0m\u001B[0;34m)\u001B[0m\u001B[0;34m\u001B[0m\u001B[0;34m\u001B[0m\u001B[0m\n\u001B[0m\u001B[1;32m    674\u001B[0m             \u001B[0;32mexcept\u001B[0m \u001B[0mComplexWarning\u001B[0m \u001B[0;32mas\u001B[0m \u001B[0mcomplex_warning\u001B[0m\u001B[0;34m:\u001B[0m\u001B[0;34m\u001B[0m\u001B[0;34m\u001B[0m\u001B[0m\n\u001B[1;32m    675\u001B[0m                 raise ValueError(\"Complex data not supported\\n\"\n",
      "\u001B[0;32m~/anaconda3/envs/utils/lib/python3.8/site-packages/numpy/core/_asarray.py\u001B[0m in \u001B[0;36masarray\u001B[0;34m(a, dtype, order)\u001B[0m\n\u001B[1;32m     81\u001B[0m \u001B[0;34m\u001B[0m\u001B[0m\n\u001B[1;32m     82\u001B[0m     \"\"\"\n\u001B[0;32m---> 83\u001B[0;31m     \u001B[0;32mreturn\u001B[0m \u001B[0marray\u001B[0m\u001B[0;34m(\u001B[0m\u001B[0ma\u001B[0m\u001B[0;34m,\u001B[0m \u001B[0mdtype\u001B[0m\u001B[0;34m,\u001B[0m \u001B[0mcopy\u001B[0m\u001B[0;34m=\u001B[0m\u001B[0;32mFalse\u001B[0m\u001B[0;34m,\u001B[0m \u001B[0morder\u001B[0m\u001B[0;34m=\u001B[0m\u001B[0morder\u001B[0m\u001B[0;34m)\u001B[0m\u001B[0;34m\u001B[0m\u001B[0;34m\u001B[0m\u001B[0m\n\u001B[0m\u001B[1;32m     84\u001B[0m \u001B[0;34m\u001B[0m\u001B[0m\n\u001B[1;32m     85\u001B[0m \u001B[0;34m\u001B[0m\u001B[0m\n",
      "\u001B[0;31mKeyboardInterrupt\u001B[0m: "
     ]
    }
   ],
   "source": [
    "neighs = calc_neighbors(X, threshold=0.15)\n",
    "o = open(f\"{fasta_file}_pairwise_distances.txt\", \"w+\")\n",
    "o.write(neighs)\n",
    "o.close()"
   ],
   "metadata": {
    "collapsed": false,
    "pycharm": {
     "name": "#%%\n"
    }
   }
  },
  {
   "cell_type": "markdown",
   "source": [],
   "metadata": {
    "collapsed": false,
    "pycharm": {
     "name": "#%% md\n"
    }
   }
  },
  {
   "cell_type": "code",
   "execution_count": 2,
   "outputs": [],
   "source": [
    "sys.path.append(\"../\")\n",
    "import rbm_torch.global_info as gi"
   ],
   "metadata": {
    "collapsed": false,
    "pycharm": {
     "name": "#%%\n"
    }
   }
  },
  {
   "cell_type": "code",
   "execution_count": 12,
   "outputs": [
    {
     "data": {
      "text/plain": "'/home/jonah/PycharmProjects/phage_display_ML/datasets'"
     },
     "execution_count": 12,
     "metadata": {},
     "output_type": "execute_result"
    }
   ],
   "source": [
    "os.getcwd()"
   ],
   "metadata": {
    "collapsed": false,
    "pycharm": {
     "name": "#%%\n"
    }
   }
  },
  {
   "cell_type": "code",
   "execution_count": 4,
   "outputs": [],
   "source": [
    "gi.generate_dataset_file([f\"r{i}.fasta\" for i in range(1, 13)], gi.supported_datatypes[\"cov\"], destination=\"./dataset_files/\")"
   ],
   "metadata": {
    "collapsed": false,
    "pycharm": {
     "name": "#%%\n"
    }
   }
  },
  {
   "cell_type": "code",
   "execution_count": 1,
   "outputs": [
    {
     "name": "stdout",
     "output_type": "stream",
     "text": [
      "{\"data_files\": {\"1\": [\"r1.fasta\", \"r2.fasta\", \"r3.fasta\", \"r4.fasta\", \"r5.fasta\", \"r6.fasta\", \"r7.fasta\", \"r8.fasta\", \"r9.fasta\", \"r10.fasta\", \"r11.fasta\", \"r12.fasta\"]}, \"rounds\": {\"1\": [\"r1\", \"r2\", \"r3\", \"r4\", \"r5\", \"r6\", \"r7\", \"r8\", \"r9\", \"r10\", \"r11\", \"r12\"]}, \"model_names\": {\"1\": [\"r1\", \"r2\", \"r3\", \"r4\", \"r5\", \"r6\", \"r7\", \"r8\", \"r9\", \"r10\", \"r11\", \"r12\"]}, \"local_model_dir\": {\"rbm\": \"/mnt/D1/globus/cov_trained_rbms/\", \"crbm\": \"/mnt/D1/globus/cov_trained_crbms/\"}, \"data_dir\": \"../../datasets/cov/\", \"server_model_dir\": {\"rbm\": \"datasets/cov/trained_rbms/\", \"crbm\": \"datasets/cov/trained_crbms/\"}, \"molecule\": \"dna\", \"configkey\": {\"1\": \"cov\"}, \"clusters\": 1}"
     ]
    }
   ],
   "source": [
    "!cat \"./dataset_files/cov.json\""
   ],
   "metadata": {
    "collapsed": false,
    "pycharm": {
     "name": "#%%\n"
    }
   }
  },
  {
   "cell_type": "code",
   "execution_count": null,
   "outputs": [],
   "source": [
    "# We're all set to run our models now, except for creating default configs for each dataset\n",
    "# Here is an example one for crbm. It should be appended to crbm_configs.py and added to all_configs dictionary also in crbm_configs.py\n",
    "\n",
    "thc_default_config = {\"fasta_file\": \"\",\n",
    "          \"v_num\": 43,\n",
    "          \"q\": 5,\n",
    "          \"molecule\": \"rna\",\n",
    "          \"epochs\": 100, # get's overwritten by training script anyway\n",
    "          \"seed\": seed, # this is defined in the config file\n",
    "          \"batch_size\": 10000, # can be raised or lowered depending on memory usage\n",
    "          \"mc_moves\": 4,\n",
    "          \"lr\": 0.006,\n",
    "          \"lr_final\": None, # automatically set as lr * 1e-2\n",
    "          \"decay_after\": 0.75,\n",
    "          \"loss_type\": \"free_energy\",\n",
    "          \"sample_type\": \"gibbs\",\n",
    "          \"sequence_weights\": None,\n",
    "          \"optimizer\": \"AdamW\",\n",
    "          \"weight_decay\": 0.001,  # l2 norm on all parameters\n",
    "          \"l1_2\": 25.0,\n",
    "          \"lf\": 5.0,\n",
    "          \"ld\": 10.0,\n",
    "          \"data_worker_num\": 4\n",
    "          }\n"
   ],
   "metadata": {
    "collapsed": false,
    "pycharm": {
     "name": "#%%\n"
    }
   }
  },
  {
   "cell_type": "code",
   "execution_count": 1,
   "outputs": [
    {
     "name": "stdout",
     "output_type": "stream",
     "text": [
      "Finding Whole Convolutions for Input with 43 inputs:\n",
      "Whole Convolution Found: Kernel: 1, Stride: 1, Dilation: 1, Padding: 0\n",
      "Whole Convolution Found: Kernel: 1, Stride: 2, Dilation: 1, Padding: 0\n",
      "Whole Convolution Found: Kernel: 1, Stride: 1, Dilation: 1, Padding: 1\n",
      "Whole Convolution Found: Kernel: 1, Stride: 2, Dilation: 1, Padding: 1\n",
      "Whole Convolution Found: Kernel: 1, Stride: 1, Dilation: 1, Padding: 2\n",
      "Whole Convolution Found: Kernel: 1, Stride: 2, Dilation: 1, Padding: 2\n",
      "Whole Convolution Found: Kernel: 2, Stride: 1, Dilation: 1, Padding: 0\n",
      "Whole Convolution Found: Kernel: 2, Stride: 1, Dilation: 1, Padding: 1\n",
      "Whole Convolution Found: Kernel: 2, Stride: 1, Dilation: 1, Padding: 2\n",
      "Whole Convolution Found: Kernel: 3, Stride: 1, Dilation: 1, Padding: 0\n",
      "Whole Convolution Found: Kernel: 3, Stride: 2, Dilation: 1, Padding: 0\n",
      "Whole Convolution Found: Kernel: 3, Stride: 1, Dilation: 1, Padding: 1\n",
      "Whole Convolution Found: Kernel: 3, Stride: 2, Dilation: 1, Padding: 1\n",
      "Whole Convolution Found: Kernel: 3, Stride: 1, Dilation: 1, Padding: 2\n",
      "Whole Convolution Found: Kernel: 3, Stride: 2, Dilation: 1, Padding: 2\n",
      "Whole Convolution Found: Kernel: 4, Stride: 1, Dilation: 1, Padding: 0\n",
      "Whole Convolution Found: Kernel: 4, Stride: 1, Dilation: 1, Padding: 1\n",
      "Whole Convolution Found: Kernel: 4, Stride: 1, Dilation: 1, Padding: 2\n",
      "Whole Convolution Found: Kernel: 5, Stride: 1, Dilation: 1, Padding: 0\n",
      "Whole Convolution Found: Kernel: 5, Stride: 2, Dilation: 1, Padding: 0\n",
      "Whole Convolution Found: Kernel: 5, Stride: 1, Dilation: 1, Padding: 1\n",
      "Whole Convolution Found: Kernel: 5, Stride: 2, Dilation: 1, Padding: 1\n",
      "Whole Convolution Found: Kernel: 5, Stride: 1, Dilation: 1, Padding: 2\n",
      "Whole Convolution Found: Kernel: 5, Stride: 2, Dilation: 1, Padding: 2\n",
      "Whole Convolution Found: Kernel: 6, Stride: 1, Dilation: 1, Padding: 0\n",
      "Whole Convolution Found: Kernel: 6, Stride: 1, Dilation: 1, Padding: 1\n",
      "Whole Convolution Found: Kernel: 6, Stride: 1, Dilation: 1, Padding: 2\n",
      "Whole Convolution Found: Kernel: 7, Stride: 1, Dilation: 1, Padding: 0\n",
      "Whole Convolution Found: Kernel: 7, Stride: 2, Dilation: 1, Padding: 0\n",
      "Whole Convolution Found: Kernel: 7, Stride: 1, Dilation: 1, Padding: 1\n",
      "Whole Convolution Found: Kernel: 7, Stride: 2, Dilation: 1, Padding: 1\n",
      "Whole Convolution Found: Kernel: 7, Stride: 1, Dilation: 1, Padding: 2\n",
      "Whole Convolution Found: Kernel: 7, Stride: 2, Dilation: 1, Padding: 2\n",
      "Whole Convolution Found: Kernel: 8, Stride: 1, Dilation: 1, Padding: 0\n",
      "Whole Convolution Found: Kernel: 8, Stride: 1, Dilation: 1, Padding: 1\n",
      "Whole Convolution Found: Kernel: 8, Stride: 1, Dilation: 1, Padding: 2\n",
      "Whole Convolution Found: Kernel: 9, Stride: 1, Dilation: 1, Padding: 0\n",
      "Whole Convolution Found: Kernel: 9, Stride: 2, Dilation: 1, Padding: 0\n",
      "Whole Convolution Found: Kernel: 9, Stride: 1, Dilation: 1, Padding: 1\n",
      "Whole Convolution Found: Kernel: 9, Stride: 2, Dilation: 1, Padding: 1\n",
      "Whole Convolution Found: Kernel: 9, Stride: 1, Dilation: 1, Padding: 2\n",
      "Whole Convolution Found: Kernel: 9, Stride: 2, Dilation: 1, Padding: 2\n",
      "Whole Convolution Found: Kernel: 10, Stride: 1, Dilation: 1, Padding: 0\n",
      "Whole Convolution Found: Kernel: 10, Stride: 1, Dilation: 1, Padding: 1\n",
      "Whole Convolution Found: Kernel: 10, Stride: 1, Dilation: 1, Padding: 2\n",
      "Whole Convolution Found: Kernel: 11, Stride: 1, Dilation: 1, Padding: 0\n",
      "Whole Convolution Found: Kernel: 11, Stride: 2, Dilation: 1, Padding: 0\n",
      "Whole Convolution Found: Kernel: 11, Stride: 1, Dilation: 1, Padding: 1\n",
      "Whole Convolution Found: Kernel: 11, Stride: 2, Dilation: 1, Padding: 1\n",
      "Whole Convolution Found: Kernel: 11, Stride: 1, Dilation: 1, Padding: 2\n",
      "Whole Convolution Found: Kernel: 11, Stride: 2, Dilation: 1, Padding: 2\n",
      "Whole Convolution Found: Kernel: 12, Stride: 1, Dilation: 1, Padding: 0\n",
      "Whole Convolution Found: Kernel: 12, Stride: 1, Dilation: 1, Padding: 1\n",
      "Whole Convolution Found: Kernel: 12, Stride: 1, Dilation: 1, Padding: 2\n",
      "Whole Convolution Found: Kernel: 13, Stride: 1, Dilation: 1, Padding: 0\n",
      "Whole Convolution Found: Kernel: 13, Stride: 2, Dilation: 1, Padding: 0\n",
      "Whole Convolution Found: Kernel: 13, Stride: 1, Dilation: 1, Padding: 1\n",
      "Whole Convolution Found: Kernel: 13, Stride: 2, Dilation: 1, Padding: 1\n",
      "Whole Convolution Found: Kernel: 13, Stride: 1, Dilation: 1, Padding: 2\n",
      "Whole Convolution Found: Kernel: 13, Stride: 2, Dilation: 1, Padding: 2\n",
      "Whole Convolution Found: Kernel: 14, Stride: 1, Dilation: 1, Padding: 0\n",
      "Whole Convolution Found: Kernel: 14, Stride: 1, Dilation: 1, Padding: 1\n",
      "Whole Convolution Found: Kernel: 14, Stride: 1, Dilation: 1, Padding: 2\n",
      "Whole Convolution Found: Kernel: 15, Stride: 1, Dilation: 1, Padding: 0\n",
      "Whole Convolution Found: Kernel: 15, Stride: 2, Dilation: 1, Padding: 0\n",
      "Whole Convolution Found: Kernel: 15, Stride: 1, Dilation: 1, Padding: 1\n",
      "Whole Convolution Found: Kernel: 15, Stride: 2, Dilation: 1, Padding: 1\n",
      "Whole Convolution Found: Kernel: 15, Stride: 1, Dilation: 1, Padding: 2\n",
      "Whole Convolution Found: Kernel: 15, Stride: 2, Dilation: 1, Padding: 2\n",
      "Whole Convolution Found: Kernel: 16, Stride: 1, Dilation: 1, Padding: 0\n",
      "Whole Convolution Found: Kernel: 16, Stride: 1, Dilation: 1, Padding: 1\n",
      "Whole Convolution Found: Kernel: 16, Stride: 1, Dilation: 1, Padding: 2\n",
      "Whole Convolution Found: Kernel: 17, Stride: 1, Dilation: 1, Padding: 0\n",
      "Whole Convolution Found: Kernel: 17, Stride: 2, Dilation: 1, Padding: 0\n",
      "Whole Convolution Found: Kernel: 17, Stride: 1, Dilation: 1, Padding: 1\n",
      "Whole Convolution Found: Kernel: 17, Stride: 2, Dilation: 1, Padding: 1\n",
      "Whole Convolution Found: Kernel: 17, Stride: 1, Dilation: 1, Padding: 2\n",
      "Whole Convolution Found: Kernel: 17, Stride: 2, Dilation: 1, Padding: 2\n",
      "Whole Convolution Found: Kernel: 18, Stride: 1, Dilation: 1, Padding: 0\n",
      "Whole Convolution Found: Kernel: 18, Stride: 1, Dilation: 1, Padding: 1\n",
      "Whole Convolution Found: Kernel: 18, Stride: 1, Dilation: 1, Padding: 2\n",
      "Whole Convolution Found: Kernel: 19, Stride: 1, Dilation: 1, Padding: 0\n",
      "Whole Convolution Found: Kernel: 19, Stride: 2, Dilation: 1, Padding: 0\n",
      "Whole Convolution Found: Kernel: 19, Stride: 1, Dilation: 1, Padding: 1\n",
      "Whole Convolution Found: Kernel: 19, Stride: 2, Dilation: 1, Padding: 1\n",
      "Whole Convolution Found: Kernel: 19, Stride: 1, Dilation: 1, Padding: 2\n",
      "Whole Convolution Found: Kernel: 19, Stride: 2, Dilation: 1, Padding: 2\n",
      "Whole Convolution Found: Kernel: 20, Stride: 1, Dilation: 1, Padding: 0\n",
      "Whole Convolution Found: Kernel: 20, Stride: 1, Dilation: 1, Padding: 1\n",
      "Whole Convolution Found: Kernel: 20, Stride: 1, Dilation: 1, Padding: 2\n",
      "Whole Convolution Found: Kernel: 21, Stride: 1, Dilation: 1, Padding: 0\n",
      "Whole Convolution Found: Kernel: 21, Stride: 2, Dilation: 1, Padding: 0\n",
      "Whole Convolution Found: Kernel: 21, Stride: 1, Dilation: 1, Padding: 1\n",
      "Whole Convolution Found: Kernel: 21, Stride: 2, Dilation: 1, Padding: 1\n",
      "Whole Convolution Found: Kernel: 21, Stride: 1, Dilation: 1, Padding: 2\n",
      "Whole Convolution Found: Kernel: 21, Stride: 2, Dilation: 1, Padding: 2\n",
      "Whole Convolution Found: Kernel: 22, Stride: 1, Dilation: 1, Padding: 0\n",
      "Whole Convolution Found: Kernel: 22, Stride: 1, Dilation: 1, Padding: 1\n",
      "Whole Convolution Found: Kernel: 22, Stride: 1, Dilation: 1, Padding: 2\n",
      "Whole Convolution Found: Kernel: 23, Stride: 1, Dilation: 1, Padding: 0\n",
      "Whole Convolution Found: Kernel: 23, Stride: 2, Dilation: 1, Padding: 0\n",
      "Whole Convolution Found: Kernel: 23, Stride: 1, Dilation: 1, Padding: 1\n",
      "Whole Convolution Found: Kernel: 23, Stride: 2, Dilation: 1, Padding: 1\n",
      "Whole Convolution Found: Kernel: 23, Stride: 1, Dilation: 1, Padding: 2\n",
      "Whole Convolution Found: Kernel: 23, Stride: 2, Dilation: 1, Padding: 2\n",
      "Whole Convolution Found: Kernel: 24, Stride: 1, Dilation: 1, Padding: 0\n",
      "Whole Convolution Found: Kernel: 24, Stride: 1, Dilation: 1, Padding: 1\n",
      "Whole Convolution Found: Kernel: 24, Stride: 1, Dilation: 1, Padding: 2\n",
      "Whole Convolution Found: Kernel: 25, Stride: 1, Dilation: 1, Padding: 0\n",
      "Whole Convolution Found: Kernel: 25, Stride: 2, Dilation: 1, Padding: 0\n",
      "Whole Convolution Found: Kernel: 25, Stride: 1, Dilation: 1, Padding: 1\n",
      "Whole Convolution Found: Kernel: 25, Stride: 2, Dilation: 1, Padding: 1\n",
      "Whole Convolution Found: Kernel: 25, Stride: 1, Dilation: 1, Padding: 2\n",
      "Whole Convolution Found: Kernel: 25, Stride: 2, Dilation: 1, Padding: 2\n",
      "Whole Convolution Found: Kernel: 26, Stride: 1, Dilation: 1, Padding: 0\n",
      "Whole Convolution Found: Kernel: 26, Stride: 1, Dilation: 1, Padding: 1\n",
      "Whole Convolution Found: Kernel: 26, Stride: 1, Dilation: 1, Padding: 2\n",
      "Whole Convolution Found: Kernel: 27, Stride: 1, Dilation: 1, Padding: 0\n",
      "Whole Convolution Found: Kernel: 27, Stride: 2, Dilation: 1, Padding: 0\n",
      "Whole Convolution Found: Kernel: 27, Stride: 1, Dilation: 1, Padding: 1\n",
      "Whole Convolution Found: Kernel: 27, Stride: 2, Dilation: 1, Padding: 1\n",
      "Whole Convolution Found: Kernel: 27, Stride: 1, Dilation: 1, Padding: 2\n",
      "Whole Convolution Found: Kernel: 27, Stride: 2, Dilation: 1, Padding: 2\n",
      "Whole Convolution Found: Kernel: 28, Stride: 1, Dilation: 1, Padding: 0\n",
      "Whole Convolution Found: Kernel: 28, Stride: 1, Dilation: 1, Padding: 1\n",
      "Whole Convolution Found: Kernel: 28, Stride: 1, Dilation: 1, Padding: 2\n",
      "Whole Convolution Found: Kernel: 29, Stride: 1, Dilation: 1, Padding: 0\n",
      "Whole Convolution Found: Kernel: 29, Stride: 2, Dilation: 1, Padding: 0\n",
      "Whole Convolution Found: Kernel: 29, Stride: 1, Dilation: 1, Padding: 1\n",
      "Whole Convolution Found: Kernel: 29, Stride: 2, Dilation: 1, Padding: 1\n",
      "Whole Convolution Found: Kernel: 29, Stride: 1, Dilation: 1, Padding: 2\n",
      "Whole Convolution Found: Kernel: 29, Stride: 2, Dilation: 1, Padding: 2\n",
      "Whole Convolution Found: Kernel: 30, Stride: 1, Dilation: 1, Padding: 0\n",
      "Whole Convolution Found: Kernel: 30, Stride: 1, Dilation: 1, Padding: 1\n",
      "Whole Convolution Found: Kernel: 30, Stride: 1, Dilation: 1, Padding: 2\n",
      "Whole Convolution Found: Kernel: 31, Stride: 1, Dilation: 1, Padding: 0\n",
      "Whole Convolution Found: Kernel: 31, Stride: 2, Dilation: 1, Padding: 0\n",
      "Whole Convolution Found: Kernel: 31, Stride: 1, Dilation: 1, Padding: 1\n",
      "Whole Convolution Found: Kernel: 31, Stride: 2, Dilation: 1, Padding: 1\n",
      "Whole Convolution Found: Kernel: 31, Stride: 1, Dilation: 1, Padding: 2\n",
      "Whole Convolution Found: Kernel: 31, Stride: 2, Dilation: 1, Padding: 2\n",
      "Whole Convolution Found: Kernel: 32, Stride: 1, Dilation: 1, Padding: 0\n",
      "Whole Convolution Found: Kernel: 32, Stride: 1, Dilation: 1, Padding: 1\n",
      "Whole Convolution Found: Kernel: 32, Stride: 1, Dilation: 1, Padding: 2\n",
      "Whole Convolution Found: Kernel: 33, Stride: 1, Dilation: 1, Padding: 0\n",
      "Whole Convolution Found: Kernel: 33, Stride: 2, Dilation: 1, Padding: 0\n",
      "Whole Convolution Found: Kernel: 33, Stride: 1, Dilation: 1, Padding: 1\n",
      "Whole Convolution Found: Kernel: 33, Stride: 2, Dilation: 1, Padding: 1\n",
      "Whole Convolution Found: Kernel: 33, Stride: 1, Dilation: 1, Padding: 2\n",
      "Whole Convolution Found: Kernel: 33, Stride: 2, Dilation: 1, Padding: 2\n",
      "Whole Convolution Found: Kernel: 34, Stride: 1, Dilation: 1, Padding: 0\n",
      "Whole Convolution Found: Kernel: 34, Stride: 1, Dilation: 1, Padding: 1\n",
      "Whole Convolution Found: Kernel: 34, Stride: 1, Dilation: 1, Padding: 2\n",
      "Whole Convolution Found: Kernel: 35, Stride: 1, Dilation: 1, Padding: 0\n",
      "Whole Convolution Found: Kernel: 35, Stride: 2, Dilation: 1, Padding: 0\n",
      "Whole Convolution Found: Kernel: 35, Stride: 1, Dilation: 1, Padding: 1\n",
      "Whole Convolution Found: Kernel: 35, Stride: 2, Dilation: 1, Padding: 1\n",
      "Whole Convolution Found: Kernel: 35, Stride: 1, Dilation: 1, Padding: 2\n",
      "Whole Convolution Found: Kernel: 35, Stride: 2, Dilation: 1, Padding: 2\n",
      "Whole Convolution Found: Kernel: 36, Stride: 1, Dilation: 1, Padding: 0\n",
      "Whole Convolution Found: Kernel: 36, Stride: 1, Dilation: 1, Padding: 1\n",
      "Whole Convolution Found: Kernel: 36, Stride: 1, Dilation: 1, Padding: 2\n",
      "Whole Convolution Found: Kernel: 37, Stride: 1, Dilation: 1, Padding: 0\n",
      "Whole Convolution Found: Kernel: 37, Stride: 2, Dilation: 1, Padding: 0\n",
      "Whole Convolution Found: Kernel: 37, Stride: 1, Dilation: 1, Padding: 1\n",
      "Whole Convolution Found: Kernel: 37, Stride: 2, Dilation: 1, Padding: 1\n",
      "Whole Convolution Found: Kernel: 37, Stride: 1, Dilation: 1, Padding: 2\n",
      "Whole Convolution Found: Kernel: 37, Stride: 2, Dilation: 1, Padding: 2\n",
      "Whole Convolution Found: Kernel: 38, Stride: 1, Dilation: 1, Padding: 0\n",
      "Whole Convolution Found: Kernel: 38, Stride: 1, Dilation: 1, Padding: 1\n",
      "Whole Convolution Found: Kernel: 38, Stride: 1, Dilation: 1, Padding: 2\n",
      "Whole Convolution Found: Kernel: 39, Stride: 1, Dilation: 1, Padding: 0\n",
      "Whole Convolution Found: Kernel: 39, Stride: 2, Dilation: 1, Padding: 0\n",
      "Whole Convolution Found: Kernel: 39, Stride: 1, Dilation: 1, Padding: 1\n",
      "Whole Convolution Found: Kernel: 39, Stride: 2, Dilation: 1, Padding: 1\n",
      "Whole Convolution Found: Kernel: 39, Stride: 1, Dilation: 1, Padding: 2\n",
      "Whole Convolution Found: Kernel: 39, Stride: 2, Dilation: 1, Padding: 2\n",
      "Whole Convolution Found: Kernel: 40, Stride: 1, Dilation: 1, Padding: 0\n",
      "Whole Convolution Found: Kernel: 40, Stride: 1, Dilation: 1, Padding: 1\n",
      "Whole Convolution Found: Kernel: 40, Stride: 1, Dilation: 1, Padding: 2\n",
      "Whole Convolution Found: Kernel: 41, Stride: 1, Dilation: 1, Padding: 0\n",
      "Whole Convolution Found: Kernel: 41, Stride: 2, Dilation: 1, Padding: 0\n",
      "Whole Convolution Found: Kernel: 41, Stride: 1, Dilation: 1, Padding: 1\n",
      "Whole Convolution Found: Kernel: 41, Stride: 2, Dilation: 1, Padding: 1\n",
      "Whole Convolution Found: Kernel: 41, Stride: 1, Dilation: 1, Padding: 2\n",
      "Whole Convolution Found: Kernel: 41, Stride: 2, Dilation: 1, Padding: 2\n",
      "Whole Convolution Found: Kernel: 42, Stride: 1, Dilation: 1, Padding: 0\n",
      "Whole Convolution Found: Kernel: 42, Stride: 1, Dilation: 1, Padding: 1\n",
      "Whole Convolution Found: Kernel: 42, Stride: 1, Dilation: 1, Padding: 2\n",
      "Whole Convolution Found: Kernel: 43, Stride: 1, Dilation: 1, Padding: 0\n",
      "Whole Convolution Found: Kernel: 43, Stride: 2, Dilation: 1, Padding: 0\n",
      "Whole Convolution Found: Kernel: 43, Stride: 1, Dilation: 1, Padding: 1\n",
      "Whole Convolution Found: Kernel: 43, Stride: 2, Dilation: 1, Padding: 1\n",
      "Whole Convolution Found: Kernel: 43, Stride: 1, Dilation: 1, Padding: 2\n",
      "Whole Convolution Found: Kernel: 43, Stride: 2, Dilation: 1, Padding: 2\n"
     ]
    }
   ],
   "source": [
    "# TO figure out the convolution topology we use some helper functions in crbm.py\n",
    "\n",
    "# This function gives all convolutions that fully sample all visible units on the conv transpose for a given data size\n",
    "from rbm_torch.utils import suggest_conv_size\n",
    "\n",
    "# one hot encoded vector of input size (B x V X Q) is the input the CRBM uses\n",
    "visible_num = 43 # V\n",
    "q_states = 5 #Q\n",
    "input_shape = (visible_num, q_states)\n",
    "suggest_conv_size(input_shape, padding_max=2, dilation_max=1, stride_max=2)"
   ],
   "metadata": {
    "collapsed": false,
    "pycharm": {
     "name": "#%%\n"
    }
   }
  },
  {
   "cell_type": "markdown",
   "source": [
    "## My current line of thinking is that having a dilation > 1 or a stride > 1 will introduce some position specific effects."
   ],
   "metadata": {
    "collapsed": false,
    "pycharm": {
     "name": "#%% md\n"
    }
   }
  },
  {
   "cell_type": "code",
   "execution_count": null,
   "outputs": [],
   "source": [
    "## Idea: The size of the kernel controls defines the size of the motif/pattern of the convolutional filter. So for this dataset I expect long filters to capture the secondary structure of this rfam family\n",
    "\n",
    "# It is possible to use different strides and dilations, but I think they only take away from the interpretability of the convolutional filters. Also, they can lead to unsampled visible units on the convolution transpose. Likewise using a hidden layer with the kernel size the same as the number of visible units is somewhat equivalent to an RBM if not exactly (I haven't verified). This introduces a positional dependence into the corresponding hidden layer of the model.\n",
    "\n",
    "# So I will use sizes:  11, 25, 46, 86, 100, 112\n",
    "# Motif Finding:  Local Features-------Global Features\n",
    "# Names/Keys for hidden layers in the convolutional topology can be named anything you can use as key in a dictionary\n",
    "# Model outputs are the average of each hidden layer with a set weight\n",
    "thc_default_config[\"convolution_topology\"] = {\"hidden10\": {\"number\": 15, \"kernel\": (9, thc_default_config[\"q\"]), \"stride\": (1, 1), \"padding\": (0, 0), \"dilation\": (1, 1), \"output_padding\": (0, 0), \"weight\": 1.0},\n",
    "                                            \"hidden25\": {\"number\": 15, \"kernel\": (17, thc_default_config[\"q\"]), \"stride\": (1, 1), \"padding\": (0, 0), \"dilation\": (1, 1), \"output_padding\": (0, 0), \"weight\": 1.0},\n",
    "                                            \"hidden46\": {\"number\": 15, \"kernel\": (25, thc_default_config[\"q\"]), \"stride\": (1, 1), \"padding\": (0, 0), \"dilation\": (1, 1), \"output_padding\": (0, 0), \"weight\": 1.0},\n",
    "                                            \"hidden86\": {\"number\": 15, \"kernel\": (33, thc_default_config[\"q\"]), \"stride\": (1, 1), \"padding\": (0, 0), \"dilation\": (1, 1), \"output_padding\": (0, 0), \"weight\": 1.0},\n",
    "                                             }"
   ],
   "metadata": {
    "collapsed": false,
    "pycharm": {
     "name": "#%%\n"
    }
   }
  },
  {
   "cell_type": "code",
   "execution_count": null,
   "outputs": [],
   "source": [
    "### COPY THE ABOVE CELL TO CRBM CONFIGS AS WELL"
   ],
   "metadata": {
    "collapsed": false,
    "pycharm": {
     "name": "#%%\n"
    }
   }
  },
  {
   "cell_type": "code",
   "execution_count": null,
   "outputs": [],
   "source": [
    "# Lets create a submission script for a slurm system to run by using the script submit.py\n",
    "\n",
    "# Submission files are stored in rbm_torch/submission/\n",
    "\n",
    "# From Directory rbm_torch I ran\n",
    "\"python submit.py -d cov -r all -p wzhengpu1 -q wildfire -m crbm -e 200 -g 2 --precision double\"\n",
    "\n",
    "# Use python submit.py -h for help!"
   ],
   "metadata": {
    "collapsed": false,
    "pycharm": {
     "name": "#%%\n"
    }
   }
  },
  {
   "cell_type": "code",
   "execution_count": 2,
   "outputs": [
    {
     "name": "stdout",
     "output_type": "stream",
     "text": [
      "Process Time 0.549140214920044\n",
      "Process Time 0.2518928050994873\n",
      "Process Time 0.5835025310516357\n"
     ]
    },
    {
     "ename": "KeyboardInterrupt",
     "evalue": "",
     "output_type": "error",
     "traceback": [
      "\u001B[0;31m---------------------------------------------------------------------------\u001B[0m",
      "\u001B[0;31mKeyboardInterrupt\u001B[0m                         Traceback (most recent call last)",
      "\u001B[0;32m<ipython-input-2-0bd950803731>\u001B[0m in \u001B[0;36m<module>\u001B[0;34m\u001B[0m\n\u001B[1;32m      4\u001B[0m \u001B[0;32mimport\u001B[0m \u001B[0mrbm_torch\u001B[0m\u001B[0;34m.\u001B[0m\u001B[0manalysis\u001B[0m\u001B[0;34m.\u001B[0m\u001B[0manalysis_methods\u001B[0m \u001B[0;32mas\u001B[0m \u001B[0mam\u001B[0m\u001B[0;34m\u001B[0m\u001B[0;34m\u001B[0m\u001B[0m\n\u001B[1;32m      5\u001B[0m \u001B[0;34m\u001B[0m\u001B[0m\n\u001B[0;32m----> 6\u001B[0;31m \u001B[0mcov_df\u001B[0m \u001B[0;34m=\u001B[0m \u001B[0mam\u001B[0m\u001B[0;34m.\u001B[0m\u001B[0mfetch_data\u001B[0m\u001B[0;34m(\u001B[0m\u001B[0;34m[\u001B[0m\u001B[0;34m\"r10\"\u001B[0m\u001B[0;34m,\u001B[0m \u001B[0;34m\"r11\"\u001B[0m\u001B[0;34m,\u001B[0m \u001B[0;34m\"r12\"\u001B[0m\u001B[0;34m]\u001B[0m\u001B[0;34m,\u001B[0m \u001B[0mdir\u001B[0m\u001B[0;34m=\u001B[0m\u001B[0;34m\"./cov/\"\u001B[0m\u001B[0;34m,\u001B[0m \u001B[0mthreads\u001B[0m\u001B[0;34m=\u001B[0m\u001B[0;36m6\u001B[0m\u001B[0;34m,\u001B[0m \u001B[0mmolecule\u001B[0m\u001B[0;34m=\u001B[0m\u001B[0;34m\"dna\"\u001B[0m\u001B[0;34m)\u001B[0m\u001B[0;34m\u001B[0m\u001B[0;34m\u001B[0m\u001B[0m\n\u001B[0m\u001B[1;32m      7\u001B[0m \u001B[0;34m\u001B[0m\u001B[0m\n\u001B[1;32m      8\u001B[0m \u001B[0mcov_ct\u001B[0m \u001B[0;34m=\u001B[0m \u001B[0mdp\u001B[0m\u001B[0;34m.\u001B[0m\u001B[0mcopynum_topology_faster\u001B[0m\u001B[0;34m(\u001B[0m\u001B[0mcov_df\u001B[0m\u001B[0;34m,\u001B[0m \u001B[0;34m[\u001B[0m\u001B[0;34m\"r10\"\u001B[0m\u001B[0;34m,\u001B[0m \u001B[0;34m\"r11\"\u001B[0m\u001B[0;34m,\u001B[0m \u001B[0;34m\"r12\"\u001B[0m\u001B[0;34m]\u001B[0m\u001B[0;34m,\u001B[0m \u001B[0mthreads_per_task\u001B[0m\u001B[0;34m=\u001B[0m\u001B[0;36m3\u001B[0m\u001B[0;34m)\u001B[0m\u001B[0;34m\u001B[0m\u001B[0;34m\u001B[0m\u001B[0m\n",
      "\u001B[0;32m~/PycharmProjects/phage_display_ML/rbm_torch/analysis/analysis_methods.py\u001B[0m in \u001B[0;36mfetch_data\u001B[0;34m(fasta_names, dir, assignment_function, threads, molecule)\u001B[0m\n\u001B[1;32m     61\u001B[0m             \u001B[0mdata_df\u001B[0m \u001B[0;34m=\u001B[0m \u001B[0mpd\u001B[0m\u001B[0;34m.\u001B[0m\u001B[0mDataFrame\u001B[0m\u001B[0;34m(\u001B[0m\u001B[0;34m{\u001B[0m\u001B[0;34m\"sequence\"\u001B[0m\u001B[0;34m:\u001B[0m \u001B[0mseqs\u001B[0m\u001B[0;34m,\u001B[0m \u001B[0;34m\"copy_num\"\u001B[0m\u001B[0;34m:\u001B[0m \u001B[0mcounts\u001B[0m\u001B[0;34m,\u001B[0m \u001B[0;34m\"round\"\u001B[0m\u001B[0;34m:\u001B[0m \u001B[0mround_label\u001B[0m\u001B[0;34m,\u001B[0m \u001B[0;34m\"assignment\"\u001B[0m\u001B[0;34m:\u001B[0m \u001B[0massignment\u001B[0m\u001B[0;34m}\u001B[0m\u001B[0;34m)\u001B[0m\u001B[0;34m\u001B[0m\u001B[0;34m\u001B[0m\u001B[0m\n\u001B[1;32m     62\u001B[0m         \u001B[0;32melse\u001B[0m\u001B[0;34m:\u001B[0m\u001B[0;34m\u001B[0m\u001B[0;34m\u001B[0m\u001B[0m\n\u001B[0;32m---> 63\u001B[0;31m             \u001B[0mdata_df\u001B[0m \u001B[0;34m=\u001B[0m \u001B[0mpd\u001B[0m\u001B[0;34m.\u001B[0m\u001B[0mconcat\u001B[0m\u001B[0;34m(\u001B[0m\u001B[0;34m[\u001B[0m\u001B[0mdata_df\u001B[0m\u001B[0;34m,\u001B[0m \u001B[0mpd\u001B[0m\u001B[0;34m.\u001B[0m\u001B[0mDataFrame\u001B[0m\u001B[0;34m(\u001B[0m\u001B[0;34m{\u001B[0m\u001B[0;34m\"sequence\"\u001B[0m\u001B[0;34m:\u001B[0m \u001B[0mseqs\u001B[0m\u001B[0;34m,\u001B[0m \u001B[0;34m\"copy_num\"\u001B[0m\u001B[0;34m:\u001B[0m \u001B[0mcounts\u001B[0m\u001B[0;34m,\u001B[0m \u001B[0;34m\"round\"\u001B[0m\u001B[0;34m:\u001B[0m \u001B[0mround_label\u001B[0m\u001B[0;34m,\u001B[0m \u001B[0;34m\"assignment\"\u001B[0m\u001B[0;34m:\u001B[0m \u001B[0massignment\u001B[0m\u001B[0;34m}\u001B[0m\u001B[0;34m)\u001B[0m\u001B[0;34m]\u001B[0m\u001B[0;34m)\u001B[0m\u001B[0;34m\u001B[0m\u001B[0;34m\u001B[0m\u001B[0m\n\u001B[0m\u001B[1;32m     64\u001B[0m \u001B[0;34m\u001B[0m\u001B[0m\n\u001B[1;32m     65\u001B[0m     \u001B[0;32mreturn\u001B[0m \u001B[0mdata_df\u001B[0m\u001B[0;34m\u001B[0m\u001B[0;34m\u001B[0m\u001B[0m\n",
      "\u001B[0;32m~/anaconda3/envs/utils/lib/python3.8/site-packages/pandas/core/reshape/concat.py\u001B[0m in \u001B[0;36mconcat\u001B[0;34m(objs, axis, join, ignore_index, keys, levels, names, verify_integrity, sort, copy)\u001B[0m\n\u001B[1;32m    272\u001B[0m     \u001B[0mValueError\u001B[0m\u001B[0;34m:\u001B[0m \u001B[0mIndexes\u001B[0m \u001B[0mhave\u001B[0m \u001B[0moverlapping\u001B[0m \u001B[0mvalues\u001B[0m\u001B[0;34m:\u001B[0m \u001B[0;34m[\u001B[0m\u001B[0;34m'a'\u001B[0m\u001B[0;34m]\u001B[0m\u001B[0;34m\u001B[0m\u001B[0;34m\u001B[0m\u001B[0m\n\u001B[1;32m    273\u001B[0m     \"\"\"\n\u001B[0;32m--> 274\u001B[0;31m     op = _Concatenator(\n\u001B[0m\u001B[1;32m    275\u001B[0m         \u001B[0mobjs\u001B[0m\u001B[0;34m,\u001B[0m\u001B[0;34m\u001B[0m\u001B[0;34m\u001B[0m\u001B[0m\n\u001B[1;32m    276\u001B[0m         \u001B[0maxis\u001B[0m\u001B[0;34m=\u001B[0m\u001B[0maxis\u001B[0m\u001B[0;34m,\u001B[0m\u001B[0;34m\u001B[0m\u001B[0;34m\u001B[0m\u001B[0m\n",
      "\u001B[0;32m~/anaconda3/envs/utils/lib/python3.8/site-packages/pandas/core/reshape/concat.py\u001B[0m in \u001B[0;36m__init__\u001B[0;34m(self, objs, axis, join, keys, levels, names, ignore_index, verify_integrity, copy, sort)\u001B[0m\n\u001B[1;32m    452\u001B[0m         \u001B[0mself\u001B[0m\u001B[0;34m.\u001B[0m\u001B[0mcopy\u001B[0m \u001B[0;34m=\u001B[0m \u001B[0mcopy\u001B[0m\u001B[0;34m\u001B[0m\u001B[0;34m\u001B[0m\u001B[0m\n\u001B[1;32m    453\u001B[0m \u001B[0;34m\u001B[0m\u001B[0m\n\u001B[0;32m--> 454\u001B[0;31m         \u001B[0mself\u001B[0m\u001B[0;34m.\u001B[0m\u001B[0mnew_axes\u001B[0m \u001B[0;34m=\u001B[0m \u001B[0mself\u001B[0m\u001B[0;34m.\u001B[0m\u001B[0m_get_new_axes\u001B[0m\u001B[0;34m(\u001B[0m\u001B[0;34m)\u001B[0m\u001B[0;34m\u001B[0m\u001B[0;34m\u001B[0m\u001B[0m\n\u001B[0m\u001B[1;32m    455\u001B[0m \u001B[0;34m\u001B[0m\u001B[0m\n\u001B[1;32m    456\u001B[0m     \u001B[0;32mdef\u001B[0m \u001B[0mget_result\u001B[0m\u001B[0;34m(\u001B[0m\u001B[0mself\u001B[0m\u001B[0;34m)\u001B[0m\u001B[0;34m:\u001B[0m\u001B[0;34m\u001B[0m\u001B[0;34m\u001B[0m\u001B[0m\n",
      "\u001B[0;32m~/anaconda3/envs/utils/lib/python3.8/site-packages/pandas/core/reshape/concat.py\u001B[0m in \u001B[0;36m_get_new_axes\u001B[0;34m(self)\u001B[0m\n\u001B[1;32m    517\u001B[0m     \u001B[0;32mdef\u001B[0m \u001B[0m_get_new_axes\u001B[0m\u001B[0;34m(\u001B[0m\u001B[0mself\u001B[0m\u001B[0;34m)\u001B[0m \u001B[0;34m->\u001B[0m \u001B[0mList\u001B[0m\u001B[0;34m[\u001B[0m\u001B[0mIndex\u001B[0m\u001B[0;34m]\u001B[0m\u001B[0;34m:\u001B[0m\u001B[0;34m\u001B[0m\u001B[0;34m\u001B[0m\u001B[0m\n\u001B[1;32m    518\u001B[0m         \u001B[0mndim\u001B[0m \u001B[0;34m=\u001B[0m \u001B[0mself\u001B[0m\u001B[0;34m.\u001B[0m\u001B[0m_get_result_dim\u001B[0m\u001B[0;34m(\u001B[0m\u001B[0;34m)\u001B[0m\u001B[0;34m\u001B[0m\u001B[0;34m\u001B[0m\u001B[0m\n\u001B[0;32m--> 519\u001B[0;31m         return [\n\u001B[0m\u001B[1;32m    520\u001B[0m             \u001B[0mself\u001B[0m\u001B[0;34m.\u001B[0m\u001B[0m_get_concat_axis\u001B[0m\u001B[0;34m(\u001B[0m\u001B[0;34m)\u001B[0m \u001B[0;32mif\u001B[0m \u001B[0mi\u001B[0m \u001B[0;34m==\u001B[0m \u001B[0mself\u001B[0m\u001B[0;34m.\u001B[0m\u001B[0mbm_axis\u001B[0m \u001B[0;32melse\u001B[0m \u001B[0mself\u001B[0m\u001B[0;34m.\u001B[0m\u001B[0m_get_comb_axis\u001B[0m\u001B[0;34m(\u001B[0m\u001B[0mi\u001B[0m\u001B[0;34m)\u001B[0m\u001B[0;34m\u001B[0m\u001B[0;34m\u001B[0m\u001B[0m\n\u001B[1;32m    521\u001B[0m             \u001B[0;32mfor\u001B[0m \u001B[0mi\u001B[0m \u001B[0;32min\u001B[0m \u001B[0mrange\u001B[0m\u001B[0;34m(\u001B[0m\u001B[0mndim\u001B[0m\u001B[0;34m)\u001B[0m\u001B[0;34m\u001B[0m\u001B[0;34m\u001B[0m\u001B[0m\n",
      "\u001B[0;32m~/anaconda3/envs/utils/lib/python3.8/site-packages/pandas/core/reshape/concat.py\u001B[0m in \u001B[0;36m<listcomp>\u001B[0;34m(.0)\u001B[0m\n\u001B[1;32m    518\u001B[0m         \u001B[0mndim\u001B[0m \u001B[0;34m=\u001B[0m \u001B[0mself\u001B[0m\u001B[0;34m.\u001B[0m\u001B[0m_get_result_dim\u001B[0m\u001B[0;34m(\u001B[0m\u001B[0;34m)\u001B[0m\u001B[0;34m\u001B[0m\u001B[0;34m\u001B[0m\u001B[0m\n\u001B[1;32m    519\u001B[0m         return [\n\u001B[0;32m--> 520\u001B[0;31m             \u001B[0mself\u001B[0m\u001B[0;34m.\u001B[0m\u001B[0m_get_concat_axis\u001B[0m\u001B[0;34m(\u001B[0m\u001B[0;34m)\u001B[0m \u001B[0;32mif\u001B[0m \u001B[0mi\u001B[0m \u001B[0;34m==\u001B[0m \u001B[0mself\u001B[0m\u001B[0;34m.\u001B[0m\u001B[0mbm_axis\u001B[0m \u001B[0;32melse\u001B[0m \u001B[0mself\u001B[0m\u001B[0;34m.\u001B[0m\u001B[0m_get_comb_axis\u001B[0m\u001B[0;34m(\u001B[0m\u001B[0mi\u001B[0m\u001B[0;34m)\u001B[0m\u001B[0;34m\u001B[0m\u001B[0;34m\u001B[0m\u001B[0m\n\u001B[0m\u001B[1;32m    521\u001B[0m             \u001B[0;32mfor\u001B[0m \u001B[0mi\u001B[0m \u001B[0;32min\u001B[0m \u001B[0mrange\u001B[0m\u001B[0;34m(\u001B[0m\u001B[0mndim\u001B[0m\u001B[0;34m)\u001B[0m\u001B[0;34m\u001B[0m\u001B[0;34m\u001B[0m\u001B[0m\n\u001B[1;32m    522\u001B[0m         ]\n",
      "\u001B[0;32m~/anaconda3/envs/utils/lib/python3.8/site-packages/pandas/core/reshape/concat.py\u001B[0m in \u001B[0;36m_get_concat_axis\u001B[0;34m(self)\u001B[0m\n\u001B[1;32m    572\u001B[0m \u001B[0;34m\u001B[0m\u001B[0m\n\u001B[1;32m    573\u001B[0m         \u001B[0;32mif\u001B[0m \u001B[0mself\u001B[0m\u001B[0;34m.\u001B[0m\u001B[0mkeys\u001B[0m \u001B[0;32mis\u001B[0m \u001B[0;32mNone\u001B[0m\u001B[0;34m:\u001B[0m\u001B[0;34m\u001B[0m\u001B[0;34m\u001B[0m\u001B[0m\n\u001B[0;32m--> 574\u001B[0;31m             \u001B[0mconcat_axis\u001B[0m \u001B[0;34m=\u001B[0m \u001B[0m_concat_indexes\u001B[0m\u001B[0;34m(\u001B[0m\u001B[0mindexes\u001B[0m\u001B[0;34m)\u001B[0m\u001B[0;34m\u001B[0m\u001B[0;34m\u001B[0m\u001B[0m\n\u001B[0m\u001B[1;32m    575\u001B[0m         \u001B[0;32melse\u001B[0m\u001B[0;34m:\u001B[0m\u001B[0;34m\u001B[0m\u001B[0;34m\u001B[0m\u001B[0m\n\u001B[1;32m    576\u001B[0m             concat_axis = _make_concat_multiindex(\n",
      "\u001B[0;32m~/anaconda3/envs/utils/lib/python3.8/site-packages/pandas/core/reshape/concat.py\u001B[0m in \u001B[0;36m_concat_indexes\u001B[0;34m(indexes)\u001B[0m\n\u001B[1;32m    590\u001B[0m \u001B[0;34m\u001B[0m\u001B[0m\n\u001B[1;32m    591\u001B[0m \u001B[0;32mdef\u001B[0m \u001B[0m_concat_indexes\u001B[0m\u001B[0;34m(\u001B[0m\u001B[0mindexes\u001B[0m\u001B[0;34m)\u001B[0m \u001B[0;34m->\u001B[0m \u001B[0mIndex\u001B[0m\u001B[0;34m:\u001B[0m\u001B[0;34m\u001B[0m\u001B[0;34m\u001B[0m\u001B[0m\n\u001B[0;32m--> 592\u001B[0;31m     \u001B[0;32mreturn\u001B[0m \u001B[0mindexes\u001B[0m\u001B[0;34m[\u001B[0m\u001B[0;36m0\u001B[0m\u001B[0;34m]\u001B[0m\u001B[0;34m.\u001B[0m\u001B[0mappend\u001B[0m\u001B[0;34m(\u001B[0m\u001B[0mindexes\u001B[0m\u001B[0;34m[\u001B[0m\u001B[0;36m1\u001B[0m\u001B[0;34m:\u001B[0m\u001B[0;34m]\u001B[0m\u001B[0;34m)\u001B[0m\u001B[0;34m\u001B[0m\u001B[0;34m\u001B[0m\u001B[0m\n\u001B[0m\u001B[1;32m    593\u001B[0m \u001B[0;34m\u001B[0m\u001B[0m\n\u001B[1;32m    594\u001B[0m \u001B[0;34m\u001B[0m\u001B[0m\n",
      "\u001B[0;32m~/anaconda3/envs/utils/lib/python3.8/site-packages/pandas/core/indexes/base.py\u001B[0m in \u001B[0;36mappend\u001B[0;34m(self, other)\u001B[0m\n\u001B[1;32m   4151\u001B[0m         \u001B[0mname\u001B[0m \u001B[0;34m=\u001B[0m \u001B[0;32mNone\u001B[0m \u001B[0;32mif\u001B[0m \u001B[0mlen\u001B[0m\u001B[0;34m(\u001B[0m\u001B[0mnames\u001B[0m\u001B[0;34m)\u001B[0m \u001B[0;34m>\u001B[0m \u001B[0;36m1\u001B[0m \u001B[0;32melse\u001B[0m \u001B[0mself\u001B[0m\u001B[0;34m.\u001B[0m\u001B[0mname\u001B[0m\u001B[0;34m\u001B[0m\u001B[0;34m\u001B[0m\u001B[0m\n\u001B[1;32m   4152\u001B[0m \u001B[0;34m\u001B[0m\u001B[0m\n\u001B[0;32m-> 4153\u001B[0;31m         \u001B[0;32mreturn\u001B[0m \u001B[0mself\u001B[0m\u001B[0;34m.\u001B[0m\u001B[0m_concat\u001B[0m\u001B[0;34m(\u001B[0m\u001B[0mto_concat\u001B[0m\u001B[0;34m,\u001B[0m \u001B[0mname\u001B[0m\u001B[0;34m)\u001B[0m\u001B[0;34m\u001B[0m\u001B[0;34m\u001B[0m\u001B[0m\n\u001B[0m\u001B[1;32m   4154\u001B[0m \u001B[0;34m\u001B[0m\u001B[0m\n\u001B[1;32m   4155\u001B[0m     \u001B[0;32mdef\u001B[0m \u001B[0m_concat\u001B[0m\u001B[0;34m(\u001B[0m\u001B[0mself\u001B[0m\u001B[0;34m,\u001B[0m \u001B[0mto_concat\u001B[0m\u001B[0;34m,\u001B[0m \u001B[0mname\u001B[0m\u001B[0;34m)\u001B[0m\u001B[0;34m:\u001B[0m\u001B[0;34m\u001B[0m\u001B[0;34m\u001B[0m\u001B[0m\n",
      "\u001B[0;32m~/anaconda3/envs/utils/lib/python3.8/site-packages/pandas/core/indexes/base.py\u001B[0m in \u001B[0;36m_concat\u001B[0;34m(self, to_concat, name)\u001B[0m\n\u001B[1;32m   4159\u001B[0m         \u001B[0mto_concat\u001B[0m \u001B[0;34m=\u001B[0m \u001B[0;34m[\u001B[0m\u001B[0mx\u001B[0m\u001B[0;34m.\u001B[0m\u001B[0m_values\u001B[0m \u001B[0;32mif\u001B[0m \u001B[0misinstance\u001B[0m\u001B[0;34m(\u001B[0m\u001B[0mx\u001B[0m\u001B[0;34m,\u001B[0m \u001B[0mIndex\u001B[0m\u001B[0;34m)\u001B[0m \u001B[0;32melse\u001B[0m \u001B[0mx\u001B[0m \u001B[0;32mfor\u001B[0m \u001B[0mx\u001B[0m \u001B[0;32min\u001B[0m \u001B[0mto_concat\u001B[0m\u001B[0;34m]\u001B[0m\u001B[0;34m\u001B[0m\u001B[0;34m\u001B[0m\u001B[0m\n\u001B[1;32m   4160\u001B[0m \u001B[0;34m\u001B[0m\u001B[0m\n\u001B[0;32m-> 4161\u001B[0;31m         \u001B[0mresult\u001B[0m \u001B[0;34m=\u001B[0m \u001B[0m_concat\u001B[0m\u001B[0;34m.\u001B[0m\u001B[0mconcat_compat\u001B[0m\u001B[0;34m(\u001B[0m\u001B[0mto_concat\u001B[0m\u001B[0;34m)\u001B[0m\u001B[0;34m\u001B[0m\u001B[0;34m\u001B[0m\u001B[0m\n\u001B[0m\u001B[1;32m   4162\u001B[0m         \u001B[0;32mreturn\u001B[0m \u001B[0mIndex\u001B[0m\u001B[0;34m(\u001B[0m\u001B[0mresult\u001B[0m\u001B[0;34m,\u001B[0m \u001B[0mname\u001B[0m\u001B[0;34m=\u001B[0m\u001B[0mname\u001B[0m\u001B[0;34m)\u001B[0m\u001B[0;34m\u001B[0m\u001B[0;34m\u001B[0m\u001B[0m\n\u001B[1;32m   4163\u001B[0m \u001B[0;34m\u001B[0m\u001B[0m\n",
      "\u001B[0;32m~/anaconda3/envs/utils/lib/python3.8/site-packages/pandas/core/dtypes/concat.py\u001B[0m in \u001B[0;36mconcat_compat\u001B[0;34m(to_concat, axis)\u001B[0m\n\u001B[1;32m    176\u001B[0m                 \u001B[0mto_concat\u001B[0m \u001B[0;34m=\u001B[0m \u001B[0;34m[\u001B[0m\u001B[0mx\u001B[0m\u001B[0;34m.\u001B[0m\u001B[0mastype\u001B[0m\u001B[0;34m(\u001B[0m\u001B[0;34m\"object\"\u001B[0m\u001B[0;34m)\u001B[0m \u001B[0;32mfor\u001B[0m \u001B[0mx\u001B[0m \u001B[0;32min\u001B[0m \u001B[0mto_concat\u001B[0m\u001B[0;34m]\u001B[0m\u001B[0;34m\u001B[0m\u001B[0;34m\u001B[0m\u001B[0m\n\u001B[1;32m    177\u001B[0m \u001B[0;34m\u001B[0m\u001B[0m\n\u001B[0;32m--> 178\u001B[0;31m     \u001B[0;32mreturn\u001B[0m \u001B[0mnp\u001B[0m\u001B[0;34m.\u001B[0m\u001B[0mconcatenate\u001B[0m\u001B[0;34m(\u001B[0m\u001B[0mto_concat\u001B[0m\u001B[0;34m,\u001B[0m \u001B[0maxis\u001B[0m\u001B[0;34m=\u001B[0m\u001B[0maxis\u001B[0m\u001B[0;34m)\u001B[0m\u001B[0;34m\u001B[0m\u001B[0;34m\u001B[0m\u001B[0m\n\u001B[0m\u001B[1;32m    179\u001B[0m \u001B[0;34m\u001B[0m\u001B[0m\n\u001B[1;32m    180\u001B[0m \u001B[0;34m\u001B[0m\u001B[0m\n",
      "\u001B[0;32m<__array_function__ internals>\u001B[0m in \u001B[0;36mconcatenate\u001B[0;34m(*args, **kwargs)\u001B[0m\n",
      "\u001B[0;31mKeyboardInterrupt\u001B[0m: "
     ]
    }
   ],
   "source": [
    "# Merging rounds\n",
    "\n",
    "import data_prep as dp\n",
    "import rbm_torch.analysis.analysis_methods as am\n",
    "\n",
    "cov_df = am.fetch_data([\"r10\", \"r11\", \"r12\"], dir=\"./cov/\", threads=6, molecule=\"dna\")\n",
    "\n",
    "cov_ct = dp.copynum_topology_faster(cov_df, [\"r10\", \"r11\", \"r12\"], threads_per_task=3)\n",
    "# cov_ct.to_csv(\"./cov/cov_10_to_12_ct.csv\", index=False)"
   ],
   "metadata": {
    "collapsed": false,
    "pycharm": {
     "name": "#%%\n"
    }
   }
  },
  {
   "cell_type": "code",
   "execution_count": 3,
   "outputs": [
    {
     "data": {
      "text/plain": "                                   sequence   r10   r11   r12\n0  GGGATATTCGTCCGGGGGGGGGGCCGGGGTTCGGGGTCGT   1.0   NaN   2.0\n1  GGTGGGGGGCCCCCCGGGTTCTCGCTGCGGGTTTTGGTGC  26.0  21.0  20.0\n2  GGGGGGGCGCCCCCCCGGTTCTCGCTGCTGGTTTTGGTGC   5.0   1.0   3.0\n3  CGGGTTTCCGTCTGGGGGGGGGGCCGGGGTGGGGGGTCGT   1.0   1.0   2.0\n4  TCGCGGGGGGCGAGTCGGGTGCTCGTTCGAGGGGTCACAG  34.0  11.0  18.0",
      "text/html": "<div>\n<style scoped>\n    .dataframe tbody tr th:only-of-type {\n        vertical-align: middle;\n    }\n\n    .dataframe tbody tr th {\n        vertical-align: top;\n    }\n\n    .dataframe thead th {\n        text-align: right;\n    }\n</style>\n<table border=\"1\" class=\"dataframe\">\n  <thead>\n    <tr style=\"text-align: right;\">\n      <th></th>\n      <th>sequence</th>\n      <th>r10</th>\n      <th>r11</th>\n      <th>r12</th>\n    </tr>\n  </thead>\n  <tbody>\n    <tr>\n      <th>0</th>\n      <td>GGGATATTCGTCCGGGGGGGGGGCCGGGGTTCGGGGTCGT</td>\n      <td>1.0</td>\n      <td>NaN</td>\n      <td>2.0</td>\n    </tr>\n    <tr>\n      <th>1</th>\n      <td>GGTGGGGGGCCCCCCGGGTTCTCGCTGCGGGTTTTGGTGC</td>\n      <td>26.0</td>\n      <td>21.0</td>\n      <td>20.0</td>\n    </tr>\n    <tr>\n      <th>2</th>\n      <td>GGGGGGGCGCCCCCCCGGTTCTCGCTGCTGGTTTTGGTGC</td>\n      <td>5.0</td>\n      <td>1.0</td>\n      <td>3.0</td>\n    </tr>\n    <tr>\n      <th>3</th>\n      <td>CGGGTTTCCGTCTGGGGGGGGGGCCGGGGTGGGGGGTCGT</td>\n      <td>1.0</td>\n      <td>1.0</td>\n      <td>2.0</td>\n    </tr>\n    <tr>\n      <th>4</th>\n      <td>TCGCGGGGGGCGAGTCGGGTGCTCGTTCGAGGGGTCACAG</td>\n      <td>34.0</td>\n      <td>11.0</td>\n      <td>18.0</td>\n    </tr>\n  </tbody>\n</table>\n</div>"
     },
     "execution_count": 3,
     "metadata": {},
     "output_type": "execute_result"
    }
   ],
   "source": [
    "cov_ct.head()"
   ],
   "metadata": {
    "collapsed": false,
    "pycharm": {
     "name": "#%%\n"
    }
   }
  },
  {
   "cell_type": "code",
   "execution_count": 4,
   "outputs": [],
   "source": [
    "import pandas as pd\n",
    "import numpy as np\n",
    "cov_ct = pd.read_csv(\"./cov/cov_10_to_12_ct.csv\")\n",
    "cov_ct[\"mean\"] = cov_ct.apply(lambda row : np.nanmean(np.asarray([row[x] for x in [\"r10\", \"r11\", \"r12\"]])), axis=1)\n",
    "cov_ct[\"max\"] = cov_ct.apply(lambda row : np.nanmax(np.asarray([row[x] for x in [\"r10\", \"r11\", \"r12\"]])), axis=1)"
   ],
   "metadata": {
    "collapsed": false,
    "pycharm": {
     "name": "#%%\n"
    }
   }
  },
  {
   "cell_type": "code",
   "execution_count": 11,
   "outputs": [
    {
     "name": "stdout",
     "output_type": "stream",
     "text": [
      "94881 46632 19707\n"
     ]
    }
   ],
   "source": [
    "ones = cov_ct[cov_ct[\"mean\"] >= 2.0]\n",
    "max = cov_ct[cov_ct[\"max\"] >= 15.0]\n",
    "ones_max = ones[ones[\"max\"] >= 6]\n",
    "print(ones.index.__len__(), ones_max.index.__len__(), max.index.__len__())"
   ],
   "metadata": {
    "collapsed": false,
    "pycharm": {
     "name": "#%%\n"
    }
   }
  },
  {
   "cell_type": "code",
   "execution_count": 9,
   "outputs": [
    {
     "name": "stderr",
     "output_type": "stream",
     "text": [
      "<ipython-input-9-cda033640aa7>:1: SettingWithCopyWarning: \n",
      "A value is trying to be set on a copy of a slice from a DataFrame\n",
      "\n",
      "See the caveats in the documentation: https://pandas.pydata.org/pandas-docs/stable/user_guide/indexing.html#returning-a-view-versus-a-copy\n",
      "  max.sort_values(\"max\", ascending=False, inplace=True)\n"
     ]
    },
    {
     "data": {
      "text/plain": "                                        sequence        r10       r11  \\\n189499  GGGAGGGAGGGTGGGGGGTTCTCGCTGCGGGTTTTGGTGC  1122103.0  425460.0   \n142400  GGGCGGGAGGGAGGGGGGCCACACCAAAACACGTTCAACT   847457.0  320078.0   \n39726   AGGAGGGTAGGTAGTGCTTGGTAGGGAAACTCCGCCGATT   170289.0  140742.0   \n175303  TCGCGGGGGGCGGGTCGGGTGCTCGTTCGAGGGGTCGCAG   108596.0  103763.0   \n47658   AAGGAGGGTAGGTAGTGCTTGGTAGGGAAACTCCGCCGAT   112090.0   88184.0   \n70642   AGGCTTATCGTCAGGGGGGTGGGTCCGGGTTCGGGGTCGT   317062.0  113679.0   \n56773   GCCACGCCGGCTTCGGGGGGTGGGATGGGTTCGGGGTCCT    23778.0   33603.0   \n182008  GGGCGGGAGGGAGGGGGGCCACACCAAAACACGTTCAGCT    93099.0   53982.0   \n176095  GGGGGGGCCCCCCCCCGGTTCTCGCTGCGGGTTTTGGTGC   114896.0   32291.0   \n156970  GGGGGGGGGCCCCCCCGGTTCTCGCTGCGGGTTTTGGTGC   111390.0   35664.0   \n99381   GGGGGGGGCCCCCCCCGGTTCTCGCTGCGGGTTTTGGTGC    79780.0   25351.0   \n189639  AGGAGGGTAGGTAGTGCTTGGTAGGGAAACTCCGTCGATT     6420.0    9203.0   \n91880   GGGCGGGAGGGAGGGGGGCCACACCAAAACACGCTCAACT    54838.0   30691.0   \n176022  TCGGGGGGCGGGCTGGGTCAGGGGTCCCACTACGGCATGC    58689.0   28093.0   \n105583  TCGCGGGGGGCGGGCCGGGTGCTCGTTCGAGGGGTCGCAG    12391.0    8806.0   \n26095   GGGGGGGGGCCCCCCGGGCCACACCAAAACACGTTCAACT    61405.0   18475.0   \n103205  AAGGAGGGTAGGTAGTGCTTGGTAGGGAAACTCCGTCGAT     4376.0    5656.0   \n171280  GGGGGGGCCCCCCCCGGGCCACACCAAAACACGTTCAACT    50036.0   14949.0   \n38942   TCGCGGGGGGCGGGTCGGGTGCTCGTTCGAGGGGTCACAG    42684.0   13357.0   \n161652  GGGGGGGGCCCCCCCGGGCCACACCAAAACACGTTCAACT    42452.0   12677.0   \n50461   CACGTTGTACACTGGGGGGTGGGAAGGGCTGGGTCCAGAT    42281.0   14313.0   \n67696   GGGGGGGCCCCCCCCCGGCCACACCAAAACACGTTCAACT    39718.0   10623.0   \n184624  AGGCTTATCGTCAGGGGGGTGGGTCCGGGTTTGGGGTCGT    13831.0    8828.0   \n147119  CGAAGTGCCGGTGCCGTTGATTCTGGGGGTGGAGGAGGGC    36496.0    7003.0   \n173910  GGGGGGGGGGCCCCCCGGTTCTCGCTGCGGGTTTTGGTGC    35619.0   14982.0   \n95842   GGGGGGCCCCCCCCCCGGTTCTCGCTGCGGGTTTTGGTGC    34532.0   10458.0   \n126160  GGGCGGGAGGGAGGGGGGCCGCACCAAAACACGTTCAACT    23949.0   12931.0   \n126741  GGGGGCCCCCCCCCCCGGTTCTCGCTGCGGGTTTTGGTGC    27149.0    8313.0   \n102476  GTCTTGGGGGGTGGGATGGGATTGGGGTCGCGGTTCGAGT    14068.0    7786.0   \n58003   GGGGGGGGGCCCCCCCGGCCACACCAAAACACGTTCAACT    24234.0    6914.0   \n\n             r12           mean        max  \n189499  780426.0  775996.333333  1122103.0  \n142400  555261.0  574265.333333   847457.0  \n39726   650339.0  320456.666667   650339.0  \n175303  486834.0  233064.333333   486834.0  \n47658   445204.0  215159.333333   445204.0  \n70642   261269.0  230670.000000   317062.0  \n56773   220812.0   92731.000000   220812.0  \n182008  146539.0   97873.333333   146539.0  \n176095   90650.0   79279.000000   114896.0  \n156970   90127.0   79060.333333   111390.0  \n99381    63798.0   56309.666667    79780.0  \n189639   75423.0   30348.666667    75423.0  \n91880    70539.0   52022.666667    70539.0  \n176022   68331.0   51704.333333    68331.0  \n105583   61836.0   27677.666667    61836.0  \n26095    44271.0   41383.666667    61405.0  \n103205   50745.0   20259.000000    50745.0  \n171280   37011.0   33998.666667    50036.0  \n38942    20068.0   25369.666667    42684.0  \n161652   30369.0   28499.333333    42452.0  \n50461    20817.0   25803.666667    42281.0  \n67696    28857.0   26399.333333    39718.0  \n184624   38249.0   20302.666667    38249.0  \n147119    8280.0   17259.666667    36496.0  \n173910   29334.0   26645.000000    35619.0  \n95842    25837.0   23609.000000    34532.0  \n126160   27547.0   21475.666667    27547.0  \n126741   20576.0   18679.333333    27149.0  \n102476   27124.0   16326.000000    27124.0  \n58003    16267.0   15805.000000    24234.0  ",
      "text/html": "<div>\n<style scoped>\n    .dataframe tbody tr th:only-of-type {\n        vertical-align: middle;\n    }\n\n    .dataframe tbody tr th {\n        vertical-align: top;\n    }\n\n    .dataframe thead th {\n        text-align: right;\n    }\n</style>\n<table border=\"1\" class=\"dataframe\">\n  <thead>\n    <tr style=\"text-align: right;\">\n      <th></th>\n      <th>sequence</th>\n      <th>r10</th>\n      <th>r11</th>\n      <th>r12</th>\n      <th>mean</th>\n      <th>max</th>\n    </tr>\n  </thead>\n  <tbody>\n    <tr>\n      <th>189499</th>\n      <td>GGGAGGGAGGGTGGGGGGTTCTCGCTGCGGGTTTTGGTGC</td>\n      <td>1122103.0</td>\n      <td>425460.0</td>\n      <td>780426.0</td>\n      <td>775996.333333</td>\n      <td>1122103.0</td>\n    </tr>\n    <tr>\n      <th>142400</th>\n      <td>GGGCGGGAGGGAGGGGGGCCACACCAAAACACGTTCAACT</td>\n      <td>847457.0</td>\n      <td>320078.0</td>\n      <td>555261.0</td>\n      <td>574265.333333</td>\n      <td>847457.0</td>\n    </tr>\n    <tr>\n      <th>39726</th>\n      <td>AGGAGGGTAGGTAGTGCTTGGTAGGGAAACTCCGCCGATT</td>\n      <td>170289.0</td>\n      <td>140742.0</td>\n      <td>650339.0</td>\n      <td>320456.666667</td>\n      <td>650339.0</td>\n    </tr>\n    <tr>\n      <th>175303</th>\n      <td>TCGCGGGGGGCGGGTCGGGTGCTCGTTCGAGGGGTCGCAG</td>\n      <td>108596.0</td>\n      <td>103763.0</td>\n      <td>486834.0</td>\n      <td>233064.333333</td>\n      <td>486834.0</td>\n    </tr>\n    <tr>\n      <th>47658</th>\n      <td>AAGGAGGGTAGGTAGTGCTTGGTAGGGAAACTCCGCCGAT</td>\n      <td>112090.0</td>\n      <td>88184.0</td>\n      <td>445204.0</td>\n      <td>215159.333333</td>\n      <td>445204.0</td>\n    </tr>\n    <tr>\n      <th>70642</th>\n      <td>AGGCTTATCGTCAGGGGGGTGGGTCCGGGTTCGGGGTCGT</td>\n      <td>317062.0</td>\n      <td>113679.0</td>\n      <td>261269.0</td>\n      <td>230670.000000</td>\n      <td>317062.0</td>\n    </tr>\n    <tr>\n      <th>56773</th>\n      <td>GCCACGCCGGCTTCGGGGGGTGGGATGGGTTCGGGGTCCT</td>\n      <td>23778.0</td>\n      <td>33603.0</td>\n      <td>220812.0</td>\n      <td>92731.000000</td>\n      <td>220812.0</td>\n    </tr>\n    <tr>\n      <th>182008</th>\n      <td>GGGCGGGAGGGAGGGGGGCCACACCAAAACACGTTCAGCT</td>\n      <td>93099.0</td>\n      <td>53982.0</td>\n      <td>146539.0</td>\n      <td>97873.333333</td>\n      <td>146539.0</td>\n    </tr>\n    <tr>\n      <th>176095</th>\n      <td>GGGGGGGCCCCCCCCCGGTTCTCGCTGCGGGTTTTGGTGC</td>\n      <td>114896.0</td>\n      <td>32291.0</td>\n      <td>90650.0</td>\n      <td>79279.000000</td>\n      <td>114896.0</td>\n    </tr>\n    <tr>\n      <th>156970</th>\n      <td>GGGGGGGGGCCCCCCCGGTTCTCGCTGCGGGTTTTGGTGC</td>\n      <td>111390.0</td>\n      <td>35664.0</td>\n      <td>90127.0</td>\n      <td>79060.333333</td>\n      <td>111390.0</td>\n    </tr>\n    <tr>\n      <th>99381</th>\n      <td>GGGGGGGGCCCCCCCCGGTTCTCGCTGCGGGTTTTGGTGC</td>\n      <td>79780.0</td>\n      <td>25351.0</td>\n      <td>63798.0</td>\n      <td>56309.666667</td>\n      <td>79780.0</td>\n    </tr>\n    <tr>\n      <th>189639</th>\n      <td>AGGAGGGTAGGTAGTGCTTGGTAGGGAAACTCCGTCGATT</td>\n      <td>6420.0</td>\n      <td>9203.0</td>\n      <td>75423.0</td>\n      <td>30348.666667</td>\n      <td>75423.0</td>\n    </tr>\n    <tr>\n      <th>91880</th>\n      <td>GGGCGGGAGGGAGGGGGGCCACACCAAAACACGCTCAACT</td>\n      <td>54838.0</td>\n      <td>30691.0</td>\n      <td>70539.0</td>\n      <td>52022.666667</td>\n      <td>70539.0</td>\n    </tr>\n    <tr>\n      <th>176022</th>\n      <td>TCGGGGGGCGGGCTGGGTCAGGGGTCCCACTACGGCATGC</td>\n      <td>58689.0</td>\n      <td>28093.0</td>\n      <td>68331.0</td>\n      <td>51704.333333</td>\n      <td>68331.0</td>\n    </tr>\n    <tr>\n      <th>105583</th>\n      <td>TCGCGGGGGGCGGGCCGGGTGCTCGTTCGAGGGGTCGCAG</td>\n      <td>12391.0</td>\n      <td>8806.0</td>\n      <td>61836.0</td>\n      <td>27677.666667</td>\n      <td>61836.0</td>\n    </tr>\n    <tr>\n      <th>26095</th>\n      <td>GGGGGGGGGCCCCCCGGGCCACACCAAAACACGTTCAACT</td>\n      <td>61405.0</td>\n      <td>18475.0</td>\n      <td>44271.0</td>\n      <td>41383.666667</td>\n      <td>61405.0</td>\n    </tr>\n    <tr>\n      <th>103205</th>\n      <td>AAGGAGGGTAGGTAGTGCTTGGTAGGGAAACTCCGTCGAT</td>\n      <td>4376.0</td>\n      <td>5656.0</td>\n      <td>50745.0</td>\n      <td>20259.000000</td>\n      <td>50745.0</td>\n    </tr>\n    <tr>\n      <th>171280</th>\n      <td>GGGGGGGCCCCCCCCGGGCCACACCAAAACACGTTCAACT</td>\n      <td>50036.0</td>\n      <td>14949.0</td>\n      <td>37011.0</td>\n      <td>33998.666667</td>\n      <td>50036.0</td>\n    </tr>\n    <tr>\n      <th>38942</th>\n      <td>TCGCGGGGGGCGGGTCGGGTGCTCGTTCGAGGGGTCACAG</td>\n      <td>42684.0</td>\n      <td>13357.0</td>\n      <td>20068.0</td>\n      <td>25369.666667</td>\n      <td>42684.0</td>\n    </tr>\n    <tr>\n      <th>161652</th>\n      <td>GGGGGGGGCCCCCCCGGGCCACACCAAAACACGTTCAACT</td>\n      <td>42452.0</td>\n      <td>12677.0</td>\n      <td>30369.0</td>\n      <td>28499.333333</td>\n      <td>42452.0</td>\n    </tr>\n    <tr>\n      <th>50461</th>\n      <td>CACGTTGTACACTGGGGGGTGGGAAGGGCTGGGTCCAGAT</td>\n      <td>42281.0</td>\n      <td>14313.0</td>\n      <td>20817.0</td>\n      <td>25803.666667</td>\n      <td>42281.0</td>\n    </tr>\n    <tr>\n      <th>67696</th>\n      <td>GGGGGGGCCCCCCCCCGGCCACACCAAAACACGTTCAACT</td>\n      <td>39718.0</td>\n      <td>10623.0</td>\n      <td>28857.0</td>\n      <td>26399.333333</td>\n      <td>39718.0</td>\n    </tr>\n    <tr>\n      <th>184624</th>\n      <td>AGGCTTATCGTCAGGGGGGTGGGTCCGGGTTTGGGGTCGT</td>\n      <td>13831.0</td>\n      <td>8828.0</td>\n      <td>38249.0</td>\n      <td>20302.666667</td>\n      <td>38249.0</td>\n    </tr>\n    <tr>\n      <th>147119</th>\n      <td>CGAAGTGCCGGTGCCGTTGATTCTGGGGGTGGAGGAGGGC</td>\n      <td>36496.0</td>\n      <td>7003.0</td>\n      <td>8280.0</td>\n      <td>17259.666667</td>\n      <td>36496.0</td>\n    </tr>\n    <tr>\n      <th>173910</th>\n      <td>GGGGGGGGGGCCCCCCGGTTCTCGCTGCGGGTTTTGGTGC</td>\n      <td>35619.0</td>\n      <td>14982.0</td>\n      <td>29334.0</td>\n      <td>26645.000000</td>\n      <td>35619.0</td>\n    </tr>\n    <tr>\n      <th>95842</th>\n      <td>GGGGGGCCCCCCCCCCGGTTCTCGCTGCGGGTTTTGGTGC</td>\n      <td>34532.0</td>\n      <td>10458.0</td>\n      <td>25837.0</td>\n      <td>23609.000000</td>\n      <td>34532.0</td>\n    </tr>\n    <tr>\n      <th>126160</th>\n      <td>GGGCGGGAGGGAGGGGGGCCGCACCAAAACACGTTCAACT</td>\n      <td>23949.0</td>\n      <td>12931.0</td>\n      <td>27547.0</td>\n      <td>21475.666667</td>\n      <td>27547.0</td>\n    </tr>\n    <tr>\n      <th>126741</th>\n      <td>GGGGGCCCCCCCCCCCGGTTCTCGCTGCGGGTTTTGGTGC</td>\n      <td>27149.0</td>\n      <td>8313.0</td>\n      <td>20576.0</td>\n      <td>18679.333333</td>\n      <td>27149.0</td>\n    </tr>\n    <tr>\n      <th>102476</th>\n      <td>GTCTTGGGGGGTGGGATGGGATTGGGGTCGCGGTTCGAGT</td>\n      <td>14068.0</td>\n      <td>7786.0</td>\n      <td>27124.0</td>\n      <td>16326.000000</td>\n      <td>27124.0</td>\n    </tr>\n    <tr>\n      <th>58003</th>\n      <td>GGGGGGGGGCCCCCCCGGCCACACCAAAACACGTTCAACT</td>\n      <td>24234.0</td>\n      <td>6914.0</td>\n      <td>16267.0</td>\n      <td>15805.000000</td>\n      <td>24234.0</td>\n    </tr>\n  </tbody>\n</table>\n</div>"
     },
     "execution_count": 9,
     "metadata": {},
     "output_type": "execute_result"
    }
   ],
   "source": [
    "max.sort_values(\"max\", ascending=False, inplace=True)\n",
    "max.head(30)"
   ],
   "metadata": {
    "collapsed": false,
    "pycharm": {
     "name": "#%%\n"
    }
   }
  },
  {
   "cell_type": "code",
   "execution_count": null,
   "outputs": [],
   "source": [],
   "metadata": {
    "collapsed": false,
    "pycharm": {
     "name": "#%%\n"
    }
   }
  },
  {
   "cell_type": "code",
   "execution_count": 12,
   "outputs": [],
   "source": [
    "dp.dataframe_to_fasta(max, \"m1.fasta\", count_key=\"max\")"
   ],
   "metadata": {
    "collapsed": false,
    "pycharm": {
     "name": "#%%\n"
    }
   }
  },
  {
   "cell_type": "code",
   "execution_count": 18,
   "outputs": [
    {
     "name": "stdout",
     "output_type": "stream",
     "text": [
      "usage: submit_neighbor_job.py [-h] -d DATADIR -f FASTAFILE [FASTAFILE ...] -m\r\n",
      "                              MOLECULE -o OUT -t1 T1 -t2 T2 [-c [C]]\r\n",
      "\r\n",
      "Generate Slurm Files for pytorch RBM and CRBM\r\n",
      "\r\n",
      "optional arguments:\r\n",
      "  -h, --help            show this help message and exit\r\n",
      "  -c [C]                Number of CPU cores to use. Default is 6.\r\n",
      "\r\n",
      "required named arguments:\r\n",
      "  -d DATADIR, --datadir DATADIR\r\n",
      "                        directory of fasta file\r\n",
      "  -f FASTAFILE [FASTAFILE ...], --fastafile FASTAFILE [FASTAFILE ...]\r\n",
      "                        fasta file\r\n",
      "  -m MOLECULE, --molecule MOLECULE\r\n",
      "                        Which molecule?\r\n",
      "  -o OUT, --out OUT     File Name for generated sbatch file\r\n",
      "  -t1 T1                1st threshold value\r\n",
      "  -t2 T2                2nd threshold value\r\n"
     ]
    }
   ],
   "source": [
    "## Create Neighbor Job\n",
    "!python ./submit_neighbor_job.py -h"
   ],
   "metadata": {
    "collapsed": false,
    "pycharm": {
     "name": "#%%\n"
    }
   }
  },
  {
   "cell_type": "code",
   "execution_count": 20,
   "outputs": [],
   "source": [
    "# length of seqs is 40 nucleotides on avg. SO threshold values correspond to 2 mutations away and 4 mutations away\n",
    "!python ./submit_neighbor_job.py -d cov -f m1.fasta -m dna -o cov_m1_neigh -t1 0.05 -t2 0.10 -c 24"
   ],
   "metadata": {
    "collapsed": false,
    "pycharm": {
     "name": "#%%\n"
    }
   }
  },
  {
   "cell_type": "code",
   "execution_count": 5,
   "outputs": [],
   "source": [
    "m1_neighs = dp.load_neighbor_file(\"./cov/m1.fasta_5_neighbor_counts.pkl\")"
   ],
   "metadata": {
    "collapsed": false,
    "pycharm": {
     "name": "#%%\n"
    }
   }
  },
  {
   "cell_type": "code",
   "execution_count": 6,
   "outputs": [
    {
     "data": {
      "text/plain": "<Figure size 640x480 with 1 Axes>",
      "image/png": "[encoded data removed]"
     },
     "metadata": {},
     "output_type": "display_data"
    }
   ],
   "source": [
    "dp.quick_hist(m1_neighs)"
   ],
   "metadata": {
    "collapsed": false,
    "pycharm": {
     "name": "#%%\n"
    }
   }
  },
  {
   "cell_type": "code",
   "execution_count": 7,
   "outputs": [
    {
     "name": "stdout",
     "output_type": "stream",
     "text": [
      "Process Time 0.02819538116455078\n"
     ]
    },
    {
     "data": {
      "text/plain": "<Figure size 640x480 with 1 Axes>",
      "image/png": "[encoded data removed]"
     },
     "metadata": {},
     "output_type": "display_data"
    }
   ],
   "source": [
    "import rbm_torch.utils.utils as utils\n",
    "\n",
    "seqs, affs, chars, q  = utils.fasta_read(\"./cov/m1.fasta\", \"dna\", threads=6)\n",
    "dp.quick_hist(affs)"
   ],
   "metadata": {
    "collapsed": false,
    "pycharm": {
     "name": "#%%\n"
    }
   }
  },
  {
   "cell_type": "code",
   "execution_count": 10,
   "outputs": [
    {
     "data": {
      "text/plain": "<Figure size 640x480 with 1 Axes>",
      "image/png": "[encoded data removed]"
     },
     "metadata": {},
     "output_type": "display_data"
    },
    {
     "data": {
      "text/plain": "<Figure size 640x480 with 1 Axes>",
      "image/png": "[encoded data removed]"
     },
     "metadata": {},
     "output_type": "display_data"
    },
    {
     "data": {
      "text/plain": "<Figure size 640x480 with 1 Axes>",
      "image/png": "[encoded data removed]"
     },
     "metadata": {},
     "output_type": "display_data"
    }
   ],
   "source": [
    "naffs = dp.standardize_affinities(affs, out_plots=\"./cov/m1_stand\", scale=\"log\", dividers=[5, 15, 25], target_scaling=[1.2, 1.2, 1.2], divider_type=\"percentile\")\n",
    "dp.quick_hist(naffs)"
   ],
   "metadata": {
    "collapsed": false,
    "pycharm": {
     "name": "#%%\n"
    }
   }
  },
  {
   "cell_type": "code",
   "execution_count": 12,
   "outputs": [
    {
     "data": {
      "text/plain": "<Figure size 640x480 with 1 Axes>",
      "image/png": "[encoded data removed]"
     },
     "metadata": {},
     "output_type": "display_data"
    }
   ],
   "source": [
    "inverse_m1_neighs = [1/x for x in m1_neighs]\n",
    "dp.quick_hist(inverse_m1_neighs)"
   ],
   "metadata": {
    "collapsed": false,
    "pycharm": {
     "name": "#%%\n"
    }
   }
  },
  {
   "cell_type": "code",
   "execution_count": 14,
   "outputs": [
    {
     "data": {
      "text/plain": "<Figure size 640x480 with 1 Axes>",
      "image/png": "[encoded data removed]"
     },
     "metadata": {},
     "output_type": "display_data"
    }
   ],
   "source": [
    "test_scaling = [naffs[xid]* x for xid, x in enumerate(inverse_m1_neighs)]\n",
    "dp.quick_hist(test_scaling)"
   ],
   "metadata": {
    "collapsed": false,
    "pycharm": {
     "name": "#%%\n"
    }
   }
  },
  {
   "cell_type": "code",
   "execution_count": 15,
   "outputs": [],
   "source": [
    "dp.make_weight_file(\"m1_co\", test_scaling, \"co\", dir=\"./cov/\")"
   ],
   "metadata": {
    "collapsed": false,
    "pycharm": {
     "name": "#%%\n"
    }
   }
  },
  {
   "cell_type": "code",
   "execution_count": 16,
   "outputs": [
    {
     "ename": "FileNotFoundError",
     "evalue": "[Errno 2] No such file or directory: 'python submit.py -h'",
     "output_type": "error",
     "traceback": [
      "\u001B[0;31m---------------------------------------------------------------------------\u001B[0m",
      "\u001B[0;31mFileNotFoundError\u001B[0m                         Traceback (most recent call last)",
      "\u001B[0;32m<ipython-input-16-c124ff1f7530>\u001B[0m in \u001B[0;36m<module>\u001B[0;34m\u001B[0m\n\u001B[1;32m      1\u001B[0m \u001B[0;32mimport\u001B[0m \u001B[0msubprocess\u001B[0m \u001B[0;32mas\u001B[0m \u001B[0msp\u001B[0m\u001B[0;34m\u001B[0m\u001B[0;34m\u001B[0m\u001B[0m\n\u001B[1;32m      2\u001B[0m \u001B[0mos\u001B[0m\u001B[0;34m.\u001B[0m\u001B[0mchdir\u001B[0m\u001B[0;34m(\u001B[0m\u001B[0;34m\"../rbm_torch/\"\u001B[0m\u001B[0;34m)\u001B[0m\u001B[0;34m\u001B[0m\u001B[0;34m\u001B[0m\u001B[0m\n\u001B[0;32m----> 3\u001B[0;31m \u001B[0msp\u001B[0m\u001B[0;34m.\u001B[0m\u001B[0mcheck_call\u001B[0m\u001B[0;34m(\u001B[0m\u001B[0;34m\"python submit.py -h\"\u001B[0m\u001B[0;34m)\u001B[0m\u001B[0;34m\u001B[0m\u001B[0;34m\u001B[0m\u001B[0m\n\u001B[0m",
      "\u001B[0;32m~/anaconda3/envs/utils/lib/python3.8/subprocess.py\u001B[0m in \u001B[0;36mcheck_call\u001B[0;34m(*popenargs, **kwargs)\u001B[0m\n\u001B[1;32m    357\u001B[0m     \u001B[0mcheck_call\u001B[0m\u001B[0;34m(\u001B[0m\u001B[0;34m[\u001B[0m\u001B[0;34m\"ls\"\u001B[0m\u001B[0;34m,\u001B[0m \u001B[0;34m\"-l\"\u001B[0m\u001B[0;34m]\u001B[0m\u001B[0;34m)\u001B[0m\u001B[0;34m\u001B[0m\u001B[0;34m\u001B[0m\u001B[0m\n\u001B[1;32m    358\u001B[0m     \"\"\"\n\u001B[0;32m--> 359\u001B[0;31m     \u001B[0mretcode\u001B[0m \u001B[0;34m=\u001B[0m \u001B[0mcall\u001B[0m\u001B[0;34m(\u001B[0m\u001B[0;34m*\u001B[0m\u001B[0mpopenargs\u001B[0m\u001B[0;34m,\u001B[0m \u001B[0;34m**\u001B[0m\u001B[0mkwargs\u001B[0m\u001B[0;34m)\u001B[0m\u001B[0;34m\u001B[0m\u001B[0;34m\u001B[0m\u001B[0m\n\u001B[0m\u001B[1;32m    360\u001B[0m     \u001B[0;32mif\u001B[0m \u001B[0mretcode\u001B[0m\u001B[0;34m:\u001B[0m\u001B[0;34m\u001B[0m\u001B[0;34m\u001B[0m\u001B[0m\n\u001B[1;32m    361\u001B[0m         \u001B[0mcmd\u001B[0m \u001B[0;34m=\u001B[0m \u001B[0mkwargs\u001B[0m\u001B[0;34m.\u001B[0m\u001B[0mget\u001B[0m\u001B[0;34m(\u001B[0m\u001B[0;34m\"args\"\u001B[0m\u001B[0;34m)\u001B[0m\u001B[0;34m\u001B[0m\u001B[0;34m\u001B[0m\u001B[0m\n",
      "\u001B[0;32m~/anaconda3/envs/utils/lib/python3.8/subprocess.py\u001B[0m in \u001B[0;36mcall\u001B[0;34m(timeout, *popenargs, **kwargs)\u001B[0m\n\u001B[1;32m    338\u001B[0m     \u001B[0mretcode\u001B[0m \u001B[0;34m=\u001B[0m \u001B[0mcall\u001B[0m\u001B[0;34m(\u001B[0m\u001B[0;34m[\u001B[0m\u001B[0;34m\"ls\"\u001B[0m\u001B[0;34m,\u001B[0m \u001B[0;34m\"-l\"\u001B[0m\u001B[0;34m]\u001B[0m\u001B[0;34m)\u001B[0m\u001B[0;34m\u001B[0m\u001B[0;34m\u001B[0m\u001B[0m\n\u001B[1;32m    339\u001B[0m     \"\"\"\n\u001B[0;32m--> 340\u001B[0;31m     \u001B[0;32mwith\u001B[0m \u001B[0mPopen\u001B[0m\u001B[0;34m(\u001B[0m\u001B[0;34m*\u001B[0m\u001B[0mpopenargs\u001B[0m\u001B[0;34m,\u001B[0m \u001B[0;34m**\u001B[0m\u001B[0mkwargs\u001B[0m\u001B[0;34m)\u001B[0m \u001B[0;32mas\u001B[0m \u001B[0mp\u001B[0m\u001B[0;34m:\u001B[0m\u001B[0;34m\u001B[0m\u001B[0;34m\u001B[0m\u001B[0m\n\u001B[0m\u001B[1;32m    341\u001B[0m         \u001B[0;32mtry\u001B[0m\u001B[0;34m:\u001B[0m\u001B[0;34m\u001B[0m\u001B[0;34m\u001B[0m\u001B[0m\n\u001B[1;32m    342\u001B[0m             \u001B[0;32mreturn\u001B[0m \u001B[0mp\u001B[0m\u001B[0;34m.\u001B[0m\u001B[0mwait\u001B[0m\u001B[0;34m(\u001B[0m\u001B[0mtimeout\u001B[0m\u001B[0;34m=\u001B[0m\u001B[0mtimeout\u001B[0m\u001B[0;34m)\u001B[0m\u001B[0;34m\u001B[0m\u001B[0;34m\u001B[0m\u001B[0m\n",
      "\u001B[0;32m~/anaconda3/envs/utils/lib/python3.8/subprocess.py\u001B[0m in \u001B[0;36m__init__\u001B[0;34m(self, args, bufsize, executable, stdin, stdout, stderr, preexec_fn, close_fds, shell, cwd, env, universal_newlines, startupinfo, creationflags, restore_signals, start_new_session, pass_fds, encoding, errors, text)\u001B[0m\n\u001B[1;32m    852\u001B[0m                             encoding=encoding, errors=errors)\n\u001B[1;32m    853\u001B[0m \u001B[0;34m\u001B[0m\u001B[0m\n\u001B[0;32m--> 854\u001B[0;31m             self._execute_child(args, executable, preexec_fn, close_fds,\n\u001B[0m\u001B[1;32m    855\u001B[0m                                 \u001B[0mpass_fds\u001B[0m\u001B[0;34m,\u001B[0m \u001B[0mcwd\u001B[0m\u001B[0;34m,\u001B[0m \u001B[0menv\u001B[0m\u001B[0;34m,\u001B[0m\u001B[0;34m\u001B[0m\u001B[0;34m\u001B[0m\u001B[0m\n\u001B[1;32m    856\u001B[0m                                 \u001B[0mstartupinfo\u001B[0m\u001B[0;34m,\u001B[0m \u001B[0mcreationflags\u001B[0m\u001B[0;34m,\u001B[0m \u001B[0mshell\u001B[0m\u001B[0;34m,\u001B[0m\u001B[0;34m\u001B[0m\u001B[0;34m\u001B[0m\u001B[0m\n",
      "\u001B[0;32m~/anaconda3/envs/utils/lib/python3.8/subprocess.py\u001B[0m in \u001B[0;36m_execute_child\u001B[0;34m(self, args, executable, preexec_fn, close_fds, pass_fds, cwd, env, startupinfo, creationflags, shell, p2cread, p2cwrite, c2pread, c2pwrite, errread, errwrite, restore_signals, start_new_session)\u001B[0m\n\u001B[1;32m   1700\u001B[0m                     \u001B[0;32mif\u001B[0m \u001B[0merrno_num\u001B[0m \u001B[0;34m!=\u001B[0m \u001B[0;36m0\u001B[0m\u001B[0;34m:\u001B[0m\u001B[0;34m\u001B[0m\u001B[0;34m\u001B[0m\u001B[0m\n\u001B[1;32m   1701\u001B[0m                         \u001B[0merr_msg\u001B[0m \u001B[0;34m=\u001B[0m \u001B[0mos\u001B[0m\u001B[0;34m.\u001B[0m\u001B[0mstrerror\u001B[0m\u001B[0;34m(\u001B[0m\u001B[0merrno_num\u001B[0m\u001B[0;34m)\u001B[0m\u001B[0;34m\u001B[0m\u001B[0;34m\u001B[0m\u001B[0m\n\u001B[0;32m-> 1702\u001B[0;31m                     \u001B[0;32mraise\u001B[0m \u001B[0mchild_exception_type\u001B[0m\u001B[0;34m(\u001B[0m\u001B[0merrno_num\u001B[0m\u001B[0;34m,\u001B[0m \u001B[0merr_msg\u001B[0m\u001B[0;34m,\u001B[0m \u001B[0merr_filename\u001B[0m\u001B[0;34m)\u001B[0m\u001B[0;34m\u001B[0m\u001B[0;34m\u001B[0m\u001B[0m\n\u001B[0m\u001B[1;32m   1703\u001B[0m                 \u001B[0;32mraise\u001B[0m \u001B[0mchild_exception_type\u001B[0m\u001B[0;34m(\u001B[0m\u001B[0merr_msg\u001B[0m\u001B[0;34m)\u001B[0m\u001B[0;34m\u001B[0m\u001B[0;34m\u001B[0m\u001B[0m\n\u001B[1;32m   1704\u001B[0m \u001B[0;34m\u001B[0m\u001B[0m\n",
      "\u001B[0;31mFileNotFoundError\u001B[0m: [Errno 2] No such file or directory: 'python submit.py -h'"
     ]
    }
   ],
   "source": [
    "import subprocess as sp\n",
    "os.chdir(\"../rbm_torch/\")\n"
   ],
   "metadata": {
    "collapsed": false,
    "pycharm": {
     "name": "#%%\n"
    }
   }
  },
  {
   "cell_type": "code",
   "execution_count": 24,
   "outputs": [
    {
     "name": "stdout",
     "output_type": "stream",
     "text": [
      "usage: submit.py [-h] -d DATATYPE -r ROUND -p PARTITION -q QUEUE -m MODEL -e\r\n",
      "                 EPOCHS -g GPUS [--wdir [WDIR]] [--precision PRECISION]\r\n",
      "                 [-c [C]] [-w [W]] [--walltime [WALLTIME]] [-a [ACCOUNT]]\r\n",
      "                 [--email [EMAIL]] [--error [ERROR]]\r\n",
      "\r\n",
      "Generate Slurm Files for pytorch RBM and CRBM\r\n",
      "\r\n",
      "optional arguments:\r\n",
      "  -h, --help            show this help message and exit\r\n",
      "  --wdir [WDIR]         Manually Set working directory, Usually handled\r\n",
      "                        internally.\r\n",
      "  --precision PRECISION\r\n",
      "                        Set precision of the model, single or double\r\n",
      "  -c [C]                Number of CPU cores to use. Default is 6.\r\n",
      "  -w [W]                Weight File name to use to weight model training. Must\r\n",
      "                        be in same directory as the sequence files.\r\n",
      "                        Alternatively can be 'fasta' or None\r\n",
      "  --walltime [WALLTIME]\r\n",
      "                        Set wall time for training\r\n",
      "  -a [ACCOUNT], --account [ACCOUNT]\r\n",
      "                        Account name for server submission\r\n",
      "  --email [EMAIL]       Email for Job notifications\r\n",
      "  --error [ERROR]       Set slurm error file prefix\r\n",
      "\r\n",
      "required named arguments:\r\n",
      "  -d DATATYPE, --datatype DATATYPE\r\n",
      "                        Datatype Specifier String. See global_info\r\n",
      "  -r ROUND, --round ROUND\r\n",
      "                        Which Round should we run the scripts on?\r\n",
      "  -p PARTITION, --partition PARTITION\r\n",
      "                        Which Partition should the job be submitted on?\r\n",
      "  -q QUEUE, --queue QUEUE\r\n",
      "                        Which Queue should the job be submitted on?\r\n",
      "  -m MODEL, --model MODEL\r\n",
      "                        Which Model are we training, i.e. rbm or crbm?\r\n",
      "  -e EPOCHS, --epochs EPOCHS\r\n",
      "                        Number of Training Iterations\r\n",
      "  -g GPUS, --gpus GPUS  Number of gpus available\r\n"
     ]
    }
   ],
   "source": [
    "os.getcwd()\n",
    "!python submit.py -h"
   ],
   "metadata": {
    "collapsed": false,
    "pycharm": {
     "name": "#%%\n"
    }
   }
  },
  {
   "cell_type": "code",
   "execution_count": null,
   "outputs": [],
   "source": [
    "# I manually added m1.fasta to the dataset file\n",
    "# Also manually copied weight file to the server"
   ],
   "metadata": {
    "collapsed": false,
    "pycharm": {
     "name": "#%%\n"
    }
   }
  },
  {
   "cell_type": "code",
   "execution_count": 25,
   "outputs": [
    {
     "data": {
      "text/plain": "0"
     },
     "execution_count": 25,
     "metadata": {},
     "output_type": "execute_result"
    }
   ],
   "source": [
    "sp.call(f\"python submit.py -d cov -r m1 -p wzhengpu1 -q wildfire -m crbm -e 200 -g 2\", shell=True) # no weights\n",
    "sp.call(f\"python submit.py -d cov -r m1 -p wzhengpu1 -q wildfire -m crbm -e 200 -g 2 -w m1_co.json\", shell=True) # weights\n",
    "sp.call(f\"python submit.py -d cov -r m1 -p wzhengpu1 -q wildfire -m rbm -e 200 -g 1\", shell=True) # no weights\n",
    "sp.call(f\"python submit.py -d cov -r m1 -p wzhengpu1 -q wildfire -m rbm -e 200 -g 1 -w m1_co.json\", shell=True) # weights"
   ],
   "metadata": {
    "collapsed": false,
    "pycharm": {
     "name": "#%%\n"
    }
   }
  },
  {
   "cell_type": "markdown",
   "source": [
    "## The Neighbor Reweighting did not help, the model still overfit to a particular sequence motif."
   ],
   "metadata": {
    "collapsed": false,
    "pycharm": {
     "name": "#%% md\n"
    }
   }
  },
  {
   "cell_type": "code",
   "execution_count": 10,
   "outputs": [],
   "source": [
    "################## Neighbor Only Reweighting\n",
    "import numpy as np\n",
    "m1_close_neighs = dp.load_neighbor_file(\"./cov/m1.fasta_5_neighbor_counts.pkl\")\n",
    "m1_far_neighs = dp.load_neighbor_file(\"./cov/m1.fasta_10_neighbor_counts.pkl\")\n",
    "\n",
    "neigh_avg = np.asarray(m1_close_neighs)+np.asarray(m1_far_neighs)/2"
   ],
   "metadata": {
    "collapsed": false,
    "pycharm": {
     "name": "#%%\n"
    }
   }
  },
  {
   "cell_type": "code",
   "execution_count": 11,
   "outputs": [
    {
     "data": {
      "text/plain": "<Figure size 640x480 with 1 Axes>",
      "image/png": "[encoded data removed]"
     },
     "metadata": {},
     "output_type": "display_data"
    }
   ],
   "source": [
    "dp.quick_hist(neigh_avg)"
   ],
   "metadata": {
    "collapsed": false,
    "pycharm": {
     "name": "#%%\n"
    }
   }
  },
  {
   "cell_type": "code",
   "execution_count": 8,
   "outputs": [
    {
     "data": {
      "text/plain": "<Figure size 640x480 with 1 Axes>",
      "image/png": "[encoded data removed]"
     },
     "metadata": {},
     "output_type": "display_data"
    }
   ],
   "source": [
    "dp.quick_hist(m1_far_neighs)"
   ],
   "metadata": {
    "collapsed": false,
    "pycharm": {
     "name": "#%%\n"
    }
   }
  },
  {
   "cell_type": "code",
   "execution_count": 9,
   "outputs": [
    {
     "data": {
      "text/plain": "<Figure size 640x480 with 1 Axes>",
      "image/png": "[encoded data removed]"
     },
     "metadata": {},
     "output_type": "display_data"
    }
   ],
   "source": [
    "dp.quick_hist(m1_close_neighs)"
   ],
   "metadata": {
    "collapsed": false,
    "pycharm": {
     "name": "#%%\n"
    }
   }
  },
  {
   "cell_type": "code",
   "execution_count": 12,
   "outputs": [
    {
     "data": {
      "text/plain": "<Figure size 640x480 with 1 Axes>",
      "image/png": "[encoded data removed]"
     },
     "metadata": {},
     "output_type": "display_data"
    }
   ],
   "source": [
    "dp.quick_hist(1/neigh_avg)"
   ],
   "metadata": {
    "collapsed": false,
    "pycharm": {
     "name": "#%%\n"
    }
   }
  },
  {
   "cell_type": "code",
   "execution_count": 14,
   "outputs": [],
   "source": [
    "dp.make_weight_file(\"m1_ne\", (1/neigh_avg).tolist(), \"ne\", dir=\"./cov/\")"
   ],
   "metadata": {
    "collapsed": false,
    "pycharm": {
     "name": "#%%\n"
    }
   }
  },
  {
   "cell_type": "code",
   "execution_count": 17,
   "outputs": [
    {
     "data": {
      "text/plain": "0"
     },
     "execution_count": 17,
     "metadata": {},
     "output_type": "execute_result"
    }
   ],
   "source": [
    "import subprocess as sp\n",
    "import os\n",
    "os.chdir(\"../rbm_torch/\")\n",
    "sp.call(f\"python submit.py -d cov -r m1 -p wzhengpu1 -q wildfire -m crbm -e 200 -g 2 -w m1_ne.json\", shell=True) # weights"
   ],
   "metadata": {
    "collapsed": false,
    "pycharm": {
     "name": "#%%\n"
    }
   }
  },
  {
   "cell_type": "markdown",
   "source": [
    "## After Separating based off PCA/kmeans, I am now training models on the individual clusters picked out from there"
   ],
   "metadata": {
    "collapsed": false,
    "pycharm": {
     "name": "#%% md\n"
    }
   }
  },
  {
   "cell_type": "code",
   "execution_count": 21,
   "outputs": [],
   "source": [
    "os.chdir(\"../datasets/\")"
   ],
   "metadata": {
    "collapsed": false,
    "pycharm": {
     "name": "#%%\n"
    }
   }
  },
  {
   "cell_type": "code",
   "execution_count": 23,
   "outputs": [
    {
     "name": "stdout",
     "output_type": "stream",
     "text": [
      "Process Time 0.0038704872131347656\n"
     ]
    },
    {
     "data": {
      "text/plain": "<Figure size 640x480 with 1 Axes>",
      "image/png": "[encoded data removed]"
     },
     "metadata": {},
     "output_type": "display_data"
    },
    {
     "name": "stdout",
     "output_type": "stream",
     "text": [
      "Process Time 0.006558895111083984\n"
     ]
    },
    {
     "data": {
      "text/plain": "<Figure size 640x480 with 1 Axes>",
      "image/png": "[encoded data removed]"
     },
     "metadata": {},
     "output_type": "display_data"
    },
    {
     "name": "stdout",
     "output_type": "stream",
     "text": [
      "Process Time 0.00397801399230957\n"
     ]
    },
    {
     "data": {
      "text/plain": "<Figure size 640x480 with 1 Axes>",
      "image/png": "[encoded data removed]"
     },
     "metadata": {},
     "output_type": "display_data"
    },
    {
     "name": "stdout",
     "output_type": "stream",
     "text": [
      "Process Time 0.004990816116333008\n"
     ]
    },
    {
     "data": {
      "text/plain": "<Figure size 640x480 with 1 Axes>",
      "image/png": "[encoded data removed]"
     },
     "metadata": {},
     "output_type": "display_data"
    }
   ],
   "source": [
    "## Weighting by affinity for each of these files\n",
    "import rbm_torch.utils.utils as utils\n",
    "\n",
    "all_fasta_files = [f\"m1_s{i}.fasta\" for i in range(1, 5)]\n",
    "for fasta_file in all_fasta_files:\n",
    "    seqs, affs, chars, q = utils.fasta_read(f\"./cov/{fasta_file}\", \"dna\", threads=12)\n",
    "    naffs = dp.log_scale(affs, base=0.001)\n",
    "    # naffs = dp.standardize_affinities(affs, scale=\"log\", dividers=[40, 70], target_scaling=[2., 1.5])\n",
    "    dp.quick_hist(naffs)\n",
    "    dp.make_weight_file(f\"{fasta_file.split('.')[0]}_sw\", naffs.tolist(), \"sw\", dir=\"./cov/\")"
   ],
   "metadata": {
    "collapsed": false,
    "pycharm": {
     "name": "#%%\n"
    }
   }
  },
  {
   "cell_type": "code",
   "execution_count": 25,
   "outputs": [
    {
     "data": {
      "text/plain": "'/home/jonah/PycharmProjects/phage_display_ML/rbm_torch'"
     },
     "execution_count": 25,
     "metadata": {},
     "output_type": "execute_result"
    }
   ],
   "source": [
    "os.getcwd()"
   ],
   "metadata": {
    "collapsed": false,
    "pycharm": {
     "name": "#%%\n"
    }
   }
  },
  {
   "cell_type": "code",
   "execution_count": 27,
   "outputs": [],
   "source": [
    "import subprocess as sp\n",
    "import os\n",
    "# os.chdir(\"../rbm_torch/\")\n",
    "fasta_base = [f\"m1_s{i}\" for i in range(1, 5)]\n",
    "weight_files = [f\"m1_s{i}_sw.json\" for i in range(1, 5)]\n",
    "for fid, f in enumerate(fasta_base):\n",
    "    sp.check_call(f\"python submit.py -d cov -r {f} -p wzhengpu1 -q wildfire -m crbm -e 200 -g 1 -w {weight_files[fid]} --precision single\", shell=True) # weights"
   ],
   "metadata": {
    "collapsed": false,
    "pycharm": {
     "name": "#%%\n"
    }
   }
  },
  {
   "cell_type": "code",
   "execution_count": 4,
   "outputs": [
    {
     "name": "stdout",
     "output_type": "stream",
     "text": [
      "Process Time 0.01757359504699707\n"
     ]
    }
   ],
   "source": [
    "########## Make an m1c file (Smaller subset than the m1 file)\n",
    "os.chdir(\"../rbm_torch/\")\n",
    "import rbm_torch.analysis.analysis_methods as am\n",
    "os.chdir(\"../datasets/\")\n",
    "m1_data = am.fetch_data([\"m1\"], dir=\"./cov/\", threads=12, molecule=\"dna\")"
   ],
   "metadata": {
    "collapsed": false,
    "pycharm": {
     "name": "#%%\n"
    }
   }
  },
  {
   "cell_type": "code",
   "execution_count": 9,
   "outputs": [],
   "source": [
    "from copy import copy\n",
    "m1c_data = copy(m1_data[m1_data[\"copy_num\"] >= 200])  #.index.__len__()  # 2136 seqs.\n",
    "\n",
    "import data_prep as dp\n",
    "dp.dataframe_to_fasta(m1c_data, \"./cov/m1c.fasta\")"
   ],
   "metadata": {
    "collapsed": false,
    "pycharm": {
     "name": "#%%\n"
    }
   }
  },
  {
   "cell_type": "code",
   "execution_count": 20,
   "outputs": [
    {
     "name": "stdout",
     "output_type": "stream",
     "text": [
      "Process Time 0.0036449432373046875\n",
      "Process Time 0.015247106552124023\n"
     ]
    }
   ],
   "source": [
    "import numpy as np\n",
    "import math\n",
    "from rbm_torch.utils import utils\n",
    "\n",
    "\n",
    "# fasta_files = [\"m1c.fasta\", \"m1.fasta\"]\n",
    "fasta_ids = [\"m1c\", \"m1\"]\n",
    "\n",
    "for fasta_id in fasta_ids:\n",
    "    close_neighs = dp.load_neighbor_file(f\"./cov/{fasta_id + '.fasta'}_10_neighbor_counts.pkl\")\n",
    "    far_neighs = dp.load_neighbor_file(f\"./cov/{fasta_id + '.fasta'}_20_neighbor_counts.pkl\")\n",
    "\n",
    "    neigh_avg = (np.asarray(close_neighs)+np.asarray(far_neighs))/2\n",
    "    neigh_vals = 1. + 1./neigh_avg\n",
    "    neigh_exp_vals = np.exp(neigh_vals) - math.e\n",
    "\n",
    "\n",
    "    seqs, affs, chars, q = utils.fasta_read(f\"./cov/{fasta_id + '.fasta'}\", \"dna\", threads=12)\n",
    "    if fasta_id == \"m1c\":\n",
    "        stand_affs = dp.standardize_affinities(affs, out_plots=f\"./cov/{fasta_id}_st\", scale=\"log\", dividers=[70], target_scaling=[2.], divider_type=\"percentile\")\n",
    "    elif fasta_id == \"m1\":\n",
    "        stand_affs = dp.standardize_affinities(affs, out_plots=f\"./cov/{fasta_id}_st\", scale=\"log\", dividers=[70], target_scaling=[2.], divider_type=\"percentile\")\n",
    "\n",
    "\n",
    "    dp.make_weight_file(f\"{fasta_id}_nexp\", neigh_exp_vals.tolist(), \"nexp\", dir=\"./cov/\")\n",
    "    dp.make_weight_file(f\"{fasta_id}_ne\", neigh_vals.tolist(), \"ne\", dir=\"./cov/\")\n",
    "    dp.make_weight_file(f\"{fasta_id}_st\", neigh_vals.tolist(), \"st\", dir=\"./cov/\")\n",
    "    dp.make_weight_file(f\"{fasta_id}_stne\", (neigh_vals*stand_affs).tolist(), \"stne\", dir=\"./cov/\")\n",
    "    dp.make_weight_file(f\"{fasta_id}_stnexp\", (neigh_exp_vals*stand_affs).tolist(), \"stnexp\", dir=\"./cov/\")"
   ],
   "metadata": {
    "collapsed": false,
    "pycharm": {
     "name": "#%%\n"
    }
   }
  },
  {
   "cell_type": "code",
   "execution_count": 22,
   "outputs": [
    {
     "data": {
      "text/plain": "0"
     },
     "execution_count": 22,
     "metadata": {},
     "output_type": "execute_result"
    }
   ],
   "source": [
    "import subprocess as sp\n",
    "import os\n",
    "os.chdir(\"../rbm_torch/\")\n",
    "sp.call(f\"python submit.py -d cov -r m1 -p wzhengpu1 -q wildfire -m crbm -e 2000 -g 2 --precision single\", shell=True) # weights\n",
    "sp.call(f\"python submit.py -d cov -r m1 -p wzhengpu1 -q wildfire -m crbm -e 2000 -g 2 -w m1_nexp.json --precision single\", shell=True) # weights\n",
    "sp.call(f\"python submit.py -d cov -r m1 -p wzhengpu1 -q wildfire -m crbm -e 2000 -g 2 -w m1_ne.json --precision single\", shell=True) # weights\n",
    "sp.call(f\"python submit.py -d cov -r m1 -p wzhengpu1 -q wildfire -m crbm -e 2000 -g 2 -w m1_st.json --precision single\", shell=True) # weights\n",
    "sp.call(f\"python submit.py -d cov -r m1 -p wzhengpu1 -q wildfire -m crbm -e 2000 -g 2 -w m1_stne.json --precision single\", shell=True) # weights\n",
    "sp.call(f\"python submit.py -d cov -r m1 -p wzhengpu1 -q wildfire -m crbm -e 2000 -g 2 -w m1_stnexp.json --precision single\", shell=True) # weights\n",
    "\n",
    "sp.call(f\"python submit.py -d cov -r m1c -p wzhengpu1 -q wildfire -m crbm -e 2000 -g 1 --precision single\", shell=True) # weights\n",
    "sp.call(f\"python submit.py -d cov -r m1c -p wzhengpu1 -q wildfire -m crbm -e 2000 -g 1 -w m1_nexp.json --precision single\", shell=True) # weights\n",
    "sp.call(f\"python submit.py -d cov -r m1c -p wzhengpu1 -q wildfire -m crbm -e 2000 -g 1 -w m1_ne.json --precision single\", shell=True) # weights\n",
    "sp.call(f\"python submit.py -d cov -r m1c -p wzhengpu1 -q wildfire -m crbm -e 2000 -g 1 -w m1_st.json --precision single\", shell=True) # weights\n",
    "sp.call(f\"python submit.py -d cov -r m1c -p wzhengpu1 -q wildfire -m crbm -e 2000 -g 1 -w m1_stne.json --precision single\", shell=True) # weights\n",
    "sp.call(f\"python submit.py -d cov -r m1c -p wzhengpu1 -q wildfire -m crbm -e 2000 -g 1 -w m1_stnexp.json --precision single\", shell=True) # weights"
   ],
   "metadata": {
    "collapsed": false,
    "pycharm": {
     "name": "#%%\n"
    }
   }
  },
  {
   "cell_type": "code",
   "execution_count": null,
   "outputs": [],
   "source": [],
   "metadata": {
    "collapsed": false,
    "pycharm": {
     "name": "#%%\n"
    }
   }
  }
 ],
 "metadata": {
  "kernelspec": {
   "name": "utils",
   "language": "python",
   "display_name": "utils"
  },
  "language_info": {
   "codemirror_mode": {
    "name": "ipython",
    "version": 2
   },
   "file_extension": ".py",
   "mimetype": "text/x-python",
   "name": "python",
   "nbconvert_exporter": "python",
   "pygments_lexer": "ipython2",
   "version": "2.7.6"
  }
 },
 "nbformat": 4,
 "nbformat_minor": 0
}