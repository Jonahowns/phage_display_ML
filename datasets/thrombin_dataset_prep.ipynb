{
 "cells": [
  {
   "cell_type": "code",
   "execution_count": 2,
   "metadata": {
    "collapsed": true
   },
   "outputs": [],
   "source": [
    "from rbm_torch.utils import data_prep as dp\n",
    "from rbm_torch.analysis import analysis_methods as am"
   ]
  },
  {
   "cell_type": "code",
   "execution_count": 3,
   "outputs": [
    {
     "name": "stdout",
     "output_type": "stream",
     "text": [
      "Process Time 1.8942933082580566\n",
      "Process Time 0.4419431686401367\n",
      "Process Time 0.4178619384765625\n",
      "Process Time 0.3263742923736572\n"
     ]
    }
   ],
   "source": [
    "thr_df = am.fetch_data([\"r5\", \"r6\", \"r7\", \"r8\"], dir=\"/mnt/D1/process_thrombin_aptamers/\", threads=6, molecule=\"dna\", normalize_counts=True, normalization_denominator=100000)"
   ],
   "metadata": {
    "collapsed": false,
    "pycharm": {
     "name": "#%%\n"
    }
   }
  },
  {
   "cell_type": "code",
   "execution_count": 4,
   "outputs": [],
   "source": [
    "def enrichment_averge(df, round_names, min_diff=1, max_diff=None, diff_weights=None, round_weights=None):\n",
    "    round_number = len(round_names)\n",
    "\n",
    "    if max_diff is None:\n",
    "        max_diff = round_number-1\n",
    "\n",
    "    if diff_weights is None:\n",
    "        diff_weights = [1. for x in range(min_diff, max_diff+1)]\n",
    "\n",
    "    if round_weights is None:\n",
    "        round_weights = [1. for x in range(len(round_names))]\n",
    "\n",
    "    # first let's remove all the nan values in the dataframe, set nan values as the minimum normalized count for each round\n",
    "    for r in round_names:\n",
    "        df[r] = df[r].fillna(df[r].min())\n",
    "\n",
    "    # Get fold value for round differences\n",
    "    fold_keys = {diff: [] for diff in range(min_diff, max_diff+1)}\n",
    "    for i in range(round_number):\n",
    "        for j in range(round_number):\n",
    "            if i >= j or j - i < min_diff or j - i > max_diff:\n",
    "                continue\n",
    "            fold_column_name = f\"fold_{round_names[j]}v{round_names[i]}\"\n",
    "            fold_keys[j-i].append(fold_column_name)\n",
    "            # fold_diffs.append(j-i)\n",
    "            df[fold_column_name] = df[round_names[j]]/df[round_names[i]] * (round_weights[j] + round_weights[i])\n",
    "\n",
    "    diff_keys = []\n",
    "    for i in range(min_diff, max_diff+1):\n",
    "        diff_avg_key = f\"fold_diff{i}_avg\"\n",
    "        df[diff_avg_key] = df[fold_keys[i]].sum(axis=1).div(len(fold_keys[i])).mul(diff_weights[i-1])\n",
    "        diff_keys.append(diff_avg_key)\n",
    "\n",
    "    df[\"Final_Fold_Avg\"] = df[diff_keys].sum(axis=1).div(len(diff_keys))\n",
    "\n",
    "    return df"
   ],
   "metadata": {
    "collapsed": false,
    "pycharm": {
     "name": "#%%\n"
    }
   }
  },
  {
   "cell_type": "code",
   "execution_count": 7,
   "outputs": [
    {
     "data": {
      "text/plain": "               sequence   copy_num round assignment\n0  GGGGGTGGGGGGGTGGAGGA  15.191281    r5        N/A\n1  GGGGATGGGGGGGTGGAGGA  14.406492    r5        N/A\n2  CGGGTTGGGGGGGTGGAGAG  13.005082    r5        N/A\n3  GTAGGATGGGTAGGGTGGTC  11.883954    r5        N/A\n4  GGGGGGTGGGGGGGGTGGTC  11.771842    r5        N/A",
      "text/html": "<div>\n<style scoped>\n    .dataframe tbody tr th:only-of-type {\n        vertical-align: middle;\n    }\n\n    .dataframe tbody tr th {\n        vertical-align: top;\n    }\n\n    .dataframe thead th {\n        text-align: right;\n    }\n</style>\n<table border=\"1\" class=\"dataframe\">\n  <thead>\n    <tr style=\"text-align: right;\">\n      <th></th>\n      <th>sequence</th>\n      <th>copy_num</th>\n      <th>round</th>\n      <th>assignment</th>\n    </tr>\n  </thead>\n  <tbody>\n    <tr>\n      <th>0</th>\n      <td>GGGGGTGGGGGGGTGGAGGA</td>\n      <td>15.191281</td>\n      <td>r5</td>\n      <td>N/A</td>\n    </tr>\n    <tr>\n      <th>1</th>\n      <td>GGGGATGGGGGGGTGGAGGA</td>\n      <td>14.406492</td>\n      <td>r5</td>\n      <td>N/A</td>\n    </tr>\n    <tr>\n      <th>2</th>\n      <td>CGGGTTGGGGGGGTGGAGAG</td>\n      <td>13.005082</td>\n      <td>r5</td>\n      <td>N/A</td>\n    </tr>\n    <tr>\n      <th>3</th>\n      <td>GTAGGATGGGTAGGGTGGTC</td>\n      <td>11.883954</td>\n      <td>r5</td>\n      <td>N/A</td>\n    </tr>\n    <tr>\n      <th>4</th>\n      <td>GGGGGGTGGGGGGGGTGGTC</td>\n      <td>11.771842</td>\n      <td>r5</td>\n      <td>N/A</td>\n    </tr>\n  </tbody>\n</table>\n</div>"
     },
     "execution_count": 7,
     "metadata": {},
     "output_type": "execute_result"
    }
   ],
   "source": [
    "thr_df.head()"
   ],
   "metadata": {
    "collapsed": false,
    "pycharm": {
     "name": "#%%\n"
    }
   }
  },
  {
   "cell_type": "code",
   "execution_count": 8,
   "outputs": [
    {
     "name": "stdout",
     "output_type": "stream",
     "text": [
      "Process Time 3268.212295770645\n"
     ]
    }
   ],
   "source": [
    "thr_ct = dp.copynum_topology_faster(thr_df, [\"r5\", \"r6\", \"r7\", \"r8\"], threads_per_task=3)"
   ],
   "metadata": {
    "collapsed": false,
    "pycharm": {
     "name": "#%%\n"
    }
   }
  },
  {
   "cell_type": "code",
   "execution_count": 9,
   "outputs": [],
   "source": [
    "thr_ct.to_csv(\"./thrombin/thr_ct.csv\", index=False)"
   ],
   "metadata": {
    "collapsed": false,
    "pycharm": {
     "name": "#%%\n"
    }
   }
  },
  {
   "cell_type": "code",
   "execution_count": 10,
   "outputs": [],
   "source": [
    "thr_final = enrichment_averge(thr_ct, [\"r5\", \"r6\", \"r7\", \"r8\"], min_diff=1, max_diff=None, diff_weights=[0.95, 1.0, 1.0], round_weights=[0.95, 0.97, 1.0, 1.02])"
   ],
   "metadata": {
    "collapsed": false,
    "pycharm": {
     "name": "#%%\n"
    }
   }
  },
  {
   "cell_type": "code",
   "execution_count": 11,
   "outputs": [
    {
     "data": {
      "text/plain": "               sequence        r5        r6        r7        r8  fold_r6vr5  \\\n0  AGGGATGGCAGCTGGTTGGG  0.112113  0.135789  0.133169  0.068925    2.325472   \n1  ACAGGGTGGCTAGGGTGGGA  0.112113  0.067895  0.066584  0.206774    1.162736   \n2  TATGGGTGGGTAGGTTGGAC  0.056056  0.203684  0.066584  0.068925    6.976416   \n3  TTGTGGTTGGGGTGGATGGT  0.112113  0.067895  0.466091  0.206774    1.162736   \n4  GGCGTGGGGGGTTGGGGAGG  0.224226  0.543156  0.466091  0.206774    4.650944   \n\n   fold_r7vr5  fold_r8vr5  fold_r7vr6  fold_r8vr6  fold_r8vr7  fold_diff1_avg  \\\n0    2.316234    1.211114    1.931987    1.010094    1.045496        1.679269   \n1    1.158117    3.633342    1.931987    6.060567    6.272976        2.966438   \n2    2.316234    2.422228    0.643996    0.673396    2.090992        3.075278   \n3    8.106818    3.633342   13.523906    6.060567    0.896139        4.934547   \n4    4.053409    1.816671    1.690488    0.757571    0.896139        2.291898   \n\n   fold_diff2_avg  fold_diff3_avg  Final_Fold_Avg  \n0        1.663164        1.211114        1.517849  \n1        3.609342        3.633342        3.403041  \n2        1.494815        2.422228        2.330774  \n3        7.083692        3.633342        5.217194  \n4        2.405490        1.816671        2.171353  ",
      "text/html": "<div>\n<style scoped>\n    .dataframe tbody tr th:only-of-type {\n        vertical-align: middle;\n    }\n\n    .dataframe tbody tr th {\n        vertical-align: top;\n    }\n\n    .dataframe thead th {\n        text-align: right;\n    }\n</style>\n<table border=\"1\" class=\"dataframe\">\n  <thead>\n    <tr style=\"text-align: right;\">\n      <th></th>\n      <th>sequence</th>\n      <th>r5</th>\n      <th>r6</th>\n      <th>r7</th>\n      <th>r8</th>\n      <th>fold_r6vr5</th>\n      <th>fold_r7vr5</th>\n      <th>fold_r8vr5</th>\n      <th>fold_r7vr6</th>\n      <th>fold_r8vr6</th>\n      <th>fold_r8vr7</th>\n      <th>fold_diff1_avg</th>\n      <th>fold_diff2_avg</th>\n      <th>fold_diff3_avg</th>\n      <th>Final_Fold_Avg</th>\n    </tr>\n  </thead>\n  <tbody>\n    <tr>\n      <th>0</th>\n      <td>AGGGATGGCAGCTGGTTGGG</td>\n      <td>0.112113</td>\n      <td>0.135789</td>\n      <td>0.133169</td>\n      <td>0.068925</td>\n      <td>2.325472</td>\n      <td>2.316234</td>\n      <td>1.211114</td>\n      <td>1.931987</td>\n      <td>1.010094</td>\n      <td>1.045496</td>\n      <td>1.679269</td>\n      <td>1.663164</td>\n      <td>1.211114</td>\n      <td>1.517849</td>\n    </tr>\n    <tr>\n      <th>1</th>\n      <td>ACAGGGTGGCTAGGGTGGGA</td>\n      <td>0.112113</td>\n      <td>0.067895</td>\n      <td>0.066584</td>\n      <td>0.206774</td>\n      <td>1.162736</td>\n      <td>1.158117</td>\n      <td>3.633342</td>\n      <td>1.931987</td>\n      <td>6.060567</td>\n      <td>6.272976</td>\n      <td>2.966438</td>\n      <td>3.609342</td>\n      <td>3.633342</td>\n      <td>3.403041</td>\n    </tr>\n    <tr>\n      <th>2</th>\n      <td>TATGGGTGGGTAGGTTGGAC</td>\n      <td>0.056056</td>\n      <td>0.203684</td>\n      <td>0.066584</td>\n      <td>0.068925</td>\n      <td>6.976416</td>\n      <td>2.316234</td>\n      <td>2.422228</td>\n      <td>0.643996</td>\n      <td>0.673396</td>\n      <td>2.090992</td>\n      <td>3.075278</td>\n      <td>1.494815</td>\n      <td>2.422228</td>\n      <td>2.330774</td>\n    </tr>\n    <tr>\n      <th>3</th>\n      <td>TTGTGGTTGGGGTGGATGGT</td>\n      <td>0.112113</td>\n      <td>0.067895</td>\n      <td>0.466091</td>\n      <td>0.206774</td>\n      <td>1.162736</td>\n      <td>8.106818</td>\n      <td>3.633342</td>\n      <td>13.523906</td>\n      <td>6.060567</td>\n      <td>0.896139</td>\n      <td>4.934547</td>\n      <td>7.083692</td>\n      <td>3.633342</td>\n      <td>5.217194</td>\n    </tr>\n    <tr>\n      <th>4</th>\n      <td>GGCGTGGGGGGTTGGGGAGG</td>\n      <td>0.224226</td>\n      <td>0.543156</td>\n      <td>0.466091</td>\n      <td>0.206774</td>\n      <td>4.650944</td>\n      <td>4.053409</td>\n      <td>1.816671</td>\n      <td>1.690488</td>\n      <td>0.757571</td>\n      <td>0.896139</td>\n      <td>2.291898</td>\n      <td>2.405490</td>\n      <td>1.816671</td>\n      <td>2.171353</td>\n    </tr>\n  </tbody>\n</table>\n</div>"
     },
     "execution_count": 11,
     "metadata": {},
     "output_type": "execute_result"
    }
   ],
   "source": [
    "thr_final.head()"
   ],
   "metadata": {
    "collapsed": false,
    "pycharm": {
     "name": "#%%\n"
    }
   }
  },
  {
   "cell_type": "code",
   "execution_count": 12,
   "outputs": [
    {
     "data": {
      "text/plain": "                    sequence        r5          r6          r7          r8  \\\n111634  AGGGATGATGCGTGGTAGGC  1.569579   40.397265  338.715133  291.068344   \n158469  AGGGATGATGTGTGGTAGGC  3.867891  101.638160  813.595481  698.343468   \n211578  AGGGTTGATGCGTGGTAGGC  0.672677   17.313113  112.860655   95.046945   \n178184  AGGGTTGATGTGTGGTAGGC  2.130143   54.655123  359.156561  299.752837   \n131419  AGGGTAGGCGTGGATGATGC  2.298312   56.624065  379.797743  325.254917   \n\n        fold_r6vr5  fold_r7vr5  fold_r8vr5  fold_r7vr6  fold_r8vr6  \\\n111634   49.416279  420.810016  365.323877   16.517673   14.338248   \n158469   50.452631  410.174763  355.681354   15.769501   13.673049   \n211578   49.416279  327.167999  278.354360   12.842028   10.924865   \n178184   49.263288  328.783268  277.217612   12.945510   10.914039   \n131419   47.303503  322.238941  278.792527   13.213491   11.430781   \n\n        fold_r8vr7  fold_diff1_avg  fold_diff2_avg  fold_diff3_avg  \\\n111634    1.735848       21.428770      217.574132      365.323877   \n158469    1.733852       21.519395      211.923906      355.681354   \n211578    1.701167       20.253834      169.046432      278.354360   \n178184    1.685896       20.233320      169.848653      277.217612   \n131419    1.729907       19.711519      166.834861      278.792527   \n\n        Final_Fold_Avg  \n111634      201.442260  \n158469      196.374885  \n211578      155.884875  \n178184      155.766528  \n131419      155.112969  ",
      "text/html": "<div>\n<style scoped>\n    .dataframe tbody tr th:only-of-type {\n        vertical-align: middle;\n    }\n\n    .dataframe tbody tr th {\n        vertical-align: top;\n    }\n\n    .dataframe thead th {\n        text-align: right;\n    }\n</style>\n<table border=\"1\" class=\"dataframe\">\n  <thead>\n    <tr style=\"text-align: right;\">\n      <th></th>\n      <th>sequence</th>\n      <th>r5</th>\n      <th>r6</th>\n      <th>r7</th>\n      <th>r8</th>\n      <th>fold_r6vr5</th>\n      <th>fold_r7vr5</th>\n      <th>fold_r8vr5</th>\n      <th>fold_r7vr6</th>\n      <th>fold_r8vr6</th>\n      <th>fold_r8vr7</th>\n      <th>fold_diff1_avg</th>\n      <th>fold_diff2_avg</th>\n      <th>fold_diff3_avg</th>\n      <th>Final_Fold_Avg</th>\n    </tr>\n  </thead>\n  <tbody>\n    <tr>\n      <th>111634</th>\n      <td>AGGGATGATGCGTGGTAGGC</td>\n      <td>1.569579</td>\n      <td>40.397265</td>\n      <td>338.715133</td>\n      <td>291.068344</td>\n      <td>49.416279</td>\n      <td>420.810016</td>\n      <td>365.323877</td>\n      <td>16.517673</td>\n      <td>14.338248</td>\n      <td>1.735848</td>\n      <td>21.428770</td>\n      <td>217.574132</td>\n      <td>365.323877</td>\n      <td>201.442260</td>\n    </tr>\n    <tr>\n      <th>158469</th>\n      <td>AGGGATGATGTGTGGTAGGC</td>\n      <td>3.867891</td>\n      <td>101.638160</td>\n      <td>813.595481</td>\n      <td>698.343468</td>\n      <td>50.452631</td>\n      <td>410.174763</td>\n      <td>355.681354</td>\n      <td>15.769501</td>\n      <td>13.673049</td>\n      <td>1.733852</td>\n      <td>21.519395</td>\n      <td>211.923906</td>\n      <td>355.681354</td>\n      <td>196.374885</td>\n    </tr>\n    <tr>\n      <th>211578</th>\n      <td>AGGGTTGATGCGTGGTAGGC</td>\n      <td>0.672677</td>\n      <td>17.313113</td>\n      <td>112.860655</td>\n      <td>95.046945</td>\n      <td>49.416279</td>\n      <td>327.167999</td>\n      <td>278.354360</td>\n      <td>12.842028</td>\n      <td>10.924865</td>\n      <td>1.701167</td>\n      <td>20.253834</td>\n      <td>169.046432</td>\n      <td>278.354360</td>\n      <td>155.884875</td>\n    </tr>\n    <tr>\n      <th>178184</th>\n      <td>AGGGTTGATGTGTGGTAGGC</td>\n      <td>2.130143</td>\n      <td>54.655123</td>\n      <td>359.156561</td>\n      <td>299.752837</td>\n      <td>49.263288</td>\n      <td>328.783268</td>\n      <td>277.217612</td>\n      <td>12.945510</td>\n      <td>10.914039</td>\n      <td>1.685896</td>\n      <td>20.233320</td>\n      <td>169.848653</td>\n      <td>277.217612</td>\n      <td>155.766528</td>\n    </tr>\n    <tr>\n      <th>131419</th>\n      <td>AGGGTAGGCGTGGATGATGC</td>\n      <td>2.298312</td>\n      <td>56.624065</td>\n      <td>379.797743</td>\n      <td>325.254917</td>\n      <td>47.303503</td>\n      <td>322.238941</td>\n      <td>278.792527</td>\n      <td>13.213491</td>\n      <td>11.430781</td>\n      <td>1.729907</td>\n      <td>19.711519</td>\n      <td>166.834861</td>\n      <td>278.792527</td>\n      <td>155.112969</td>\n    </tr>\n  </tbody>\n</table>\n</div>"
     },
     "execution_count": 12,
     "metadata": {},
     "output_type": "execute_result"
    }
   ],
   "source": [
    "thr_final.sort_values(\"Final_Fold_Avg\", ascending=False, inplace=True)\n",
    "thr_final.head()"
   ],
   "metadata": {
    "collapsed": false,
    "pycharm": {
     "name": "#%%\n"
    }
   }
  },
  {
   "cell_type": "code",
   "execution_count": 13,
   "outputs": [
    {
     "data": {
      "text/plain": "<Figure size 640x480 with 1 Axes>",
      "image/png": "[encoded data removed]"
     },
     "metadata": {},
     "output_type": "display_data"
    }
   ],
   "source": [
    "dp.quick_hist(thr_final[\"Final_Fold_Avg\"].to_numpy())"
   ],
   "metadata": {
    "collapsed": false,
    "pycharm": {
     "name": "#%%\n"
    }
   }
  },
  {
   "cell_type": "code",
   "execution_count": 14,
   "outputs": [
    {
     "data": {
      "text/plain": "270881"
     },
     "execution_count": 14,
     "metadata": {},
     "output_type": "execute_result"
    }
   ],
   "source": [
    "thr_final.index.__len__()"
   ],
   "metadata": {
    "collapsed": false,
    "pycharm": {
     "name": "#%%\n"
    }
   }
  },
  {
   "cell_type": "code",
   "execution_count": 16,
   "outputs": [],
   "source": [
    "thr_final[\"fitness_value\"] = dp.scale_values_np(dp.log_scale(thr_final[\"Final_Fold_Avg\"].to_list(), base=1.0), min=0.01, max=1.0).squeeze(1).tolist()"
   ],
   "metadata": {
    "collapsed": false,
    "pycharm": {
     "name": "#%%\n"
    }
   }
  },
  {
   "cell_type": "code",
   "execution_count": 17,
   "outputs": [
    {
     "data": {
      "text/plain": "                    sequence        r5          r6          r7          r8  \\\n111634  AGGGATGATGCGTGGTAGGC  1.569579   40.397265  338.715133  291.068344   \n158469  AGGGATGATGTGTGGTAGGC  3.867891  101.638160  813.595481  698.343468   \n211578  AGGGTTGATGCGTGGTAGGC  0.672677   17.313113  112.860655   95.046945   \n178184  AGGGTTGATGTGTGGTAGGC  2.130143   54.655123  359.156561  299.752837   \n131419  AGGGTAGGCGTGGATGATGC  2.298312   56.624065  379.797743  325.254917   \n\n        fold_r6vr5  fold_r7vr5  fold_r8vr5  fold_r7vr6  fold_r8vr6  \\\n111634   49.416279  420.810016  365.323877   16.517673   14.338248   \n158469   50.452631  410.174763  355.681354   15.769501   13.673049   \n211578   49.416279  327.167999  278.354360   12.842028   10.924865   \n178184   49.263288  328.783268  277.217612   12.945510   10.914039   \n131419   47.303503  322.238941  278.792527   13.213491   11.430781   \n\n        fold_r8vr7  fold_diff1_avg  fold_diff2_avg  fold_diff3_avg  \\\n111634    1.735848       21.428770      217.574132      365.323877   \n158469    1.733852       21.519395      211.923906      355.681354   \n211578    1.701167       20.253834      169.046432      278.354360   \n178184    1.685896       20.233320      169.848653      277.217612   \n131419    1.729907       19.711519      166.834861      278.792527   \n\n        Final_Fold_Avg  fitness_value  \n111634      201.442260       1.000000  \n158469      196.374885       0.994993  \n211578      155.884875       0.949648  \n178184      155.766528       0.949499  \n131419      155.112969       0.948674  ",
      "text/html": "<div>\n<style scoped>\n    .dataframe tbody tr th:only-of-type {\n        vertical-align: middle;\n    }\n\n    .dataframe tbody tr th {\n        vertical-align: top;\n    }\n\n    .dataframe thead th {\n        text-align: right;\n    }\n</style>\n<table border=\"1\" class=\"dataframe\">\n  <thead>\n    <tr style=\"text-align: right;\">\n      <th></th>\n      <th>sequence</th>\n      <th>r5</th>\n      <th>r6</th>\n      <th>r7</th>\n      <th>r8</th>\n      <th>fold_r6vr5</th>\n      <th>fold_r7vr5</th>\n      <th>fold_r8vr5</th>\n      <th>fold_r7vr6</th>\n      <th>fold_r8vr6</th>\n      <th>fold_r8vr7</th>\n      <th>fold_diff1_avg</th>\n      <th>fold_diff2_avg</th>\n      <th>fold_diff3_avg</th>\n      <th>Final_Fold_Avg</th>\n      <th>fitness_value</th>\n    </tr>\n  </thead>\n  <tbody>\n    <tr>\n      <th>111634</th>\n      <td>AGGGATGATGCGTGGTAGGC</td>\n      <td>1.569579</td>\n      <td>40.397265</td>\n      <td>338.715133</td>\n      <td>291.068344</td>\n      <td>49.416279</td>\n      <td>420.810016</td>\n      <td>365.323877</td>\n      <td>16.517673</td>\n      <td>14.338248</td>\n      <td>1.735848</td>\n      <td>21.428770</td>\n      <td>217.574132</td>\n      <td>365.323877</td>\n      <td>201.442260</td>\n      <td>1.000000</td>\n    </tr>\n    <tr>\n      <th>158469</th>\n      <td>AGGGATGATGTGTGGTAGGC</td>\n      <td>3.867891</td>\n      <td>101.638160</td>\n      <td>813.595481</td>\n      <td>698.343468</td>\n      <td>50.452631</td>\n      <td>410.174763</td>\n      <td>355.681354</td>\n      <td>15.769501</td>\n      <td>13.673049</td>\n      <td>1.733852</td>\n      <td>21.519395</td>\n      <td>211.923906</td>\n      <td>355.681354</td>\n      <td>196.374885</td>\n      <td>0.994993</td>\n    </tr>\n    <tr>\n      <th>211578</th>\n      <td>AGGGTTGATGCGTGGTAGGC</td>\n      <td>0.672677</td>\n      <td>17.313113</td>\n      <td>112.860655</td>\n      <td>95.046945</td>\n      <td>49.416279</td>\n      <td>327.167999</td>\n      <td>278.354360</td>\n      <td>12.842028</td>\n      <td>10.924865</td>\n      <td>1.701167</td>\n      <td>20.253834</td>\n      <td>169.046432</td>\n      <td>278.354360</td>\n      <td>155.884875</td>\n      <td>0.949648</td>\n    </tr>\n    <tr>\n      <th>178184</th>\n      <td>AGGGTTGATGTGTGGTAGGC</td>\n      <td>2.130143</td>\n      <td>54.655123</td>\n      <td>359.156561</td>\n      <td>299.752837</td>\n      <td>49.263288</td>\n      <td>328.783268</td>\n      <td>277.217612</td>\n      <td>12.945510</td>\n      <td>10.914039</td>\n      <td>1.685896</td>\n      <td>20.233320</td>\n      <td>169.848653</td>\n      <td>277.217612</td>\n      <td>155.766528</td>\n      <td>0.949499</td>\n    </tr>\n    <tr>\n      <th>131419</th>\n      <td>AGGGTAGGCGTGGATGATGC</td>\n      <td>2.298312</td>\n      <td>56.624065</td>\n      <td>379.797743</td>\n      <td>325.254917</td>\n      <td>47.303503</td>\n      <td>322.238941</td>\n      <td>278.792527</td>\n      <td>13.213491</td>\n      <td>11.430781</td>\n      <td>1.729907</td>\n      <td>19.711519</td>\n      <td>166.834861</td>\n      <td>278.792527</td>\n      <td>155.112969</td>\n      <td>0.948674</td>\n    </tr>\n  </tbody>\n</table>\n</div>"
     },
     "execution_count": 17,
     "metadata": {},
     "output_type": "execute_result"
    }
   ],
   "source": [
    "thr_final.head()"
   ],
   "metadata": {
    "collapsed": false,
    "pycharm": {
     "name": "#%%\n"
    }
   }
  },
  {
   "cell_type": "code",
   "execution_count": 18,
   "outputs": [],
   "source": [
    "dp.dataframe_to_fasta(thr_final, \"./thrombin/enriched.fasta\", count_key=\"fitness_value\")"
   ],
   "metadata": {
    "collapsed": false,
    "pycharm": {
     "name": "#%%\n"
    }
   }
  },
  {
   "cell_type": "code",
   "execution_count": 21,
   "outputs": [],
   "source": [
    "r5_data = thr_df[thr_df[\"round\"] == \"r5\"]\n",
    "\n",
    "r5_only = exclusive_rows(r5_data, thr_final, \"sequence\")"
   ],
   "metadata": {
    "collapsed": false,
    "pycharm": {
     "name": "#%%\n"
    }
   }
  },
  {
   "cell_type": "code",
   "execution_count": 23,
   "outputs": [],
   "source": [
    "r5_sample = r5_only.sample(350000)"
   ],
   "metadata": {
    "collapsed": false,
    "pycharm": {
     "name": "#%%\n"
    }
   }
  },
  {
   "cell_type": "code",
   "execution_count": 25,
   "outputs": [],
   "source": [
    "r5_enriched_dists = prune_similar_sequences_df(r5_sample, thr_final, molecule=\"dna\", return_min_distances = True )"
   ],
   "metadata": {
    "collapsed": false,
    "pycharm": {
     "name": "#%%\n"
    }
   }
  },
  {
   "cell_type": "code",
   "execution_count": 26,
   "outputs": [
    {
     "data": {
      "text/plain": "<Figure size 640x480 with 1 Axes>",
      "image/png": "[encoded data removed]"
     },
     "metadata": {},
     "output_type": "display_data"
    }
   ],
   "source": [
    "import matplotlib.pyplot as plt\n",
    "fig, axs = plt.subplots(1, 1)\n",
    "hamming_dists = np.arange(0, 11, 1).tolist()\n",
    "number_of_seqs =[sum(i > d for i in r5_enriched_dists) for d in hamming_dists]\n",
    "axs.plot(hamming_dists, number_of_seqs)\n",
    "axs.set_xlabel(\"Hamming Distance\")\n",
    "axs.set_ylabel(\"Number of Sequences\")\n",
    "axs.set_title(\"Pruned Sample Dataset Number\")\n",
    "plt.show()"
   ],
   "metadata": {
    "collapsed": false,
    "pycharm": {
     "name": "#%%\n"
    }
   }
  },
  {
   "cell_type": "code",
   "execution_count": 27,
   "outputs": [],
   "source": [
    "import numpy as np\n",
    "from copy import copy\n",
    "r5_keep = (np.asarray(r5_enriched_dists) > 1)\n",
    "\n",
    "background = copy(r5_sample[r5_keep].iloc[:270000])\n",
    "background[\"fitness_value\"] = dp.scale_values_np(background[\"copy_num\"].to_numpy(), min=0.001, max=0.009).squeeze(1).tolist()\n",
    "\n",
    "dp.dataframe_to_fasta(background, \"./thrombin/background.fasta\", count_key=\"fitness_value\")"
   ],
   "metadata": {
    "collapsed": false,
    "pycharm": {
     "name": "#%%\n"
    }
   }
  },
  {
   "cell_type": "code",
   "execution_count": 24,
   "outputs": [],
   "source": [
    "from copy import copy\n",
    "def exclusive_rows(key_pd, query_pd, col_val):\n",
    "    \"\"\"returns rows in key pd that are not in query pd\"\"\"\n",
    "    df_all = key_pd.merge(query_pd.drop_duplicates(), on=col_val, how='left', indicator=True)\n",
    "    df_subset = copy(df_all[df_all['_merge'] == 'left_only'])\n",
    "    return df_subset.drop(\"_merge\", axis=1)\n",
    "\n",
    "from rbm_torch.utils.seq_utils import seq_to_cat\n",
    "from sklearn.metrics.pairwise import pairwise_distances\n",
    "from sklearn.metrics.pairwise import pairwise_distances_chunked\n",
    "import numpy as np\n",
    "\n",
    "\n",
    "def prune_similar_sequences_df(df1, df2, hamming_threshold=0, molecule=\"protein\", return_min_distances=False):\n",
    "    \"\"\"generate subset of sequences in df1 that are at least x mutations away from all sequences in df2\"\"\"\n",
    "    df1.reset_index(drop=True, inplace=True)\n",
    "    df1_seqs = df1[\"sequence\"].tolist()\n",
    "    df1_index = df1.index.tolist()\n",
    "\n",
    "    df1_cat = seq_to_cat(df1_seqs, molecule=molecule)\n",
    "    X = df1_cat.numpy().astype(np.int8)\n",
    "\n",
    "    df2.reset_index(drop=True, inplace=True)\n",
    "    df2_seqs = df2[\"sequence\"].tolist()\n",
    "    df2_index = df2.index.tolist()\n",
    "\n",
    "    df2_cat = seq_to_cat(df2_seqs, molecule=molecule)\n",
    "    Y = df2_cat.numpy().astype(np.int8)\n",
    "\n",
    "    seq_len = len(df1_seqs[0])\n",
    "\n",
    "    def reduce_func(D_chunk, start):\n",
    "        # print(D_chunk)\n",
    "        return np.asarray(D_chunk).min(1).tolist()\n",
    "\n",
    "    min_distances_chunked = pairwise_distances_chunked(X, Y, reduce_func=reduce_func, metric=\"hamming\")\n",
    "\n",
    "    mdists = []\n",
    "    for n1 in min_distances_chunked:\n",
    "        mdists += n1\n",
    "\n",
    "    if return_min_distances:\n",
    "        return [x * seq_len for x in mdists]\n",
    "    else:\n",
    "        keep = np.asarray(mdists) * seq_len > hamming_threshold\n",
    "\n",
    "        dataframe = df1.iloc[keep, :]\n",
    "\n",
    "        print(f\"Kept {dataframe.index.__len__()} of {df1.index.__len__()} in df1\")\n",
    "\n",
    "        dataframe.reset_index(drop=True, inplace=True)\n",
    "        return dataframe"
   ],
   "metadata": {
    "collapsed": false,
    "pycharm": {
     "name": "#%%\n"
    }
   }
  },
  {
   "cell_type": "code",
   "execution_count": null,
   "outputs": [],
   "source": [],
   "metadata": {
    "collapsed": false,
    "pycharm": {
     "name": "#%%\n"
    }
   }
  }
 ],
 "metadata": {
  "kernelspec": {
   "display_name": "Python 3",
   "language": "python",
   "name": "python3"
  },
  "language_info": {
   "codemirror_mode": {
    "name": "ipython",
    "version": 2
   },
   "file_extension": ".py",
   "mimetype": "text/x-python",
   "name": "python",
   "nbconvert_exporter": "python",
   "pygments_lexer": "ipython2",
   "version": "2.7.6"
  }
 },
 "nbformat": 4,
 "nbformat_minor": 0
}