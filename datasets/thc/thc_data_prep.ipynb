{
 "cells": [
  {
   "cell_type": "code",
   "execution_count": 1,
   "metadata": {
    "collapsed": true
   },
   "outputs": [],
   "source": [
    "import pandas as pd\n",
    "import numpy as np"
   ]
  },
  {
   "cell_type": "code",
   "execution_count": 3,
   "outputs": [],
   "source": [
    "from rbm_torch.utils import data_prep as dp\n",
    "from rbm_torch.utils import utils\n",
    "from rbm_torch.utils import seq_utils as su\n",
    "from rbm_torch.analysis import analysis_methods as am"
   ],
   "metadata": {
    "collapsed": false,
    "pycharm": {
     "name": "#%%\n"
    }
   }
  },
  {
   "cell_type": "markdown",
   "source": [
    "#### Starting From our Processed Fasta Files"
   ],
   "metadata": {
    "collapsed": false
   }
  },
  {
   "cell_type": "code",
   "execution_count": 8,
   "outputs": [],
   "source": [
    "last_5_rounds = [\"r12\", \"r13\", \"r14\", \"r15\", \"r16\"]\n",
    "thc_pd = am.fetch_data(last_5_rounds, dir=\"./\", threads=6, molecule=\"rna\", normalize_counts=True, normalization_denominator=1e6)"
   ],
   "metadata": {
    "collapsed": false,
    "pycharm": {
     "name": "#%%\n"
    }
   }
  },
  {
   "cell_type": "code",
   "execution_count": 6,
   "outputs": [
    {
     "data": {
      "text/plain": "                                      sequence     copy_num round assignment\n0  CAUAUAGGACGACGACGGUCAACACCCGCGACAACCACAGCA-  2816.857140   r12        N/A\n1  CGUACCACGAGUGGGGAUUGUGGGCAGUUGGACACGCCAGUC-  1443.547078   r12        N/A\n2  GCGGGAGGGGGGGAGGGGCCCGUAACAAGAACGACAUGUAAG-   795.057367   r12        N/A\n3  GCUGCUCCGCAUGAGUCAUAUCGAACGAAGGGGUGUAUACGC-   643.358240   r12        N/A\n4  ACACCACGGGGAGAACACCACCAGAAACACCGCCAGACUCCA-   590.439940   r12        N/A",
      "text/html": "<div>\n<style scoped>\n    .dataframe tbody tr th:only-of-type {\n        vertical-align: middle;\n    }\n\n    .dataframe tbody tr th {\n        vertical-align: top;\n    }\n\n    .dataframe thead th {\n        text-align: right;\n    }\n</style>\n<table border=\"1\" class=\"dataframe\">\n  <thead>\n    <tr style=\"text-align: right;\">\n      <th></th>\n      <th>sequence</th>\n      <th>copy_num</th>\n      <th>round</th>\n      <th>assignment</th>\n    </tr>\n  </thead>\n  <tbody>\n    <tr>\n      <th>0</th>\n      <td>CAUAUAGGACGACGACGGUCAACACCCGCGACAACCACAGCA-</td>\n      <td>2816.857140</td>\n      <td>r12</td>\n      <td>N/A</td>\n    </tr>\n    <tr>\n      <th>1</th>\n      <td>CGUACCACGAGUGGGGAUUGUGGGCAGUUGGACACGCCAGUC-</td>\n      <td>1443.547078</td>\n      <td>r12</td>\n      <td>N/A</td>\n    </tr>\n    <tr>\n      <th>2</th>\n      <td>GCGGGAGGGGGGGAGGGGCCCGUAACAAGAACGACAUGUAAG-</td>\n      <td>795.057367</td>\n      <td>r12</td>\n      <td>N/A</td>\n    </tr>\n    <tr>\n      <th>3</th>\n      <td>GCUGCUCCGCAUGAGUCAUAUCGAACGAAGGGGUGUAUACGC-</td>\n      <td>643.358240</td>\n      <td>r12</td>\n      <td>N/A</td>\n    </tr>\n    <tr>\n      <th>4</th>\n      <td>ACACCACGGGGAGAACACCACCAGAAACACCGCCAGACUCCA-</td>\n      <td>590.439940</td>\n      <td>r12</td>\n      <td>N/A</td>\n    </tr>\n  </tbody>\n</table>\n</div>"
     },
     "execution_count": 6,
     "metadata": {},
     "output_type": "execute_result"
    }
   ],
   "source": [
    "thc_pd.head()"
   ],
   "metadata": {
    "collapsed": false,
    "pycharm": {
     "name": "#%%\n"
    }
   }
  },
  {
   "cell_type": "code",
   "execution_count": 9,
   "outputs": [
    {
     "name": "stdout",
     "output_type": "stream",
     "text": [
      "Process Time 16624.104041576385\n"
     ]
    }
   ],
   "source": [
    "thc_ct = dp.copynum_topology_faster(thc_pd, last_5_rounds, threads_per_task=2)  # Uses Total of 10 threads"
   ],
   "metadata": {
    "collapsed": false,
    "pycharm": {
     "name": "#%%\n"
    }
   }
  },
  {
   "cell_type": "code",
   "execution_count": 11,
   "outputs": [],
   "source": [
    "thc_ct.to_csv(\"./thc_12_to_16_ct.csv\", index=False)"
   ],
   "metadata": {
    "collapsed": false,
    "pycharm": {
     "name": "#%%\n"
    }
   }
  },
  {
   "cell_type": "code",
   "execution_count": 12,
   "outputs": [
    {
     "data": {
      "text/plain": "437749"
     },
     "execution_count": 12,
     "metadata": {},
     "output_type": "execute_result"
    }
   ],
   "source": [
    "thc_ct.index.__len__()"
   ],
   "metadata": {
    "collapsed": false,
    "pycharm": {
     "name": "#%%\n"
    }
   }
  },
  {
   "cell_type": "code",
   "execution_count": null,
   "outputs": [],
   "source": [],
   "metadata": {
    "collapsed": false,
    "pycharm": {
     "name": "#%%\n"
    }
   }
  }
 ],
 "metadata": {
  "kernelspec": {
   "display_name": "Python 3",
   "language": "python",
   "name": "python3"
  },
  "language_info": {
   "codemirror_mode": {
    "name": "ipython",
    "version": 2
   },
   "file_extension": ".py",
   "mimetype": "text/x-python",
   "name": "python",
   "nbconvert_exporter": "python",
   "pygments_lexer": "ipython2",
   "version": "2.7.6"
  }
 },
 "nbformat": 4,
 "nbformat_minor": 0
}