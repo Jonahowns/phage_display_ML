{
 "cells": [
  {
   "cell_type": "code",
   "execution_count": 1,
   "id": "6a89ea27",
   "metadata": {},
   "outputs": [
    {
     "name": "stderr",
     "output_type": "stream",
     "text": [
      "findfont: Font family ['Arial'] not found. Falling back to DejaVu Sans.\n",
      "findfont: Font family ['Arial'] not found. Falling back to DejaVu Sans.\n"
     ]
    }
   ],
   "source": [
    "import sys\n",
    "sys.path.append(\"../\")\n",
    "\n",
    "from rbm import fasta_read, get_beta_and_W, all_weights, RBM\n",
    "import analysis_methods as am\n",
    "\n",
    "from glob import glob\n",
    "import pandas as pd\n",
    "import matplotlib.pyplot as plt\n",
    "import seaborn as sns\n",
    "import numpy as np\n",
    "import math\n",
    "import subprocess as sp\n",
    "import matplotlib.image as mpimg\n"
   ]
  },
  {
   "cell_type": "code",
   "execution_count": 2,
   "id": "435073b8",
   "metadata": {},
   "outputs": [],
   "source": [
    "data_files = ['np1_c1.fasta', 'np2_c1.fasta', 'np3_c1.fasta', 'n1_c1.fasta', 'b3_c1.fasta']\n",
    "rounds = ['np1_c1', 'np2_c1', 'np3_c1', 'n1_c1', 'b3_c1']\n",
    "rbm_names = ['np1_c1_w', 'np2_c1_w', 'np3_c1_w', 'n1_c1_w', 'b3_c1_w']\n",
    "local_rbm_dir = '/mnt/D1/globus/pig_trained_rbms/gm4/'\n",
    "data_dir = '../../pig_tissue/gaps_middle_4_clusters/'\n",
    "server_rbm_dir = '../../pig_tissue/gaps_middle_4_clusters/trained_rbms/'\n",
    "molecule = 'protein'\n",
    "cluster = 1"
   ]
  },
  {
   "cell_type": "code",
   "execution_count": 3,
   "id": "f5af276a",
   "metadata": {},
   "outputs": [
    {
     "name": "stderr",
     "output_type": "stream",
     "text": [
      "../rbm_utils.py:313: MatplotlibDeprecationWarning: Passing the minor parameter of set_ticks() positionally is deprecated since Matplotlib 3.2; the parameter will become keyword-only two minor releases later.\n",
      "  ax.set_xticks(xticks, xtickslabels)\n"
     ]
    }
   ],
   "source": [
    "# generate weights in each rbmdirectory\n",
    "for rid, rbm in enumerate(rbm_names):\n",
    "    checkp, version_dir = am.get_checkpoint_path(rbm, rbmdir=local_rbm_dir)\n",
    "    tmp = RBM.load_from_checkpoint(checkp)\n",
    "    all_weights(tmp, version_dir +rbm+\"_weights\", 5, 1, 6, 2, \"protein\")\n"
   ]
  },
  {
   "cell_type": "code",
   "execution_count": 4,
   "id": "617810b0",
   "metadata": {},
   "outputs": [
    {
     "name": "stdout",
     "output_type": "stream",
     "text": [
      "Process Time 0.8142995834350586\n",
      "Process Time 0.40366291999816895\n",
      "Process Time 1.0456314086914062\n",
      "Process Time 0.8946518898010254\n",
      "Process Time 0.6355741024017334\n"
     ]
    }
   ],
   "source": [
    "# Stores all data in a dictionary (\"data\")\n",
    "all_data = am.fetch_data(rounds, dir=data_dir, counts=True, molecule=molecule)\n"
   ]
  },
  {
   "cell_type": "code",
   "execution_count": 5,
   "id": "325c0834",
   "metadata": {},
   "outputs": [
    {
     "ename": "CalledProcessError",
     "evalue": "Command '/home/jonah/kpLogo/bin/kpLogo tmp.csv -simple -o ./generated/np2_c1_seqlogo -alphabet ACDEFGHIKLMNPQRSTVWY- -fontsize 20 -seq 1' returned non-zero exit status 1.",
     "output_type": "error",
     "traceback": [
      "\u001B[0;31m---------------------------------------------------------------------------\u001B[0m",
      "\u001B[0;31mCalledProcessError\u001B[0m                        Traceback (most recent call last)",
      "\u001B[0;32m<ipython-input-5-d640ec4dca36>\u001B[0m in \u001B[0;36m<module>\u001B[0;34m\u001B[0m\n\u001B[1;32m      1\u001B[0m \u001B[0mpaths_u\u001B[0m\u001B[0;34m,\u001B[0m \u001B[0mpaths_w\u001B[0m \u001B[0;34m=\u001B[0m \u001B[0;34m[\u001B[0m\u001B[0;34m]\u001B[0m\u001B[0;34m,\u001B[0m \u001B[0;34m[\u001B[0m\u001B[0;34m]\u001B[0m\u001B[0;34m\u001B[0m\u001B[0;34m\u001B[0m\u001B[0m\n\u001B[1;32m      2\u001B[0m \u001B[0;32mfor\u001B[0m \u001B[0mr\u001B[0m \u001B[0;32min\u001B[0m \u001B[0mrounds\u001B[0m\u001B[0;34m:\u001B[0m\u001B[0;34m\u001B[0m\u001B[0;34m\u001B[0m\u001B[0m\n\u001B[0;32m----> 3\u001B[0;31m     \u001B[0mpaths_u\u001B[0m\u001B[0;34m.\u001B[0m\u001B[0mappend\u001B[0m\u001B[0;34m(\u001B[0m\u001B[0mam\u001B[0m\u001B[0;34m.\u001B[0m\u001B[0mseq_logo\u001B[0m\u001B[0;34m(\u001B[0m\u001B[0mall_data\u001B[0m\u001B[0;34m[\u001B[0m\u001B[0mall_data\u001B[0m\u001B[0;34m[\u001B[0m\u001B[0;34m\"round\"\u001B[0m\u001B[0;34m]\u001B[0m \u001B[0;34m==\u001B[0m \u001B[0mr\u001B[0m\u001B[0;34m]\u001B[0m\u001B[0;34m,\u001B[0m \u001B[0;34mf\"{r}_seqlogo\"\u001B[0m\u001B[0;34m,\u001B[0m \u001B[0mweight\u001B[0m\u001B[0;34m=\u001B[0m\u001B[0;32mFalse\u001B[0m\u001B[0;34m,\u001B[0m \u001B[0moutdir\u001B[0m\u001B[0;34m=\u001B[0m\u001B[0;34m\"./generated/\"\u001B[0m\u001B[0;34m)\u001B[0m\u001B[0;34m)\u001B[0m\u001B[0;34m\u001B[0m\u001B[0;34m\u001B[0m\u001B[0m\n\u001B[0m\u001B[1;32m      4\u001B[0m     \u001B[0mpaths_w\u001B[0m\u001B[0;34m.\u001B[0m\u001B[0mappend\u001B[0m\u001B[0;34m(\u001B[0m\u001B[0mam\u001B[0m\u001B[0;34m.\u001B[0m\u001B[0mseq_logo\u001B[0m\u001B[0;34m(\u001B[0m\u001B[0mall_data\u001B[0m\u001B[0;34m[\u001B[0m\u001B[0mall_data\u001B[0m\u001B[0;34m[\u001B[0m\u001B[0;34m\"round\"\u001B[0m\u001B[0;34m]\u001B[0m \u001B[0;34m==\u001B[0m \u001B[0mr\u001B[0m\u001B[0;34m]\u001B[0m\u001B[0;34m,\u001B[0m \u001B[0;34mf\"{r}_w_seqlogo\"\u001B[0m\u001B[0;34m,\u001B[0m \u001B[0mweight\u001B[0m\u001B[0;34m=\u001B[0m\u001B[0;32mTrue\u001B[0m\u001B[0;34m,\u001B[0m \u001B[0moutdir\u001B[0m\u001B[0;34m=\u001B[0m\u001B[0;34m\"./generated/\"\u001B[0m\u001B[0;34m)\u001B[0m\u001B[0;34m)\u001B[0m\u001B[0;34m\u001B[0m\u001B[0;34m\u001B[0m\u001B[0m\n\u001B[1;32m      5\u001B[0m \u001B[0;34m\u001B[0m\u001B[0m\n",
      "\u001B[0;32m~/PycharmProjects/phage_display_ML/rbm_torch/analysis/analysis_methods.py\u001B[0m in \u001B[0;36mseq_logo\u001B[0;34m(dataframe, output_file, weight, outdir)\u001B[0m\n\u001B[1;32m    135\u001B[0m         \u001B[0msp\u001B[0m\u001B[0;34m.\u001B[0m\u001B[0mcheck_call\u001B[0m\u001B[0;34m(\u001B[0m\u001B[0;34mf\"/home/jonah/kpLogo/bin/kpLogo tmp.csv -simple -o {out} -alphabet ACDEFGHIKLMNPQRSTVWY- -fontsize 20 -seq 1 -weight 2\"\u001B[0m\u001B[0;34m,\u001B[0m \u001B[0mshell\u001B[0m\u001B[0;34m=\u001B[0m\u001B[0;32mTrue\u001B[0m\u001B[0;34m)\u001B[0m\u001B[0;34m\u001B[0m\u001B[0;34m\u001B[0m\u001B[0m\n\u001B[1;32m    136\u001B[0m     \u001B[0;32melse\u001B[0m\u001B[0;34m:\u001B[0m\u001B[0;34m\u001B[0m\u001B[0;34m\u001B[0m\u001B[0m\n\u001B[0;32m--> 137\u001B[0;31m         \u001B[0msp\u001B[0m\u001B[0;34m.\u001B[0m\u001B[0mcheck_call\u001B[0m\u001B[0;34m(\u001B[0m\u001B[0;34mf\"/home/jonah/kpLogo/bin/kpLogo tmp.csv -simple -o {out} -alphabet ACDEFGHIKLMNPQRSTVWY- -fontsize 20 -seq 1\"\u001B[0m\u001B[0;34m,\u001B[0m \u001B[0mshell\u001B[0m\u001B[0;34m=\u001B[0m\u001B[0;32mTrue\u001B[0m\u001B[0;34m)\u001B[0m\u001B[0;34m\u001B[0m\u001B[0;34m\u001B[0m\u001B[0m\n\u001B[0m\u001B[1;32m    138\u001B[0m     \u001B[0msp\u001B[0m\u001B[0;34m.\u001B[0m\u001B[0mcheck_call\u001B[0m\u001B[0;34m(\u001B[0m\u001B[0;34m\"rm tmp.csv\"\u001B[0m\u001B[0;34m,\u001B[0m \u001B[0mshell\u001B[0m\u001B[0;34m=\u001B[0m\u001B[0;32mTrue\u001B[0m\u001B[0;34m)\u001B[0m\u001B[0;34m\u001B[0m\u001B[0;34m\u001B[0m\u001B[0m\n\u001B[1;32m    139\u001B[0m     \u001B[0;32mreturn\u001B[0m \u001B[0mout\u001B[0m\u001B[0;34m\u001B[0m\u001B[0;34m\u001B[0m\u001B[0m\n",
      "\u001B[0;32m~/anaconda3/envs/utils/lib/python3.8/subprocess.py\u001B[0m in \u001B[0;36mcheck_call\u001B[0;34m(*popenargs, **kwargs)\u001B[0m\n\u001B[1;32m    362\u001B[0m         \u001B[0;32mif\u001B[0m \u001B[0mcmd\u001B[0m \u001B[0;32mis\u001B[0m \u001B[0;32mNone\u001B[0m\u001B[0;34m:\u001B[0m\u001B[0;34m\u001B[0m\u001B[0;34m\u001B[0m\u001B[0m\n\u001B[1;32m    363\u001B[0m             \u001B[0mcmd\u001B[0m \u001B[0;34m=\u001B[0m \u001B[0mpopenargs\u001B[0m\u001B[0;34m[\u001B[0m\u001B[0;36m0\u001B[0m\u001B[0;34m]\u001B[0m\u001B[0;34m\u001B[0m\u001B[0;34m\u001B[0m\u001B[0m\n\u001B[0;32m--> 364\u001B[0;31m         \u001B[0;32mraise\u001B[0m \u001B[0mCalledProcessError\u001B[0m\u001B[0;34m(\u001B[0m\u001B[0mretcode\u001B[0m\u001B[0;34m,\u001B[0m \u001B[0mcmd\u001B[0m\u001B[0;34m)\u001B[0m\u001B[0;34m\u001B[0m\u001B[0;34m\u001B[0m\u001B[0m\n\u001B[0m\u001B[1;32m    365\u001B[0m     \u001B[0;32mreturn\u001B[0m \u001B[0;36m0\u001B[0m\u001B[0;34m\u001B[0m\u001B[0;34m\u001B[0m\u001B[0m\n\u001B[1;32m    366\u001B[0m \u001B[0;34m\u001B[0m\u001B[0m\n",
      "\u001B[0;31mCalledProcessError\u001B[0m: Command '/home/jonah/kpLogo/bin/kpLogo tmp.csv -simple -o ./generated/np2_c1_seqlogo -alphabet ACDEFGHIKLMNPQRSTVWY- -fontsize 20 -seq 1' returned non-zero exit status 1."
     ]
    }
   ],
   "source": [
    "paths_u, paths_w = [], []\n",
    "for r in rounds:\n",
    "    paths_u.append(am.seq_logo(all_data[all_data[\"round\"] == r], f\"{r}_seqlogo\", weight=False, outdir=\"./generated/\"))\n",
    "    paths_w.append(am.seq_logo(all_data[all_data[\"round\"] == r], f\"{r}_w_seqlogo\", weight=True, outdir=\"./generated/\"))\n"
   ]
  },
  {
   "cell_type": "code",
   "execution_count": null,
   "id": "e417eb0f",
   "metadata": {},
   "outputs": [],
   "source": [
    "# Seq Logo showing Frequency of Each Amino Acid at each position\n",
    "fig, axs = plt.subplots(5, 2)\n",
    "fig.set_size_inches(15, 12)\n",
    "for rid, r in enumerate(rounds):\n",
    "    img1 = mpimg.imread(f\"{paths_u[rid]}.freq.png\")\n",
    "    img2 = mpimg.imread(f\"{paths_w[rid]}.freq.png\")\n",
    "    axs[rid][0].imshow(img1)\n",
    "    axs[rid][1].imshow(img2)\n",
    "    axs[rid][0].axis(\"off\")\n",
    "    axs[rid][1].axis(\"off\")\n",
    "    axs[rid][0].set_title(f\"{r} Frequency Logo\")\n",
    "    axs[rid][1].set_title(f\"{r} Weighted Frequency Logo\")\n",
    "plt.show()\n"
   ]
  },
  {
   "cell_type": "code",
   "execution_count": null,
   "id": "85445798",
   "metadata": {},
   "outputs": [],
   "source": [
    "# Seq Logo showing Information of Each Amino Acid at each position\n",
    "fig, axs = plt.subplots(5, 2)\n",
    "fig.set_size_inches(15, 12)\n",
    "for rid, r in enumerate(rounds):\n",
    "    img1 = mpimg.imread(f\"{paths_u[rid]}.info.png\")\n",
    "    img2 = mpimg.imread(f\"{paths_u[rid]}.info.png\")\n",
    "    axs[rid][0].imshow(img1)\n",
    "    axs[rid][1].imshow(img2)\n",
    "    axs[rid][0].axis(\"off\")\n",
    "    axs[rid][1].axis(\"off\")\n",
    "    axs[rid][0].set_title(f\"{r} Frequency Logo\")\n",
    "    axs[rid][1].set_title(f\"{r} Weighted Frequency Logo\")\n",
    "plt.show()\n"
   ]
  },
  {
   "cell_type": "code",
   "execution_count": null,
   "id": "d92c0330",
   "metadata": {},
   "outputs": [],
   "source": [
    "# calculate likelihoods from last round rbm only\n",
    "checkp, v_dir = am.get_checkpoint_path(rbm_names[-1], rbmdir=local_rbm_dir)\n",
    "last_round_rbm = RBM.load_from_checkpoint(checkp)\n",
    "\n",
    "# this takes awhile, might be something I optimize further in the future\n",
    "am.generate_likelihoods(rounds, last_round_rbm, all_data, str(rbm_names[-1]) + \"_all_likelihoods\")\n"
   ]
  },
  {
   "cell_type": "code",
   "execution_count": null,
   "id": "ec4ed332",
   "metadata": {},
   "outputs": [],
   "source": [
    "last_round_likelihoods = am.get_likelihoods(\"./generated/\" + str(rbm_names[-1]) + \"_all_likelihoods.json\")\n"
   ]
  },
  {
   "cell_type": "code",
   "execution_count": null,
   "id": "67a0643e",
   "metadata": {},
   "outputs": [],
   "source": [
    "\n",
    "# Plot Likelihoods of Each batch of Data\n",
    "last_round_title = f\"All data Log-Likelihood From {rbm_names[-1].upper()} RBM Cluster {cluster}\"\n",
    "\n",
    "am.plot_likelihoods(last_round_likelihoods[\"likelihoods\"], rounds, rounds, title=last_round_title, xlim=(-250, -60), cdf=False)\n"
   ]
  },
  {
   "cell_type": "code",
   "execution_count": null,
   "id": "87d470a9",
   "metadata": {},
   "outputs": [],
   "source": [
    "# calculate likelihoods from first round rbm only\n",
    "checkp, v_dir = am.get_checkpoint_path(rbm_names[0], rbmdir=local_rbm_dir)\n",
    "first_round_rbm = RBM.load_from_checkpoint(checkp)\n",
    "\n",
    "# this takes awhile, might be something I optimize further in the future\n",
    "am.generate_likelihoods(rounds, first_round_rbm, all_data, str(rbm_names[0]) + \"_all_likelihoods\")\n"
   ]
  },
  {
   "cell_type": "code",
   "execution_count": null,
   "id": "f023df8e",
   "metadata": {},
   "outputs": [],
   "source": [
    "first_round_likelihoods = am.get_likelihoods(\"./generated/\" + str(rbm_names[0]) + \"_all_likelihoods.json\")\n"
   ]
  },
  {
   "cell_type": "code",
   "execution_count": null,
   "id": "bbaad749",
   "metadata": {},
   "outputs": [],
   "source": [
    "\n",
    "# Plot Likelihoods of Each batch of Data\n",
    "first_round_title = f\"All data Log-Likelihood From {rbm_names[0].upper()} RBM Cluster {cluster}\"\n",
    "\n",
    "am.plot_likelihoods(first_round_likelihoods[\"likelihoods\"], rounds, rounds, title=first_round_title, xlim=(-250, -60), cdf=False)\n"
   ]
  },
  {
   "cell_type": "code",
   "execution_count": null,
   "id": "1ae30bd2",
   "metadata": {},
   "outputs": [],
   "source": [
    "lr_label = rounds[-1].upper()\n",
    "fr_label = rounds[0].upper()\n",
    "am.compare_likelihood_correlation(last_round_likelihoods[\"likelihoods\"][rounds[0]], first_round_likelihoods[\"likelihoods\"][rounds[0]], f\"{lr_label} vs {fr_label} RBMs on {fr_label} dataset\", [lr_label, fr_label])\n"
   ]
  },
  {
   "cell_type": "code",
   "execution_count": null,
   "id": "d5e9cb34",
   "metadata": {},
   "outputs": [],
   "source": [
    "lr_label = rounds[-1].upper()\n",
    "fr_label = rounds[0].upper()\n",
    "am.compare_likelihood_correlation(last_round_likelihoods[\"likelihoods\"][rounds[-1]], first_round_likelihoods[\"likelihoods\"][rounds[-1]], f\"{lr_label} vs {fr_label} RBMs on {fr_label} dataset\", [lr_label, fr_label])\n"
   ]
  }
 ],
 "metadata": {},
 "nbformat": 4,
 "nbformat_minor": 5
}