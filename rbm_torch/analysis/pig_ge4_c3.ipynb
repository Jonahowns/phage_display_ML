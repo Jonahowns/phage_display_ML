{
 "cells": [
  {
   "cell_type": "code",
   "execution_count": null,
   "id": "05c4ddef",
   "metadata": {},
   "outputs": [],
   "source": [
    "import sys\n",
    "sys.path.append(\"../\")\n",
    "\n",
    "from rbm import fasta_read, get_beta_and_W, all_weights, RBM\n",
    "import analysis_methods as am\n",
    "\n",
    "from glob import glob\n",
    "import pandas as pd\n",
    "import matplotlib.pyplot as plt\n",
    "import seaborn as sns\n",
    "import numpy as np\n",
    "import math\n",
    "import subprocess as sp\n",
    "import matplotlib.image as mpimg\n"
   ]
  },
  {
   "cell_type": "code",
   "execution_count": null,
   "id": "a6abfe68",
   "metadata": {},
   "outputs": [],
   "source": [
    "data_files = ['np1_c3.fasta', 'np2_c3.fasta', 'np3_c3.fasta', 'n1_c3.fasta', 'b3_c3.fasta']\n",
    "rounds = ['np1_c3', 'np2_c3', 'np3_c3', 'n1_c3', 'b3_c3']\n",
    "rbm_names = ['np1_c3', 'np2_c3', 'np3_c3', 'n1_c3', 'b3_c3']\n",
    "local_rbm_dir = '/mnt/D1/globus/pig_trained_rbms/ge4/'\n",
    "data_dir = '../../pig_tissue/gaps_end_4_clusters/'\n",
    "server_rbm_dir = '../../pig_tissue/gaps_end_4_clusters/trained_rbms/'\n",
    "molecule = 'protein'\n",
    "cluster = 3"
   ]
  },
  {
   "cell_type": "code",
   "execution_count": null,
   "id": "7a6702a1",
   "metadata": {},
   "outputs": [],
   "source": [
    "# generate weights in each rbmdirectory\n",
    "for rid, rbm in enumerate(rbm_names):\n",
    "    checkp, version_dir = am.get_checkpoint_path(rbm, rbmdir=local_rbm_dir)\n",
    "    tmp = RBM.load_from_checkpoint(checkp)\n",
    "    all_weights(tmp, version_dir +rbm+\"_weights\", 5, 1, 6, 2, \"protein\")\n"
   ]
  },
  {
   "cell_type": "code",
   "execution_count": null,
   "id": "5aba2db1",
   "metadata": {},
   "outputs": [],
   "source": [
    "# Stores all data in a dictionary (\"data\")\n",
    "all_data = am.fetch_data(rounds, dir=data_dir, counts=True, molecule=molecule)\n"
   ]
  },
  {
   "cell_type": "code",
   "execution_count": null,
   "id": "5df8a34a",
   "metadata": {},
   "outputs": [],
   "source": [
    "paths_u, paths_w = [], []\n",
    "for r in rounds:\n",
    "    paths_u.append(am.seq_logo(all_data[all_data[\"round\"] == r], f\"{r}_seqlogo\", weight=False, outdir=\"./generated/\"))\n",
    "    paths_w.append(am.seq_logo(all_data[all_data[\"round\"] == r], f\"{r}_w_seqlogo\", weight=True, outdir=\"./generated/\"))\n"
   ]
  },
  {
   "cell_type": "code",
   "execution_count": null,
   "id": "2e6d3459",
   "metadata": {},
   "outputs": [],
   "source": [
    "# Seq Logo showing Frequency of Each Amino Acid at each position\n",
    "fig, axs = plt.subplots(5, 2)\n",
    "fig.set_size_inches(15, 12)\n",
    "for rid, r in enumerate(rounds):\n",
    "    img1 = mpimg.imread(f\"{paths_u[rid]}.freq.png\")\n",
    "    img2 = mpimg.imread(f\"{paths_w[rid]}.freq.png\")\n",
    "    axs[rid][0].imshow(img1)\n",
    "    axs[rid][1].imshow(img2)\n",
    "    axs[rid][0].axis(\"off\")\n",
    "    axs[rid][1].axis(\"off\")\n",
    "    axs[rid][0].set_title(f\"{r} Frequency Logo\")\n",
    "    axs[rid][1].set_title(f\"{r} Weighted Frequency Logo\")\n",
    "plt.show()\n"
   ]
  },
  {
   "cell_type": "code",
   "execution_count": null,
   "id": "9660e8e1",
   "metadata": {},
   "outputs": [],
   "source": [
    "# Seq Logo showing Information of Each Amino Acid at each position\n",
    "fig, axs = plt.subplots(5, 2)\n",
    "fig.set_size_inches(15, 12)\n",
    "for rid, r in enumerate(rounds):\n",
    "    img1 = mpimg.imread(f\"{paths_u[rid]}.info.png\")\n",
    "    img2 = mpimg.imread(f\"{paths_u[rid]}.info.png\")\n",
    "    axs[rid][0].imshow(img1)\n",
    "    axs[rid][1].imshow(img2)\n",
    "    axs[rid][0].axis(\"off\")\n",
    "    axs[rid][1].axis(\"off\")\n",
    "    axs[rid][0].set_title(f\"{r} Frequency Logo\")\n",
    "    axs[rid][1].set_title(f\"{r} Weighted Frequency Logo\")\n",
    "plt.show()\n"
   ]
  },
  {
   "cell_type": "code",
   "execution_count": null,
   "id": "a9d60655",
   "metadata": {},
   "outputs": [],
   "source": [
    "# calculate likelihoods from last round rbm only\n",
    "checkp, v_dir = am.get_checkpoint_path(rbm_names[-1], rbmdir=local_rbm_dir)\n",
    "last_round_rbm = RBM.load_from_checkpoint(checkp)\n",
    "\n",
    "# this takes awhile, might be something I optimize further in the future\n",
    "am.generate_likelihoods(rounds, last_round_rbm, all_data, str(rbm_names[-1]) + \"_all_likelihoods\")\n"
   ]
  },
  {
   "cell_type": "code",
   "execution_count": null,
   "id": "dcc4a615",
   "metadata": {},
   "outputs": [],
   "source": [
    "last_round_likelihoods = am.get_likelihoods(\"./generated/\" + str(rbm_names[-1]) + \"_all_likelihoods.json\")\n"
   ]
  },
  {
   "cell_type": "code",
   "execution_count": null,
   "id": "8703b4c7",
   "metadata": {},
   "outputs": [],
   "source": [
    "\n",
    "# Plot Likelihoods of Each batch of Data\n",
    "last_round_title = f\"All data Log-Likelihood From {rbm_names[-1].upper()} RBM Cluster {cluster}\"\n",
    "\n",
    "am.plot_likelihoods(last_round_likelihoods[\"likelihoods\"], rounds, rounds, title=last_round_title, xlim=(-250, -60), cdf=False)\n"
   ]
  },
  {
   "cell_type": "code",
   "execution_count": null,
   "id": "5126b5ce",
   "metadata": {},
   "outputs": [],
   "source": [
    "# calculate likelihoods from first round rbm only\n",
    "checkp, v_dir = am.get_checkpoint_path(rbm_names[0], rbmdir=local_rbm_dir)\n",
    "first_round_rbm = RBM.load_from_checkpoint(checkp)\n",
    "\n",
    "# this takes awhile, might be something I optimize further in the future\n",
    "am.generate_likelihoods(rounds, first_round_rbm, all_data, str(rbm_names[0]) + \"_all_likelihoods\")\n"
   ]
  },
  {
   "cell_type": "code",
   "execution_count": null,
   "id": "b59c6594",
   "metadata": {},
   "outputs": [],
   "source": [
    "first_round_likelihoods = am.get_likelihoods(\"./generated/\" + str(rbm_names[0]) + \"_all_likelihoods.json\")\n"
   ]
  },
  {
   "cell_type": "code",
   "execution_count": null,
   "id": "1913dfea",
   "metadata": {},
   "outputs": [],
   "source": [
    "\n",
    "# Plot Likelihoods of Each batch of Data\n",
    "first_round_title = f\"All data Log-Likelihood From {rbm_names[0].upper()} RBM Cluster {cluster}\"\n",
    "\n",
    "am.plot_likelihoods(first_round_likelihoods[\"likelihoods\"], rounds, rounds, title=first_round_title, xlim=(-250, -60), cdf=False)\n"
   ]
  },
  {
   "cell_type": "code",
   "execution_count": null,
   "id": "71ce38e4",
   "metadata": {},
   "outputs": [],
   "source": [
    "lr_label = rounds[-1].upper()\n",
    "fr_label = rounds[0].upper()\n",
    "am.compare_likelihood_correlation(last_round_likelihoods[\"likelihoods\"][rounds[0]], first_round_likelihoods[\"likelihoods\"][rounds[0]], f\"{lr_label} vs {fr_label} RBMs on {fr_label} dataset\", [lr_label, fr_label])\n"
   ]
  },
  {
   "cell_type": "code",
   "execution_count": null,
   "id": "7ec286b6",
   "metadata": {},
   "outputs": [],
   "source": [
    "lr_label = rounds[-1].upper()\n",
    "fr_label = rounds[0].upper()\n",
    "am.compare_likelihood_correlation(last_round_likelihoods[\"likelihoods\"][rounds[-1]], first_round_likelihoods[\"likelihoods\"][rounds[-1]], f\"{lr_label} vs {fr_label} RBMs on {fr_label} dataset\", [lr_label, fr_label])\n"
   ]
  }
 ],
 "metadata": {},
 "nbformat": 4,
 "nbformat_minor": 5
}
